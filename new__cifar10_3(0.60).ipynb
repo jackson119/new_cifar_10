{
  "nbformat": 4,
  "nbformat_minor": 0,
  "metadata": {
    "accelerator": "GPU",
    "colab": {
      "name": "new_ cifar10_3(0.60).ipynb",
      "provenance": [],
      "collapsed_sections": [
        "N5rt2fK5fntZ"
      ],
      "authorship_tag": "ABX9TyMkQ01L5hV7DoXfwfajWMCq",
      "include_colab_link": true
    },
    "kernelspec": {
      "display_name": "Python 3",
      "name": "python3"
    },
    "language_info": {
      "name": "python"
    }
  },
  "cells": [
    {
      "cell_type": "markdown",
      "metadata": {
        "id": "view-in-github",
        "colab_type": "text"
      },
      "source": [
        "<a href=\"https://colab.research.google.com/github/jackson119/new_cifar_10/blob/main/new__cifar10_3(0.60).ipynb\" target=\"_parent\"><img src=\"https://colab.research.google.com/assets/colab-badge.svg\" alt=\"Open In Colab\"/></a>"
      ]
    },
    {
      "cell_type": "markdown",
      "metadata": {
        "id": "SGKXC7W7pnht"
      },
      "source": [
        "# Data Preprocessing"
      ]
    },
    {
      "cell_type": "code",
      "metadata": {
        "id": "91H4jfpypp4h"
      },
      "source": [
        "from tensorflow.keras.datasets import cifar10\n",
        "import numpy as np\n",
        "np.random.seed(10)"
      ],
      "execution_count": 1,
      "outputs": []
    },
    {
      "cell_type": "code",
      "metadata": {
        "id": "jrfbgEOdprAB",
        "colab": {
          "base_uri": "https://localhost:8080/"
        },
        "outputId": "180c3270-5d8b-490a-ad88-f5ea1a6f0d29"
      },
      "source": [
        "(x_img_train,y_label_train),(x_img_test,y_label_test)=cifar10.load_data()"
      ],
      "execution_count": 2,
      "outputs": [
        {
          "output_type": "stream",
          "text": [
            "Downloading data from https://www.cs.toronto.edu/~kriz/cifar-10-python.tar.gz\n",
            "170500096/170498071 [==============================] - 6s 0us/step\n"
          ],
          "name": "stdout"
        }
      ]
    },
    {
      "cell_type": "code",
      "metadata": {
        "id": "Bv64ED30R18B",
        "colab": {
          "base_uri": "https://localhost:8080/"
        },
        "outputId": "a5f88fe7-c7c0-4bcb-ca0b-8f8612178acd"
      },
      "source": [
        "print(\"train data:\",\"images:\",x_img_train.shape,\"labels:\",y_label_train.shape)\n",
        "print(\"test data:\",\"images:\",x_img_test.shape,\"labels:\",y_label_test.shape)"
      ],
      "execution_count": 3,
      "outputs": [
        {
          "output_type": "stream",
          "text": [
            "train data: images: (50000, 32, 32, 3) labels: (50000, 1)\n",
            "test data: images: (10000, 32, 32, 3) labels: (10000, 1)\n"
          ],
          "name": "stdout"
        }
      ]
    },
    {
      "cell_type": "markdown",
      "metadata": {
        "id": "10BLqTKNSYKW"
      },
      "source": [
        "# standardize and perform one hot encoding"
      ]
    },
    {
      "cell_type": "code",
      "metadata": {
        "id": "_bdYalY-Sfva"
      },
      "source": [
        "x_img_train_normalize=x_img_train.astype('float32')/255.0\n",
        "x_img_test_normalize=x_img_test.astype('float32')/255.0"
      ],
      "execution_count": 4,
      "outputs": []
    },
    {
      "cell_type": "code",
      "metadata": {
        "id": "-7OJEuxpSpXX"
      },
      "source": [
        "from tensorflow.keras import utils"
      ],
      "execution_count": 5,
      "outputs": []
    },
    {
      "cell_type": "code",
      "metadata": {
        "id": "bvesDQfhSsmH"
      },
      "source": [
        "y_label_train_OneHot=utils.to_categorical(y_label_train)\n",
        "y_label_test_OneHot=utils.to_categorical(y_label_test)"
      ],
      "execution_count": 6,
      "outputs": []
    },
    {
      "cell_type": "markdown",
      "metadata": {
        "id": "DSmFxX9xSwCN"
      },
      "source": [
        "# Images and label"
      ]
    },
    {
      "cell_type": "code",
      "metadata": {
        "id": "6AshrU3USxld"
      },
      "source": [
        "label_dict={0:\"airplane\",1:\"automobile\",2:\"bird\",3:\"cat\",4:\"deer\",5:\"dog\",6:\"frog\",7:\"horse\",8:\"ship\",9:\"truck\"}"
      ],
      "execution_count": 7,
      "outputs": []
    },
    {
      "cell_type": "code",
      "metadata": {
        "id": "KADDqJmsSzCc"
      },
      "source": [
        "# Construct model\n",
        "from keras.models import Sequential\n",
        "from keras.layers import Dense,Dropout,Activation,Flatten\n",
        "from keras.layers import Conv2D,MaxPooling2D,ZeroPadding2D"
      ],
      "execution_count": 8,
      "outputs": []
    },
    {
      "cell_type": "code",
      "metadata": {
        "id": "2tUCpCqHS5sb"
      },
      "source": [
        "model=Sequential()"
      ],
      "execution_count": 9,
      "outputs": []
    },
    {
      "cell_type": "code",
      "metadata": {
        "id": "IP4YwNOFS62i"
      },
      "source": [
        "model.add(Conv2D(filters=32,kernel_size=(3,3),input_shape=(32,32,3),activation='relu',padding='same'))\n",
        "model.add(Dropout(0.60))\n",
        "model.add(Conv2D(filters=32,kernel_size=(3,3),activation='relu',padding='same'))\n",
        "model.add(MaxPooling2D(pool_size=(2,2)))"
      ],
      "execution_count": 10,
      "outputs": []
    },
    {
      "cell_type": "code",
      "metadata": {
        "id": "VrEsDZ3OYZv6"
      },
      "source": [
        "model.add(Conv2D(filters=64,kernel_size=(3,3),activation='relu',padding='same'))\n",
        "model.add(Dropout(0.60))\n",
        "model.add(Conv2D(filters=64,kernel_size=(3,3),activation='relu',padding='same'))\n",
        "model.add(MaxPooling2D(pool_size=(2,2)))"
      ],
      "execution_count": 11,
      "outputs": []
    },
    {
      "cell_type": "code",
      "metadata": {
        "id": "Lfbpty5kYwiH"
      },
      "source": [
        "model.add(Conv2D(filters=128,kernel_size=(3,3),activation='relu',padding='same'))\n",
        "model.add(Dropout(0.60))\n",
        "model.add(Conv2D(filters=128,kernel_size=(3,3),activation='relu',padding='same'))\n",
        "model.add(MaxPooling2D(pool_size=(2,2)))"
      ],
      "execution_count": 12,
      "outputs": []
    },
    {
      "cell_type": "code",
      "metadata": {
        "id": "YGEmb5pbZYhj"
      },
      "source": [
        "### neural network\n",
        "model.add(Flatten())\n",
        "model.add(Dropout(0.60))\n",
        "### hidden layer 1\n",
        "model.add(Dense(2500,activation='relu'))\n",
        "model.add(Dropout(0.60))\n",
        "### hidden layer 2\n",
        "model.add(Dense(1500,activation='relu'))\n",
        "model.add(Dropout(0.60))\n",
        "### output layer\n",
        "model.add(Dense(10,activation='softmax'))"
      ],
      "execution_count": 13,
      "outputs": []
    },
    {
      "cell_type": "code",
      "metadata": {
        "id": "2kjnUEYuZtK5",
        "colab": {
          "base_uri": "https://localhost:8080/"
        },
        "outputId": "d27f5203-712f-48eb-caf2-7f3db87387fa"
      },
      "source": [
        "print(model.summary())"
      ],
      "execution_count": 14,
      "outputs": [
        {
          "output_type": "stream",
          "text": [
            "Model: \"sequential\"\n",
            "_________________________________________________________________\n",
            "Layer (type)                 Output Shape              Param #   \n",
            "=================================================================\n",
            "conv2d (Conv2D)              (None, 32, 32, 32)        896       \n",
            "_________________________________________________________________\n",
            "dropout (Dropout)            (None, 32, 32, 32)        0         \n",
            "_________________________________________________________________\n",
            "conv2d_1 (Conv2D)            (None, 32, 32, 32)        9248      \n",
            "_________________________________________________________________\n",
            "max_pooling2d (MaxPooling2D) (None, 16, 16, 32)        0         \n",
            "_________________________________________________________________\n",
            "conv2d_2 (Conv2D)            (None, 16, 16, 64)        18496     \n",
            "_________________________________________________________________\n",
            "dropout_1 (Dropout)          (None, 16, 16, 64)        0         \n",
            "_________________________________________________________________\n",
            "conv2d_3 (Conv2D)            (None, 16, 16, 64)        36928     \n",
            "_________________________________________________________________\n",
            "max_pooling2d_1 (MaxPooling2 (None, 8, 8, 64)          0         \n",
            "_________________________________________________________________\n",
            "conv2d_4 (Conv2D)            (None, 8, 8, 128)         73856     \n",
            "_________________________________________________________________\n",
            "dropout_2 (Dropout)          (None, 8, 8, 128)         0         \n",
            "_________________________________________________________________\n",
            "conv2d_5 (Conv2D)            (None, 8, 8, 128)         147584    \n",
            "_________________________________________________________________\n",
            "max_pooling2d_2 (MaxPooling2 (None, 4, 4, 128)         0         \n",
            "_________________________________________________________________\n",
            "flatten (Flatten)            (None, 2048)              0         \n",
            "_________________________________________________________________\n",
            "dropout_3 (Dropout)          (None, 2048)              0         \n",
            "_________________________________________________________________\n",
            "dense (Dense)                (None, 2500)              5122500   \n",
            "_________________________________________________________________\n",
            "dropout_4 (Dropout)          (None, 2500)              0         \n",
            "_________________________________________________________________\n",
            "dense_1 (Dense)              (None, 1500)              3751500   \n",
            "_________________________________________________________________\n",
            "dropout_5 (Dropout)          (None, 1500)              0         \n",
            "_________________________________________________________________\n",
            "dense_2 (Dense)              (None, 10)                15010     \n",
            "=================================================================\n",
            "Total params: 9,176,018\n",
            "Trainable params: 9,176,018\n",
            "Non-trainable params: 0\n",
            "_________________________________________________________________\n",
            "None\n"
          ],
          "name": "stdout"
        }
      ]
    },
    {
      "cell_type": "code",
      "metadata": {
        "colab": {
          "base_uri": "https://localhost:8080/"
        },
        "id": "j64CEumxZvDu",
        "outputId": "af1c58a1-046b-422f-d202-f25016fa0d99"
      },
      "source": [
        "model.compile(loss='categorical_crossentropy',optimizer='adam',metrics=['accuracy'])\n",
        "train_history=model.fit(x_img_train_normalize,y_label_train_OneHot,validation_split=0.2,epochs=50,batch_size=300,verbose=2)"
      ],
      "execution_count": 15,
      "outputs": [
        {
          "output_type": "stream",
          "text": [
            "Epoch 1/50\n",
            "134/134 - 41s - loss: 2.0834 - accuracy: 0.2148 - val_loss: 3.1352 - val_accuracy: 0.1018\n",
            "Epoch 2/50\n",
            "134/134 - 9s - loss: 1.8257 - accuracy: 0.3151 - val_loss: 3.1400 - val_accuracy: 0.1262\n",
            "Epoch 3/50\n",
            "134/134 - 9s - loss: 1.6612 - accuracy: 0.3764 - val_loss: 3.2500 - val_accuracy: 0.1524\n",
            "Epoch 4/50\n",
            "134/134 - 9s - loss: 1.5385 - accuracy: 0.4289 - val_loss: 3.1244 - val_accuracy: 0.1674\n",
            "Epoch 5/50\n",
            "134/134 - 9s - loss: 1.4723 - accuracy: 0.4564 - val_loss: 3.0484 - val_accuracy: 0.1532\n",
            "Epoch 6/50\n",
            "134/134 - 9s - loss: 1.4093 - accuracy: 0.4848 - val_loss: 2.5630 - val_accuracy: 0.2207\n",
            "Epoch 7/50\n",
            "134/134 - 9s - loss: 1.3702 - accuracy: 0.4995 - val_loss: 3.0289 - val_accuracy: 0.1556\n",
            "Epoch 8/50\n",
            "134/134 - 9s - loss: 1.3254 - accuracy: 0.5162 - val_loss: 3.0224 - val_accuracy: 0.1844\n",
            "Epoch 9/50\n",
            "134/134 - 9s - loss: 1.2923 - accuracy: 0.5330 - val_loss: 2.5734 - val_accuracy: 0.2155\n",
            "Epoch 10/50\n",
            "134/134 - 9s - loss: 1.2545 - accuracy: 0.5491 - val_loss: 2.6109 - val_accuracy: 0.2330\n",
            "Epoch 11/50\n",
            "134/134 - 10s - loss: 1.2295 - accuracy: 0.5573 - val_loss: 2.5710 - val_accuracy: 0.2541\n",
            "Epoch 12/50\n",
            "134/134 - 9s - loss: 1.2109 - accuracy: 0.5677 - val_loss: 2.2565 - val_accuracy: 0.2936\n",
            "Epoch 13/50\n",
            "134/134 - 9s - loss: 1.1894 - accuracy: 0.5689 - val_loss: 2.8803 - val_accuracy: 0.2214\n",
            "Epoch 14/50\n",
            "134/134 - 10s - loss: 1.1697 - accuracy: 0.5821 - val_loss: 2.1289 - val_accuracy: 0.3577\n",
            "Epoch 15/50\n",
            "134/134 - 9s - loss: 1.1446 - accuracy: 0.5911 - val_loss: 2.2910 - val_accuracy: 0.3083\n",
            "Epoch 16/50\n",
            "134/134 - 9s - loss: 1.1207 - accuracy: 0.6026 - val_loss: 2.7258 - val_accuracy: 0.2675\n",
            "Epoch 17/50\n",
            "134/134 - 9s - loss: 1.1022 - accuracy: 0.6072 - val_loss: 2.1220 - val_accuracy: 0.3397\n",
            "Epoch 18/50\n",
            "134/134 - 9s - loss: 1.0877 - accuracy: 0.6135 - val_loss: 2.3856 - val_accuracy: 0.2976\n",
            "Epoch 19/50\n",
            "134/134 - 10s - loss: 1.0647 - accuracy: 0.6216 - val_loss: 2.3797 - val_accuracy: 0.2983\n",
            "Epoch 20/50\n",
            "134/134 - 9s - loss: 1.0635 - accuracy: 0.6216 - val_loss: 2.4199 - val_accuracy: 0.3073\n",
            "Epoch 21/50\n",
            "134/134 - 9s - loss: 1.0453 - accuracy: 0.6273 - val_loss: 2.2723 - val_accuracy: 0.3190\n",
            "Epoch 22/50\n",
            "134/134 - 10s - loss: 1.0216 - accuracy: 0.6345 - val_loss: 2.3047 - val_accuracy: 0.3284\n",
            "Epoch 23/50\n",
            "134/134 - 9s - loss: 1.0230 - accuracy: 0.6351 - val_loss: 1.9820 - val_accuracy: 0.3855\n",
            "Epoch 24/50\n",
            "134/134 - 9s - loss: 1.0036 - accuracy: 0.6446 - val_loss: 2.2179 - val_accuracy: 0.3315\n",
            "Epoch 25/50\n",
            "134/134 - 10s - loss: 0.9859 - accuracy: 0.6503 - val_loss: 2.2873 - val_accuracy: 0.3375\n",
            "Epoch 26/50\n",
            "134/134 - 9s - loss: 0.9809 - accuracy: 0.6498 - val_loss: 2.1013 - val_accuracy: 0.3672\n",
            "Epoch 27/50\n",
            "134/134 - 10s - loss: 0.9684 - accuracy: 0.6560 - val_loss: 1.9434 - val_accuracy: 0.4087\n",
            "Epoch 28/50\n",
            "134/134 - 9s - loss: 0.9590 - accuracy: 0.6604 - val_loss: 2.4020 - val_accuracy: 0.3167\n",
            "Epoch 29/50\n",
            "134/134 - 10s - loss: 0.9609 - accuracy: 0.6582 - val_loss: 2.1720 - val_accuracy: 0.3412\n",
            "Epoch 30/50\n",
            "134/134 - 9s - loss: 0.9337 - accuracy: 0.6669 - val_loss: 1.9985 - val_accuracy: 0.4199\n",
            "Epoch 31/50\n",
            "134/134 - 9s - loss: 0.9374 - accuracy: 0.6658 - val_loss: 1.9196 - val_accuracy: 0.4014\n",
            "Epoch 32/50\n",
            "134/134 - 10s - loss: 0.9372 - accuracy: 0.6690 - val_loss: 2.1899 - val_accuracy: 0.3579\n",
            "Epoch 33/50\n",
            "134/134 - 9s - loss: 0.9231 - accuracy: 0.6744 - val_loss: 2.3087 - val_accuracy: 0.3336\n",
            "Epoch 34/50\n",
            "134/134 - 9s - loss: 0.9241 - accuracy: 0.6725 - val_loss: 1.6868 - val_accuracy: 0.4593\n",
            "Epoch 35/50\n",
            "134/134 - 9s - loss: 0.9222 - accuracy: 0.6770 - val_loss: 2.0780 - val_accuracy: 0.3759\n",
            "Epoch 36/50\n",
            "134/134 - 9s - loss: 0.9058 - accuracy: 0.6806 - val_loss: 1.6208 - val_accuracy: 0.4847\n",
            "Epoch 37/50\n",
            "134/134 - 9s - loss: 0.9003 - accuracy: 0.6820 - val_loss: 1.8721 - val_accuracy: 0.4113\n",
            "Epoch 38/50\n",
            "134/134 - 9s - loss: 0.8900 - accuracy: 0.6851 - val_loss: 2.3943 - val_accuracy: 0.3187\n",
            "Epoch 39/50\n",
            "134/134 - 9s - loss: 0.8843 - accuracy: 0.6880 - val_loss: 1.8371 - val_accuracy: 0.4272\n",
            "Epoch 40/50\n",
            "134/134 - 9s - loss: 0.8786 - accuracy: 0.6867 - val_loss: 1.9144 - val_accuracy: 0.4123\n",
            "Epoch 41/50\n",
            "134/134 - 9s - loss: 0.8702 - accuracy: 0.6917 - val_loss: 1.7330 - val_accuracy: 0.4641\n",
            "Epoch 42/50\n",
            "134/134 - 9s - loss: 0.8667 - accuracy: 0.6945 - val_loss: 1.5978 - val_accuracy: 0.4893\n",
            "Epoch 43/50\n",
            "134/134 - 9s - loss: 0.8734 - accuracy: 0.6926 - val_loss: 1.8168 - val_accuracy: 0.4398\n",
            "Epoch 44/50\n",
            "134/134 - 9s - loss: 0.8647 - accuracy: 0.6975 - val_loss: 1.7223 - val_accuracy: 0.4647\n",
            "Epoch 45/50\n",
            "134/134 - 9s - loss: 0.8576 - accuracy: 0.7011 - val_loss: 1.7645 - val_accuracy: 0.4486\n",
            "Epoch 46/50\n",
            "134/134 - 9s - loss: 0.8543 - accuracy: 0.6990 - val_loss: 1.8886 - val_accuracy: 0.4238\n",
            "Epoch 47/50\n",
            "134/134 - 9s - loss: 0.8486 - accuracy: 0.7029 - val_loss: 1.7626 - val_accuracy: 0.4562\n",
            "Epoch 48/50\n",
            "134/134 - 9s - loss: 0.8476 - accuracy: 0.7003 - val_loss: 1.5871 - val_accuracy: 0.4975\n",
            "Epoch 49/50\n",
            "134/134 - 9s - loss: 0.8377 - accuracy: 0.7038 - val_loss: 1.8617 - val_accuracy: 0.4392\n",
            "Epoch 50/50\n",
            "134/134 - 9s - loss: 0.8422 - accuracy: 0.7049 - val_loss: 1.9460 - val_accuracy: 0.4094\n"
          ],
          "name": "stdout"
        }
      ]
    },
    {
      "cell_type": "code",
      "metadata": {
        "id": "rzLTGAOzZ7zi"
      },
      "source": [
        "from matplotlib import pyplot as plt\n",
        "def show_train_history(train_history,train,validation):\n",
        "  plt.plot(train_history.history[train])\n",
        "  plt.plot(train_history.history[validation])\n",
        "  plt.title('Train History')\n",
        "  plt.ylabel('train')\n",
        "  plt.xlabel('Epoch')\n",
        "  plt.legend(['train','validation'],loc='upper left')\n",
        "  plt.show()"
      ],
      "execution_count": 16,
      "outputs": []
    },
    {
      "cell_type": "code",
      "metadata": {
        "colab": {
          "base_uri": "https://localhost:8080/",
          "height": 295
        },
        "id": "FliqaslyfUOd",
        "outputId": "05979062-2825-4559-fee6-175c1a070624"
      },
      "source": [
        "show_train_history(train_history,'accuracy','val_accuracy')"
      ],
      "execution_count": 17,
      "outputs": [
        {
          "output_type": "display_data",
          "data": {
            "image/png": "[encoded data removed]",
            "text/plain": [
              "<Figure size 432x288 with 1 Axes>"
            ]
          },
          "metadata": {
            "tags": [],
            "needs_background": "light"
          }
        }
      ]
    },
    {
      "cell_type": "code",
      "metadata": {
        "colab": {
          "base_uri": "https://localhost:8080/",
          "height": 295
        },
        "id": "CLUnjiW4fbvQ",
        "outputId": "deaa99ed-94ab-48cd-bc9e-3764baab7423"
      },
      "source": [
        "show_train_history(train_history,'loss','val_loss')"
      ],
      "execution_count": 18,
      "outputs": [
        {
          "output_type": "display_data",
          "data": {
            "image/png": "[encoded data removed]",
            "text/plain": [
              "<Figure size 432x288 with 1 Axes>"
            ]
          },
          "metadata": {
            "tags": [],
            "needs_background": "light"
          }
        }
      ]
    },
    {
      "cell_type": "code",
      "metadata": {
        "id": "J5uBX8IWgmJ8"
      },
      "source": [
        "### estimate model accuracy"
      ],
      "execution_count": 19,
      "outputs": []
    },
    {
      "cell_type": "code",
      "metadata": {
        "id": "CNqM3qWAgmRX"
      },
      "source": [
        "scores=model.evaluate(x_img_test_normalize,y_label_test_OneHot,verbose=0)"
      ],
      "execution_count": 20,
      "outputs": []
    },
    {
      "cell_type": "code",
      "metadata": {
        "colab": {
          "base_uri": "https://localhost:8080/"
        },
        "id": "cLAn9V1ogrBf",
        "outputId": "8e9f73eb-8d86-4f40-dcd6-6f094d582f05"
      },
      "source": [
        "print(f'Test loss: {scores[0]} / Test accuracy: {scores[1]}')"
      ],
      "execution_count": 21,
      "outputs": [
        {
          "output_type": "stream",
          "text": [
            "Test loss: 1.951422095298767 / Test accuracy: 0.41260001063346863\n"
          ],
          "name": "stdout"
        }
      ]
    },
    {
      "cell_type": "code",
      "metadata": {
        "colab": {
          "base_uri": "https://localhost:8080/"
        },
        "id": "UNRhGtVugvNM",
        "outputId": "e555a712-da43-4be6-f653-84a5a230cb16"
      },
      "source": [
        "prediction=model.predict_classes(x_img_test_normalize) ### prediction"
      ],
      "execution_count": 22,
      "outputs": [
        {
          "output_type": "stream",
          "text": [
            "/usr/local/lib/python3.7/dist-packages/tensorflow/python/keras/engine/sequential.py:450: UserWarning: `model.predict_classes()` is deprecated and will be removed after 2021-01-01. Please use instead:* `np.argmax(model.predict(x), axis=-1)`,   if your model does multi-class classification   (e.g. if it uses a `softmax` last-layer activation).* `(model.predict(x) > 0.5).astype(\"int32\")`,   if your model does binary classification   (e.g. if it uses a `sigmoid` last-layer activation).\n",
            "  warnings.warn('`model.predict_classes()` is deprecated and '\n"
          ],
          "name": "stderr"
        }
      ]
    },
    {
      "cell_type": "code",
      "metadata": {
        "colab": {
          "base_uri": "https://localhost:8080/"
        },
        "id": "e9dj4EcTkNPd",
        "outputId": "f6f2255a-5c44-4587-9d4d-e192d6a50bc1"
      },
      "source": [
        "prediction"
      ],
      "execution_count": 23,
      "outputs": [
        {
          "output_type": "execute_result",
          "data": {
            "text/plain": [
              "array([3, 8, 6, ..., 5, 4, 4])"
            ]
          },
          "metadata": {
            "tags": []
          },
          "execution_count": 23
        }
      ]
    },
    {
      "cell_type": "code",
      "metadata": {
        "id": "ii4zLAJNgz_w"
      },
      "source": [
        "def plot_images_labels_prediction(images,labels,prediction,idx,num=10):\n",
        "  fig=plt.gcf()\n",
        "  fig.set_size_inches(12,14)\n",
        "  if num>25:num=25\n",
        "  for i in range(0,num):\n",
        "    ax=plt.subplot(5,5,1+i)\n",
        "    ax.imshow(images[idx],cmap='binary')\n",
        "    title=str(i) +',' +label_dict[labels[i][0]]\n",
        "    if len(prediction)>0:\n",
        "      title+='=>'+label_dict[prediction[i]]\n",
        "    ax.set_title(title,fontsize=10)\n",
        "    ax.set_xticks([]);ax.set_yticks([])\n",
        "    idx+=1\n",
        "  plt.show()"
      ],
      "execution_count": 24,
      "outputs": []
    },
    {
      "cell_type": "code",
      "metadata": {
        "colab": {
          "base_uri": "https://localhost:8080/",
          "height": 321
        },
        "id": "Ss7dd8dJg2UX",
        "outputId": "2713be45-a65e-4bb2-b2dc-dd60c3c9dbd6"
      },
      "source": [
        "plot_images_labels_prediction(x_img_test,y_label_test,prediction,0,10)"
      ],
      "execution_count": 25,
      "outputs": [
        {
          "output_type": "display_data",
          "data": {
            "image/png": "[encoded data removed]",
            "text/plain": [
              "<Figure size 864x1008 with 10 Axes>"
            ]
          },
          "metadata": {
            "tags": []
          }
        }
      ]
    },
    {
      "cell_type": "code",
      "metadata": {
        "id": "PpPOXOuZg6wp"
      },
      "source": [
        "# check for prediction rate\n",
        "predicted_Probability=model.predict(x_img_test_normalize)"
      ],
      "execution_count": 26,
      "outputs": []
    },
    {
      "cell_type": "code",
      "metadata": {
        "id": "ykuUEDYlg_vY"
      },
      "source": [
        "def show_predicted_probability(y,prediction,x_img,predicted_Probability,i):\n",
        "  print('label:',label_dict[y[i][0]],\n",
        "        'predict',label_dict[prediction[i]])\n",
        "  plt.figure(figsize=(2,2))\n",
        "  plt.imshow(np.reshape(x_img_test[i],(32,32,3)))\n",
        "  plt.show()\n",
        "  for j in range(10):\n",
        "    print(label_dict[j]+ ' probability:%1.9f'%(predicted_Probability[i][j]))\n"
      ],
      "execution_count": 27,
      "outputs": []
    },
    {
      "cell_type": "code",
      "metadata": {
        "colab": {
          "base_uri": "https://localhost:8080/",
          "height": 355
        },
        "id": "EDAw57mNhCGo",
        "outputId": "6c393c6e-7946-4cfb-a156-de0877785a31"
      },
      "source": [
        "show_predicted_probability(y_label_test,prediction,x_img_test,predicted_Probability,0)"
      ],
      "execution_count": 28,
      "outputs": [
        {
          "output_type": "stream",
          "text": [
            "label: cat predict cat\n"
          ],
          "name": "stdout"
        },
        {
          "output_type": "display_data",
          "data": {
            "image/png": "[encoded data removed]",
            "text/plain": [
              "<Figure size 144x144 with 1 Axes>"
            ]
          },
          "metadata": {
            "tags": [],
            "needs_background": "light"
          }
        },
        {
          "output_type": "stream",
          "text": [
            "airplane probability:0.000357853\n",
            "automobile probability:0.000278139\n",
            "bird probability:0.017935345\n",
            "cat probability:0.573139846\n",
            "deer probability:0.045798317\n",
            "dog probability:0.218366861\n",
            "frog probability:0.138915062\n",
            "horse probability:0.004409107\n",
            "ship probability:0.000515710\n",
            "truck probability:0.000283753\n"
          ],
          "name": "stdout"
        }
      ]
    },
    {
      "cell_type": "markdown",
      "metadata": {
        "id": "N5rt2fK5fntZ"
      },
      "source": [
        "#Confusion matrix"
      ]
    },
    {
      "cell_type": "code",
      "metadata": {
        "id": "TjlrqQgShBjE"
      },
      "source": [
        "import pandas as pd"
      ],
      "execution_count": 29,
      "outputs": []
    },
    {
      "cell_type": "code",
      "metadata": {
        "colab": {
          "base_uri": "https://localhost:8080/",
          "height": 370
        },
        "id": "vD-agaQbfqVp",
        "outputId": "3004539a-082f-4013-d956-a8f261de8a13"
      },
      "source": [
        "pd.crosstab(y_label_test.reshape(-1),prediction,rownames=['label'],colnames=['predict'])"
      ],
      "execution_count": 30,
      "outputs": [
        {
          "output_type": "execute_result",
          "data": {
            "text/html": [
              "<div>\n",
              "<style scoped>\n",
              "    .dataframe tbody tr th:only-of-type {\n",
              "        vertical-align: middle;\n",
              "    }\n",
              "\n",
              "    .dataframe tbody tr th {\n",
              "        vertical-align: top;\n",
              "    }\n",
              "\n",
              "    .dataframe thead th {\n",
              "        text-align: right;\n",
              "    }\n",
              "</style>\n",
              "<table border=\"1\" class=\"dataframe\">\n",
              "  <thead>\n",
              "    <tr style=\"text-align: right;\">\n",
              "      <th>predict</th>\n",
              "      <th>0</th>\n",
              "      <th>1</th>\n",
              "      <th>2</th>\n",
              "      <th>3</th>\n",
              "      <th>4</th>\n",
              "      <th>5</th>\n",
              "      <th>6</th>\n",
              "      <th>7</th>\n",
              "      <th>8</th>\n",
              "      <th>9</th>\n",
              "    </tr>\n",
              "    <tr>\n",
              "      <th>label</th>\n",
              "      <th></th>\n",
              "      <th></th>\n",
              "      <th></th>\n",
              "      <th></th>\n",
              "      <th></th>\n",
              "      <th></th>\n",
              "      <th></th>\n",
              "      <th></th>\n",
              "      <th></th>\n",
              "      <th></th>\n",
              "    </tr>\n",
              "  </thead>\n",
              "  <tbody>\n",
              "    <tr>\n",
              "      <th>0</th>\n",
              "      <td>128</td>\n",
              "      <td>1</td>\n",
              "      <td>168</td>\n",
              "      <td>139</td>\n",
              "      <td>407</td>\n",
              "      <td>1</td>\n",
              "      <td>139</td>\n",
              "      <td>0</td>\n",
              "      <td>17</td>\n",
              "      <td>0</td>\n",
              "    </tr>\n",
              "    <tr>\n",
              "      <th>1</th>\n",
              "      <td>5</td>\n",
              "      <td>440</td>\n",
              "      <td>9</td>\n",
              "      <td>137</td>\n",
              "      <td>82</td>\n",
              "      <td>6</td>\n",
              "      <td>284</td>\n",
              "      <td>5</td>\n",
              "      <td>28</td>\n",
              "      <td>4</td>\n",
              "    </tr>\n",
              "    <tr>\n",
              "      <th>2</th>\n",
              "      <td>2</td>\n",
              "      <td>0</td>\n",
              "      <td>323</td>\n",
              "      <td>164</td>\n",
              "      <td>358</td>\n",
              "      <td>6</td>\n",
              "      <td>147</td>\n",
              "      <td>0</td>\n",
              "      <td>0</td>\n",
              "      <td>0</td>\n",
              "    </tr>\n",
              "    <tr>\n",
              "      <th>3</th>\n",
              "      <td>0</td>\n",
              "      <td>0</td>\n",
              "      <td>14</td>\n",
              "      <td>716</td>\n",
              "      <td>176</td>\n",
              "      <td>22</td>\n",
              "      <td>72</td>\n",
              "      <td>0</td>\n",
              "      <td>0</td>\n",
              "      <td>0</td>\n",
              "    </tr>\n",
              "    <tr>\n",
              "      <th>4</th>\n",
              "      <td>0</td>\n",
              "      <td>0</td>\n",
              "      <td>7</td>\n",
              "      <td>69</td>\n",
              "      <td>858</td>\n",
              "      <td>1</td>\n",
              "      <td>65</td>\n",
              "      <td>0</td>\n",
              "      <td>0</td>\n",
              "      <td>0</td>\n",
              "    </tr>\n",
              "    <tr>\n",
              "      <th>5</th>\n",
              "      <td>0</td>\n",
              "      <td>0</td>\n",
              "      <td>25</td>\n",
              "      <td>558</td>\n",
              "      <td>181</td>\n",
              "      <td>182</td>\n",
              "      <td>54</td>\n",
              "      <td>0</td>\n",
              "      <td>0</td>\n",
              "      <td>0</td>\n",
              "    </tr>\n",
              "    <tr>\n",
              "      <th>6</th>\n",
              "      <td>0</td>\n",
              "      <td>0</td>\n",
              "      <td>6</td>\n",
              "      <td>129</td>\n",
              "      <td>82</td>\n",
              "      <td>4</td>\n",
              "      <td>779</td>\n",
              "      <td>0</td>\n",
              "      <td>0</td>\n",
              "      <td>0</td>\n",
              "    </tr>\n",
              "    <tr>\n",
              "      <th>7</th>\n",
              "      <td>0</td>\n",
              "      <td>0</td>\n",
              "      <td>11</td>\n",
              "      <td>186</td>\n",
              "      <td>552</td>\n",
              "      <td>19</td>\n",
              "      <td>37</td>\n",
              "      <td>195</td>\n",
              "      <td>0</td>\n",
              "      <td>0</td>\n",
              "    </tr>\n",
              "    <tr>\n",
              "      <th>8</th>\n",
              "      <td>2</td>\n",
              "      <td>0</td>\n",
              "      <td>44</td>\n",
              "      <td>186</td>\n",
              "      <td>221</td>\n",
              "      <td>3</td>\n",
              "      <td>285</td>\n",
              "      <td>0</td>\n",
              "      <td>258</td>\n",
              "      <td>1</td>\n",
              "    </tr>\n",
              "    <tr>\n",
              "      <th>9</th>\n",
              "      <td>7</td>\n",
              "      <td>23</td>\n",
              "      <td>12</td>\n",
              "      <td>417</td>\n",
              "      <td>100</td>\n",
              "      <td>9</td>\n",
              "      <td>165</td>\n",
              "      <td>7</td>\n",
              "      <td>13</td>\n",
              "      <td>247</td>\n",
              "    </tr>\n",
              "  </tbody>\n",
              "</table>\n",
              "</div>"
            ],
            "text/plain": [
              "predict    0    1    2    3    4    5    6    7    8    9\n",
              "label                                                    \n",
              "0        128    1  168  139  407    1  139    0   17    0\n",
              "1          5  440    9  137   82    6  284    5   28    4\n",
              "2          2    0  323  164  358    6  147    0    0    0\n",
              "3          0    0   14  716  176   22   72    0    0    0\n",
              "4          0    0    7   69  858    1   65    0    0    0\n",
              "5          0    0   25  558  181  182   54    0    0    0\n",
              "6          0    0    6  129   82    4  779    0    0    0\n",
              "7          0    0   11  186  552   19   37  195    0    0\n",
              "8          2    0   44  186  221    3  285    0  258    1\n",
              "9          7   23   12  417  100    9  165    7   13  247"
            ]
          },
          "metadata": {
            "tags": []
          },
          "execution_count": 30
        }
      ]
    },
    {
      "cell_type": "code",
      "metadata": {
        "id": "mvxedLAxgTfS"
      },
      "source": [
        ""
      ],
      "execution_count": null,
      "outputs": []
    },
    {
      "cell_type": "code",
      "metadata": {
        "id": "qddPJ9HX40o8"
      },
      "source": [
        ""
      ],
      "execution_count": null,
      "outputs": []
    }
  ]
}