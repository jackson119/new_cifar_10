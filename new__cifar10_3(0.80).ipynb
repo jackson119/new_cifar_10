{
  "nbformat": 4,
  "nbformat_minor": 0,
  "metadata": {
    "accelerator": "GPU",
    "colab": {
      "name": "new_ cifar10_3(0.80).ipynb",
      "provenance": [],
      "collapsed_sections": [
        "N5rt2fK5fntZ"
      ],
      "authorship_tag": "ABX9TyNqD9cXvwB4SHMKGeag3OLU",
      "include_colab_link": true
    },
    "kernelspec": {
      "display_name": "Python 3",
      "name": "python3"
    },
    "language_info": {
      "name": "python"
    }
  },
  "cells": [
    {
      "cell_type": "markdown",
      "metadata": {
        "id": "view-in-github",
        "colab_type": "text"
      },
      "source": [
        "<a href=\"https://colab.research.google.com/github/jackson119/new_cifar_10/blob/main/new__cifar10_3(0.80).ipynb\" target=\"_parent\"><img src=\"https://colab.research.google.com/assets/colab-badge.svg\" alt=\"Open In Colab\"/></a>"
      ]
    },
    {
      "cell_type": "markdown",
      "metadata": {
        "id": "SGKXC7W7pnht"
      },
      "source": [
        "# Data Preprocessing"
      ]
    },
    {
      "cell_type": "code",
      "metadata": {
        "id": "91H4jfpypp4h"
      },
      "source": [
        "from tensorflow.keras.datasets import cifar10\n",
        "import numpy as np\n",
        "np.random.seed(10)"
      ],
      "execution_count": 19,
      "outputs": []
    },
    {
      "cell_type": "code",
      "metadata": {
        "id": "jrfbgEOdprAB"
      },
      "source": [
        "(x_img_train,y_label_train),(x_img_test,y_label_test)=cifar10.load_data()"
      ],
      "execution_count": 20,
      "outputs": []
    },
    {
      "cell_type": "code",
      "metadata": {
        "id": "Bv64ED30R18B",
        "colab": {
          "base_uri": "https://localhost:8080/"
        },
        "outputId": "a8e02623-64c4-40b0-f090-b174d26a8eb1"
      },
      "source": [
        "print(\"train data:\",\"images:\",x_img_train.shape,\"labels:\",y_label_train.shape)\n",
        "print(\"test data:\",\"images:\",x_img_test.shape,\"labels:\",y_label_test.shape)"
      ],
      "execution_count": 21,
      "outputs": [
        {
          "output_type": "stream",
          "text": [
            "train data: images: (50000, 32, 32, 3) labels: (50000, 1)\n",
            "test data: images: (10000, 32, 32, 3) labels: (10000, 1)\n"
          ],
          "name": "stdout"
        }
      ]
    },
    {
      "cell_type": "markdown",
      "metadata": {
        "id": "10BLqTKNSYKW"
      },
      "source": [
        "# standardize and perform one hot encoding"
      ]
    },
    {
      "cell_type": "code",
      "metadata": {
        "id": "_bdYalY-Sfva"
      },
      "source": [
        "x_img_train_normalize=x_img_train.astype('float32')/255.0\n",
        "x_img_test_normalize=x_img_test.astype('float32')/255.0"
      ],
      "execution_count": 22,
      "outputs": []
    },
    {
      "cell_type": "code",
      "metadata": {
        "id": "-7OJEuxpSpXX"
      },
      "source": [
        "from tensorflow.keras import utils"
      ],
      "execution_count": 23,
      "outputs": []
    },
    {
      "cell_type": "code",
      "metadata": {
        "id": "bvesDQfhSsmH"
      },
      "source": [
        "y_label_train_OneHot=utils.to_categorical(y_label_train)\n",
        "y_label_test_OneHot=utils.to_categorical(y_label_test)"
      ],
      "execution_count": 24,
      "outputs": []
    },
    {
      "cell_type": "markdown",
      "metadata": {
        "id": "DSmFxX9xSwCN"
      },
      "source": [
        "# Images and label"
      ]
    },
    {
      "cell_type": "code",
      "metadata": {
        "id": "6AshrU3USxld"
      },
      "source": [
        "label_dict={0:\"airplane\",1:\"automobile\",2:\"bird\",3:\"cat\",4:\"deer\",5:\"dog\",6:\"frog\",7:\"horse\",8:\"ship\",9:\"truck\"}"
      ],
      "execution_count": 25,
      "outputs": []
    },
    {
      "cell_type": "code",
      "metadata": {
        "id": "KADDqJmsSzCc"
      },
      "source": [
        "# Construct model\n",
        "from keras.models import Sequential\n",
        "from keras.layers import Dense,Dropout,Activation,Flatten\n",
        "from keras.layers import Conv2D,MaxPooling2D,ZeroPadding2D"
      ],
      "execution_count": 26,
      "outputs": []
    },
    {
      "cell_type": "code",
      "metadata": {
        "id": "2tUCpCqHS5sb"
      },
      "source": [
        "model=Sequential()"
      ],
      "execution_count": 27,
      "outputs": []
    },
    {
      "cell_type": "code",
      "metadata": {
        "id": "IP4YwNOFS62i"
      },
      "source": [
        "model.add(Conv2D(filters=32,kernel_size=(3,3),input_shape=(32,32,3),activation='relu',padding='same'))\n",
        "model.add(Dropout(0.80))\n",
        "model.add(Conv2D(filters=32,kernel_size=(3,3),activation='relu',padding='same'))\n",
        "model.add(MaxPooling2D(pool_size=(2,2)))"
      ],
      "execution_count": 28,
      "outputs": []
    },
    {
      "cell_type": "code",
      "metadata": {
        "id": "VrEsDZ3OYZv6"
      },
      "source": [
        "model.add(Conv2D(filters=64,kernel_size=(3,3),activation='relu',padding='same'))\n",
        "model.add(Dropout(0.80))\n",
        "model.add(Conv2D(filters=64,kernel_size=(3,3),activation='relu',padding='same'))\n",
        "model.add(MaxPooling2D(pool_size=(2,2)))"
      ],
      "execution_count": 29,
      "outputs": []
    },
    {
      "cell_type": "code",
      "metadata": {
        "id": "Lfbpty5kYwiH"
      },
      "source": [
        "model.add(Conv2D(filters=128,kernel_size=(3,3),activation='relu',padding='same'))\n",
        "model.add(Dropout(0.80))\n",
        "model.add(Conv2D(filters=128,kernel_size=(3,3),activation='relu',padding='same'))\n",
        "model.add(MaxPooling2D(pool_size=(2,2)))"
      ],
      "execution_count": 30,
      "outputs": []
    },
    {
      "cell_type": "code",
      "metadata": {
        "id": "YGEmb5pbZYhj"
      },
      "source": [
        "### neural network\n",
        "model.add(Flatten())\n",
        "model.add(Dropout(0.80))\n",
        "### hidden layer 1\n",
        "model.add(Dense(2500,activation='relu'))\n",
        "model.add(Dropout(0.80))\n",
        "### hidden layer 2\n",
        "model.add(Dense(1500,activation='relu'))\n",
        "model.add(Dropout(0.80))\n",
        "### output layer\n",
        "model.add(Dense(10,activation='softmax'))"
      ],
      "execution_count": 31,
      "outputs": []
    },
    {
      "cell_type": "code",
      "metadata": {
        "id": "2kjnUEYuZtK5",
        "colab": {
          "base_uri": "https://localhost:8080/"
        },
        "outputId": "3000beb9-0dfe-44e4-e99d-00db82ad9201"
      },
      "source": [
        "print(model.summary())"
      ],
      "execution_count": 32,
      "outputs": [
        {
          "output_type": "stream",
          "text": [
            "Model: \"sequential_1\"\n",
            "_________________________________________________________________\n",
            "Layer (type)                 Output Shape              Param #   \n",
            "=================================================================\n",
            "conv2d_6 (Conv2D)            (None, 32, 32, 32)        896       \n",
            "_________________________________________________________________\n",
            "dropout_6 (Dropout)          (None, 32, 32, 32)        0         \n",
            "_________________________________________________________________\n",
            "conv2d_7 (Conv2D)            (None, 32, 32, 32)        9248      \n",
            "_________________________________________________________________\n",
            "max_pooling2d_3 (MaxPooling2 (None, 16, 16, 32)        0         \n",
            "_________________________________________________________________\n",
            "conv2d_8 (Conv2D)            (None, 16, 16, 64)        18496     \n",
            "_________________________________________________________________\n",
            "dropout_7 (Dropout)          (None, 16, 16, 64)        0         \n",
            "_________________________________________________________________\n",
            "conv2d_9 (Conv2D)            (None, 16, 16, 64)        36928     \n",
            "_________________________________________________________________\n",
            "max_pooling2d_4 (MaxPooling2 (None, 8, 8, 64)          0         \n",
            "_________________________________________________________________\n",
            "conv2d_10 (Conv2D)           (None, 8, 8, 128)         73856     \n",
            "_________________________________________________________________\n",
            "dropout_8 (Dropout)          (None, 8, 8, 128)         0         \n",
            "_________________________________________________________________\n",
            "conv2d_11 (Conv2D)           (None, 8, 8, 128)         147584    \n",
            "_________________________________________________________________\n",
            "max_pooling2d_5 (MaxPooling2 (None, 4, 4, 128)         0         \n",
            "_________________________________________________________________\n",
            "flatten_1 (Flatten)          (None, 2048)              0         \n",
            "_________________________________________________________________\n",
            "dropout_9 (Dropout)          (None, 2048)              0         \n",
            "_________________________________________________________________\n",
            "dense_3 (Dense)              (None, 2500)              5122500   \n",
            "_________________________________________________________________\n",
            "dropout_10 (Dropout)         (None, 2500)              0         \n",
            "_________________________________________________________________\n",
            "dense_4 (Dense)              (None, 1500)              3751500   \n",
            "_________________________________________________________________\n",
            "dropout_11 (Dropout)         (None, 1500)              0         \n",
            "_________________________________________________________________\n",
            "dense_5 (Dense)              (None, 10)                15010     \n",
            "=================================================================\n",
            "Total params: 9,176,018\n",
            "Trainable params: 9,176,018\n",
            "Non-trainable params: 0\n",
            "_________________________________________________________________\n",
            "None\n"
          ],
          "name": "stdout"
        }
      ]
    },
    {
      "cell_type": "code",
      "metadata": {
        "colab": {
          "base_uri": "https://localhost:8080/"
        },
        "id": "j64CEumxZvDu",
        "outputId": "d826aa12-3ea3-4f0f-96e9-588363de85a0"
      },
      "source": [
        "model.compile(loss='categorical_crossentropy',optimizer='adam',metrics=['accuracy'])\n",
        "train_history=model.fit(x_img_train_normalize,y_label_train_OneHot,validation_split=0.2,epochs=50,batch_size=300,verbose=2)"
      ],
      "execution_count": 33,
      "outputs": [
        {
          "output_type": "stream",
          "text": [
            "Epoch 1/50\n",
            "134/134 - 5s - loss: 2.3690 - accuracy: 0.1264 - val_loss: 2.3152 - val_accuracy: 0.0997\n",
            "Epoch 2/50\n",
            "134/134 - 5s - loss: 2.1231 - accuracy: 0.1929 - val_loss: 2.7889 - val_accuracy: 0.0980\n",
            "Epoch 3/50\n",
            "134/134 - 5s - loss: 2.0145 - accuracy: 0.2201 - val_loss: 3.3646 - val_accuracy: 0.0997\n",
            "Epoch 4/50\n",
            "134/134 - 5s - loss: 1.9392 - accuracy: 0.2474 - val_loss: 3.5219 - val_accuracy: 0.0997\n",
            "Epoch 5/50\n",
            "134/134 - 5s - loss: 1.8975 - accuracy: 0.2708 - val_loss: 3.6716 - val_accuracy: 0.0997\n",
            "Epoch 6/50\n",
            "134/134 - 5s - loss: 1.8512 - accuracy: 0.2872 - val_loss: 3.6563 - val_accuracy: 0.0953\n",
            "Epoch 7/50\n",
            "134/134 - 5s - loss: 1.8187 - accuracy: 0.2980 - val_loss: 3.9090 - val_accuracy: 0.0997\n",
            "Epoch 8/50\n",
            "134/134 - 5s - loss: 1.7973 - accuracy: 0.3102 - val_loss: 3.8786 - val_accuracy: 0.0997\n",
            "Epoch 9/50\n",
            "134/134 - 5s - loss: 1.7774 - accuracy: 0.3169 - val_loss: 3.8183 - val_accuracy: 0.1187\n",
            "Epoch 10/50\n",
            "134/134 - 5s - loss: 1.7579 - accuracy: 0.3257 - val_loss: 3.9385 - val_accuracy: 0.0998\n",
            "Epoch 11/50\n",
            "134/134 - 5s - loss: 1.7341 - accuracy: 0.3359 - val_loss: 4.0908 - val_accuracy: 0.1247\n",
            "Epoch 12/50\n",
            "134/134 - 5s - loss: 1.7243 - accuracy: 0.3413 - val_loss: 4.0455 - val_accuracy: 0.1290\n",
            "Epoch 13/50\n",
            "134/134 - 5s - loss: 1.7072 - accuracy: 0.3490 - val_loss: 4.2863 - val_accuracy: 0.1290\n",
            "Epoch 14/50\n",
            "134/134 - 5s - loss: 1.6975 - accuracy: 0.3498 - val_loss: 4.2366 - val_accuracy: 0.1273\n",
            "Epoch 15/50\n",
            "134/134 - 5s - loss: 1.6821 - accuracy: 0.3553 - val_loss: 4.1021 - val_accuracy: 0.1247\n",
            "Epoch 16/50\n",
            "134/134 - 5s - loss: 1.6745 - accuracy: 0.3624 - val_loss: 4.1756 - val_accuracy: 0.1255\n",
            "Epoch 17/50\n",
            "134/134 - 5s - loss: 1.6686 - accuracy: 0.3694 - val_loss: 4.0752 - val_accuracy: 0.1305\n",
            "Epoch 18/50\n",
            "134/134 - 5s - loss: 1.6569 - accuracy: 0.3689 - val_loss: 4.1498 - val_accuracy: 0.1315\n",
            "Epoch 19/50\n",
            "134/134 - 5s - loss: 1.6523 - accuracy: 0.3749 - val_loss: 4.2081 - val_accuracy: 0.1312\n",
            "Epoch 20/50\n",
            "134/134 - 5s - loss: 1.6398 - accuracy: 0.3760 - val_loss: 4.2560 - val_accuracy: 0.1299\n",
            "Epoch 21/50\n",
            "134/134 - 5s - loss: 1.6397 - accuracy: 0.3762 - val_loss: 4.1700 - val_accuracy: 0.1327\n",
            "Epoch 22/50\n",
            "134/134 - 5s - loss: 1.6346 - accuracy: 0.3821 - val_loss: 4.2932 - val_accuracy: 0.1326\n",
            "Epoch 23/50\n",
            "134/134 - 5s - loss: 1.6246 - accuracy: 0.3873 - val_loss: 4.1785 - val_accuracy: 0.1356\n",
            "Epoch 24/50\n",
            "134/134 - 5s - loss: 1.6246 - accuracy: 0.3908 - val_loss: 4.0662 - val_accuracy: 0.1280\n",
            "Epoch 25/50\n",
            "134/134 - 5s - loss: 1.6125 - accuracy: 0.3936 - val_loss: 4.0091 - val_accuracy: 0.1361\n",
            "Epoch 26/50\n",
            "134/134 - 5s - loss: 1.6098 - accuracy: 0.3950 - val_loss: 4.1809 - val_accuracy: 0.1334\n",
            "Epoch 27/50\n",
            "134/134 - 5s - loss: 1.6110 - accuracy: 0.3931 - val_loss: 4.2234 - val_accuracy: 0.1359\n",
            "Epoch 28/50\n",
            "134/134 - 5s - loss: 1.6011 - accuracy: 0.3959 - val_loss: 4.3357 - val_accuracy: 0.1346\n",
            "Epoch 29/50\n",
            "134/134 - 5s - loss: 1.5999 - accuracy: 0.3966 - val_loss: 4.0233 - val_accuracy: 0.1359\n",
            "Epoch 30/50\n",
            "134/134 - 5s - loss: 1.5971 - accuracy: 0.4033 - val_loss: 4.0273 - val_accuracy: 0.1363\n",
            "Epoch 31/50\n",
            "134/134 - 5s - loss: 1.5931 - accuracy: 0.3999 - val_loss: 4.0564 - val_accuracy: 0.1354\n",
            "Epoch 32/50\n",
            "134/134 - 5s - loss: 1.5848 - accuracy: 0.4085 - val_loss: 3.9704 - val_accuracy: 0.1331\n",
            "Epoch 33/50\n",
            "134/134 - 5s - loss: 1.5756 - accuracy: 0.4100 - val_loss: 4.0254 - val_accuracy: 0.1363\n",
            "Epoch 34/50\n",
            "134/134 - 5s - loss: 1.5672 - accuracy: 0.4104 - val_loss: 4.1266 - val_accuracy: 0.1337\n",
            "Epoch 35/50\n",
            "134/134 - 5s - loss: 1.5672 - accuracy: 0.4160 - val_loss: 4.0815 - val_accuracy: 0.1361\n",
            "Epoch 36/50\n",
            "134/134 - 5s - loss: 1.5604 - accuracy: 0.4171 - val_loss: 3.9193 - val_accuracy: 0.1374\n",
            "Epoch 37/50\n",
            "134/134 - 5s - loss: 1.5736 - accuracy: 0.4182 - val_loss: 3.7573 - val_accuracy: 0.1316\n",
            "Epoch 38/50\n",
            "134/134 - 5s - loss: 1.5548 - accuracy: 0.4187 - val_loss: 3.8445 - val_accuracy: 0.1236\n",
            "Epoch 39/50\n",
            "134/134 - 5s - loss: 1.5621 - accuracy: 0.4182 - val_loss: 3.8837 - val_accuracy: 0.1273\n",
            "Epoch 40/50\n",
            "134/134 - 5s - loss: 1.5480 - accuracy: 0.4245 - val_loss: 3.8679 - val_accuracy: 0.1279\n",
            "Epoch 41/50\n",
            "134/134 - 5s - loss: 1.5527 - accuracy: 0.4227 - val_loss: 3.6747 - val_accuracy: 0.1392\n",
            "Epoch 42/50\n",
            "134/134 - 5s - loss: 1.5431 - accuracy: 0.4243 - val_loss: 3.7181 - val_accuracy: 0.1242\n",
            "Epoch 43/50\n",
            "134/134 - 5s - loss: 1.5430 - accuracy: 0.4236 - val_loss: 3.6526 - val_accuracy: 0.1291\n",
            "Epoch 44/50\n",
            "134/134 - 5s - loss: 1.5396 - accuracy: 0.4284 - val_loss: 3.6200 - val_accuracy: 0.1352\n",
            "Epoch 45/50\n",
            "134/134 - 5s - loss: 1.5333 - accuracy: 0.4277 - val_loss: 3.8329 - val_accuracy: 0.1200\n",
            "Epoch 46/50\n",
            "134/134 - 5s - loss: 1.5313 - accuracy: 0.4294 - val_loss: 3.4992 - val_accuracy: 0.1440\n",
            "Epoch 47/50\n",
            "134/134 - 5s - loss: 1.5293 - accuracy: 0.4308 - val_loss: 3.9356 - val_accuracy: 0.1380\n",
            "Epoch 48/50\n",
            "134/134 - 5s - loss: 1.5298 - accuracy: 0.4294 - val_loss: 3.4851 - val_accuracy: 0.1425\n",
            "Epoch 49/50\n",
            "134/134 - 5s - loss: 1.5276 - accuracy: 0.4345 - val_loss: 3.6141 - val_accuracy: 0.1335\n",
            "Epoch 50/50\n",
            "134/134 - 5s - loss: 1.5244 - accuracy: 0.4331 - val_loss: 3.6340 - val_accuracy: 0.1378\n"
          ],
          "name": "stdout"
        }
      ]
    },
    {
      "cell_type": "code",
      "metadata": {
        "id": "rzLTGAOzZ7zi"
      },
      "source": [
        "from matplotlib import pyplot as plt\n",
        "def show_train_history(train_history,train,validation):\n",
        "  plt.plot(train_history.history[train])\n",
        "  plt.plot(train_history.history[validation])\n",
        "  plt.title('Train History')\n",
        "  plt.ylabel('train')\n",
        "  plt.xlabel('Epoch')\n",
        "  plt.legend(['train','validation'],loc='upper left')\n",
        "  plt.show()"
      ],
      "execution_count": 34,
      "outputs": []
    },
    {
      "cell_type": "code",
      "metadata": {
        "colab": {
          "base_uri": "https://localhost:8080/",
          "height": 295
        },
        "id": "FliqaslyfUOd",
        "outputId": "090dce12-e5ef-499f-f4ce-ce3552ad9b6b"
      },
      "source": [
        "show_train_history(train_history,'accuracy','val_accuracy')"
      ],
      "execution_count": 35,
      "outputs": [
        {
          "output_type": "display_data",
          "data": {
            "image/png": "[encoded data removed]",
            "text/plain": [
              "<Figure size 432x288 with 1 Axes>"
            ]
          },
          "metadata": {
            "tags": [],
            "needs_background": "light"
          }
        }
      ]
    },
    {
      "cell_type": "code",
      "metadata": {
        "colab": {
          "base_uri": "https://localhost:8080/",
          "height": 295
        },
        "id": "CLUnjiW4fbvQ",
        "outputId": "f6c7d11c-df87-4678-e5f9-06a544d2b65f"
      },
      "source": [
        "show_train_history(train_history,'loss','val_loss')"
      ],
      "execution_count": 36,
      "outputs": [
        {
          "output_type": "display_data",
          "data": {
            "image/png": "[encoded data removed]",
            "text/plain": [
              "<Figure size 432x288 with 1 Axes>"
            ]
          },
          "metadata": {
            "tags": [],
            "needs_background": "light"
          }
        }
      ]
    },
    {
      "cell_type": "code",
      "metadata": {
        "id": "J5uBX8IWgmJ8"
      },
      "source": [
        "### estimate model accuracy"
      ],
      "execution_count": 37,
      "outputs": []
    },
    {
      "cell_type": "code",
      "metadata": {
        "id": "CNqM3qWAgmRX"
      },
      "source": [
        "scores=model.evaluate(x_img_test_normalize,y_label_test_OneHot,verbose=0)"
      ],
      "execution_count": 38,
      "outputs": []
    },
    {
      "cell_type": "code",
      "metadata": {
        "colab": {
          "base_uri": "https://localhost:8080/"
        },
        "id": "cLAn9V1ogrBf",
        "outputId": "fdaa25f5-d29d-4ed4-8ed2-64cc0660fe18"
      },
      "source": [
        "print(f'Test loss: {scores[0]} / Test accuracy: {scores[1]}')"
      ],
      "execution_count": 39,
      "outputs": [
        {
          "output_type": "stream",
          "text": [
            "Test loss: 3.6049063205718994 / Test accuracy: 0.14249999821186066\n"
          ],
          "name": "stdout"
        }
      ]
    },
    {
      "cell_type": "code",
      "metadata": {
        "colab": {
          "base_uri": "https://localhost:8080/"
        },
        "id": "UNRhGtVugvNM",
        "outputId": "6c42e408-39b6-459f-d8bb-f8425fc97073"
      },
      "source": [
        "prediction=model.predict_classes(x_img_test_normalize) ### prediction"
      ],
      "execution_count": 40,
      "outputs": [
        {
          "output_type": "stream",
          "text": [
            "/usr/local/lib/python3.7/dist-packages/tensorflow/python/keras/engine/sequential.py:450: UserWarning: `model.predict_classes()` is deprecated and will be removed after 2021-01-01. Please use instead:* `np.argmax(model.predict(x), axis=-1)`,   if your model does multi-class classification   (e.g. if it uses a `softmax` last-layer activation).* `(model.predict(x) > 0.5).astype(\"int32\")`,   if your model does binary classification   (e.g. if it uses a `sigmoid` last-layer activation).\n",
            "  warnings.warn('`model.predict_classes()` is deprecated and '\n"
          ],
          "name": "stderr"
        }
      ]
    },
    {
      "cell_type": "code",
      "metadata": {
        "colab": {
          "base_uri": "https://localhost:8080/"
        },
        "id": "e9dj4EcTkNPd",
        "outputId": "134f06b0-4819-4269-c24e-8433ffbd6df5"
      },
      "source": [
        "prediction"
      ],
      "execution_count": 41,
      "outputs": [
        {
          "output_type": "execute_result",
          "data": {
            "text/plain": [
              "array([6, 4, 4, ..., 4, 4, 4])"
            ]
          },
          "metadata": {
            "tags": []
          },
          "execution_count": 41
        }
      ]
    },
    {
      "cell_type": "code",
      "metadata": {
        "id": "ii4zLAJNgz_w"
      },
      "source": [
        "def plot_images_labels_prediction(images,labels,prediction,idx,num=10):\n",
        "  fig=plt.gcf()\n",
        "  fig.set_size_inches(12,14)\n",
        "  if num>25:num=25\n",
        "  for i in range(0,num):\n",
        "    ax=plt.subplot(5,5,1+i)\n",
        "    ax.imshow(images[idx],cmap='binary')\n",
        "    title=str(i) +',' +label_dict[labels[i][0]]\n",
        "    if len(prediction)>0:\n",
        "      title+='=>'+label_dict[prediction[i]]\n",
        "    ax.set_title(title,fontsize=10)\n",
        "    ax.set_xticks([]);ax.set_yticks([])\n",
        "    idx+=1\n",
        "  plt.show()"
      ],
      "execution_count": 42,
      "outputs": []
    },
    {
      "cell_type": "code",
      "metadata": {
        "colab": {
          "base_uri": "https://localhost:8080/",
          "height": 321
        },
        "id": "Ss7dd8dJg2UX",
        "outputId": "5ec34bcf-e203-46a8-ee4b-b5e026c9ba08"
      },
      "source": [
        "plot_images_labels_prediction(x_img_test,y_label_test,prediction,0,10)"
      ],
      "execution_count": 43,
      "outputs": [
        {
          "output_type": "display_data",
          "data": {
            "image/png": "[encoded data removed]",
            "text/plain": [
              "<Figure size 864x1008 with 10 Axes>"
            ]
          },
          "metadata": {
            "tags": []
          }
        }
      ]
    },
    {
      "cell_type": "code",
      "metadata": {
        "id": "PpPOXOuZg6wp"
      },
      "source": [
        "# check for prediction rate\n",
        "predicted_Probability=model.predict(x_img_test_normalize)"
      ],
      "execution_count": 44,
      "outputs": []
    },
    {
      "cell_type": "code",
      "metadata": {
        "id": "ykuUEDYlg_vY"
      },
      "source": [
        "def show_predicted_probability(y,prediction,x_img,predicted_Probability,i):\n",
        "  print('label:',label_dict[y[i][0]],\n",
        "        'predict',label_dict[prediction[i]])\n",
        "  plt.figure(figsize=(2,2))\n",
        "  plt.imshow(np.reshape(x_img_test[i],(32,32,3)))\n",
        "  plt.show()\n",
        "  for j in range(10):\n",
        "    print(label_dict[j]+ ' probability:%1.9f'%(predicted_Probability[i][j]))\n"
      ],
      "execution_count": 45,
      "outputs": []
    },
    {
      "cell_type": "code",
      "metadata": {
        "colab": {
          "base_uri": "https://localhost:8080/",
          "height": 355
        },
        "id": "EDAw57mNhCGo",
        "outputId": "128829cf-ec84-450e-ddc1-9a9d9f08be37"
      },
      "source": [
        "show_predicted_probability(y_label_test,prediction,x_img_test,predicted_Probability,0)"
      ],
      "execution_count": 46,
      "outputs": [
        {
          "output_type": "stream",
          "text": [
            "label: cat predict frog\n"
          ],
          "name": "stdout"
        },
        {
          "output_type": "display_data",
          "data": {
            "image/png": "[encoded data removed]",
            "text/plain": [
              "<Figure size 144x144 with 1 Axes>"
            ]
          },
          "metadata": {
            "tags": [],
            "needs_background": "light"
          }
        },
        {
          "output_type": "stream",
          "text": [
            "airplane probability:0.003555755\n",
            "automobile probability:0.001864905\n",
            "bird probability:0.106564149\n",
            "cat probability:0.080798879\n",
            "deer probability:0.328806251\n",
            "dog probability:0.062381305\n",
            "frog probability:0.363378227\n",
            "horse probability:0.050819192\n",
            "ship probability:0.000314248\n",
            "truck probability:0.001517080\n"
          ],
          "name": "stdout"
        }
      ]
    },
    {
      "cell_type": "markdown",
      "metadata": {
        "id": "N5rt2fK5fntZ"
      },
      "source": [
        "#Confusion matrix"
      ]
    },
    {
      "cell_type": "code",
      "metadata": {
        "id": "TjlrqQgShBjE"
      },
      "source": [
        "import pandas as pd"
      ],
      "execution_count": 47,
      "outputs": []
    },
    {
      "cell_type": "code",
      "metadata": {
        "colab": {
          "base_uri": "https://localhost:8080/",
          "height": 370
        },
        "id": "vD-agaQbfqVp",
        "outputId": "f4e5d334-f105-437b-a22c-3b02f6212627"
      },
      "source": [
        "pd.crosstab(y_label_test.reshape(-1),prediction,rownames=['label'],colnames=['predict'])"
      ],
      "execution_count": 48,
      "outputs": [
        {
          "output_type": "execute_result",
          "data": {
            "text/html": [
              "<div>\n",
              "<style scoped>\n",
              "    .dataframe tbody tr th:only-of-type {\n",
              "        vertical-align: middle;\n",
              "    }\n",
              "\n",
              "    .dataframe tbody tr th {\n",
              "        vertical-align: top;\n",
              "    }\n",
              "\n",
              "    .dataframe thead th {\n",
              "        text-align: right;\n",
              "    }\n",
              "</style>\n",
              "<table border=\"1\" class=\"dataframe\">\n",
              "  <thead>\n",
              "    <tr style=\"text-align: right;\">\n",
              "      <th>predict</th>\n",
              "      <th>3</th>\n",
              "      <th>4</th>\n",
              "      <th>5</th>\n",
              "      <th>6</th>\n",
              "    </tr>\n",
              "    <tr>\n",
              "      <th>label</th>\n",
              "      <th></th>\n",
              "      <th></th>\n",
              "      <th></th>\n",
              "      <th></th>\n",
              "    </tr>\n",
              "  </thead>\n",
              "  <tbody>\n",
              "    <tr>\n",
              "      <th>0</th>\n",
              "      <td>0</td>\n",
              "      <td>903</td>\n",
              "      <td>0</td>\n",
              "      <td>97</td>\n",
              "    </tr>\n",
              "    <tr>\n",
              "      <th>1</th>\n",
              "      <td>0</td>\n",
              "      <td>366</td>\n",
              "      <td>0</td>\n",
              "      <td>634</td>\n",
              "    </tr>\n",
              "    <tr>\n",
              "      <th>2</th>\n",
              "      <td>0</td>\n",
              "      <td>869</td>\n",
              "      <td>0</td>\n",
              "      <td>131</td>\n",
              "    </tr>\n",
              "    <tr>\n",
              "      <th>3</th>\n",
              "      <td>1</td>\n",
              "      <td>783</td>\n",
              "      <td>0</td>\n",
              "      <td>216</td>\n",
              "    </tr>\n",
              "    <tr>\n",
              "      <th>4</th>\n",
              "      <td>0</td>\n",
              "      <td>799</td>\n",
              "      <td>0</td>\n",
              "      <td>201</td>\n",
              "    </tr>\n",
              "    <tr>\n",
              "      <th>5</th>\n",
              "      <td>13</td>\n",
              "      <td>861</td>\n",
              "      <td>2</td>\n",
              "      <td>124</td>\n",
              "    </tr>\n",
              "    <tr>\n",
              "      <th>6</th>\n",
              "      <td>0</td>\n",
              "      <td>377</td>\n",
              "      <td>0</td>\n",
              "      <td>623</td>\n",
              "    </tr>\n",
              "    <tr>\n",
              "      <th>7</th>\n",
              "      <td>0</td>\n",
              "      <td>767</td>\n",
              "      <td>0</td>\n",
              "      <td>233</td>\n",
              "    </tr>\n",
              "    <tr>\n",
              "      <th>8</th>\n",
              "      <td>0</td>\n",
              "      <td>913</td>\n",
              "      <td>0</td>\n",
              "      <td>87</td>\n",
              "    </tr>\n",
              "    <tr>\n",
              "      <th>9</th>\n",
              "      <td>0</td>\n",
              "      <td>335</td>\n",
              "      <td>0</td>\n",
              "      <td>665</td>\n",
              "    </tr>\n",
              "  </tbody>\n",
              "</table>\n",
              "</div>"
            ],
            "text/plain": [
              "predict   3    4  5    6\n",
              "label                   \n",
              "0         0  903  0   97\n",
              "1         0  366  0  634\n",
              "2         0  869  0  131\n",
              "3         1  783  0  216\n",
              "4         0  799  0  201\n",
              "5        13  861  2  124\n",
              "6         0  377  0  623\n",
              "7         0  767  0  233\n",
              "8         0  913  0   87\n",
              "9         0  335  0  665"
            ]
          },
          "metadata": {
            "tags": []
          },
          "execution_count": 48
        }
      ]
    },
    {
      "cell_type": "code",
      "metadata": {
        "id": "mvxedLAxgTfS"
      },
      "source": [
        ""
      ],
      "execution_count": null,
      "outputs": []
    },
    {
      "cell_type": "code",
      "metadata": {
        "id": "qddPJ9HX40o8"
      },
      "source": [
        ""
      ],
      "execution_count": null,
      "outputs": []
    }
  ]
}