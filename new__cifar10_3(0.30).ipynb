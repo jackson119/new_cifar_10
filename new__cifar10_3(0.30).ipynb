{
  "nbformat": 4,
  "nbformat_minor": 0,
  "metadata": {
    "accelerator": "GPU",
    "colab": {
      "name": "new_ cifar10_3(0.30).ipynb",
      "provenance": [],
      "collapsed_sections": [
        "N5rt2fK5fntZ"
      ],
      "authorship_tag": "ABX9TyP++t40SnVTMsiDEEG8RY6p",
      "include_colab_link": true
    },
    "kernelspec": {
      "display_name": "Python 3",
      "name": "python3"
    },
    "language_info": {
      "name": "python"
    }
  },
  "cells": [
    {
      "cell_type": "markdown",
      "metadata": {
        "id": "view-in-github",
        "colab_type": "text"
      },
      "source": [
        "<a href=\"https://colab.research.google.com/github/jackson119/new_cifar_10/blob/main/new__cifar10_3(0.30).ipynb\" target=\"_parent\"><img src=\"https://colab.research.google.com/assets/colab-badge.svg\" alt=\"Open In Colab\"/></a>"
      ]
    },
    {
      "cell_type": "markdown",
      "metadata": {
        "id": "SGKXC7W7pnht"
      },
      "source": [
        "# Data Preprocessing"
      ]
    },
    {
      "cell_type": "code",
      "metadata": {
        "id": "91H4jfpypp4h"
      },
      "source": [
        "from tensorflow.keras.datasets import cifar10\n",
        "import numpy as np\n",
        "np.random.seed(10)"
      ],
      "execution_count": 1,
      "outputs": []
    },
    {
      "cell_type": "code",
      "metadata": {
        "id": "jrfbgEOdprAB",
        "colab": {
          "base_uri": "https://localhost:8080/"
        },
        "outputId": "ea4e1bf7-0450-4ee3-eb09-df396fe1f2b5"
      },
      "source": [
        "(x_img_train,y_label_train),(x_img_test,y_label_test)=cifar10.load_data()"
      ],
      "execution_count": 2,
      "outputs": [
        {
          "output_type": "stream",
          "text": [
            "Downloading data from https://www.cs.toronto.edu/~kriz/cifar-10-python.tar.gz\n",
            "170500096/170498071 [==============================] - 2s 0us/step\n"
          ],
          "name": "stdout"
        }
      ]
    },
    {
      "cell_type": "code",
      "metadata": {
        "colab": {
          "base_uri": "https://localhost:8080/"
        },
        "id": "Bv64ED30R18B",
        "outputId": "56fdf1a5-2db3-4895-e1e8-1328e4a58978"
      },
      "source": [
        "print(\"train data:\",\"images:\",x_img_train.shape,\"labels:\",y_label_train.shape)\n",
        "print(\"test data:\",\"images:\",x_img_test.shape,\"labels:\",y_label_test.shape)"
      ],
      "execution_count": 3,
      "outputs": [
        {
          "output_type": "stream",
          "text": [
            "train data: images: (50000, 32, 32, 3) labels: (50000, 1)\n",
            "test data: images: (10000, 32, 32, 3) labels: (10000, 1)\n"
          ],
          "name": "stdout"
        }
      ]
    },
    {
      "cell_type": "markdown",
      "metadata": {
        "id": "10BLqTKNSYKW"
      },
      "source": [
        "# standardize and perform one hot encoding"
      ]
    },
    {
      "cell_type": "code",
      "metadata": {
        "id": "_bdYalY-Sfva"
      },
      "source": [
        "x_img_train_normalize=x_img_train.astype('float32')/255.0\n",
        "x_img_test_normalize=x_img_test.astype('float32')/255.0"
      ],
      "execution_count": 4,
      "outputs": []
    },
    {
      "cell_type": "code",
      "metadata": {
        "id": "-7OJEuxpSpXX"
      },
      "source": [
        "from tensorflow.keras import utils"
      ],
      "execution_count": 5,
      "outputs": []
    },
    {
      "cell_type": "code",
      "metadata": {
        "id": "bvesDQfhSsmH"
      },
      "source": [
        "y_label_train_OneHot=utils.to_categorical(y_label_train)\n",
        "y_label_test_OneHot=utils.to_categorical(y_label_test)"
      ],
      "execution_count": 6,
      "outputs": []
    },
    {
      "cell_type": "markdown",
      "metadata": {
        "id": "DSmFxX9xSwCN"
      },
      "source": [
        "# Images and label"
      ]
    },
    {
      "cell_type": "code",
      "metadata": {
        "id": "6AshrU3USxld"
      },
      "source": [
        "label_dict={0:\"airplane\",1:\"automobile\",2:\"bird\",3:\"cat\",4:\"deer\",5:\"dog\",6:\"frog\",7:\"horse\",8:\"ship\",9:\"truck\"}"
      ],
      "execution_count": 7,
      "outputs": []
    },
    {
      "cell_type": "code",
      "metadata": {
        "id": "KADDqJmsSzCc"
      },
      "source": [
        "# Construct model\n",
        "from keras.models import Sequential\n",
        "from keras.layers import Dense,Dropout,Activation,Flatten\n",
        "from keras.layers import Conv2D,MaxPooling2D,ZeroPadding2D"
      ],
      "execution_count": 8,
      "outputs": []
    },
    {
      "cell_type": "code",
      "metadata": {
        "id": "2tUCpCqHS5sb"
      },
      "source": [
        "model=Sequential()"
      ],
      "execution_count": 9,
      "outputs": []
    },
    {
      "cell_type": "code",
      "metadata": {
        "id": "IP4YwNOFS62i"
      },
      "source": [
        "model.add(Conv2D(filters=32,kernel_size=(3,3),input_shape=(32,32,3),activation='relu',padding='same'))\n",
        "model.add(Dropout(0.30))\n",
        "model.add(Conv2D(filters=32,kernel_size=(3,3),activation='relu',padding='same'))\n",
        "model.add(MaxPooling2D(pool_size=(2,2)))"
      ],
      "execution_count": 10,
      "outputs": []
    },
    {
      "cell_type": "code",
      "metadata": {
        "id": "VrEsDZ3OYZv6"
      },
      "source": [
        "model.add(Conv2D(filters=64,kernel_size=(3,3),activation='relu',padding='same'))\n",
        "model.add(Dropout(0.30))\n",
        "model.add(Conv2D(filters=64,kernel_size=(3,3),activation='relu',padding='same'))\n",
        "model.add(MaxPooling2D(pool_size=(2,2)))"
      ],
      "execution_count": 11,
      "outputs": []
    },
    {
      "cell_type": "code",
      "metadata": {
        "id": "Lfbpty5kYwiH"
      },
      "source": [
        "model.add(Conv2D(filters=128,kernel_size=(3,3),activation='relu',padding='same'))\n",
        "model.add(Dropout(0.30))\n",
        "model.add(Conv2D(filters=128,kernel_size=(3,3),activation='relu',padding='same'))\n",
        "model.add(MaxPooling2D(pool_size=(2,2)))"
      ],
      "execution_count": 12,
      "outputs": []
    },
    {
      "cell_type": "code",
      "metadata": {
        "id": "YGEmb5pbZYhj"
      },
      "source": [
        "### neural network\n",
        "model.add(Flatten())\n",
        "model.add(Dropout(0.30))\n",
        "### hidden layer 1\n",
        "model.add(Dense(2500,activation='relu'))\n",
        "model.add(Dropout(0.30))\n",
        "### hidden layer 2\n",
        "model.add(Dense(1500,activation='relu'))\n",
        "model.add(Dropout(0.30))\n",
        "### output layer\n",
        "model.add(Dense(10,activation='softmax'))"
      ],
      "execution_count": 13,
      "outputs": []
    },
    {
      "cell_type": "code",
      "metadata": {
        "colab": {
          "base_uri": "https://localhost:8080/"
        },
        "id": "2kjnUEYuZtK5",
        "outputId": "bd43b8c9-04c8-4676-ca49-8a3eea65337b"
      },
      "source": [
        "print(model.summary())"
      ],
      "execution_count": 14,
      "outputs": [
        {
          "output_type": "stream",
          "text": [
            "Model: \"sequential\"\n",
            "_________________________________________________________________\n",
            "Layer (type)                 Output Shape              Param #   \n",
            "=================================================================\n",
            "conv2d (Conv2D)              (None, 32, 32, 32)        896       \n",
            "_________________________________________________________________\n",
            "dropout (Dropout)            (None, 32, 32, 32)        0         \n",
            "_________________________________________________________________\n",
            "conv2d_1 (Conv2D)            (None, 32, 32, 32)        9248      \n",
            "_________________________________________________________________\n",
            "max_pooling2d (MaxPooling2D) (None, 16, 16, 32)        0         \n",
            "_________________________________________________________________\n",
            "conv2d_2 (Conv2D)            (None, 16, 16, 64)        18496     \n",
            "_________________________________________________________________\n",
            "dropout_1 (Dropout)          (None, 16, 16, 64)        0         \n",
            "_________________________________________________________________\n",
            "conv2d_3 (Conv2D)            (None, 16, 16, 64)        36928     \n",
            "_________________________________________________________________\n",
            "max_pooling2d_1 (MaxPooling2 (None, 8, 8, 64)          0         \n",
            "_________________________________________________________________\n",
            "conv2d_4 (Conv2D)            (None, 8, 8, 128)         73856     \n",
            "_________________________________________________________________\n",
            "dropout_2 (Dropout)          (None, 8, 8, 128)         0         \n",
            "_________________________________________________________________\n",
            "conv2d_5 (Conv2D)            (None, 8, 8, 128)         147584    \n",
            "_________________________________________________________________\n",
            "max_pooling2d_2 (MaxPooling2 (None, 4, 4, 128)         0         \n",
            "_________________________________________________________________\n",
            "flatten (Flatten)            (None, 2048)              0         \n",
            "_________________________________________________________________\n",
            "dropout_3 (Dropout)          (None, 2048)              0         \n",
            "_________________________________________________________________\n",
            "dense (Dense)                (None, 2500)              5122500   \n",
            "_________________________________________________________________\n",
            "dropout_4 (Dropout)          (None, 2500)              0         \n",
            "_________________________________________________________________\n",
            "dense_1 (Dense)              (None, 1500)              3751500   \n",
            "_________________________________________________________________\n",
            "dropout_5 (Dropout)          (None, 1500)              0         \n",
            "_________________________________________________________________\n",
            "dense_2 (Dense)              (None, 10)                15010     \n",
            "=================================================================\n",
            "Total params: 9,176,018\n",
            "Trainable params: 9,176,018\n",
            "Non-trainable params: 0\n",
            "_________________________________________________________________\n",
            "None\n"
          ],
          "name": "stdout"
        }
      ]
    },
    {
      "cell_type": "code",
      "metadata": {
        "colab": {
          "base_uri": "https://localhost:8080/"
        },
        "id": "j64CEumxZvDu",
        "outputId": "9ae4f60b-168e-4e05-c705-f27ab67bd409"
      },
      "source": [
        "model.compile(loss='categorical_crossentropy',optimizer='adam',metrics=['accuracy'])\n",
        "train_history=model.fit(x_img_train_normalize,y_label_train_OneHot,validation_split=0.2,epochs=50,batch_size=300,verbose=2)"
      ],
      "execution_count": 15,
      "outputs": [
        {
          "output_type": "stream",
          "text": [
            "Epoch 1/50\n",
            "134/134 - 39s - loss: 1.9771 - accuracy: 0.2564 - val_loss: 1.8158 - val_accuracy: 0.3543\n",
            "Epoch 2/50\n",
            "134/134 - 4s - loss: 1.5242 - accuracy: 0.4360 - val_loss: 1.4652 - val_accuracy: 0.4639\n",
            "Epoch 3/50\n",
            "134/134 - 4s - loss: 1.3105 - accuracy: 0.5204 - val_loss: 1.3532 - val_accuracy: 0.5208\n",
            "Epoch 4/50\n",
            "134/134 - 5s - loss: 1.1659 - accuracy: 0.5778 - val_loss: 1.1095 - val_accuracy: 0.6097\n",
            "Epoch 5/50\n",
            "134/134 - 5s - loss: 1.0611 - accuracy: 0.6215 - val_loss: 0.9933 - val_accuracy: 0.6505\n",
            "Epoch 6/50\n",
            "134/134 - 5s - loss: 0.9612 - accuracy: 0.6582 - val_loss: 1.0181 - val_accuracy: 0.6410\n",
            "Epoch 7/50\n",
            "134/134 - 5s - loss: 0.8947 - accuracy: 0.6783 - val_loss: 0.9059 - val_accuracy: 0.6815\n",
            "Epoch 8/50\n",
            "134/134 - 5s - loss: 0.8254 - accuracy: 0.7067 - val_loss: 0.7921 - val_accuracy: 0.7250\n",
            "Epoch 9/50\n",
            "134/134 - 5s - loss: 0.7616 - accuracy: 0.7305 - val_loss: 0.7684 - val_accuracy: 0.7331\n",
            "Epoch 10/50\n",
            "134/134 - 5s - loss: 0.7187 - accuracy: 0.7462 - val_loss: 0.7945 - val_accuracy: 0.7266\n",
            "Epoch 11/50\n",
            "134/134 - 5s - loss: 0.6565 - accuracy: 0.7670 - val_loss: 0.7369 - val_accuracy: 0.7449\n",
            "Epoch 12/50\n",
            "134/134 - 5s - loss: 0.6230 - accuracy: 0.7791 - val_loss: 0.6979 - val_accuracy: 0.7599\n",
            "Epoch 13/50\n",
            "134/134 - 5s - loss: 0.6008 - accuracy: 0.7868 - val_loss: 0.7043 - val_accuracy: 0.7559\n",
            "Epoch 14/50\n",
            "134/134 - 5s - loss: 0.5423 - accuracy: 0.8067 - val_loss: 0.7029 - val_accuracy: 0.7589\n",
            "Epoch 15/50\n",
            "134/134 - 5s - loss: 0.5203 - accuracy: 0.8133 - val_loss: 0.6758 - val_accuracy: 0.7737\n",
            "Epoch 16/50\n",
            "134/134 - 5s - loss: 0.4760 - accuracy: 0.8312 - val_loss: 0.7009 - val_accuracy: 0.7682\n",
            "Epoch 17/50\n",
            "134/134 - 5s - loss: 0.4504 - accuracy: 0.8382 - val_loss: 0.6772 - val_accuracy: 0.7714\n",
            "Epoch 18/50\n",
            "134/134 - 5s - loss: 0.4275 - accuracy: 0.8453 - val_loss: 0.6597 - val_accuracy: 0.7851\n",
            "Epoch 19/50\n",
            "134/134 - 5s - loss: 0.3893 - accuracy: 0.8603 - val_loss: 0.6956 - val_accuracy: 0.7779\n",
            "Epoch 20/50\n",
            "134/134 - 5s - loss: 0.3815 - accuracy: 0.8649 - val_loss: 0.7000 - val_accuracy: 0.7799\n",
            "Epoch 21/50\n",
            "134/134 - 5s - loss: 0.3518 - accuracy: 0.8735 - val_loss: 0.6844 - val_accuracy: 0.7868\n",
            "Epoch 22/50\n",
            "134/134 - 5s - loss: 0.3301 - accuracy: 0.8820 - val_loss: 0.6979 - val_accuracy: 0.7821\n",
            "Epoch 23/50\n",
            "134/134 - 5s - loss: 0.3126 - accuracy: 0.8883 - val_loss: 0.7021 - val_accuracy: 0.7806\n",
            "Epoch 24/50\n",
            "134/134 - 5s - loss: 0.3104 - accuracy: 0.8893 - val_loss: 0.6953 - val_accuracy: 0.7836\n",
            "Epoch 25/50\n",
            "134/134 - 5s - loss: 0.2855 - accuracy: 0.8988 - val_loss: 0.7170 - val_accuracy: 0.7803\n",
            "Epoch 26/50\n",
            "134/134 - 5s - loss: 0.2798 - accuracy: 0.9018 - val_loss: 0.6831 - val_accuracy: 0.7954\n",
            "Epoch 27/50\n",
            "134/134 - 5s - loss: 0.2596 - accuracy: 0.9062 - val_loss: 0.6888 - val_accuracy: 0.7926\n",
            "Epoch 28/50\n",
            "134/134 - 5s - loss: 0.2480 - accuracy: 0.9132 - val_loss: 0.7167 - val_accuracy: 0.7901\n",
            "Epoch 29/50\n",
            "134/134 - 5s - loss: 0.2451 - accuracy: 0.9125 - val_loss: 0.7507 - val_accuracy: 0.7799\n",
            "Epoch 30/50\n",
            "134/134 - 5s - loss: 0.2399 - accuracy: 0.9149 - val_loss: 0.7337 - val_accuracy: 0.7879\n",
            "Epoch 31/50\n",
            "134/134 - 5s - loss: 0.2260 - accuracy: 0.9204 - val_loss: 0.7145 - val_accuracy: 0.7943\n",
            "Epoch 32/50\n",
            "134/134 - 5s - loss: 0.2214 - accuracy: 0.9219 - val_loss: 0.7173 - val_accuracy: 0.7949\n",
            "Epoch 33/50\n",
            "134/134 - 5s - loss: 0.2007 - accuracy: 0.9295 - val_loss: 0.7647 - val_accuracy: 0.7848\n",
            "Epoch 34/50\n",
            "134/134 - 5s - loss: 0.2017 - accuracy: 0.9293 - val_loss: 0.7520 - val_accuracy: 0.7895\n",
            "Epoch 35/50\n",
            "134/134 - 5s - loss: 0.2060 - accuracy: 0.9272 - val_loss: 0.7694 - val_accuracy: 0.7863\n",
            "Epoch 36/50\n",
            "134/134 - 5s - loss: 0.1880 - accuracy: 0.9337 - val_loss: 0.7829 - val_accuracy: 0.7892\n",
            "Epoch 37/50\n",
            "134/134 - 5s - loss: 0.1866 - accuracy: 0.9342 - val_loss: 0.7759 - val_accuracy: 0.7887\n",
            "Epoch 38/50\n",
            "134/134 - 5s - loss: 0.1868 - accuracy: 0.9344 - val_loss: 0.7668 - val_accuracy: 0.7874\n",
            "Epoch 39/50\n",
            "134/134 - 5s - loss: 0.1747 - accuracy: 0.9391 - val_loss: 0.7570 - val_accuracy: 0.7940\n",
            "Epoch 40/50\n",
            "134/134 - 5s - loss: 0.1732 - accuracy: 0.9410 - val_loss: 0.7306 - val_accuracy: 0.7980\n",
            "Epoch 41/50\n",
            "134/134 - 5s - loss: 0.1684 - accuracy: 0.9405 - val_loss: 0.7306 - val_accuracy: 0.8028\n",
            "Epoch 42/50\n",
            "134/134 - 5s - loss: 0.1676 - accuracy: 0.9413 - val_loss: 0.7193 - val_accuracy: 0.8000\n",
            "Epoch 43/50\n",
            "134/134 - 5s - loss: 0.1619 - accuracy: 0.9440 - val_loss: 0.7587 - val_accuracy: 0.7912\n",
            "Epoch 44/50\n",
            "134/134 - 5s - loss: 0.1612 - accuracy: 0.9455 - val_loss: 0.7261 - val_accuracy: 0.8000\n",
            "Epoch 45/50\n",
            "134/134 - 5s - loss: 0.1605 - accuracy: 0.9435 - val_loss: 0.7599 - val_accuracy: 0.7994\n",
            "Epoch 46/50\n",
            "134/134 - 5s - loss: 0.1463 - accuracy: 0.9492 - val_loss: 0.7843 - val_accuracy: 0.7956\n",
            "Epoch 47/50\n",
            "134/134 - 5s - loss: 0.1560 - accuracy: 0.9470 - val_loss: 0.7640 - val_accuracy: 0.7892\n",
            "Epoch 48/50\n",
            "134/134 - 5s - loss: 0.1508 - accuracy: 0.9485 - val_loss: 0.7553 - val_accuracy: 0.7955\n",
            "Epoch 49/50\n",
            "134/134 - 5s - loss: 0.1437 - accuracy: 0.9515 - val_loss: 0.7878 - val_accuracy: 0.7954\n",
            "Epoch 50/50\n",
            "134/134 - 5s - loss: 0.1415 - accuracy: 0.9519 - val_loss: 0.8074 - val_accuracy: 0.8026\n"
          ],
          "name": "stdout"
        }
      ]
    },
    {
      "cell_type": "code",
      "metadata": {
        "id": "rzLTGAOzZ7zi"
      },
      "source": [
        "from matplotlib import pyplot as plt\n",
        "def show_train_history(train_history,train,validation):\n",
        "  plt.plot(train_history.history[train])\n",
        "  plt.plot(train_history.history[validation])\n",
        "  plt.title('Train History')\n",
        "  plt.ylabel('train')\n",
        "  plt.xlabel('Epoch')\n",
        "  plt.legend(['train','validation'],loc='upper left')\n",
        "  plt.show()"
      ],
      "execution_count": 16,
      "outputs": []
    },
    {
      "cell_type": "code",
      "metadata": {
        "colab": {
          "base_uri": "https://localhost:8080/",
          "height": 295
        },
        "id": "FliqaslyfUOd",
        "outputId": "c5835df3-a4fd-4b86-ca79-133cabc87a30"
      },
      "source": [
        "show_train_history(train_history,'accuracy','val_accuracy')"
      ],
      "execution_count": 17,
      "outputs": [
        {
          "output_type": "display_data",
          "data": {
            "image/png": "[encoded data removed]",
            "text/plain": [
              "<Figure size 432x288 with 1 Axes>"
            ]
          },
          "metadata": {
            "tags": [],
            "needs_background": "light"
          }
        }
      ]
    },
    {
      "cell_type": "code",
      "metadata": {
        "colab": {
          "base_uri": "https://localhost:8080/",
          "height": 295
        },
        "id": "CLUnjiW4fbvQ",
        "outputId": "e359d866-8d1d-4f33-c824-d30bbf184775"
      },
      "source": [
        "show_train_history(train_history,'loss','val_loss')"
      ],
      "execution_count": 18,
      "outputs": [
        {
          "output_type": "display_data",
          "data": {
            "image/png": "[encoded data removed]",
            "text/plain": [
              "<Figure size 432x288 with 1 Axes>"
            ]
          },
          "metadata": {
            "tags": [],
            "needs_background": "light"
          }
        }
      ]
    },
    {
      "cell_type": "code",
      "metadata": {
        "id": "J5uBX8IWgmJ8"
      },
      "source": [
        "### estimate model accuracy"
      ],
      "execution_count": 19,
      "outputs": []
    },
    {
      "cell_type": "code",
      "metadata": {
        "id": "CNqM3qWAgmRX"
      },
      "source": [
        "scores=model.evaluate(x_img_test_normalize,y_label_test_OneHot,verbose=0)"
      ],
      "execution_count": 20,
      "outputs": []
    },
    {
      "cell_type": "code",
      "metadata": {
        "colab": {
          "base_uri": "https://localhost:8080/"
        },
        "id": "cLAn9V1ogrBf",
        "outputId": "a0646a52-b179-4b1b-ea6a-b25d0653b387"
      },
      "source": [
        "print(f'Test loss: {scores[0]} / Test accuracy: {scores[1]}')"
      ],
      "execution_count": 21,
      "outputs": [
        {
          "output_type": "stream",
          "text": [
            "Test loss: 0.8346903324127197 / Test accuracy: 0.7897999882698059\n"
          ],
          "name": "stdout"
        }
      ]
    },
    {
      "cell_type": "code",
      "metadata": {
        "colab": {
          "base_uri": "https://localhost:8080/"
        },
        "id": "UNRhGtVugvNM",
        "outputId": "593b0500-bee1-4edd-fb04-5510bc5c9b20"
      },
      "source": [
        "prediction=model.predict_classes(x_img_test_normalize) ### prediction"
      ],
      "execution_count": 22,
      "outputs": [
        {
          "output_type": "stream",
          "text": [
            "/usr/local/lib/python3.7/dist-packages/tensorflow/python/keras/engine/sequential.py:450: UserWarning: `model.predict_classes()` is deprecated and will be removed after 2021-01-01. Please use instead:* `np.argmax(model.predict(x), axis=-1)`,   if your model does multi-class classification   (e.g. if it uses a `softmax` last-layer activation).* `(model.predict(x) > 0.5).astype(\"int32\")`,   if your model does binary classification   (e.g. if it uses a `sigmoid` last-layer activation).\n",
            "  warnings.warn('`model.predict_classes()` is deprecated and '\n"
          ],
          "name": "stderr"
        }
      ]
    },
    {
      "cell_type": "code",
      "metadata": {
        "colab": {
          "base_uri": "https://localhost:8080/"
        },
        "id": "e9dj4EcTkNPd",
        "outputId": "0534c0dc-2073-4cae-afd9-11eb4000809d"
      },
      "source": [
        "prediction"
      ],
      "execution_count": 23,
      "outputs": [
        {
          "output_type": "execute_result",
          "data": {
            "text/plain": [
              "array([3, 8, 8, ..., 5, 1, 7])"
            ]
          },
          "metadata": {
            "tags": []
          },
          "execution_count": 23
        }
      ]
    },
    {
      "cell_type": "code",
      "metadata": {
        "id": "ii4zLAJNgz_w"
      },
      "source": [
        "def plot_images_labels_prediction(images,labels,prediction,idx,num=10):\n",
        "  fig=plt.gcf()\n",
        "  fig.set_size_inches(12,14)\n",
        "  if num>25:num=25\n",
        "  for i in range(0,num):\n",
        "    ax=plt.subplot(5,5,1+i)\n",
        "    ax.imshow(images[idx],cmap='binary')\n",
        "    title=str(i) +',' +label_dict[labels[i][0]]\n",
        "    if len(prediction)>0:\n",
        "      title+='=>'+label_dict[prediction[i]]\n",
        "    ax.set_title(title,fontsize=10)\n",
        "    ax.set_xticks([]);ax.set_yticks([])\n",
        "    idx+=1\n",
        "  plt.show()"
      ],
      "execution_count": 24,
      "outputs": []
    },
    {
      "cell_type": "code",
      "metadata": {
        "colab": {
          "base_uri": "https://localhost:8080/",
          "height": 321
        },
        "id": "Ss7dd8dJg2UX",
        "outputId": "e38881d9-ee6c-4e73-b15a-e19cfd90ee61"
      },
      "source": [
        "plot_images_labels_prediction(x_img_test,y_label_test,prediction,0,10)"
      ],
      "execution_count": 25,
      "outputs": [
        {
          "output_type": "display_data",
          "data": {
            "image/png": "[encoded data removed]",
            "text/plain": [
              "<Figure size 864x1008 with 10 Axes>"
            ]
          },
          "metadata": {
            "tags": []
          }
        }
      ]
    },
    {
      "cell_type": "code",
      "metadata": {
        "id": "PpPOXOuZg6wp"
      },
      "source": [
        "# check for prediction rate\n",
        "predicted_Probability=model.predict(x_img_test_normalize)"
      ],
      "execution_count": 26,
      "outputs": []
    },
    {
      "cell_type": "code",
      "metadata": {
        "id": "ykuUEDYlg_vY"
      },
      "source": [
        "def show_predicted_probability(y,prediction,x_img,predicted_Probability,i):\n",
        "  print('label:',label_dict[y[i][0]],\n",
        "        'predict',label_dict[prediction[i]])\n",
        "  plt.figure(figsize=(2,2))\n",
        "  plt.imshow(np.reshape(x_img_test[i],(32,32,3)))\n",
        "  plt.show()\n",
        "  for j in range(10):\n",
        "    print(label_dict[j]+ ' probability:%1.9f'%(predicted_Probability[i][j]))\n"
      ],
      "execution_count": 27,
      "outputs": []
    },
    {
      "cell_type": "code",
      "metadata": {
        "colab": {
          "base_uri": "https://localhost:8080/",
          "height": 355
        },
        "id": "EDAw57mNhCGo",
        "outputId": "79272cec-9619-4f68-feb1-ae18c1b15e6a"
      },
      "source": [
        "show_predicted_probability(y_label_test,prediction,x_img_test,predicted_Probability,0)"
      ],
      "execution_count": 28,
      "outputs": [
        {
          "output_type": "stream",
          "text": [
            "label: cat predict cat\n"
          ],
          "name": "stdout"
        },
        {
          "output_type": "display_data",
          "data": {
            "image/png": "[encoded data removed]",
            "text/plain": [
              "<Figure size 144x144 with 1 Axes>"
            ]
          },
          "metadata": {
            "tags": [],
            "needs_background": "light"
          }
        },
        {
          "output_type": "stream",
          "text": [
            "airplane probability:0.000000018\n",
            "automobile probability:0.000000066\n",
            "bird probability:0.000000023\n",
            "cat probability:0.986629844\n",
            "deer probability:0.000000038\n",
            "dog probability:0.013355129\n",
            "frog probability:0.000001875\n",
            "horse probability:0.000012821\n",
            "ship probability:0.000000248\n",
            "truck probability:0.000000012\n"
          ],
          "name": "stdout"
        }
      ]
    },
    {
      "cell_type": "markdown",
      "metadata": {
        "id": "N5rt2fK5fntZ"
      },
      "source": [
        "#Confusion matrix"
      ]
    },
    {
      "cell_type": "code",
      "metadata": {
        "id": "TjlrqQgShBjE"
      },
      "source": [
        "import pandas as pd"
      ],
      "execution_count": 29,
      "outputs": []
    },
    {
      "cell_type": "code",
      "metadata": {
        "colab": {
          "base_uri": "https://localhost:8080/",
          "height": 370
        },
        "id": "vD-agaQbfqVp",
        "outputId": "39742399-0f5a-4e8b-e9c9-db3ff0d45249"
      },
      "source": [
        "pd.crosstab(y_label_test.reshape(-1),prediction,rownames=['label'],colnames=['predict'])"
      ],
      "execution_count": 30,
      "outputs": [
        {
          "output_type": "execute_result",
          "data": {
            "text/html": [
              "<div>\n",
              "<style scoped>\n",
              "    .dataframe tbody tr th:only-of-type {\n",
              "        vertical-align: middle;\n",
              "    }\n",
              "\n",
              "    .dataframe tbody tr th {\n",
              "        vertical-align: top;\n",
              "    }\n",
              "\n",
              "    .dataframe thead th {\n",
              "        text-align: right;\n",
              "    }\n",
              "</style>\n",
              "<table border=\"1\" class=\"dataframe\">\n",
              "  <thead>\n",
              "    <tr style=\"text-align: right;\">\n",
              "      <th>predict</th>\n",
              "      <th>0</th>\n",
              "      <th>1</th>\n",
              "      <th>2</th>\n",
              "      <th>3</th>\n",
              "      <th>4</th>\n",
              "      <th>5</th>\n",
              "      <th>6</th>\n",
              "      <th>7</th>\n",
              "      <th>8</th>\n",
              "      <th>9</th>\n",
              "    </tr>\n",
              "    <tr>\n",
              "      <th>label</th>\n",
              "      <th></th>\n",
              "      <th></th>\n",
              "      <th></th>\n",
              "      <th></th>\n",
              "      <th></th>\n",
              "      <th></th>\n",
              "      <th></th>\n",
              "      <th></th>\n",
              "      <th></th>\n",
              "      <th></th>\n",
              "    </tr>\n",
              "  </thead>\n",
              "  <tbody>\n",
              "    <tr>\n",
              "      <th>0</th>\n",
              "      <td>784</td>\n",
              "      <td>6</td>\n",
              "      <td>63</td>\n",
              "      <td>17</td>\n",
              "      <td>20</td>\n",
              "      <td>3</td>\n",
              "      <td>14</td>\n",
              "      <td>3</td>\n",
              "      <td>60</td>\n",
              "      <td>30</td>\n",
              "    </tr>\n",
              "    <tr>\n",
              "      <th>1</th>\n",
              "      <td>7</td>\n",
              "      <td>872</td>\n",
              "      <td>4</td>\n",
              "      <td>8</td>\n",
              "      <td>7</td>\n",
              "      <td>7</td>\n",
              "      <td>10</td>\n",
              "      <td>2</td>\n",
              "      <td>23</td>\n",
              "      <td>60</td>\n",
              "    </tr>\n",
              "    <tr>\n",
              "      <th>2</th>\n",
              "      <td>37</td>\n",
              "      <td>0</td>\n",
              "      <td>733</td>\n",
              "      <td>46</td>\n",
              "      <td>62</td>\n",
              "      <td>43</td>\n",
              "      <td>58</td>\n",
              "      <td>12</td>\n",
              "      <td>6</td>\n",
              "      <td>3</td>\n",
              "    </tr>\n",
              "    <tr>\n",
              "      <th>3</th>\n",
              "      <td>16</td>\n",
              "      <td>0</td>\n",
              "      <td>70</td>\n",
              "      <td>633</td>\n",
              "      <td>51</td>\n",
              "      <td>121</td>\n",
              "      <td>65</td>\n",
              "      <td>23</td>\n",
              "      <td>12</td>\n",
              "      <td>9</td>\n",
              "    </tr>\n",
              "    <tr>\n",
              "      <th>4</th>\n",
              "      <td>4</td>\n",
              "      <td>1</td>\n",
              "      <td>59</td>\n",
              "      <td>58</td>\n",
              "      <td>772</td>\n",
              "      <td>20</td>\n",
              "      <td>38</td>\n",
              "      <td>44</td>\n",
              "      <td>2</td>\n",
              "      <td>2</td>\n",
              "    </tr>\n",
              "    <tr>\n",
              "      <th>5</th>\n",
              "      <td>7</td>\n",
              "      <td>4</td>\n",
              "      <td>49</td>\n",
              "      <td>170</td>\n",
              "      <td>37</td>\n",
              "      <td>672</td>\n",
              "      <td>23</td>\n",
              "      <td>28</td>\n",
              "      <td>8</td>\n",
              "      <td>2</td>\n",
              "    </tr>\n",
              "    <tr>\n",
              "      <th>6</th>\n",
              "      <td>3</td>\n",
              "      <td>2</td>\n",
              "      <td>24</td>\n",
              "      <td>41</td>\n",
              "      <td>21</td>\n",
              "      <td>21</td>\n",
              "      <td>876</td>\n",
              "      <td>5</td>\n",
              "      <td>4</td>\n",
              "      <td>3</td>\n",
              "    </tr>\n",
              "    <tr>\n",
              "      <th>7</th>\n",
              "      <td>6</td>\n",
              "      <td>2</td>\n",
              "      <td>33</td>\n",
              "      <td>40</td>\n",
              "      <td>59</td>\n",
              "      <td>36</td>\n",
              "      <td>3</td>\n",
              "      <td>809</td>\n",
              "      <td>4</td>\n",
              "      <td>8</td>\n",
              "    </tr>\n",
              "    <tr>\n",
              "      <th>8</th>\n",
              "      <td>26</td>\n",
              "      <td>13</td>\n",
              "      <td>15</td>\n",
              "      <td>18</td>\n",
              "      <td>4</td>\n",
              "      <td>3</td>\n",
              "      <td>9</td>\n",
              "      <td>3</td>\n",
              "      <td>891</td>\n",
              "      <td>18</td>\n",
              "    </tr>\n",
              "    <tr>\n",
              "      <th>9</th>\n",
              "      <td>17</td>\n",
              "      <td>49</td>\n",
              "      <td>7</td>\n",
              "      <td>21</td>\n",
              "      <td>3</td>\n",
              "      <td>7</td>\n",
              "      <td>11</td>\n",
              "      <td>9</td>\n",
              "      <td>20</td>\n",
              "      <td>856</td>\n",
              "    </tr>\n",
              "  </tbody>\n",
              "</table>\n",
              "</div>"
            ],
            "text/plain": [
              "predict    0    1    2    3    4    5    6    7    8    9\n",
              "label                                                    \n",
              "0        784    6   63   17   20    3   14    3   60   30\n",
              "1          7  872    4    8    7    7   10    2   23   60\n",
              "2         37    0  733   46   62   43   58   12    6    3\n",
              "3         16    0   70  633   51  121   65   23   12    9\n",
              "4          4    1   59   58  772   20   38   44    2    2\n",
              "5          7    4   49  170   37  672   23   28    8    2\n",
              "6          3    2   24   41   21   21  876    5    4    3\n",
              "7          6    2   33   40   59   36    3  809    4    8\n",
              "8         26   13   15   18    4    3    9    3  891   18\n",
              "9         17   49    7   21    3    7   11    9   20  856"
            ]
          },
          "metadata": {
            "tags": []
          },
          "execution_count": 30
        }
      ]
    },
    {
      "cell_type": "code",
      "metadata": {
        "id": "mvxedLAxgTfS"
      },
      "source": [
        ""
      ],
      "execution_count": null,
      "outputs": []
    }
  ]
}