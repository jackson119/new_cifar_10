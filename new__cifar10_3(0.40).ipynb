{
  "nbformat": 4,
  "nbformat_minor": 0,
  "metadata": {
    "accelerator": "GPU",
    "colab": {
      "name": "new_ cifar10_3(0.40).ipynb",
      "provenance": [],
      "collapsed_sections": [
        "N5rt2fK5fntZ"
      ],
      "authorship_tag": "ABX9TyPAk+kMYYTUJ8iLlVc6A7FS",
      "include_colab_link": true
    },
    "kernelspec": {
      "display_name": "Python 3",
      "name": "python3"
    },
    "language_info": {
      "name": "python"
    }
  },
  "cells": [
    {
      "cell_type": "markdown",
      "metadata": {
        "id": "view-in-github",
        "colab_type": "text"
      },
      "source": [
        "<a href=\"https://colab.research.google.com/github/jackson119/new_cifar_10/blob/main/new__cifar10_3(0.40).ipynb\" target=\"_parent\"><img src=\"https://colab.research.google.com/assets/colab-badge.svg\" alt=\"Open In Colab\"/></a>"
      ]
    },
    {
      "cell_type": "markdown",
      "metadata": {
        "id": "SGKXC7W7pnht"
      },
      "source": [
        "# Data Preprocessing"
      ]
    },
    {
      "cell_type": "code",
      "metadata": {
        "id": "91H4jfpypp4h"
      },
      "source": [
        "from tensorflow.keras.datasets import cifar10\n",
        "import numpy as np\n",
        "np.random.seed(10)"
      ],
      "execution_count": 1,
      "outputs": []
    },
    {
      "cell_type": "code",
      "metadata": {
        "id": "jrfbgEOdprAB",
        "colab": {
          "base_uri": "https://localhost:8080/"
        },
        "outputId": "f79a6a73-6537-42f9-d012-12f29c39e0cc"
      },
      "source": [
        "(x_img_train,y_label_train),(x_img_test,y_label_test)=cifar10.load_data()"
      ],
      "execution_count": 2,
      "outputs": [
        {
          "output_type": "stream",
          "text": [
            "Downloading data from https://www.cs.toronto.edu/~kriz/cifar-10-python.tar.gz\n",
            "170500096/170498071 [==============================] - 4s 0us/step\n"
          ],
          "name": "stdout"
        }
      ]
    },
    {
      "cell_type": "code",
      "metadata": {
        "id": "Bv64ED30R18B",
        "colab": {
          "base_uri": "https://localhost:8080/"
        },
        "outputId": "d007fd2b-3ccc-4d07-a45f-dd5bca1f46c5"
      },
      "source": [
        "print(\"train data:\",\"images:\",x_img_train.shape,\"labels:\",y_label_train.shape)\n",
        "print(\"test data:\",\"images:\",x_img_test.shape,\"labels:\",y_label_test.shape)"
      ],
      "execution_count": 3,
      "outputs": [
        {
          "output_type": "stream",
          "text": [
            "train data: images: (50000, 32, 32, 3) labels: (50000, 1)\n",
            "test data: images: (10000, 32, 32, 3) labels: (10000, 1)\n"
          ],
          "name": "stdout"
        }
      ]
    },
    {
      "cell_type": "markdown",
      "metadata": {
        "id": "10BLqTKNSYKW"
      },
      "source": [
        "# standardize and perform one hot encoding"
      ]
    },
    {
      "cell_type": "code",
      "metadata": {
        "id": "_bdYalY-Sfva"
      },
      "source": [
        "x_img_train_normalize=x_img_train.astype('float32')/255.0\n",
        "x_img_test_normalize=x_img_test.astype('float32')/255.0"
      ],
      "execution_count": 4,
      "outputs": []
    },
    {
      "cell_type": "code",
      "metadata": {
        "id": "-7OJEuxpSpXX"
      },
      "source": [
        "from tensorflow.keras import utils"
      ],
      "execution_count": 5,
      "outputs": []
    },
    {
      "cell_type": "code",
      "metadata": {
        "id": "bvesDQfhSsmH"
      },
      "source": [
        "y_label_train_OneHot=utils.to_categorical(y_label_train)\n",
        "y_label_test_OneHot=utils.to_categorical(y_label_test)"
      ],
      "execution_count": 6,
      "outputs": []
    },
    {
      "cell_type": "markdown",
      "metadata": {
        "id": "DSmFxX9xSwCN"
      },
      "source": [
        "# Images and label"
      ]
    },
    {
      "cell_type": "code",
      "metadata": {
        "id": "6AshrU3USxld"
      },
      "source": [
        "label_dict={0:\"airplane\",1:\"automobile\",2:\"bird\",3:\"cat\",4:\"deer\",5:\"dog\",6:\"frog\",7:\"horse\",8:\"ship\",9:\"truck\"}"
      ],
      "execution_count": 7,
      "outputs": []
    },
    {
      "cell_type": "code",
      "metadata": {
        "id": "KADDqJmsSzCc"
      },
      "source": [
        "# Construct model\n",
        "from keras.models import Sequential\n",
        "from keras.layers import Dense,Dropout,Activation,Flatten\n",
        "from keras.layers import Conv2D,MaxPooling2D,ZeroPadding2D"
      ],
      "execution_count": 8,
      "outputs": []
    },
    {
      "cell_type": "code",
      "metadata": {
        "id": "2tUCpCqHS5sb"
      },
      "source": [
        "model=Sequential()"
      ],
      "execution_count": 9,
      "outputs": []
    },
    {
      "cell_type": "code",
      "metadata": {
        "id": "IP4YwNOFS62i"
      },
      "source": [
        "model.add(Conv2D(filters=32,kernel_size=(3,3),input_shape=(32,32,3),activation='relu',padding='same'))\n",
        "model.add(Dropout(0.40))\n",
        "model.add(Conv2D(filters=32,kernel_size=(3,3),activation='relu',padding='same'))\n",
        "model.add(MaxPooling2D(pool_size=(2,2)))"
      ],
      "execution_count": 10,
      "outputs": []
    },
    {
      "cell_type": "code",
      "metadata": {
        "id": "VrEsDZ3OYZv6"
      },
      "source": [
        "model.add(Conv2D(filters=64,kernel_size=(3,3),activation='relu',padding='same'))\n",
        "model.add(Dropout(0.40))\n",
        "model.add(Conv2D(filters=64,kernel_size=(3,3),activation='relu',padding='same'))\n",
        "model.add(MaxPooling2D(pool_size=(2,2)))"
      ],
      "execution_count": 11,
      "outputs": []
    },
    {
      "cell_type": "code",
      "metadata": {
        "id": "Lfbpty5kYwiH"
      },
      "source": [
        "model.add(Conv2D(filters=128,kernel_size=(3,3),activation='relu',padding='same'))\n",
        "model.add(Dropout(0.40))\n",
        "model.add(Conv2D(filters=128,kernel_size=(3,3),activation='relu',padding='same'))\n",
        "model.add(MaxPooling2D(pool_size=(2,2)))"
      ],
      "execution_count": 12,
      "outputs": []
    },
    {
      "cell_type": "code",
      "metadata": {
        "id": "YGEmb5pbZYhj"
      },
      "source": [
        "### neural network\n",
        "model.add(Flatten())\n",
        "model.add(Dropout(0.40))\n",
        "### hidden layer 1\n",
        "model.add(Dense(2500,activation='relu'))\n",
        "model.add(Dropout(0.40))\n",
        "### hidden layer 2\n",
        "model.add(Dense(1500,activation='relu'))\n",
        "model.add(Dropout(0.40))\n",
        "### output layer\n",
        "model.add(Dense(10,activation='softmax'))"
      ],
      "execution_count": 13,
      "outputs": []
    },
    {
      "cell_type": "code",
      "metadata": {
        "id": "2kjnUEYuZtK5",
        "colab": {
          "base_uri": "https://localhost:8080/"
        },
        "outputId": "5a5f2a5f-7478-4f9e-d95b-5cae06021772"
      },
      "source": [
        "print(model.summary())"
      ],
      "execution_count": 14,
      "outputs": [
        {
          "output_type": "stream",
          "text": [
            "Model: \"sequential\"\n",
            "_________________________________________________________________\n",
            "Layer (type)                 Output Shape              Param #   \n",
            "=================================================================\n",
            "conv2d (Conv2D)              (None, 32, 32, 32)        896       \n",
            "_________________________________________________________________\n",
            "dropout (Dropout)            (None, 32, 32, 32)        0         \n",
            "_________________________________________________________________\n",
            "conv2d_1 (Conv2D)            (None, 32, 32, 32)        9248      \n",
            "_________________________________________________________________\n",
            "max_pooling2d (MaxPooling2D) (None, 16, 16, 32)        0         \n",
            "_________________________________________________________________\n",
            "conv2d_2 (Conv2D)            (None, 16, 16, 64)        18496     \n",
            "_________________________________________________________________\n",
            "dropout_1 (Dropout)          (None, 16, 16, 64)        0         \n",
            "_________________________________________________________________\n",
            "conv2d_3 (Conv2D)            (None, 16, 16, 64)        36928     \n",
            "_________________________________________________________________\n",
            "max_pooling2d_1 (MaxPooling2 (None, 8, 8, 64)          0         \n",
            "_________________________________________________________________\n",
            "conv2d_4 (Conv2D)            (None, 8, 8, 128)         73856     \n",
            "_________________________________________________________________\n",
            "dropout_2 (Dropout)          (None, 8, 8, 128)         0         \n",
            "_________________________________________________________________\n",
            "conv2d_5 (Conv2D)            (None, 8, 8, 128)         147584    \n",
            "_________________________________________________________________\n",
            "max_pooling2d_2 (MaxPooling2 (None, 4, 4, 128)         0         \n",
            "_________________________________________________________________\n",
            "flatten (Flatten)            (None, 2048)              0         \n",
            "_________________________________________________________________\n",
            "dropout_3 (Dropout)          (None, 2048)              0         \n",
            "_________________________________________________________________\n",
            "dense (Dense)                (None, 2500)              5122500   \n",
            "_________________________________________________________________\n",
            "dropout_4 (Dropout)          (None, 2500)              0         \n",
            "_________________________________________________________________\n",
            "dense_1 (Dense)              (None, 1500)              3751500   \n",
            "_________________________________________________________________\n",
            "dropout_5 (Dropout)          (None, 1500)              0         \n",
            "_________________________________________________________________\n",
            "dense_2 (Dense)              (None, 10)                15010     \n",
            "=================================================================\n",
            "Total params: 9,176,018\n",
            "Trainable params: 9,176,018\n",
            "Non-trainable params: 0\n",
            "_________________________________________________________________\n",
            "None\n"
          ],
          "name": "stdout"
        }
      ]
    },
    {
      "cell_type": "code",
      "metadata": {
        "colab": {
          "base_uri": "https://localhost:8080/"
        },
        "id": "j64CEumxZvDu",
        "outputId": "2c7b0bdc-c9ac-4463-bbc2-269a454babd5"
      },
      "source": [
        "model.compile(loss='categorical_crossentropy',optimizer='adam',metrics=['accuracy'])\n",
        "train_history=model.fit(x_img_train_normalize,y_label_train_OneHot,validation_split=0.2,epochs=50,batch_size=300,verbose=2)"
      ],
      "execution_count": 15,
      "outputs": [
        {
          "output_type": "stream",
          "text": [
            "Epoch 1/50\n",
            "134/134 - 38s - loss: 1.9738 - accuracy: 0.2633 - val_loss: 2.5086 - val_accuracy: 0.1458\n",
            "Epoch 2/50\n",
            "134/134 - 4s - loss: 1.5876 - accuracy: 0.4099 - val_loss: 1.6613 - val_accuracy: 0.3908\n",
            "Epoch 3/50\n",
            "134/134 - 4s - loss: 1.3889 - accuracy: 0.4886 - val_loss: 1.4914 - val_accuracy: 0.4684\n",
            "Epoch 4/50\n",
            "134/134 - 4s - loss: 1.2683 - accuracy: 0.5409 - val_loss: 1.2775 - val_accuracy: 0.5424\n",
            "Epoch 5/50\n",
            "134/134 - 4s - loss: 1.1646 - accuracy: 0.5802 - val_loss: 1.1370 - val_accuracy: 0.5979\n",
            "Epoch 6/50\n",
            "134/134 - 4s - loss: 1.0743 - accuracy: 0.6125 - val_loss: 1.0876 - val_accuracy: 0.6209\n",
            "Epoch 7/50\n",
            "134/134 - 4s - loss: 1.0171 - accuracy: 0.6365 - val_loss: 1.0663 - val_accuracy: 0.6315\n",
            "Epoch 8/50\n",
            "134/134 - 4s - loss: 0.9620 - accuracy: 0.6551 - val_loss: 0.9711 - val_accuracy: 0.6604\n",
            "Epoch 9/50\n",
            "134/134 - 4s - loss: 0.9166 - accuracy: 0.6755 - val_loss: 0.9568 - val_accuracy: 0.6663\n",
            "Epoch 10/50\n",
            "134/134 - 4s - loss: 0.8592 - accuracy: 0.6942 - val_loss: 0.8774 - val_accuracy: 0.6984\n",
            "Epoch 11/50\n",
            "134/134 - 4s - loss: 0.8212 - accuracy: 0.7104 - val_loss: 0.9010 - val_accuracy: 0.6893\n",
            "Epoch 12/50\n",
            "134/134 - 4s - loss: 0.7920 - accuracy: 0.7188 - val_loss: 0.8109 - val_accuracy: 0.7158\n",
            "Epoch 13/50\n",
            "134/134 - 4s - loss: 0.7496 - accuracy: 0.7311 - val_loss: 0.7980 - val_accuracy: 0.7205\n",
            "Epoch 14/50\n",
            "134/134 - 4s - loss: 0.7362 - accuracy: 0.7389 - val_loss: 0.8050 - val_accuracy: 0.7213\n",
            "Epoch 15/50\n",
            "134/134 - 4s - loss: 0.7038 - accuracy: 0.7513 - val_loss: 0.7694 - val_accuracy: 0.7332\n",
            "Epoch 16/50\n",
            "134/134 - 4s - loss: 0.6665 - accuracy: 0.7625 - val_loss: 0.7095 - val_accuracy: 0.7527\n",
            "Epoch 17/50\n",
            "134/134 - 4s - loss: 0.6497 - accuracy: 0.7714 - val_loss: 0.7321 - val_accuracy: 0.7507\n",
            "Epoch 18/50\n",
            "134/134 - 4s - loss: 0.6342 - accuracy: 0.7750 - val_loss: 0.7398 - val_accuracy: 0.7470\n",
            "Epoch 19/50\n",
            "134/134 - 4s - loss: 0.6040 - accuracy: 0.7859 - val_loss: 0.6721 - val_accuracy: 0.7662\n",
            "Epoch 20/50\n",
            "134/134 - 4s - loss: 0.5860 - accuracy: 0.7921 - val_loss: 0.6802 - val_accuracy: 0.7640\n",
            "Epoch 21/50\n",
            "134/134 - 5s - loss: 0.5685 - accuracy: 0.7959 - val_loss: 0.6431 - val_accuracy: 0.7777\n",
            "Epoch 22/50\n",
            "134/134 - 5s - loss: 0.5500 - accuracy: 0.8033 - val_loss: 0.6620 - val_accuracy: 0.7682\n",
            "Epoch 23/50\n",
            "134/134 - 5s - loss: 0.5435 - accuracy: 0.8056 - val_loss: 0.6670 - val_accuracy: 0.7729\n",
            "Epoch 24/50\n",
            "134/134 - 5s - loss: 0.5140 - accuracy: 0.8162 - val_loss: 0.6512 - val_accuracy: 0.7812\n",
            "Epoch 25/50\n",
            "134/134 - 5s - loss: 0.5028 - accuracy: 0.8202 - val_loss: 0.6074 - val_accuracy: 0.7951\n",
            "Epoch 26/50\n",
            "134/134 - 5s - loss: 0.4857 - accuracy: 0.8271 - val_loss: 0.6297 - val_accuracy: 0.7875\n",
            "Epoch 27/50\n",
            "134/134 - 5s - loss: 0.4756 - accuracy: 0.8306 - val_loss: 0.6589 - val_accuracy: 0.7795\n",
            "Epoch 28/50\n",
            "134/134 - 5s - loss: 0.4695 - accuracy: 0.8322 - val_loss: 0.6465 - val_accuracy: 0.7786\n",
            "Epoch 29/50\n",
            "134/134 - 5s - loss: 0.4602 - accuracy: 0.8342 - val_loss: 0.6332 - val_accuracy: 0.7874\n",
            "Epoch 30/50\n",
            "134/134 - 5s - loss: 0.4415 - accuracy: 0.8400 - val_loss: 0.6441 - val_accuracy: 0.7861\n",
            "Epoch 31/50\n",
            "134/134 - 5s - loss: 0.4287 - accuracy: 0.8443 - val_loss: 0.6477 - val_accuracy: 0.7858\n",
            "Epoch 32/50\n",
            "134/134 - 5s - loss: 0.4156 - accuracy: 0.8522 - val_loss: 0.5997 - val_accuracy: 0.7992\n",
            "Epoch 33/50\n",
            "134/134 - 5s - loss: 0.4138 - accuracy: 0.8513 - val_loss: 0.6194 - val_accuracy: 0.7963\n",
            "Epoch 34/50\n",
            "134/134 - 5s - loss: 0.3995 - accuracy: 0.8561 - val_loss: 0.6164 - val_accuracy: 0.7971\n",
            "Epoch 35/50\n",
            "134/134 - 5s - loss: 0.3994 - accuracy: 0.8587 - val_loss: 0.6385 - val_accuracy: 0.7933\n",
            "Epoch 36/50\n",
            "134/134 - 5s - loss: 0.3796 - accuracy: 0.8653 - val_loss: 0.6136 - val_accuracy: 0.7977\n",
            "Epoch 37/50\n",
            "134/134 - 5s - loss: 0.3844 - accuracy: 0.8624 - val_loss: 0.6614 - val_accuracy: 0.7813\n",
            "Epoch 38/50\n",
            "134/134 - 5s - loss: 0.3719 - accuracy: 0.8666 - val_loss: 0.5819 - val_accuracy: 0.8089\n",
            "Epoch 39/50\n",
            "134/134 - 5s - loss: 0.3693 - accuracy: 0.8684 - val_loss: 0.6008 - val_accuracy: 0.8000\n",
            "Epoch 40/50\n",
            "134/134 - 5s - loss: 0.3596 - accuracy: 0.8717 - val_loss: 0.6038 - val_accuracy: 0.8033\n",
            "Epoch 41/50\n",
            "134/134 - 5s - loss: 0.3436 - accuracy: 0.8770 - val_loss: 0.6209 - val_accuracy: 0.8000\n",
            "Epoch 42/50\n",
            "134/134 - 5s - loss: 0.3431 - accuracy: 0.8763 - val_loss: 0.6389 - val_accuracy: 0.7948\n",
            "Epoch 43/50\n",
            "134/134 - 5s - loss: 0.3364 - accuracy: 0.8813 - val_loss: 0.6201 - val_accuracy: 0.7976\n",
            "Epoch 44/50\n",
            "134/134 - 5s - loss: 0.3317 - accuracy: 0.8823 - val_loss: 0.6040 - val_accuracy: 0.8050\n",
            "Epoch 45/50\n",
            "134/134 - 5s - loss: 0.3355 - accuracy: 0.8806 - val_loss: 0.6530 - val_accuracy: 0.7885\n",
            "Epoch 46/50\n",
            "134/134 - 5s - loss: 0.3224 - accuracy: 0.8849 - val_loss: 0.6101 - val_accuracy: 0.8011\n",
            "Epoch 47/50\n",
            "134/134 - 5s - loss: 0.3081 - accuracy: 0.8909 - val_loss: 0.6312 - val_accuracy: 0.7992\n",
            "Epoch 48/50\n",
            "134/134 - 5s - loss: 0.3182 - accuracy: 0.8881 - val_loss: 0.5897 - val_accuracy: 0.8094\n",
            "Epoch 49/50\n",
            "134/134 - 5s - loss: 0.3165 - accuracy: 0.8881 - val_loss: 0.6151 - val_accuracy: 0.8006\n",
            "Epoch 50/50\n",
            "134/134 - 5s - loss: 0.3061 - accuracy: 0.8929 - val_loss: 0.6446 - val_accuracy: 0.7930\n"
          ],
          "name": "stdout"
        }
      ]
    },
    {
      "cell_type": "code",
      "metadata": {
        "id": "rzLTGAOzZ7zi"
      },
      "source": [
        "from matplotlib import pyplot as plt\n",
        "def show_train_history(train_history,train,validation):\n",
        "  plt.plot(train_history.history[train])\n",
        "  plt.plot(train_history.history[validation])\n",
        "  plt.title('Train History')\n",
        "  plt.ylabel('train')\n",
        "  plt.xlabel('Epoch')\n",
        "  plt.legend(['train','validation'],loc='upper left')\n",
        "  plt.show()"
      ],
      "execution_count": 16,
      "outputs": []
    },
    {
      "cell_type": "code",
      "metadata": {
        "colab": {
          "base_uri": "https://localhost:8080/",
          "height": 295
        },
        "id": "FliqaslyfUOd",
        "outputId": "b2130e77-b366-4ac0-cfd3-7330cccdd515"
      },
      "source": [
        "show_train_history(train_history,'accuracy','val_accuracy')"
      ],
      "execution_count": 17,
      "outputs": [
        {
          "output_type": "display_data",
          "data": {
            "image/png": "[encoded data removed]",
            "text/plain": [
              "<Figure size 432x288 with 1 Axes>"
            ]
          },
          "metadata": {
            "tags": [],
            "needs_background": "light"
          }
        }
      ]
    },
    {
      "cell_type": "code",
      "metadata": {
        "colab": {
          "base_uri": "https://localhost:8080/",
          "height": 295
        },
        "id": "CLUnjiW4fbvQ",
        "outputId": "7c184800-1653-4330-b15a-d52fe8132bc4"
      },
      "source": [
        "show_train_history(train_history,'loss','val_loss')"
      ],
      "execution_count": 18,
      "outputs": [
        {
          "output_type": "display_data",
          "data": {
            "image/png": "[encoded data removed]",
            "text/plain": [
              "<Figure size 432x288 with 1 Axes>"
            ]
          },
          "metadata": {
            "tags": [],
            "needs_background": "light"
          }
        }
      ]
    },
    {
      "cell_type": "code",
      "metadata": {
        "id": "J5uBX8IWgmJ8"
      },
      "source": [
        "### estimate model accuracy"
      ],
      "execution_count": 19,
      "outputs": []
    },
    {
      "cell_type": "code",
      "metadata": {
        "id": "CNqM3qWAgmRX"
      },
      "source": [
        "scores=model.evaluate(x_img_test_normalize,y_label_test_OneHot,verbose=0)"
      ],
      "execution_count": 20,
      "outputs": []
    },
    {
      "cell_type": "code",
      "metadata": {
        "colab": {
          "base_uri": "https://localhost:8080/"
        },
        "id": "cLAn9V1ogrBf",
        "outputId": "09d617e5-d78f-45e0-f696-d9cee45f985d"
      },
      "source": [
        "print(f'Test loss: {scores[0]} / Test accuracy: {scores[1]}')"
      ],
      "execution_count": 21,
      "outputs": [
        {
          "output_type": "stream",
          "text": [
            "Test loss: 0.6722862720489502 / Test accuracy: 0.7907000184059143\n"
          ],
          "name": "stdout"
        }
      ]
    },
    {
      "cell_type": "code",
      "metadata": {
        "colab": {
          "base_uri": "https://localhost:8080/"
        },
        "id": "UNRhGtVugvNM",
        "outputId": "5fc8e4a6-cfd8-4618-867b-1566f25499af"
      },
      "source": [
        "prediction=model.predict_classes(x_img_test_normalize) ### prediction"
      ],
      "execution_count": 22,
      "outputs": [
        {
          "output_type": "stream",
          "text": [
            "/usr/local/lib/python3.7/dist-packages/tensorflow/python/keras/engine/sequential.py:450: UserWarning: `model.predict_classes()` is deprecated and will be removed after 2021-01-01. Please use instead:* `np.argmax(model.predict(x), axis=-1)`,   if your model does multi-class classification   (e.g. if it uses a `softmax` last-layer activation).* `(model.predict(x) > 0.5).astype(\"int32\")`,   if your model does binary classification   (e.g. if it uses a `sigmoid` last-layer activation).\n",
            "  warnings.warn('`model.predict_classes()` is deprecated and '\n"
          ],
          "name": "stderr"
        }
      ]
    },
    {
      "cell_type": "code",
      "metadata": {
        "colab": {
          "base_uri": "https://localhost:8080/"
        },
        "id": "e9dj4EcTkNPd",
        "outputId": "3f7ff36f-564f-45fb-c367-b12bb85731fd"
      },
      "source": [
        "prediction"
      ],
      "execution_count": 23,
      "outputs": [
        {
          "output_type": "execute_result",
          "data": {
            "text/plain": [
              "array([5, 8, 8, ..., 5, 1, 7])"
            ]
          },
          "metadata": {
            "tags": []
          },
          "execution_count": 23
        }
      ]
    },
    {
      "cell_type": "code",
      "metadata": {
        "id": "ii4zLAJNgz_w"
      },
      "source": [
        "def plot_images_labels_prediction(images,labels,prediction,idx,num=10):\n",
        "  fig=plt.gcf()\n",
        "  fig.set_size_inches(12,14)\n",
        "  if num>25:num=25\n",
        "  for i in range(0,num):\n",
        "    ax=plt.subplot(5,5,1+i)\n",
        "    ax.imshow(images[idx],cmap='binary')\n",
        "    title=str(i) +',' +label_dict[labels[i][0]]\n",
        "    if len(prediction)>0:\n",
        "      title+='=>'+label_dict[prediction[i]]\n",
        "    ax.set_title(title,fontsize=10)\n",
        "    ax.set_xticks([]);ax.set_yticks([])\n",
        "    idx+=1\n",
        "  plt.show()"
      ],
      "execution_count": 24,
      "outputs": []
    },
    {
      "cell_type": "code",
      "metadata": {
        "colab": {
          "base_uri": "https://localhost:8080/",
          "height": 321
        },
        "id": "Ss7dd8dJg2UX",
        "outputId": "b5e04ba2-879f-47c2-c14f-941fbb87dfa6"
      },
      "source": [
        "plot_images_labels_prediction(x_img_test,y_label_test,prediction,0,10)"
      ],
      "execution_count": 25,
      "outputs": [
        {
          "output_type": "display_data",
          "data": {
            "image/png": "[encoded data removed]",
            "text/plain": [
              "<Figure size 864x1008 with 10 Axes>"
            ]
          },
          "metadata": {
            "tags": []
          }
        }
      ]
    },
    {
      "cell_type": "code",
      "metadata": {
        "id": "PpPOXOuZg6wp"
      },
      "source": [
        "# check for prediction rate\n",
        "predicted_Probability=model.predict(x_img_test_normalize)"
      ],
      "execution_count": 26,
      "outputs": []
    },
    {
      "cell_type": "code",
      "metadata": {
        "id": "ykuUEDYlg_vY"
      },
      "source": [
        "def show_predicted_probability(y,prediction,x_img,predicted_Probability,i):\n",
        "  print('label:',label_dict[y[i][0]],\n",
        "        'predict',label_dict[prediction[i]])\n",
        "  plt.figure(figsize=(2,2))\n",
        "  plt.imshow(np.reshape(x_img_test[i],(32,32,3)))\n",
        "  plt.show()\n",
        "  for j in range(10):\n",
        "    print(label_dict[j]+ ' probability:%1.9f'%(predicted_Probability[i][j]))\n"
      ],
      "execution_count": 27,
      "outputs": []
    },
    {
      "cell_type": "code",
      "metadata": {
        "colab": {
          "base_uri": "https://localhost:8080/",
          "height": 355
        },
        "id": "EDAw57mNhCGo",
        "outputId": "f47e46b3-7c4a-42d6-9b8f-be130b804728"
      },
      "source": [
        "show_predicted_probability(y_label_test,prediction,x_img_test,predicted_Probability,0)"
      ],
      "execution_count": 28,
      "outputs": [
        {
          "output_type": "stream",
          "text": [
            "label: cat predict dog\n"
          ],
          "name": "stdout"
        },
        {
          "output_type": "display_data",
          "data": {
            "image/png": "[encoded data removed]",
            "text/plain": [
              "<Figure size 144x144 with 1 Axes>"
            ]
          },
          "metadata": {
            "tags": [],
            "needs_background": "light"
          }
        },
        {
          "output_type": "stream",
          "text": [
            "airplane probability:0.000005323\n",
            "automobile probability:0.000002240\n",
            "bird probability:0.000010406\n",
            "cat probability:0.455135375\n",
            "deer probability:0.000057813\n",
            "dog probability:0.542683542\n",
            "frog probability:0.002049317\n",
            "horse probability:0.000039154\n",
            "ship probability:0.000002217\n",
            "truck probability:0.000014635\n"
          ],
          "name": "stdout"
        }
      ]
    },
    {
      "cell_type": "markdown",
      "metadata": {
        "id": "N5rt2fK5fntZ"
      },
      "source": [
        "#Confusion matrix"
      ]
    },
    {
      "cell_type": "code",
      "metadata": {
        "id": "TjlrqQgShBjE"
      },
      "source": [
        "import pandas as pd"
      ],
      "execution_count": 29,
      "outputs": []
    },
    {
      "cell_type": "code",
      "metadata": {
        "colab": {
          "base_uri": "https://localhost:8080/",
          "height": 370
        },
        "id": "vD-agaQbfqVp",
        "outputId": "1ee5c384-d7b4-4e67-d95b-a231b9c6b63a"
      },
      "source": [
        "pd.crosstab(y_label_test.reshape(-1),prediction,rownames=['label'],colnames=['predict'])"
      ],
      "execution_count": 30,
      "outputs": [
        {
          "output_type": "execute_result",
          "data": {
            "text/html": [
              "<div>\n",
              "<style scoped>\n",
              "    .dataframe tbody tr th:only-of-type {\n",
              "        vertical-align: middle;\n",
              "    }\n",
              "\n",
              "    .dataframe tbody tr th {\n",
              "        vertical-align: top;\n",
              "    }\n",
              "\n",
              "    .dataframe thead th {\n",
              "        text-align: right;\n",
              "    }\n",
              "</style>\n",
              "<table border=\"1\" class=\"dataframe\">\n",
              "  <thead>\n",
              "    <tr style=\"text-align: right;\">\n",
              "      <th>predict</th>\n",
              "      <th>0</th>\n",
              "      <th>1</th>\n",
              "      <th>2</th>\n",
              "      <th>3</th>\n",
              "      <th>4</th>\n",
              "      <th>5</th>\n",
              "      <th>6</th>\n",
              "      <th>7</th>\n",
              "      <th>8</th>\n",
              "      <th>9</th>\n",
              "    </tr>\n",
              "    <tr>\n",
              "      <th>label</th>\n",
              "      <th></th>\n",
              "      <th></th>\n",
              "      <th></th>\n",
              "      <th></th>\n",
              "      <th></th>\n",
              "      <th></th>\n",
              "      <th></th>\n",
              "      <th></th>\n",
              "      <th></th>\n",
              "      <th></th>\n",
              "    </tr>\n",
              "  </thead>\n",
              "  <tbody>\n",
              "    <tr>\n",
              "      <th>0</th>\n",
              "      <td>782</td>\n",
              "      <td>3</td>\n",
              "      <td>35</td>\n",
              "      <td>28</td>\n",
              "      <td>29</td>\n",
              "      <td>5</td>\n",
              "      <td>8</td>\n",
              "      <td>8</td>\n",
              "      <td>71</td>\n",
              "      <td>31</td>\n",
              "    </tr>\n",
              "    <tr>\n",
              "      <th>1</th>\n",
              "      <td>12</td>\n",
              "      <td>878</td>\n",
              "      <td>4</td>\n",
              "      <td>16</td>\n",
              "      <td>4</td>\n",
              "      <td>8</td>\n",
              "      <td>9</td>\n",
              "      <td>3</td>\n",
              "      <td>19</td>\n",
              "      <td>47</td>\n",
              "    </tr>\n",
              "    <tr>\n",
              "      <th>2</th>\n",
              "      <td>51</td>\n",
              "      <td>0</td>\n",
              "      <td>629</td>\n",
              "      <td>68</td>\n",
              "      <td>117</td>\n",
              "      <td>59</td>\n",
              "      <td>54</td>\n",
              "      <td>15</td>\n",
              "      <td>6</td>\n",
              "      <td>1</td>\n",
              "    </tr>\n",
              "    <tr>\n",
              "      <th>3</th>\n",
              "      <td>10</td>\n",
              "      <td>1</td>\n",
              "      <td>36</td>\n",
              "      <td>655</td>\n",
              "      <td>69</td>\n",
              "      <td>148</td>\n",
              "      <td>53</td>\n",
              "      <td>23</td>\n",
              "      <td>2</td>\n",
              "      <td>3</td>\n",
              "    </tr>\n",
              "    <tr>\n",
              "      <th>4</th>\n",
              "      <td>6</td>\n",
              "      <td>1</td>\n",
              "      <td>25</td>\n",
              "      <td>41</td>\n",
              "      <td>859</td>\n",
              "      <td>20</td>\n",
              "      <td>23</td>\n",
              "      <td>23</td>\n",
              "      <td>2</td>\n",
              "      <td>0</td>\n",
              "    </tr>\n",
              "    <tr>\n",
              "      <th>5</th>\n",
              "      <td>3</td>\n",
              "      <td>1</td>\n",
              "      <td>21</td>\n",
              "      <td>155</td>\n",
              "      <td>49</td>\n",
              "      <td>721</td>\n",
              "      <td>20</td>\n",
              "      <td>26</td>\n",
              "      <td>3</td>\n",
              "      <td>1</td>\n",
              "    </tr>\n",
              "    <tr>\n",
              "      <th>6</th>\n",
              "      <td>1</td>\n",
              "      <td>3</td>\n",
              "      <td>22</td>\n",
              "      <td>50</td>\n",
              "      <td>45</td>\n",
              "      <td>20</td>\n",
              "      <td>854</td>\n",
              "      <td>2</td>\n",
              "      <td>2</td>\n",
              "      <td>1</td>\n",
              "    </tr>\n",
              "    <tr>\n",
              "      <th>7</th>\n",
              "      <td>7</td>\n",
              "      <td>1</td>\n",
              "      <td>15</td>\n",
              "      <td>55</td>\n",
              "      <td>80</td>\n",
              "      <td>43</td>\n",
              "      <td>6</td>\n",
              "      <td>790</td>\n",
              "      <td>0</td>\n",
              "      <td>3</td>\n",
              "    </tr>\n",
              "    <tr>\n",
              "      <th>8</th>\n",
              "      <td>20</td>\n",
              "      <td>11</td>\n",
              "      <td>14</td>\n",
              "      <td>24</td>\n",
              "      <td>11</td>\n",
              "      <td>3</td>\n",
              "      <td>9</td>\n",
              "      <td>5</td>\n",
              "      <td>889</td>\n",
              "      <td>14</td>\n",
              "    </tr>\n",
              "    <tr>\n",
              "      <th>9</th>\n",
              "      <td>17</td>\n",
              "      <td>41</td>\n",
              "      <td>10</td>\n",
              "      <td>27</td>\n",
              "      <td>5</td>\n",
              "      <td>10</td>\n",
              "      <td>7</td>\n",
              "      <td>10</td>\n",
              "      <td>23</td>\n",
              "      <td>850</td>\n",
              "    </tr>\n",
              "  </tbody>\n",
              "</table>\n",
              "</div>"
            ],
            "text/plain": [
              "predict    0    1    2    3    4    5    6    7    8    9\n",
              "label                                                    \n",
              "0        782    3   35   28   29    5    8    8   71   31\n",
              "1         12  878    4   16    4    8    9    3   19   47\n",
              "2         51    0  629   68  117   59   54   15    6    1\n",
              "3         10    1   36  655   69  148   53   23    2    3\n",
              "4          6    1   25   41  859   20   23   23    2    0\n",
              "5          3    1   21  155   49  721   20   26    3    1\n",
              "6          1    3   22   50   45   20  854    2    2    1\n",
              "7          7    1   15   55   80   43    6  790    0    3\n",
              "8         20   11   14   24   11    3    9    5  889   14\n",
              "9         17   41   10   27    5   10    7   10   23  850"
            ]
          },
          "metadata": {
            "tags": []
          },
          "execution_count": 30
        }
      ]
    },
    {
      "cell_type": "code",
      "metadata": {
        "id": "mvxedLAxgTfS"
      },
      "source": [
        ""
      ],
      "execution_count": null,
      "outputs": []
    },
    {
      "cell_type": "code",
      "metadata": {
        "id": "qddPJ9HX40o8"
      },
      "source": [
        ""
      ],
      "execution_count": null,
      "outputs": []
    }
  ]
}