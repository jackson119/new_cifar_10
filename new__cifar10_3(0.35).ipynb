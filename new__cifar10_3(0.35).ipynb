{
  "nbformat": 4,
  "nbformat_minor": 0,
  "metadata": {
    "accelerator": "GPU",
    "colab": {
      "name": " new_ cifar10_3(0.35).ipynb",
      "provenance": [],
      "collapsed_sections": [
        "N5rt2fK5fntZ"
      ],
      "authorship_tag": "ABX9TyMLsEXE41bip9Com1h0cCJm",
      "include_colab_link": true
    },
    "kernelspec": {
      "display_name": "Python 3",
      "name": "python3"
    },
    "language_info": {
      "name": "python"
    }
  },
  "cells": [
    {
      "cell_type": "markdown",
      "metadata": {
        "id": "view-in-github",
        "colab_type": "text"
      },
      "source": [
        "<a href=\"https://colab.research.google.com/github/jackson119/new_cifar_10/blob/main/new__cifar10_3(0.35).ipynb\" target=\"_parent\"><img src=\"https://colab.research.google.com/assets/colab-badge.svg\" alt=\"Open In Colab\"/></a>"
      ]
    },
    {
      "cell_type": "markdown",
      "metadata": {
        "id": "SGKXC7W7pnht"
      },
      "source": [
        "# Data Preprocessing"
      ]
    },
    {
      "cell_type": "code",
      "metadata": {
        "id": "91H4jfpypp4h"
      },
      "source": [
        "from tensorflow.keras.datasets import cifar10\n",
        "import numpy as np\n",
        "np.random.seed(10)"
      ],
      "execution_count": 27,
      "outputs": []
    },
    {
      "cell_type": "code",
      "metadata": {
        "id": "jrfbgEOdprAB"
      },
      "source": [
        "(x_img_train,y_label_train),(x_img_test,y_label_test)=cifar10.load_data()"
      ],
      "execution_count": 28,
      "outputs": []
    },
    {
      "cell_type": "code",
      "metadata": {
        "colab": {
          "base_uri": "https://localhost:8080/"
        },
        "id": "Bv64ED30R18B",
        "outputId": "811c30f4-af1d-4593-daf9-4794502edd15"
      },
      "source": [
        "print(\"train data:\",\"images:\",x_img_train.shape,\"labels:\",y_label_train.shape)\n",
        "print(\"test data:\",\"images:\",x_img_test.shape,\"labels:\",y_label_test.shape)"
      ],
      "execution_count": 29,
      "outputs": [
        {
          "output_type": "stream",
          "text": [
            "train data: images: (50000, 32, 32, 3) labels: (50000, 1)\n",
            "test data: images: (10000, 32, 32, 3) labels: (10000, 1)\n"
          ],
          "name": "stdout"
        }
      ]
    },
    {
      "cell_type": "markdown",
      "metadata": {
        "id": "10BLqTKNSYKW"
      },
      "source": [
        "# standardize and perform one hot encoding"
      ]
    },
    {
      "cell_type": "code",
      "metadata": {
        "id": "_bdYalY-Sfva"
      },
      "source": [
        "x_img_train_normalize=x_img_train.astype('float32')/255.0\n",
        "x_img_test_normalize=x_img_test.astype('float32')/255.0"
      ],
      "execution_count": 30,
      "outputs": []
    },
    {
      "cell_type": "code",
      "metadata": {
        "id": "-7OJEuxpSpXX"
      },
      "source": [
        "from tensorflow.keras import utils"
      ],
      "execution_count": 31,
      "outputs": []
    },
    {
      "cell_type": "code",
      "metadata": {
        "id": "bvesDQfhSsmH"
      },
      "source": [
        "y_label_train_OneHot=utils.to_categorical(y_label_train)\n",
        "y_label_test_OneHot=utils.to_categorical(y_label_test)"
      ],
      "execution_count": 32,
      "outputs": []
    },
    {
      "cell_type": "markdown",
      "metadata": {
        "id": "DSmFxX9xSwCN"
      },
      "source": [
        "# Images and label"
      ]
    },
    {
      "cell_type": "code",
      "metadata": {
        "id": "6AshrU3USxld"
      },
      "source": [
        "label_dict={0:\"airplane\",1:\"automobile\",2:\"bird\",3:\"cat\",4:\"deer\",5:\"dog\",6:\"frog\",7:\"horse\",8:\"ship\",9:\"truck\"}"
      ],
      "execution_count": 33,
      "outputs": []
    },
    {
      "cell_type": "code",
      "metadata": {
        "id": "KADDqJmsSzCc"
      },
      "source": [
        "# Construct model\n",
        "from keras.models import Sequential\n",
        "from keras.layers import Dense,Dropout,Activation,Flatten\n",
        "from keras.layers import Conv2D,MaxPooling2D,ZeroPadding2D"
      ],
      "execution_count": 34,
      "outputs": []
    },
    {
      "cell_type": "code",
      "metadata": {
        "id": "2tUCpCqHS5sb"
      },
      "source": [
        "model=Sequential()"
      ],
      "execution_count": 35,
      "outputs": []
    },
    {
      "cell_type": "code",
      "metadata": {
        "id": "IP4YwNOFS62i"
      },
      "source": [
        "model.add(Conv2D(filters=32,kernel_size=(3,3),input_shape=(32,32,3),activation='relu',padding='same'))\n",
        "model.add(Dropout(0.35))\n",
        "model.add(Conv2D(filters=32,kernel_size=(3,3),activation='relu',padding='same'))\n",
        "model.add(MaxPooling2D(pool_size=(2,2)))"
      ],
      "execution_count": 36,
      "outputs": []
    },
    {
      "cell_type": "code",
      "metadata": {
        "id": "VrEsDZ3OYZv6"
      },
      "source": [
        "model.add(Conv2D(filters=64,kernel_size=(3,3),activation='relu',padding='same'))\n",
        "model.add(Dropout(0.35))\n",
        "model.add(Conv2D(filters=64,kernel_size=(3,3),activation='relu',padding='same'))\n",
        "model.add(MaxPooling2D(pool_size=(2,2)))"
      ],
      "execution_count": 37,
      "outputs": []
    },
    {
      "cell_type": "code",
      "metadata": {
        "id": "Lfbpty5kYwiH"
      },
      "source": [
        "model.add(Conv2D(filters=128,kernel_size=(3,3),activation='relu',padding='same'))\n",
        "model.add(Dropout(0.35))\n",
        "model.add(Conv2D(filters=128,kernel_size=(3,3),activation='relu',padding='same'))\n",
        "model.add(MaxPooling2D(pool_size=(2,2)))"
      ],
      "execution_count": 38,
      "outputs": []
    },
    {
      "cell_type": "code",
      "metadata": {
        "id": "YGEmb5pbZYhj"
      },
      "source": [
        "### neural network\n",
        "model.add(Flatten())\n",
        "model.add(Dropout(0.35))\n",
        "### hidden layer 1\n",
        "model.add(Dense(2500,activation='relu'))\n",
        "model.add(Dropout(0.35))\n",
        "### hidden layer 2\n",
        "model.add(Dense(1500,activation='relu'))\n",
        "model.add(Dropout(0.35))\n",
        "### output layer\n",
        "model.add(Dense(10,activation='softmax'))"
      ],
      "execution_count": 39,
      "outputs": []
    },
    {
      "cell_type": "code",
      "metadata": {
        "colab": {
          "base_uri": "https://localhost:8080/"
        },
        "id": "2kjnUEYuZtK5",
        "outputId": "bb902e46-fd40-4a27-bda0-a71315c7e544"
      },
      "source": [
        "print(model.summary())"
      ],
      "execution_count": 40,
      "outputs": [
        {
          "output_type": "stream",
          "text": [
            "Model: \"sequential_1\"\n",
            "_________________________________________________________________\n",
            "Layer (type)                 Output Shape              Param #   \n",
            "=================================================================\n",
            "conv2d_6 (Conv2D)            (None, 32, 32, 32)        896       \n",
            "_________________________________________________________________\n",
            "dropout_6 (Dropout)          (None, 32, 32, 32)        0         \n",
            "_________________________________________________________________\n",
            "conv2d_7 (Conv2D)            (None, 32, 32, 32)        9248      \n",
            "_________________________________________________________________\n",
            "max_pooling2d_3 (MaxPooling2 (None, 16, 16, 32)        0         \n",
            "_________________________________________________________________\n",
            "conv2d_8 (Conv2D)            (None, 16, 16, 64)        18496     \n",
            "_________________________________________________________________\n",
            "dropout_7 (Dropout)          (None, 16, 16, 64)        0         \n",
            "_________________________________________________________________\n",
            "conv2d_9 (Conv2D)            (None, 16, 16, 64)        36928     \n",
            "_________________________________________________________________\n",
            "max_pooling2d_4 (MaxPooling2 (None, 8, 8, 64)          0         \n",
            "_________________________________________________________________\n",
            "conv2d_10 (Conv2D)           (None, 8, 8, 128)         73856     \n",
            "_________________________________________________________________\n",
            "dropout_8 (Dropout)          (None, 8, 8, 128)         0         \n",
            "_________________________________________________________________\n",
            "conv2d_11 (Conv2D)           (None, 8, 8, 128)         147584    \n",
            "_________________________________________________________________\n",
            "max_pooling2d_5 (MaxPooling2 (None, 4, 4, 128)         0         \n",
            "_________________________________________________________________\n",
            "flatten_1 (Flatten)          (None, 2048)              0         \n",
            "_________________________________________________________________\n",
            "dropout_9 (Dropout)          (None, 2048)              0         \n",
            "_________________________________________________________________\n",
            "dense_3 (Dense)              (None, 2500)              5122500   \n",
            "_________________________________________________________________\n",
            "dropout_10 (Dropout)         (None, 2500)              0         \n",
            "_________________________________________________________________\n",
            "dense_4 (Dense)              (None, 1500)              3751500   \n",
            "_________________________________________________________________\n",
            "dropout_11 (Dropout)         (None, 1500)              0         \n",
            "_________________________________________________________________\n",
            "dense_5 (Dense)              (None, 10)                15010     \n",
            "=================================================================\n",
            "Total params: 9,176,018\n",
            "Trainable params: 9,176,018\n",
            "Non-trainable params: 0\n",
            "_________________________________________________________________\n",
            "None\n"
          ],
          "name": "stdout"
        }
      ]
    },
    {
      "cell_type": "code",
      "metadata": {
        "colab": {
          "base_uri": "https://localhost:8080/"
        },
        "id": "j64CEumxZvDu",
        "outputId": "f4dd2ed3-dbe2-415b-8e95-64fec717445c"
      },
      "source": [
        "model.compile(loss='categorical_crossentropy',optimizer='adam',metrics=['accuracy'])\n",
        "train_history=model.fit(x_img_train_normalize,y_label_train_OneHot,validation_split=0.2,epochs=50,batch_size=300,verbose=2)"
      ],
      "execution_count": 41,
      "outputs": [
        {
          "output_type": "stream",
          "text": [
            "Epoch 1/50\n",
            "134/134 - 38s - loss: 1.9745 - accuracy: 0.2594 - val_loss: 1.8514 - val_accuracy: 0.3283\n",
            "Epoch 2/50\n",
            "134/134 - 4s - loss: 1.5618 - accuracy: 0.4215 - val_loss: 1.6343 - val_accuracy: 0.4081\n",
            "Epoch 3/50\n",
            "134/134 - 4s - loss: 1.3719 - accuracy: 0.4993 - val_loss: 1.3897 - val_accuracy: 0.4967\n",
            "Epoch 4/50\n",
            "134/134 - 4s - loss: 1.2260 - accuracy: 0.5558 - val_loss: 1.3375 - val_accuracy: 0.5330\n",
            "Epoch 5/50\n",
            "134/134 - 4s - loss: 1.1087 - accuracy: 0.6018 - val_loss: 1.1791 - val_accuracy: 0.5914\n",
            "Epoch 6/50\n",
            "134/134 - 4s - loss: 1.0224 - accuracy: 0.6340 - val_loss: 0.9981 - val_accuracy: 0.6540\n",
            "Epoch 7/50\n",
            "134/134 - 4s - loss: 0.9590 - accuracy: 0.6571 - val_loss: 0.9718 - val_accuracy: 0.6691\n",
            "Epoch 8/50\n",
            "134/134 - 4s - loss: 0.9118 - accuracy: 0.6783 - val_loss: 0.9436 - val_accuracy: 0.6670\n",
            "Epoch 9/50\n",
            "134/134 - 5s - loss: 0.8573 - accuracy: 0.6943 - val_loss: 1.0465 - val_accuracy: 0.6497\n",
            "Epoch 10/50\n",
            "134/134 - 5s - loss: 0.8096 - accuracy: 0.7135 - val_loss: 0.8485 - val_accuracy: 0.7061\n",
            "Epoch 11/50\n",
            "134/134 - 5s - loss: 0.7636 - accuracy: 0.7301 - val_loss: 0.8694 - val_accuracy: 0.7041\n",
            "Epoch 12/50\n",
            "134/134 - 5s - loss: 0.7292 - accuracy: 0.7419 - val_loss: 0.7947 - val_accuracy: 0.7240\n",
            "Epoch 13/50\n",
            "134/134 - 5s - loss: 0.6972 - accuracy: 0.7526 - val_loss: 0.7203 - val_accuracy: 0.7543\n",
            "Epoch 14/50\n",
            "134/134 - 5s - loss: 0.6642 - accuracy: 0.7659 - val_loss: 0.7144 - val_accuracy: 0.7485\n",
            "Epoch 15/50\n",
            "134/134 - 5s - loss: 0.6224 - accuracy: 0.7785 - val_loss: 0.7265 - val_accuracy: 0.7531\n",
            "Epoch 16/50\n",
            "134/134 - 5s - loss: 0.6064 - accuracy: 0.7834 - val_loss: 0.7157 - val_accuracy: 0.7543\n",
            "Epoch 17/50\n",
            "134/134 - 5s - loss: 0.5838 - accuracy: 0.7924 - val_loss: 0.6960 - val_accuracy: 0.7589\n",
            "Epoch 18/50\n",
            "134/134 - 5s - loss: 0.5608 - accuracy: 0.8009 - val_loss: 0.6683 - val_accuracy: 0.7705\n",
            "Epoch 19/50\n",
            "134/134 - 5s - loss: 0.5448 - accuracy: 0.8049 - val_loss: 0.6811 - val_accuracy: 0.7664\n",
            "Epoch 20/50\n",
            "134/134 - 5s - loss: 0.5090 - accuracy: 0.8151 - val_loss: 0.6980 - val_accuracy: 0.7662\n",
            "Epoch 21/50\n",
            "134/134 - 5s - loss: 0.4919 - accuracy: 0.8248 - val_loss: 0.6558 - val_accuracy: 0.7804\n",
            "Epoch 22/50\n",
            "134/134 - 5s - loss: 0.4797 - accuracy: 0.8292 - val_loss: 0.6568 - val_accuracy: 0.7800\n",
            "Epoch 23/50\n",
            "134/134 - 5s - loss: 0.4585 - accuracy: 0.8362 - val_loss: 0.6380 - val_accuracy: 0.7868\n",
            "Epoch 24/50\n",
            "134/134 - 5s - loss: 0.4383 - accuracy: 0.8446 - val_loss: 0.6966 - val_accuracy: 0.7705\n",
            "Epoch 25/50\n",
            "134/134 - 5s - loss: 0.4342 - accuracy: 0.8456 - val_loss: 0.6402 - val_accuracy: 0.7901\n",
            "Epoch 26/50\n",
            "134/134 - 5s - loss: 0.4078 - accuracy: 0.8541 - val_loss: 0.6545 - val_accuracy: 0.7869\n",
            "Epoch 27/50\n",
            "134/134 - 5s - loss: 0.4108 - accuracy: 0.8521 - val_loss: 0.6310 - val_accuracy: 0.7930\n",
            "Epoch 28/50\n",
            "134/134 - 5s - loss: 0.3830 - accuracy: 0.8619 - val_loss: 0.6366 - val_accuracy: 0.7910\n",
            "Epoch 29/50\n",
            "134/134 - 5s - loss: 0.3750 - accuracy: 0.8666 - val_loss: 0.6626 - val_accuracy: 0.7849\n",
            "Epoch 30/50\n",
            "134/134 - 5s - loss: 0.3594 - accuracy: 0.8719 - val_loss: 0.6513 - val_accuracy: 0.7905\n",
            "Epoch 31/50\n",
            "134/134 - 5s - loss: 0.3439 - accuracy: 0.8762 - val_loss: 0.6431 - val_accuracy: 0.7931\n",
            "Epoch 32/50\n",
            "134/134 - 5s - loss: 0.3502 - accuracy: 0.8732 - val_loss: 0.6476 - val_accuracy: 0.7958\n",
            "Epoch 33/50\n",
            "134/134 - 5s - loss: 0.3305 - accuracy: 0.8828 - val_loss: 0.6531 - val_accuracy: 0.7966\n",
            "Epoch 34/50\n",
            "134/134 - 5s - loss: 0.3254 - accuracy: 0.8844 - val_loss: 0.6484 - val_accuracy: 0.7926\n",
            "Epoch 35/50\n",
            "134/134 - 5s - loss: 0.3217 - accuracy: 0.8848 - val_loss: 0.6700 - val_accuracy: 0.7866\n",
            "Epoch 36/50\n",
            "134/134 - 5s - loss: 0.3007 - accuracy: 0.8919 - val_loss: 0.6609 - val_accuracy: 0.7908\n",
            "Epoch 37/50\n",
            "134/134 - 5s - loss: 0.3011 - accuracy: 0.8936 - val_loss: 0.6391 - val_accuracy: 0.8023\n",
            "Epoch 38/50\n",
            "134/134 - 5s - loss: 0.2910 - accuracy: 0.8972 - val_loss: 0.6545 - val_accuracy: 0.8004\n",
            "Epoch 39/50\n",
            "134/134 - 5s - loss: 0.2893 - accuracy: 0.8970 - val_loss: 0.6394 - val_accuracy: 0.8019\n",
            "Epoch 40/50\n",
            "134/134 - 5s - loss: 0.2804 - accuracy: 0.8996 - val_loss: 0.6592 - val_accuracy: 0.7936\n",
            "Epoch 41/50\n",
            "134/134 - 5s - loss: 0.2833 - accuracy: 0.8983 - val_loss: 0.6501 - val_accuracy: 0.8017\n",
            "Epoch 42/50\n",
            "134/134 - 5s - loss: 0.2622 - accuracy: 0.9081 - val_loss: 0.6764 - val_accuracy: 0.7962\n",
            "Epoch 43/50\n",
            "134/134 - 5s - loss: 0.2617 - accuracy: 0.9067 - val_loss: 0.6602 - val_accuracy: 0.8019\n",
            "Epoch 44/50\n",
            "134/134 - 5s - loss: 0.2516 - accuracy: 0.9089 - val_loss: 0.6516 - val_accuracy: 0.8042\n",
            "Epoch 45/50\n",
            "134/134 - 5s - loss: 0.2578 - accuracy: 0.9085 - val_loss: 0.6396 - val_accuracy: 0.8028\n",
            "Epoch 46/50\n",
            "134/134 - 5s - loss: 0.2546 - accuracy: 0.9095 - val_loss: 0.6601 - val_accuracy: 0.7995\n",
            "Epoch 47/50\n",
            "134/134 - 5s - loss: 0.2480 - accuracy: 0.9129 - val_loss: 0.7021 - val_accuracy: 0.7922\n",
            "Epoch 48/50\n",
            "134/134 - 5s - loss: 0.2435 - accuracy: 0.9137 - val_loss: 0.6602 - val_accuracy: 0.8052\n",
            "Epoch 49/50\n",
            "134/134 - 5s - loss: 0.2323 - accuracy: 0.9167 - val_loss: 0.6805 - val_accuracy: 0.7978\n",
            "Epoch 50/50\n",
            "134/134 - 5s - loss: 0.2306 - accuracy: 0.9186 - val_loss: 0.6665 - val_accuracy: 0.8013\n"
          ],
          "name": "stdout"
        }
      ]
    },
    {
      "cell_type": "code",
      "metadata": {
        "id": "rzLTGAOzZ7zi"
      },
      "source": [
        "from matplotlib import pyplot as plt\n",
        "def show_train_history(train_history,train,validation):\n",
        "  plt.plot(train_history.history[train])\n",
        "  plt.plot(train_history.history[validation])\n",
        "  plt.title('Train History')\n",
        "  plt.ylabel('train')\n",
        "  plt.xlabel('Epoch')\n",
        "  plt.legend(['train','validation'],loc='upper left')\n",
        "  plt.show()"
      ],
      "execution_count": 42,
      "outputs": []
    },
    {
      "cell_type": "code",
      "metadata": {
        "colab": {
          "base_uri": "https://localhost:8080/",
          "height": 295
        },
        "id": "FliqaslyfUOd",
        "outputId": "f8c52acb-3932-4a26-f103-dd2fd5345cf9"
      },
      "source": [
        "show_train_history(train_history,'accuracy','val_accuracy')"
      ],
      "execution_count": 43,
      "outputs": [
        {
          "output_type": "display_data",
          "data": {
            "image/png": "[encoded data removed]",
            "text/plain": [
              "<Figure size 432x288 with 1 Axes>"
            ]
          },
          "metadata": {
            "tags": [],
            "needs_background": "light"
          }
        }
      ]
    },
    {
      "cell_type": "code",
      "metadata": {
        "colab": {
          "base_uri": "https://localhost:8080/",
          "height": 295
        },
        "id": "CLUnjiW4fbvQ",
        "outputId": "8e31471a-d004-4a64-debf-8bd432e40f75"
      },
      "source": [
        "show_train_history(train_history,'loss','val_loss')"
      ],
      "execution_count": 44,
      "outputs": [
        {
          "output_type": "display_data",
          "data": {
            "image/png": "[encoded data removed]",
            "text/plain": [
              "<Figure size 432x288 with 1 Axes>"
            ]
          },
          "metadata": {
            "tags": [],
            "needs_background": "light"
          }
        }
      ]
    },
    {
      "cell_type": "code",
      "metadata": {
        "id": "J5uBX8IWgmJ8"
      },
      "source": [
        "### estimate model accuracy"
      ],
      "execution_count": 45,
      "outputs": []
    },
    {
      "cell_type": "code",
      "metadata": {
        "id": "CNqM3qWAgmRX"
      },
      "source": [
        "scores=model.evaluate(x_img_test_normalize,y_label_test_OneHot,verbose=0)"
      ],
      "execution_count": 46,
      "outputs": []
    },
    {
      "cell_type": "code",
      "metadata": {
        "colab": {
          "base_uri": "https://localhost:8080/"
        },
        "id": "cLAn9V1ogrBf",
        "outputId": "84751724-876c-4c0c-978f-0a8d12fb72a1"
      },
      "source": [
        "print(f'Test loss: {scores[0]} / Test accuracy: {scores[1]}')"
      ],
      "execution_count": 47,
      "outputs": [
        {
          "output_type": "stream",
          "text": [
            "Test loss: 0.683647096157074 / Test accuracy: 0.7997999787330627\n"
          ],
          "name": "stdout"
        }
      ]
    },
    {
      "cell_type": "code",
      "metadata": {
        "colab": {
          "base_uri": "https://localhost:8080/"
        },
        "id": "UNRhGtVugvNM",
        "outputId": "7aa1ebc3-bbdc-4a77-8fe3-f9ecfd45eda3"
      },
      "source": [
        "prediction=model.predict_classes(x_img_test_normalize) ### prediction"
      ],
      "execution_count": 48,
      "outputs": [
        {
          "output_type": "stream",
          "text": [
            "/usr/local/lib/python3.7/dist-packages/tensorflow/python/keras/engine/sequential.py:450: UserWarning: `model.predict_classes()` is deprecated and will be removed after 2021-01-01. Please use instead:* `np.argmax(model.predict(x), axis=-1)`,   if your model does multi-class classification   (e.g. if it uses a `softmax` last-layer activation).* `(model.predict(x) > 0.5).astype(\"int32\")`,   if your model does binary classification   (e.g. if it uses a `sigmoid` last-layer activation).\n",
            "  warnings.warn('`model.predict_classes()` is deprecated and '\n"
          ],
          "name": "stderr"
        }
      ]
    },
    {
      "cell_type": "code",
      "metadata": {
        "colab": {
          "base_uri": "https://localhost:8080/"
        },
        "id": "e9dj4EcTkNPd",
        "outputId": "19644653-a460-4a3b-bc39-3ca8583243d4"
      },
      "source": [
        "prediction"
      ],
      "execution_count": 49,
      "outputs": [
        {
          "output_type": "execute_result",
          "data": {
            "text/plain": [
              "array([3, 8, 8, ..., 5, 1, 7])"
            ]
          },
          "metadata": {
            "tags": []
          },
          "execution_count": 49
        }
      ]
    },
    {
      "cell_type": "code",
      "metadata": {
        "id": "ii4zLAJNgz_w"
      },
      "source": [
        "def plot_images_labels_prediction(images,labels,prediction,idx,num=10):\n",
        "  fig=plt.gcf()\n",
        "  fig.set_size_inches(12,14)\n",
        "  if num>25:num=25\n",
        "  for i in range(0,num):\n",
        "    ax=plt.subplot(5,5,1+i)\n",
        "    ax.imshow(images[idx],cmap='binary')\n",
        "    title=str(i) +',' +label_dict[labels[i][0]]\n",
        "    if len(prediction)>0:\n",
        "      title+='=>'+label_dict[prediction[i]]\n",
        "    ax.set_title(title,fontsize=10)\n",
        "    ax.set_xticks([]);ax.set_yticks([])\n",
        "    idx+=1\n",
        "  plt.show()"
      ],
      "execution_count": 50,
      "outputs": []
    },
    {
      "cell_type": "code",
      "metadata": {
        "colab": {
          "base_uri": "https://localhost:8080/",
          "height": 321
        },
        "id": "Ss7dd8dJg2UX",
        "outputId": "45710c73-23b0-4839-b4ff-765213104c6c"
      },
      "source": [
        "plot_images_labels_prediction(x_img_test,y_label_test,prediction,0,10)"
      ],
      "execution_count": 51,
      "outputs": [
        {
          "output_type": "display_data",
          "data": {
            "image/png": "[encoded data removed]",
            "text/plain": [
              "<Figure size 864x1008 with 10 Axes>"
            ]
          },
          "metadata": {
            "tags": []
          }
        }
      ]
    },
    {
      "cell_type": "code",
      "metadata": {
        "id": "PpPOXOuZg6wp"
      },
      "source": [
        "# check for prediction rate\n",
        "predicted_Probability=model.predict(x_img_test_normalize)"
      ],
      "execution_count": 52,
      "outputs": []
    },
    {
      "cell_type": "code",
      "metadata": {
        "id": "ykuUEDYlg_vY"
      },
      "source": [
        "def show_predicted_probability(y,prediction,x_img,predicted_Probability,i):\n",
        "  print('label:',label_dict[y[i][0]],\n",
        "        'predict',label_dict[prediction[i]])\n",
        "  plt.figure(figsize=(2,2))\n",
        "  plt.imshow(np.reshape(x_img_test[i],(32,32,3)))\n",
        "  plt.show()\n",
        "  for j in range(10):\n",
        "    print(label_dict[j]+ ' probability:%1.9f'%(predicted_Probability[i][j]))\n"
      ],
      "execution_count": 53,
      "outputs": []
    },
    {
      "cell_type": "code",
      "metadata": {
        "colab": {
          "base_uri": "https://localhost:8080/",
          "height": 355
        },
        "id": "EDAw57mNhCGo",
        "outputId": "ac2807f4-bdac-4e8d-cd79-229bf5bdfc09"
      },
      "source": [
        "show_predicted_probability(y_label_test,prediction,x_img_test,predicted_Probability,0)"
      ],
      "execution_count": 54,
      "outputs": [
        {
          "output_type": "stream",
          "text": [
            "label: cat predict cat\n"
          ],
          "name": "stdout"
        },
        {
          "output_type": "display_data",
          "data": {
            "image/png": "[encoded data removed]",
            "text/plain": [
              "<Figure size 144x144 with 1 Axes>"
            ]
          },
          "metadata": {
            "tags": [],
            "needs_background": "light"
          }
        },
        {
          "output_type": "stream",
          "text": [
            "airplane probability:0.000077243\n",
            "automobile probability:0.000041461\n",
            "bird probability:0.000280294\n",
            "cat probability:0.925642371\n",
            "deer probability:0.000190618\n",
            "dog probability:0.059248369\n",
            "frog probability:0.002189503\n",
            "horse probability:0.000001787\n",
            "ship probability:0.012296249\n",
            "truck probability:0.000032029\n"
          ],
          "name": "stdout"
        }
      ]
    },
    {
      "cell_type": "markdown",
      "metadata": {
        "id": "N5rt2fK5fntZ"
      },
      "source": [
        "#Confusion matrix"
      ]
    },
    {
      "cell_type": "code",
      "metadata": {
        "id": "TjlrqQgShBjE"
      },
      "source": [
        "import pandas as pd"
      ],
      "execution_count": 55,
      "outputs": []
    },
    {
      "cell_type": "code",
      "metadata": {
        "colab": {
          "base_uri": "https://localhost:8080/",
          "height": 370
        },
        "id": "vD-agaQbfqVp",
        "outputId": "6b0f382e-419d-4367-bbf4-f4ede4fb933d"
      },
      "source": [
        "pd.crosstab(y_label_test.reshape(-1),prediction,rownames=['label'],colnames=['predict'])"
      ],
      "execution_count": 56,
      "outputs": [
        {
          "output_type": "execute_result",
          "data": {
            "text/html": [
              "<div>\n",
              "<style scoped>\n",
              "    .dataframe tbody tr th:only-of-type {\n",
              "        vertical-align: middle;\n",
              "    }\n",
              "\n",
              "    .dataframe tbody tr th {\n",
              "        vertical-align: top;\n",
              "    }\n",
              "\n",
              "    .dataframe thead th {\n",
              "        text-align: right;\n",
              "    }\n",
              "</style>\n",
              "<table border=\"1\" class=\"dataframe\">\n",
              "  <thead>\n",
              "    <tr style=\"text-align: right;\">\n",
              "      <th>predict</th>\n",
              "      <th>0</th>\n",
              "      <th>1</th>\n",
              "      <th>2</th>\n",
              "      <th>3</th>\n",
              "      <th>4</th>\n",
              "      <th>5</th>\n",
              "      <th>6</th>\n",
              "      <th>7</th>\n",
              "      <th>8</th>\n",
              "      <th>9</th>\n",
              "    </tr>\n",
              "    <tr>\n",
              "      <th>label</th>\n",
              "      <th></th>\n",
              "      <th></th>\n",
              "      <th></th>\n",
              "      <th></th>\n",
              "      <th></th>\n",
              "      <th></th>\n",
              "      <th></th>\n",
              "      <th></th>\n",
              "      <th></th>\n",
              "      <th></th>\n",
              "    </tr>\n",
              "  </thead>\n",
              "  <tbody>\n",
              "    <tr>\n",
              "      <th>0</th>\n",
              "      <td>770</td>\n",
              "      <td>7</td>\n",
              "      <td>45</td>\n",
              "      <td>26</td>\n",
              "      <td>19</td>\n",
              "      <td>7</td>\n",
              "      <td>8</td>\n",
              "      <td>10</td>\n",
              "      <td>77</td>\n",
              "      <td>31</td>\n",
              "    </tr>\n",
              "    <tr>\n",
              "      <th>1</th>\n",
              "      <td>6</td>\n",
              "      <td>879</td>\n",
              "      <td>2</td>\n",
              "      <td>10</td>\n",
              "      <td>7</td>\n",
              "      <td>3</td>\n",
              "      <td>6</td>\n",
              "      <td>3</td>\n",
              "      <td>18</td>\n",
              "      <td>66</td>\n",
              "    </tr>\n",
              "    <tr>\n",
              "      <th>2</th>\n",
              "      <td>42</td>\n",
              "      <td>2</td>\n",
              "      <td>701</td>\n",
              "      <td>53</td>\n",
              "      <td>69</td>\n",
              "      <td>50</td>\n",
              "      <td>54</td>\n",
              "      <td>17</td>\n",
              "      <td>8</td>\n",
              "      <td>4</td>\n",
              "    </tr>\n",
              "    <tr>\n",
              "      <th>3</th>\n",
              "      <td>8</td>\n",
              "      <td>2</td>\n",
              "      <td>57</td>\n",
              "      <td>697</td>\n",
              "      <td>50</td>\n",
              "      <td>108</td>\n",
              "      <td>47</td>\n",
              "      <td>18</td>\n",
              "      <td>8</td>\n",
              "      <td>5</td>\n",
              "    </tr>\n",
              "    <tr>\n",
              "      <th>4</th>\n",
              "      <td>6</td>\n",
              "      <td>1</td>\n",
              "      <td>42</td>\n",
              "      <td>61</td>\n",
              "      <td>809</td>\n",
              "      <td>16</td>\n",
              "      <td>37</td>\n",
              "      <td>23</td>\n",
              "      <td>3</td>\n",
              "      <td>2</td>\n",
              "    </tr>\n",
              "    <tr>\n",
              "      <th>5</th>\n",
              "      <td>6</td>\n",
              "      <td>0</td>\n",
              "      <td>23</td>\n",
              "      <td>185</td>\n",
              "      <td>54</td>\n",
              "      <td>679</td>\n",
              "      <td>18</td>\n",
              "      <td>30</td>\n",
              "      <td>1</td>\n",
              "      <td>4</td>\n",
              "    </tr>\n",
              "    <tr>\n",
              "      <th>6</th>\n",
              "      <td>2</td>\n",
              "      <td>1</td>\n",
              "      <td>21</td>\n",
              "      <td>61</td>\n",
              "      <td>29</td>\n",
              "      <td>14</td>\n",
              "      <td>864</td>\n",
              "      <td>3</td>\n",
              "      <td>4</td>\n",
              "      <td>1</td>\n",
              "    </tr>\n",
              "    <tr>\n",
              "      <th>7</th>\n",
              "      <td>4</td>\n",
              "      <td>1</td>\n",
              "      <td>17</td>\n",
              "      <td>51</td>\n",
              "      <td>70</td>\n",
              "      <td>46</td>\n",
              "      <td>10</td>\n",
              "      <td>792</td>\n",
              "      <td>1</td>\n",
              "      <td>8</td>\n",
              "    </tr>\n",
              "    <tr>\n",
              "      <th>8</th>\n",
              "      <td>24</td>\n",
              "      <td>6</td>\n",
              "      <td>9</td>\n",
              "      <td>16</td>\n",
              "      <td>7</td>\n",
              "      <td>1</td>\n",
              "      <td>5</td>\n",
              "      <td>1</td>\n",
              "      <td>912</td>\n",
              "      <td>19</td>\n",
              "    </tr>\n",
              "    <tr>\n",
              "      <th>9</th>\n",
              "      <td>7</td>\n",
              "      <td>34</td>\n",
              "      <td>5</td>\n",
              "      <td>19</td>\n",
              "      <td>2</td>\n",
              "      <td>3</td>\n",
              "      <td>6</td>\n",
              "      <td>10</td>\n",
              "      <td>19</td>\n",
              "      <td>895</td>\n",
              "    </tr>\n",
              "  </tbody>\n",
              "</table>\n",
              "</div>"
            ],
            "text/plain": [
              "predict    0    1    2    3    4    5    6    7    8    9\n",
              "label                                                    \n",
              "0        770    7   45   26   19    7    8   10   77   31\n",
              "1          6  879    2   10    7    3    6    3   18   66\n",
              "2         42    2  701   53   69   50   54   17    8    4\n",
              "3          8    2   57  697   50  108   47   18    8    5\n",
              "4          6    1   42   61  809   16   37   23    3    2\n",
              "5          6    0   23  185   54  679   18   30    1    4\n",
              "6          2    1   21   61   29   14  864    3    4    1\n",
              "7          4    1   17   51   70   46   10  792    1    8\n",
              "8         24    6    9   16    7    1    5    1  912   19\n",
              "9          7   34    5   19    2    3    6   10   19  895"
            ]
          },
          "metadata": {
            "tags": []
          },
          "execution_count": 56
        }
      ]
    },
    {
      "cell_type": "code",
      "metadata": {
        "id": "mvxedLAxgTfS"
      },
      "source": [
        ""
      ],
      "execution_count": null,
      "outputs": []
    }
  ]
}