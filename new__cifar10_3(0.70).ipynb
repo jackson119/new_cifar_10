{
  "nbformat": 4,
  "nbformat_minor": 0,
  "metadata": {
    "accelerator": "GPU",
    "colab": {
      "name": "new_ cifar10_3(0.70).ipynb",
      "provenance": [],
      "collapsed_sections": [
        "N5rt2fK5fntZ"
      ],
      "authorship_tag": "ABX9TyMO/l0YRxitenBSIaazTjCW",
      "include_colab_link": true
    },
    "kernelspec": {
      "display_name": "Python 3",
      "name": "python3"
    },
    "language_info": {
      "name": "python"
    }
  },
  "cells": [
    {
      "cell_type": "markdown",
      "metadata": {
        "id": "view-in-github",
        "colab_type": "text"
      },
      "source": [
        "<a href=\"https://colab.research.google.com/github/jackson119/new_cifar_10/blob/main/new__cifar10_3(0.70).ipynb\" target=\"_parent\"><img src=\"https://colab.research.google.com/assets/colab-badge.svg\" alt=\"Open In Colab\"/></a>"
      ]
    },
    {
      "cell_type": "markdown",
      "metadata": {
        "id": "SGKXC7W7pnht"
      },
      "source": [
        "# Data Preprocessing"
      ]
    },
    {
      "cell_type": "code",
      "metadata": {
        "id": "91H4jfpypp4h"
      },
      "source": [
        "from tensorflow.keras.datasets import cifar10\n",
        "import numpy as np\n",
        "np.random.seed(10)"
      ],
      "execution_count": 1,
      "outputs": []
    },
    {
      "cell_type": "code",
      "metadata": {
        "id": "jrfbgEOdprAB",
        "colab": {
          "base_uri": "https://localhost:8080/"
        },
        "outputId": "797379fe-e162-4ea9-fb75-e2e350cec13b"
      },
      "source": [
        "(x_img_train,y_label_train),(x_img_test,y_label_test)=cifar10.load_data()"
      ],
      "execution_count": 2,
      "outputs": [
        {
          "output_type": "stream",
          "text": [
            "Downloading data from https://www.cs.toronto.edu/~kriz/cifar-10-python.tar.gz\n",
            "170500096/170498071 [==============================] - 11s 0us/step\n"
          ],
          "name": "stdout"
        }
      ]
    },
    {
      "cell_type": "code",
      "metadata": {
        "id": "Bv64ED30R18B",
        "colab": {
          "base_uri": "https://localhost:8080/"
        },
        "outputId": "4e15e4e3-7855-42c8-9e65-8d28d3f29da6"
      },
      "source": [
        "print(\"train data:\",\"images:\",x_img_train.shape,\"labels:\",y_label_train.shape)\n",
        "print(\"test data:\",\"images:\",x_img_test.shape,\"labels:\",y_label_test.shape)"
      ],
      "execution_count": 3,
      "outputs": [
        {
          "output_type": "stream",
          "text": [
            "train data: images: (50000, 32, 32, 3) labels: (50000, 1)\n",
            "test data: images: (10000, 32, 32, 3) labels: (10000, 1)\n"
          ],
          "name": "stdout"
        }
      ]
    },
    {
      "cell_type": "markdown",
      "metadata": {
        "id": "10BLqTKNSYKW"
      },
      "source": [
        "# standardize and perform one hot encoding"
      ]
    },
    {
      "cell_type": "code",
      "metadata": {
        "id": "_bdYalY-Sfva"
      },
      "source": [
        "x_img_train_normalize=x_img_train.astype('float32')/255.0\n",
        "x_img_test_normalize=x_img_test.astype('float32')/255.0"
      ],
      "execution_count": 4,
      "outputs": []
    },
    {
      "cell_type": "code",
      "metadata": {
        "id": "-7OJEuxpSpXX"
      },
      "source": [
        "from tensorflow.keras import utils"
      ],
      "execution_count": 5,
      "outputs": []
    },
    {
      "cell_type": "code",
      "metadata": {
        "id": "bvesDQfhSsmH"
      },
      "source": [
        "y_label_train_OneHot=utils.to_categorical(y_label_train)\n",
        "y_label_test_OneHot=utils.to_categorical(y_label_test)"
      ],
      "execution_count": 6,
      "outputs": []
    },
    {
      "cell_type": "markdown",
      "metadata": {
        "id": "DSmFxX9xSwCN"
      },
      "source": [
        "# Images and label"
      ]
    },
    {
      "cell_type": "code",
      "metadata": {
        "id": "6AshrU3USxld"
      },
      "source": [
        "label_dict={0:\"airplane\",1:\"automobile\",2:\"bird\",3:\"cat\",4:\"deer\",5:\"dog\",6:\"frog\",7:\"horse\",8:\"ship\",9:\"truck\"}"
      ],
      "execution_count": 7,
      "outputs": []
    },
    {
      "cell_type": "code",
      "metadata": {
        "id": "KADDqJmsSzCc"
      },
      "source": [
        "# Construct model\n",
        "from keras.models import Sequential\n",
        "from keras.layers import Dense,Dropout,Activation,Flatten\n",
        "from keras.layers import Conv2D,MaxPooling2D,ZeroPadding2D"
      ],
      "execution_count": 8,
      "outputs": []
    },
    {
      "cell_type": "code",
      "metadata": {
        "id": "2tUCpCqHS5sb"
      },
      "source": [
        "model=Sequential()"
      ],
      "execution_count": 9,
      "outputs": []
    },
    {
      "cell_type": "code",
      "metadata": {
        "id": "IP4YwNOFS62i"
      },
      "source": [
        "model.add(Conv2D(filters=32,kernel_size=(3,3),input_shape=(32,32,3),activation='relu',padding='same'))\n",
        "model.add(Dropout(0.70))\n",
        "model.add(Conv2D(filters=32,kernel_size=(3,3),activation='relu',padding='same'))\n",
        "model.add(MaxPooling2D(pool_size=(2,2)))"
      ],
      "execution_count": 10,
      "outputs": []
    },
    {
      "cell_type": "code",
      "metadata": {
        "id": "VrEsDZ3OYZv6"
      },
      "source": [
        "model.add(Conv2D(filters=64,kernel_size=(3,3),activation='relu',padding='same'))\n",
        "model.add(Dropout(0.70))\n",
        "model.add(Conv2D(filters=64,kernel_size=(3,3),activation='relu',padding='same'))\n",
        "model.add(MaxPooling2D(pool_size=(2,2)))"
      ],
      "execution_count": 11,
      "outputs": []
    },
    {
      "cell_type": "code",
      "metadata": {
        "id": "Lfbpty5kYwiH"
      },
      "source": [
        "model.add(Conv2D(filters=128,kernel_size=(3,3),activation='relu',padding='same'))\n",
        "model.add(Dropout(0.70))\n",
        "model.add(Conv2D(filters=128,kernel_size=(3,3),activation='relu',padding='same'))\n",
        "model.add(MaxPooling2D(pool_size=(2,2)))"
      ],
      "execution_count": 12,
      "outputs": []
    },
    {
      "cell_type": "code",
      "metadata": {
        "id": "YGEmb5pbZYhj"
      },
      "source": [
        "### neural network\n",
        "model.add(Flatten())\n",
        "model.add(Dropout(0.70))\n",
        "### hidden layer 1\n",
        "model.add(Dense(2500,activation='relu'))\n",
        "model.add(Dropout(0.70))\n",
        "### hidden layer 2\n",
        "model.add(Dense(1500,activation='relu'))\n",
        "model.add(Dropout(0.70))\n",
        "### output layer\n",
        "model.add(Dense(10,activation='softmax'))"
      ],
      "execution_count": 13,
      "outputs": []
    },
    {
      "cell_type": "code",
      "metadata": {
        "id": "2kjnUEYuZtK5",
        "colab": {
          "base_uri": "https://localhost:8080/"
        },
        "outputId": "63b3f327-7686-4c13-c01b-f77d7770be69"
      },
      "source": [
        "print(model.summary())"
      ],
      "execution_count": 14,
      "outputs": [
        {
          "output_type": "stream",
          "text": [
            "Model: \"sequential\"\n",
            "_________________________________________________________________\n",
            "Layer (type)                 Output Shape              Param #   \n",
            "=================================================================\n",
            "conv2d (Conv2D)              (None, 32, 32, 32)        896       \n",
            "_________________________________________________________________\n",
            "dropout (Dropout)            (None, 32, 32, 32)        0         \n",
            "_________________________________________________________________\n",
            "conv2d_1 (Conv2D)            (None, 32, 32, 32)        9248      \n",
            "_________________________________________________________________\n",
            "max_pooling2d (MaxPooling2D) (None, 16, 16, 32)        0         \n",
            "_________________________________________________________________\n",
            "conv2d_2 (Conv2D)            (None, 16, 16, 64)        18496     \n",
            "_________________________________________________________________\n",
            "dropout_1 (Dropout)          (None, 16, 16, 64)        0         \n",
            "_________________________________________________________________\n",
            "conv2d_3 (Conv2D)            (None, 16, 16, 64)        36928     \n",
            "_________________________________________________________________\n",
            "max_pooling2d_1 (MaxPooling2 (None, 8, 8, 64)          0         \n",
            "_________________________________________________________________\n",
            "conv2d_4 (Conv2D)            (None, 8, 8, 128)         73856     \n",
            "_________________________________________________________________\n",
            "dropout_2 (Dropout)          (None, 8, 8, 128)         0         \n",
            "_________________________________________________________________\n",
            "conv2d_5 (Conv2D)            (None, 8, 8, 128)         147584    \n",
            "_________________________________________________________________\n",
            "max_pooling2d_2 (MaxPooling2 (None, 4, 4, 128)         0         \n",
            "_________________________________________________________________\n",
            "flatten (Flatten)            (None, 2048)              0         \n",
            "_________________________________________________________________\n",
            "dropout_3 (Dropout)          (None, 2048)              0         \n",
            "_________________________________________________________________\n",
            "dense (Dense)                (None, 2500)              5122500   \n",
            "_________________________________________________________________\n",
            "dropout_4 (Dropout)          (None, 2500)              0         \n",
            "_________________________________________________________________\n",
            "dense_1 (Dense)              (None, 1500)              3751500   \n",
            "_________________________________________________________________\n",
            "dropout_5 (Dropout)          (None, 1500)              0         \n",
            "_________________________________________________________________\n",
            "dense_2 (Dense)              (None, 10)                15010     \n",
            "=================================================================\n",
            "Total params: 9,176,018\n",
            "Trainable params: 9,176,018\n",
            "Non-trainable params: 0\n",
            "_________________________________________________________________\n",
            "None\n"
          ],
          "name": "stdout"
        }
      ]
    },
    {
      "cell_type": "code",
      "metadata": {
        "colab": {
          "base_uri": "https://localhost:8080/"
        },
        "id": "j64CEumxZvDu",
        "outputId": "2659b3a6-7378-4370-f001-33821be3ea46"
      },
      "source": [
        "model.compile(loss='categorical_crossentropy',optimizer='adam',metrics=['accuracy'])\n",
        "train_history=model.fit(x_img_train_normalize,y_label_train_OneHot,validation_split=0.2,epochs=50,batch_size=300,verbose=2)"
      ],
      "execution_count": 15,
      "outputs": [
        {
          "output_type": "stream",
          "text": [
            "Epoch 1/50\n",
            "134/134 - 34s - loss: 2.1983 - accuracy: 0.1717 - val_loss: 2.7874 - val_accuracy: 0.0980\n",
            "Epoch 2/50\n",
            "134/134 - 3s - loss: 1.9652 - accuracy: 0.2596 - val_loss: 3.4873 - val_accuracy: 0.0997\n",
            "Epoch 3/50\n",
            "134/134 - 3s - loss: 1.8383 - accuracy: 0.3034 - val_loss: 3.8099 - val_accuracy: 0.1195\n",
            "Epoch 4/50\n",
            "134/134 - 3s - loss: 1.7400 - accuracy: 0.3406 - val_loss: 3.8148 - val_accuracy: 0.1069\n",
            "Epoch 5/50\n",
            "134/134 - 3s - loss: 1.6612 - accuracy: 0.3747 - val_loss: 3.5763 - val_accuracy: 0.1309\n",
            "Epoch 6/50\n",
            "134/134 - 3s - loss: 1.6080 - accuracy: 0.3986 - val_loss: 3.8353 - val_accuracy: 0.1137\n",
            "Epoch 7/50\n",
            "134/134 - 3s - loss: 1.5685 - accuracy: 0.4185 - val_loss: 3.8491 - val_accuracy: 0.1230\n",
            "Epoch 8/50\n",
            "134/134 - 3s - loss: 1.5331 - accuracy: 0.4340 - val_loss: 4.0873 - val_accuracy: 0.1081\n",
            "Epoch 9/50\n",
            "134/134 - 3s - loss: 1.5103 - accuracy: 0.4420 - val_loss: 3.7592 - val_accuracy: 0.1057\n",
            "Epoch 10/50\n",
            "134/134 - 3s - loss: 1.4856 - accuracy: 0.4534 - val_loss: 3.5035 - val_accuracy: 0.1314\n",
            "Epoch 11/50\n",
            "134/134 - 3s - loss: 1.4693 - accuracy: 0.4611 - val_loss: 3.9761 - val_accuracy: 0.1129\n",
            "Epoch 12/50\n",
            "134/134 - 3s - loss: 1.4399 - accuracy: 0.4717 - val_loss: 3.8247 - val_accuracy: 0.1198\n",
            "Epoch 13/50\n",
            "134/134 - 3s - loss: 1.4217 - accuracy: 0.4782 - val_loss: 3.9849 - val_accuracy: 0.1250\n",
            "Epoch 14/50\n",
            "134/134 - 3s - loss: 1.4078 - accuracy: 0.4854 - val_loss: 4.2717 - val_accuracy: 0.1210\n",
            "Epoch 15/50\n",
            "134/134 - 3s - loss: 1.3876 - accuracy: 0.4933 - val_loss: 3.6115 - val_accuracy: 0.1289\n",
            "Epoch 16/50\n",
            "134/134 - 3s - loss: 1.3826 - accuracy: 0.4926 - val_loss: 3.7456 - val_accuracy: 0.1546\n",
            "Epoch 17/50\n",
            "134/134 - 3s - loss: 1.3622 - accuracy: 0.5077 - val_loss: 3.8623 - val_accuracy: 0.1252\n",
            "Epoch 18/50\n",
            "134/134 - 3s - loss: 1.3499 - accuracy: 0.5089 - val_loss: 3.5488 - val_accuracy: 0.1404\n",
            "Epoch 19/50\n",
            "134/134 - 3s - loss: 1.3367 - accuracy: 0.5156 - val_loss: 3.8395 - val_accuracy: 0.1247\n",
            "Epoch 20/50\n",
            "134/134 - 3s - loss: 1.3311 - accuracy: 0.5207 - val_loss: 3.5802 - val_accuracy: 0.1435\n",
            "Epoch 21/50\n",
            "134/134 - 3s - loss: 1.3111 - accuracy: 0.5240 - val_loss: 3.9075 - val_accuracy: 0.1199\n",
            "Epoch 22/50\n",
            "134/134 - 3s - loss: 1.2965 - accuracy: 0.5316 - val_loss: 3.7240 - val_accuracy: 0.1420\n",
            "Epoch 23/50\n",
            "134/134 - 3s - loss: 1.2987 - accuracy: 0.5286 - val_loss: 3.3420 - val_accuracy: 0.1337\n",
            "Epoch 24/50\n",
            "134/134 - 3s - loss: 1.2951 - accuracy: 0.5278 - val_loss: 3.4018 - val_accuracy: 0.1333\n",
            "Epoch 25/50\n",
            "134/134 - 3s - loss: 1.2720 - accuracy: 0.5416 - val_loss: 3.5468 - val_accuracy: 0.1392\n",
            "Epoch 26/50\n",
            "134/134 - 3s - loss: 1.2761 - accuracy: 0.5424 - val_loss: 3.2651 - val_accuracy: 0.1387\n",
            "Epoch 27/50\n",
            "134/134 - 3s - loss: 1.2585 - accuracy: 0.5480 - val_loss: 3.2595 - val_accuracy: 0.1569\n",
            "Epoch 28/50\n",
            "134/134 - 3s - loss: 1.2551 - accuracy: 0.5486 - val_loss: 3.3402 - val_accuracy: 0.1495\n",
            "Epoch 29/50\n",
            "134/134 - 3s - loss: 1.2508 - accuracy: 0.5480 - val_loss: 3.4958 - val_accuracy: 0.1501\n",
            "Epoch 30/50\n",
            "134/134 - 3s - loss: 1.2492 - accuracy: 0.5486 - val_loss: 3.2151 - val_accuracy: 0.1360\n",
            "Epoch 31/50\n",
            "134/134 - 3s - loss: 1.2327 - accuracy: 0.5585 - val_loss: 3.2834 - val_accuracy: 0.1337\n",
            "Epoch 32/50\n",
            "134/134 - 3s - loss: 1.2348 - accuracy: 0.5544 - val_loss: 3.4421 - val_accuracy: 0.1373\n",
            "Epoch 33/50\n",
            "134/134 - 3s - loss: 1.2244 - accuracy: 0.5613 - val_loss: 3.7409 - val_accuracy: 0.1448\n",
            "Epoch 34/50\n",
            "134/134 - 3s - loss: 1.2181 - accuracy: 0.5626 - val_loss: 3.8064 - val_accuracy: 0.1170\n",
            "Epoch 35/50\n",
            "134/134 - 3s - loss: 1.2204 - accuracy: 0.5631 - val_loss: 3.3770 - val_accuracy: 0.1215\n",
            "Epoch 36/50\n",
            "134/134 - 3s - loss: 1.2106 - accuracy: 0.5669 - val_loss: 3.5511 - val_accuracy: 0.1401\n",
            "Epoch 37/50\n",
            "134/134 - 3s - loss: 1.2091 - accuracy: 0.5696 - val_loss: 3.2723 - val_accuracy: 0.1257\n",
            "Epoch 38/50\n",
            "134/134 - 3s - loss: 1.2089 - accuracy: 0.5678 - val_loss: 3.3280 - val_accuracy: 0.1098\n",
            "Epoch 39/50\n",
            "134/134 - 3s - loss: 1.1938 - accuracy: 0.5746 - val_loss: 3.3363 - val_accuracy: 0.1486\n",
            "Epoch 40/50\n",
            "134/134 - 3s - loss: 1.1939 - accuracy: 0.5762 - val_loss: 3.2969 - val_accuracy: 0.1213\n",
            "Epoch 41/50\n",
            "134/134 - 3s - loss: 1.1904 - accuracy: 0.5780 - val_loss: 3.7365 - val_accuracy: 0.1256\n",
            "Epoch 42/50\n",
            "134/134 - 3s - loss: 1.1862 - accuracy: 0.5763 - val_loss: 2.8122 - val_accuracy: 0.1591\n",
            "Epoch 43/50\n",
            "134/134 - 3s - loss: 1.1759 - accuracy: 0.5829 - val_loss: 3.2767 - val_accuracy: 0.1240\n",
            "Epoch 44/50\n",
            "134/134 - 3s - loss: 1.1898 - accuracy: 0.5782 - val_loss: 3.0882 - val_accuracy: 0.1365\n",
            "Epoch 45/50\n",
            "134/134 - 3s - loss: 1.1834 - accuracy: 0.5791 - val_loss: 3.1137 - val_accuracy: 0.1359\n",
            "Epoch 46/50\n",
            "134/134 - 3s - loss: 1.1714 - accuracy: 0.5850 - val_loss: 3.2158 - val_accuracy: 0.1567\n",
            "Epoch 47/50\n",
            "134/134 - 3s - loss: 1.1736 - accuracy: 0.5833 - val_loss: 3.1732 - val_accuracy: 0.1493\n",
            "Epoch 48/50\n",
            "134/134 - 3s - loss: 1.1591 - accuracy: 0.5851 - val_loss: 3.3469 - val_accuracy: 0.1497\n",
            "Epoch 49/50\n",
            "134/134 - 3s - loss: 1.1739 - accuracy: 0.5834 - val_loss: 3.0653 - val_accuracy: 0.1373\n",
            "Epoch 50/50\n",
            "134/134 - 3s - loss: 1.1588 - accuracy: 0.5877 - val_loss: 3.4495 - val_accuracy: 0.1092\n"
          ],
          "name": "stdout"
        }
      ]
    },
    {
      "cell_type": "code",
      "metadata": {
        "id": "rzLTGAOzZ7zi"
      },
      "source": [
        "from matplotlib import pyplot as plt\n",
        "def show_train_history(train_history,train,validation):\n",
        "  plt.plot(train_history.history[train])\n",
        "  plt.plot(train_history.history[validation])\n",
        "  plt.title('Train History')\n",
        "  plt.ylabel('train')\n",
        "  plt.xlabel('Epoch')\n",
        "  plt.legend(['train','validation'],loc='upper left')\n",
        "  plt.show()"
      ],
      "execution_count": 31,
      "outputs": []
    },
    {
      "cell_type": "code",
      "metadata": {
        "colab": {
          "base_uri": "https://localhost:8080/",
          "height": 295
        },
        "id": "FliqaslyfUOd",
        "outputId": "fb9b23d5-1ed2-4a54-eb14-3d567f5193b4"
      },
      "source": [
        "show_train_history(train_history,'accuracy','val_accuracy')"
      ],
      "execution_count": 32,
      "outputs": [
        {
          "output_type": "display_data",
          "data": {
            "image/png": "[encoded data removed]",
            "text/plain": [
              "<Figure size 432x288 with 1 Axes>"
            ]
          },
          "metadata": {
            "tags": [],
            "needs_background": "light"
          }
        }
      ]
    },
    {
      "cell_type": "code",
      "metadata": {
        "colab": {
          "base_uri": "https://localhost:8080/",
          "height": 295
        },
        "id": "CLUnjiW4fbvQ",
        "outputId": "5a4e3108-5d8c-4f31-8bb8-6feebf39dbb6"
      },
      "source": [
        "show_train_history(train_history,'loss','val_loss')"
      ],
      "execution_count": 33,
      "outputs": [
        {
          "output_type": "display_data",
          "data": {
            "image/png": "[encoded data removed]",
            "text/plain": [
              "<Figure size 432x288 with 1 Axes>"
            ]
          },
          "metadata": {
            "tags": [],
            "needs_background": "light"
          }
        }
      ]
    },
    {
      "cell_type": "code",
      "metadata": {
        "id": "J5uBX8IWgmJ8"
      },
      "source": [
        "### estimate model accuracy"
      ],
      "execution_count": 34,
      "outputs": []
    },
    {
      "cell_type": "code",
      "metadata": {
        "id": "CNqM3qWAgmRX"
      },
      "source": [
        "scores=model.evaluate(x_img_test_normalize,y_label_test_OneHot,verbose=0)"
      ],
      "execution_count": 35,
      "outputs": []
    },
    {
      "cell_type": "code",
      "metadata": {
        "colab": {
          "base_uri": "https://localhost:8080/"
        },
        "id": "cLAn9V1ogrBf",
        "outputId": "4a1e5965-21f2-49f4-b483-555732036d4e"
      },
      "source": [
        "print(f'Test loss: {scores[0]} / Test accuracy: {scores[1]}')"
      ],
      "execution_count": 36,
      "outputs": [
        {
          "output_type": "stream",
          "text": [
            "Test loss: 3.436331272125244 / Test accuracy: 0.11230000108480453\n"
          ],
          "name": "stdout"
        }
      ]
    },
    {
      "cell_type": "code",
      "metadata": {
        "colab": {
          "base_uri": "https://localhost:8080/"
        },
        "id": "UNRhGtVugvNM",
        "outputId": "a5bd0a36-71e7-4134-eae2-2a6009d4c0b5"
      },
      "source": [
        "prediction=model.predict_classes(x_img_test_normalize) ### prediction"
      ],
      "execution_count": 37,
      "outputs": [
        {
          "output_type": "stream",
          "text": [
            "/usr/local/lib/python3.7/dist-packages/tensorflow/python/keras/engine/sequential.py:450: UserWarning: `model.predict_classes()` is deprecated and will be removed after 2021-01-01. Please use instead:* `np.argmax(model.predict(x), axis=-1)`,   if your model does multi-class classification   (e.g. if it uses a `softmax` last-layer activation).* `(model.predict(x) > 0.5).astype(\"int32\")`,   if your model does binary classification   (e.g. if it uses a `sigmoid` last-layer activation).\n",
            "  warnings.warn('`model.predict_classes()` is deprecated and '\n"
          ],
          "name": "stderr"
        }
      ]
    },
    {
      "cell_type": "code",
      "metadata": {
        "colab": {
          "base_uri": "https://localhost:8080/"
        },
        "id": "e9dj4EcTkNPd",
        "outputId": "2ceb774b-4a04-4155-b94b-72a2c3cdabd4"
      },
      "source": [
        "prediction"
      ],
      "execution_count": 38,
      "outputs": [
        {
          "output_type": "execute_result",
          "data": {
            "text/plain": [
              "array([6, 8, 6, ..., 6, 6, 4])"
            ]
          },
          "metadata": {
            "tags": []
          },
          "execution_count": 38
        }
      ]
    },
    {
      "cell_type": "code",
      "metadata": {
        "id": "ii4zLAJNgz_w"
      },
      "source": [
        "def plot_images_labels_prediction(images,labels,prediction,idx,num=10):\n",
        "  fig=plt.gcf()\n",
        "  fig.set_size_inches(12,14)\n",
        "  if num>25:num=25\n",
        "  for i in range(0,num):\n",
        "    ax=plt.subplot(5,5,1+i)\n",
        "    ax.imshow(images[idx],cmap='binary')\n",
        "    title=str(i) +',' +label_dict[labels[i][0]]\n",
        "    if len(prediction)>0:\n",
        "      title+='=>'+label_dict[prediction[i]]\n",
        "    ax.set_title(title,fontsize=10)\n",
        "    ax.set_xticks([]);ax.set_yticks([])\n",
        "    idx+=1\n",
        "  plt.show()"
      ],
      "execution_count": 39,
      "outputs": []
    },
    {
      "cell_type": "code",
      "metadata": {
        "colab": {
          "base_uri": "https://localhost:8080/",
          "height": 321
        },
        "id": "Ss7dd8dJg2UX",
        "outputId": "230938f4-e7b2-4f52-baad-2f1cef567dee"
      },
      "source": [
        "plot_images_labels_prediction(x_img_test,y_label_test,prediction,0,10)"
      ],
      "execution_count": 40,
      "outputs": [
        {
          "output_type": "display_data",
          "data": {
            "image/png": "[encoded data removed]",
            "text/plain": [
              "<Figure size 864x1008 with 10 Axes>"
            ]
          },
          "metadata": {
            "tags": []
          }
        }
      ]
    },
    {
      "cell_type": "code",
      "metadata": {
        "id": "PpPOXOuZg6wp"
      },
      "source": [
        "# check for prediction rate\n",
        "predicted_Probability=model.predict(x_img_test_normalize)"
      ],
      "execution_count": 41,
      "outputs": []
    },
    {
      "cell_type": "code",
      "metadata": {
        "id": "ykuUEDYlg_vY"
      },
      "source": [
        "def show_predicted_probability(y,prediction,x_img,predicted_Probability,i):\n",
        "  print('label:',label_dict[y[i][0]],\n",
        "        'predict',label_dict[prediction[i]])\n",
        "  plt.figure(figsize=(2,2))\n",
        "  plt.imshow(np.reshape(x_img_test[i],(32,32,3)))\n",
        "  plt.show()\n",
        "  for j in range(10):\n",
        "    print(label_dict[j]+ ' probability:%1.9f'%(predicted_Probability[i][j]))\n"
      ],
      "execution_count": 42,
      "outputs": []
    },
    {
      "cell_type": "code",
      "metadata": {
        "colab": {
          "base_uri": "https://localhost:8080/",
          "height": 355
        },
        "id": "EDAw57mNhCGo",
        "outputId": "74449d62-e32a-4031-b951-e772e5f96708"
      },
      "source": [
        "show_predicted_probability(y_label_test,prediction,x_img_test,predicted_Probability,0)"
      ],
      "execution_count": 43,
      "outputs": [
        {
          "output_type": "stream",
          "text": [
            "label: cat predict frog\n"
          ],
          "name": "stdout"
        },
        {
          "output_type": "display_data",
          "data": {
            "image/png": "[encoded data removed]",
            "text/plain": [
              "<Figure size 144x144 with 1 Axes>"
            ]
          },
          "metadata": {
            "tags": [],
            "needs_background": "light"
          }
        },
        {
          "output_type": "stream",
          "text": [
            "airplane probability:0.008289929\n",
            "automobile probability:0.002336697\n",
            "bird probability:0.099044666\n",
            "cat probability:0.300145179\n",
            "deer probability:0.091164939\n",
            "dog probability:0.081014745\n",
            "frog probability:0.393253475\n",
            "horse probability:0.009932914\n",
            "ship probability:0.012794287\n",
            "truck probability:0.002023208\n"
          ],
          "name": "stdout"
        }
      ]
    },
    {
      "cell_type": "markdown",
      "metadata": {
        "id": "N5rt2fK5fntZ"
      },
      "source": [
        "#Confusion matrix"
      ]
    },
    {
      "cell_type": "code",
      "metadata": {
        "id": "TjlrqQgShBjE"
      },
      "source": [
        "import pandas as pd"
      ],
      "execution_count": 44,
      "outputs": []
    },
    {
      "cell_type": "code",
      "metadata": {
        "colab": {
          "base_uri": "https://localhost:8080/",
          "height": 370
        },
        "id": "vD-agaQbfqVp",
        "outputId": "fd03b446-f873-46e6-d838-0c670fcb4f0b"
      },
      "source": [
        "pd.crosstab(y_label_test.reshape(-1),prediction,rownames=['label'],colnames=['predict'])"
      ],
      "execution_count": 45,
      "outputs": [
        {
          "output_type": "execute_result",
          "data": {
            "text/html": [
              "<div>\n",
              "<style scoped>\n",
              "    .dataframe tbody tr th:only-of-type {\n",
              "        vertical-align: middle;\n",
              "    }\n",
              "\n",
              "    .dataframe tbody tr th {\n",
              "        vertical-align: top;\n",
              "    }\n",
              "\n",
              "    .dataframe thead th {\n",
              "        text-align: right;\n",
              "    }\n",
              "</style>\n",
              "<table border=\"1\" class=\"dataframe\">\n",
              "  <thead>\n",
              "    <tr style=\"text-align: right;\">\n",
              "      <th>predict</th>\n",
              "      <th>1</th>\n",
              "      <th>2</th>\n",
              "      <th>3</th>\n",
              "      <th>4</th>\n",
              "      <th>5</th>\n",
              "      <th>6</th>\n",
              "      <th>8</th>\n",
              "      <th>9</th>\n",
              "    </tr>\n",
              "    <tr>\n",
              "      <th>label</th>\n",
              "      <th></th>\n",
              "      <th></th>\n",
              "      <th></th>\n",
              "      <th></th>\n",
              "      <th></th>\n",
              "      <th></th>\n",
              "      <th></th>\n",
              "      <th></th>\n",
              "    </tr>\n",
              "  </thead>\n",
              "  <tbody>\n",
              "    <tr>\n",
              "      <th>0</th>\n",
              "      <td>0</td>\n",
              "      <td>5</td>\n",
              "      <td>14</td>\n",
              "      <td>20</td>\n",
              "      <td>0</td>\n",
              "      <td>961</td>\n",
              "      <td>0</td>\n",
              "      <td>0</td>\n",
              "    </tr>\n",
              "    <tr>\n",
              "      <th>1</th>\n",
              "      <td>15</td>\n",
              "      <td>0</td>\n",
              "      <td>1</td>\n",
              "      <td>24</td>\n",
              "      <td>0</td>\n",
              "      <td>959</td>\n",
              "      <td>1</td>\n",
              "      <td>0</td>\n",
              "    </tr>\n",
              "    <tr>\n",
              "      <th>2</th>\n",
              "      <td>0</td>\n",
              "      <td>2</td>\n",
              "      <td>9</td>\n",
              "      <td>30</td>\n",
              "      <td>0</td>\n",
              "      <td>959</td>\n",
              "      <td>0</td>\n",
              "      <td>0</td>\n",
              "    </tr>\n",
              "    <tr>\n",
              "      <th>3</th>\n",
              "      <td>0</td>\n",
              "      <td>0</td>\n",
              "      <td>23</td>\n",
              "      <td>3</td>\n",
              "      <td>0</td>\n",
              "      <td>974</td>\n",
              "      <td>0</td>\n",
              "      <td>0</td>\n",
              "    </tr>\n",
              "    <tr>\n",
              "      <th>4</th>\n",
              "      <td>0</td>\n",
              "      <td>0</td>\n",
              "      <td>1</td>\n",
              "      <td>52</td>\n",
              "      <td>0</td>\n",
              "      <td>947</td>\n",
              "      <td>0</td>\n",
              "      <td>0</td>\n",
              "    </tr>\n",
              "    <tr>\n",
              "      <th>5</th>\n",
              "      <td>0</td>\n",
              "      <td>0</td>\n",
              "      <td>64</td>\n",
              "      <td>29</td>\n",
              "      <td>3</td>\n",
              "      <td>904</td>\n",
              "      <td>0</td>\n",
              "      <td>0</td>\n",
              "    </tr>\n",
              "    <tr>\n",
              "      <th>6</th>\n",
              "      <td>0</td>\n",
              "      <td>0</td>\n",
              "      <td>1</td>\n",
              "      <td>0</td>\n",
              "      <td>0</td>\n",
              "      <td>999</td>\n",
              "      <td>0</td>\n",
              "      <td>0</td>\n",
              "    </tr>\n",
              "    <tr>\n",
              "      <th>7</th>\n",
              "      <td>0</td>\n",
              "      <td>0</td>\n",
              "      <td>7</td>\n",
              "      <td>200</td>\n",
              "      <td>0</td>\n",
              "      <td>793</td>\n",
              "      <td>0</td>\n",
              "      <td>0</td>\n",
              "    </tr>\n",
              "    <tr>\n",
              "      <th>8</th>\n",
              "      <td>0</td>\n",
              "      <td>0</td>\n",
              "      <td>26</td>\n",
              "      <td>0</td>\n",
              "      <td>0</td>\n",
              "      <td>949</td>\n",
              "      <td>25</td>\n",
              "      <td>0</td>\n",
              "    </tr>\n",
              "    <tr>\n",
              "      <th>9</th>\n",
              "      <td>1</td>\n",
              "      <td>0</td>\n",
              "      <td>2</td>\n",
              "      <td>11</td>\n",
              "      <td>0</td>\n",
              "      <td>982</td>\n",
              "      <td>0</td>\n",
              "      <td>4</td>\n",
              "    </tr>\n",
              "  </tbody>\n",
              "</table>\n",
              "</div>"
            ],
            "text/plain": [
              "predict   1  2   3    4  5    6   8  9\n",
              "label                                 \n",
              "0         0  5  14   20  0  961   0  0\n",
              "1        15  0   1   24  0  959   1  0\n",
              "2         0  2   9   30  0  959   0  0\n",
              "3         0  0  23    3  0  974   0  0\n",
              "4         0  0   1   52  0  947   0  0\n",
              "5         0  0  64   29  3  904   0  0\n",
              "6         0  0   1    0  0  999   0  0\n",
              "7         0  0   7  200  0  793   0  0\n",
              "8         0  0  26    0  0  949  25  0\n",
              "9         1  0   2   11  0  982   0  4"
            ]
          },
          "metadata": {
            "tags": []
          },
          "execution_count": 45
        }
      ]
    },
    {
      "cell_type": "code",
      "metadata": {
        "id": "mvxedLAxgTfS"
      },
      "source": [
        ""
      ],
      "execution_count": 30,
      "outputs": []
    },
    {
      "cell_type": "code",
      "metadata": {
        "id": "qddPJ9HX40o8"
      },
      "source": [
        ""
      ],
      "execution_count": 30,
      "outputs": []
    }
  ]
}