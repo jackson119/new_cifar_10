{
  "nbformat": 4,
  "nbformat_minor": 0,
  "metadata": {
    "accelerator": "GPU",
    "colab": {
      "name": "new_ cifar10_3(0.05).ipynb",
      "provenance": [],
      "authorship_tag": "ABX9TyMcCiPM8f7BUvbPPxjA/DDG",
      "include_colab_link": true
    },
    "kernelspec": {
      "display_name": "Python 3",
      "name": "python3"
    },
    "language_info": {
      "name": "python"
    }
  },
  "cells": [
    {
      "cell_type": "markdown",
      "metadata": {
        "id": "view-in-github",
        "colab_type": "text"
      },
      "source": [
        "<a href=\"https://colab.research.google.com/github/jackson119/new_cifar_10/blob/main/new__cifar10_3(0.05).ipynb\" target=\"_parent\"><img src=\"https://colab.research.google.com/assets/colab-badge.svg\" alt=\"Open In Colab\"/></a>"
      ]
    },
    {
      "cell_type": "markdown",
      "metadata": {
        "id": "SGKXC7W7pnht"
      },
      "source": [
        "# Data Preprocessing"
      ]
    },
    {
      "cell_type": "code",
      "metadata": {
        "id": "91H4jfpypp4h"
      },
      "source": [
        "from tensorflow.keras.datasets import cifar10\n",
        "import numpy as np\n",
        "np.random.seed(10)"
      ],
      "execution_count": 1,
      "outputs": []
    },
    {
      "cell_type": "code",
      "metadata": {
        "id": "jrfbgEOdprAB",
        "colab": {
          "base_uri": "https://localhost:8080/"
        },
        "outputId": "9823ee1e-84bc-44b0-ed0f-20a2f252795b"
      },
      "source": [
        "(x_img_train,y_label_train),(x_img_test,y_label_test)=cifar10.load_data()"
      ],
      "execution_count": 2,
      "outputs": [
        {
          "output_type": "stream",
          "text": [
            "Downloading data from https://www.cs.toronto.edu/~kriz/cifar-10-python.tar.gz\n",
            "170500096/170498071 [==============================] - 5s 0us/step\n"
          ],
          "name": "stdout"
        }
      ]
    },
    {
      "cell_type": "code",
      "metadata": {
        "colab": {
          "base_uri": "https://localhost:8080/"
        },
        "id": "Bv64ED30R18B",
        "outputId": "ea528962-89bb-4d2b-e44a-8fb285349706"
      },
      "source": [
        "print(\"train data:\",\"images:\",x_img_train.shape,\"labels:\",y_label_train.shape)\n",
        "print(\"test data:\",\"images:\",x_img_test.shape,\"labels:\",y_label_test.shape)"
      ],
      "execution_count": 3,
      "outputs": [
        {
          "output_type": "stream",
          "text": [
            "train data: images: (50000, 32, 32, 3) labels: (50000, 1)\n",
            "test data: images: (10000, 32, 32, 3) labels: (10000, 1)\n"
          ],
          "name": "stdout"
        }
      ]
    },
    {
      "cell_type": "markdown",
      "metadata": {
        "id": "10BLqTKNSYKW"
      },
      "source": [
        "# standardize and perform one hot encoding"
      ]
    },
    {
      "cell_type": "code",
      "metadata": {
        "id": "_bdYalY-Sfva"
      },
      "source": [
        "x_img_train_normalize=x_img_train.astype('float32')/255.0\n",
        "x_img_test_normalize=x_img_test.astype('float32')/255.0"
      ],
      "execution_count": 4,
      "outputs": []
    },
    {
      "cell_type": "code",
      "metadata": {
        "id": "-7OJEuxpSpXX"
      },
      "source": [
        "from tensorflow.keras import utils"
      ],
      "execution_count": 5,
      "outputs": []
    },
    {
      "cell_type": "code",
      "metadata": {
        "id": "bvesDQfhSsmH"
      },
      "source": [
        "y_label_train_OneHot=utils.to_categorical(y_label_train)\n",
        "y_label_test_OneHot=utils.to_categorical(y_label_test)"
      ],
      "execution_count": 6,
      "outputs": []
    },
    {
      "cell_type": "markdown",
      "metadata": {
        "id": "DSmFxX9xSwCN"
      },
      "source": [
        "# Images and label"
      ]
    },
    {
      "cell_type": "code",
      "metadata": {
        "id": "6AshrU3USxld"
      },
      "source": [
        "label_dict={0:\"airplane\",1:\"automobile\",2:\"bird\",3:\"cat\",4:\"deer\",5:\"dog\",6:\"frog\",7:\"horse\",8:\"ship\",9:\"truck\"}"
      ],
      "execution_count": 7,
      "outputs": []
    },
    {
      "cell_type": "code",
      "metadata": {
        "id": "KADDqJmsSzCc"
      },
      "source": [
        "# Construct model\n",
        "from keras.models import Sequential\n",
        "from keras.layers import Dense,Dropout,Activation,Flatten\n",
        "from keras.layers import Conv2D,MaxPooling2D,ZeroPadding2D"
      ],
      "execution_count": 8,
      "outputs": []
    },
    {
      "cell_type": "code",
      "metadata": {
        "id": "2tUCpCqHS5sb"
      },
      "source": [
        "model=Sequential()"
      ],
      "execution_count": 9,
      "outputs": []
    },
    {
      "cell_type": "code",
      "metadata": {
        "id": "IP4YwNOFS62i"
      },
      "source": [
        "model.add(Conv2D(filters=32,kernel_size=(3,3),input_shape=(32,32,3),activation='relu',padding='same'))\n",
        "model.add(Dropout(0.05))\n",
        "model.add(Conv2D(filters=32,kernel_size=(3,3),activation='relu',padding='same'))\n",
        "model.add(MaxPooling2D(pool_size=(2,2)))"
      ],
      "execution_count": 10,
      "outputs": []
    },
    {
      "cell_type": "code",
      "metadata": {
        "id": "VrEsDZ3OYZv6"
      },
      "source": [
        "model.add(Conv2D(filters=64,kernel_size=(3,3),activation='relu',padding='same'))\n",
        "model.add(Dropout(0.05))\n",
        "model.add(Conv2D(filters=64,kernel_size=(3,3),activation='relu',padding='same'))\n",
        "model.add(MaxPooling2D(pool_size=(2,2)))"
      ],
      "execution_count": 11,
      "outputs": []
    },
    {
      "cell_type": "code",
      "metadata": {
        "id": "Lfbpty5kYwiH"
      },
      "source": [
        "model.add(Conv2D(filters=128,kernel_size=(3,3),activation='relu',padding='same'))\n",
        "model.add(Dropout(0.05))\n",
        "model.add(Conv2D(filters=128,kernel_size=(3,3),activation='relu',padding='same'))\n",
        "model.add(MaxPooling2D(pool_size=(2,2)))"
      ],
      "execution_count": 12,
      "outputs": []
    },
    {
      "cell_type": "code",
      "metadata": {
        "id": "YGEmb5pbZYhj"
      },
      "source": [
        "### neural network\n",
        "model.add(Flatten())\n",
        "model.add(Dropout(0.05))\n",
        "### hidden layer 1\n",
        "model.add(Dense(2500,activation='relu'))\n",
        "model.add(Dropout(0.05))\n",
        "### hidden layer 2\n",
        "model.add(Dense(1500,activation='relu'))\n",
        "model.add(Dropout(0.05))\n",
        "### output layer\n",
        "model.add(Dense(10,activation='softmax'))"
      ],
      "execution_count": 13,
      "outputs": []
    },
    {
      "cell_type": "code",
      "metadata": {
        "colab": {
          "base_uri": "https://localhost:8080/"
        },
        "id": "2kjnUEYuZtK5",
        "outputId": "2f5c42cd-6129-4b30-e198-fcb9a7e95f53"
      },
      "source": [
        "print(model.summary())"
      ],
      "execution_count": 14,
      "outputs": [
        {
          "output_type": "stream",
          "text": [
            "Model: \"sequential\"\n",
            "_________________________________________________________________\n",
            "Layer (type)                 Output Shape              Param #   \n",
            "=================================================================\n",
            "conv2d (Conv2D)              (None, 32, 32, 32)        896       \n",
            "_________________________________________________________________\n",
            "dropout (Dropout)            (None, 32, 32, 32)        0         \n",
            "_________________________________________________________________\n",
            "conv2d_1 (Conv2D)            (None, 32, 32, 32)        9248      \n",
            "_________________________________________________________________\n",
            "max_pooling2d (MaxPooling2D) (None, 16, 16, 32)        0         \n",
            "_________________________________________________________________\n",
            "conv2d_2 (Conv2D)            (None, 16, 16, 64)        18496     \n",
            "_________________________________________________________________\n",
            "dropout_1 (Dropout)          (None, 16, 16, 64)        0         \n",
            "_________________________________________________________________\n",
            "conv2d_3 (Conv2D)            (None, 16, 16, 64)        36928     \n",
            "_________________________________________________________________\n",
            "max_pooling2d_1 (MaxPooling2 (None, 8, 8, 64)          0         \n",
            "_________________________________________________________________\n",
            "conv2d_4 (Conv2D)            (None, 8, 8, 128)         73856     \n",
            "_________________________________________________________________\n",
            "dropout_2 (Dropout)          (None, 8, 8, 128)         0         \n",
            "_________________________________________________________________\n",
            "conv2d_5 (Conv2D)            (None, 8, 8, 128)         147584    \n",
            "_________________________________________________________________\n",
            "max_pooling2d_2 (MaxPooling2 (None, 4, 4, 128)         0         \n",
            "_________________________________________________________________\n",
            "flatten (Flatten)            (None, 2048)              0         \n",
            "_________________________________________________________________\n",
            "dropout_3 (Dropout)          (None, 2048)              0         \n",
            "_________________________________________________________________\n",
            "dense (Dense)                (None, 2500)              5122500   \n",
            "_________________________________________________________________\n",
            "dropout_4 (Dropout)          (None, 2500)              0         \n",
            "_________________________________________________________________\n",
            "dense_1 (Dense)              (None, 1500)              3751500   \n",
            "_________________________________________________________________\n",
            "dropout_5 (Dropout)          (None, 1500)              0         \n",
            "_________________________________________________________________\n",
            "dense_2 (Dense)              (None, 10)                15010     \n",
            "=================================================================\n",
            "Total params: 9,176,018\n",
            "Trainable params: 9,176,018\n",
            "Non-trainable params: 0\n",
            "_________________________________________________________________\n",
            "None\n"
          ],
          "name": "stdout"
        }
      ]
    },
    {
      "cell_type": "code",
      "metadata": {
        "colab": {
          "base_uri": "https://localhost:8080/"
        },
        "id": "j64CEumxZvDu",
        "outputId": "d3b63ecb-f559-4754-a0c3-9c96a2de82bd"
      },
      "source": [
        "model.compile(loss='categorical_crossentropy',optimizer='adam',metrics=['accuracy'])\n",
        "train_history=model.fit(x_img_train_normalize,y_label_train_OneHot,validation_split=0.2,epochs=50,batch_size=300,verbose=2)"
      ],
      "execution_count": 15,
      "outputs": [
        {
          "output_type": "stream",
          "text": [
            "Epoch 1/50\n",
            "134/134 - 38s - loss: 1.7878 - accuracy: 0.3289 - val_loss: 1.5170 - val_accuracy: 0.4497\n",
            "Epoch 2/50\n",
            "134/134 - 4s - loss: 1.3124 - accuracy: 0.5193 - val_loss: 1.2562 - val_accuracy: 0.5455\n",
            "Epoch 3/50\n",
            "134/134 - 4s - loss: 1.0713 - accuracy: 0.6135 - val_loss: 0.9959 - val_accuracy: 0.6406\n",
            "Epoch 4/50\n",
            "134/134 - 4s - loss: 0.8920 - accuracy: 0.6820 - val_loss: 0.9109 - val_accuracy: 0.6807\n",
            "Epoch 5/50\n",
            "134/134 - 4s - loss: 0.7598 - accuracy: 0.7304 - val_loss: 0.7958 - val_accuracy: 0.7190\n",
            "Epoch 6/50\n",
            "134/134 - 4s - loss: 0.6446 - accuracy: 0.7722 - val_loss: 0.7724 - val_accuracy: 0.7323\n",
            "Epoch 7/50\n",
            "134/134 - 4s - loss: 0.5441 - accuracy: 0.8073 - val_loss: 0.8271 - val_accuracy: 0.7248\n",
            "Epoch 8/50\n",
            "134/134 - 4s - loss: 0.4568 - accuracy: 0.8364 - val_loss: 0.7503 - val_accuracy: 0.7553\n",
            "Epoch 9/50\n",
            "134/134 - 4s - loss: 0.3614 - accuracy: 0.8735 - val_loss: 0.7555 - val_accuracy: 0.7697\n",
            "Epoch 10/50\n",
            "134/134 - 4s - loss: 0.2809 - accuracy: 0.8996 - val_loss: 0.8481 - val_accuracy: 0.7543\n",
            "Epoch 11/50\n",
            "134/134 - 4s - loss: 0.2285 - accuracy: 0.9208 - val_loss: 0.8511 - val_accuracy: 0.7663\n",
            "Epoch 12/50\n",
            "134/134 - 4s - loss: 0.1830 - accuracy: 0.9358 - val_loss: 0.9184 - val_accuracy: 0.7627\n",
            "Epoch 13/50\n",
            "134/134 - 4s - loss: 0.1311 - accuracy: 0.9537 - val_loss: 0.9837 - val_accuracy: 0.7676\n",
            "Epoch 14/50\n",
            "134/134 - 4s - loss: 0.1149 - accuracy: 0.9601 - val_loss: 1.1972 - val_accuracy: 0.7541\n",
            "Epoch 15/50\n",
            "134/134 - 4s - loss: 0.1018 - accuracy: 0.9668 - val_loss: 1.0490 - val_accuracy: 0.7660\n",
            "Epoch 16/50\n",
            "134/134 - 4s - loss: 0.0795 - accuracy: 0.9736 - val_loss: 1.1277 - val_accuracy: 0.7760\n",
            "Epoch 17/50\n",
            "134/134 - 4s - loss: 0.0820 - accuracy: 0.9723 - val_loss: 1.2188 - val_accuracy: 0.7583\n",
            "Epoch 18/50\n",
            "134/134 - 4s - loss: 0.0736 - accuracy: 0.9750 - val_loss: 1.2959 - val_accuracy: 0.7575\n",
            "Epoch 19/50\n",
            "134/134 - 4s - loss: 0.0755 - accuracy: 0.9746 - val_loss: 1.2721 - val_accuracy: 0.7490\n",
            "Epoch 20/50\n",
            "134/134 - 4s - loss: 0.0689 - accuracy: 0.9769 - val_loss: 1.2036 - val_accuracy: 0.7684\n",
            "Epoch 21/50\n",
            "134/134 - 4s - loss: 0.0626 - accuracy: 0.9785 - val_loss: 1.2167 - val_accuracy: 0.7677\n",
            "Epoch 22/50\n",
            "134/134 - 4s - loss: 0.0527 - accuracy: 0.9827 - val_loss: 1.4222 - val_accuracy: 0.7629\n",
            "Epoch 23/50\n",
            "134/134 - 4s - loss: 0.0556 - accuracy: 0.9815 - val_loss: 1.3695 - val_accuracy: 0.7600\n",
            "Epoch 24/50\n",
            "134/134 - 4s - loss: 0.0580 - accuracy: 0.9803 - val_loss: 1.3914 - val_accuracy: 0.7587\n",
            "Epoch 25/50\n",
            "134/134 - 5s - loss: 0.0519 - accuracy: 0.9829 - val_loss: 1.3927 - val_accuracy: 0.7695\n",
            "Epoch 26/50\n",
            "134/134 - 5s - loss: 0.0471 - accuracy: 0.9845 - val_loss: 1.3647 - val_accuracy: 0.7661\n",
            "Epoch 27/50\n",
            "134/134 - 5s - loss: 0.0504 - accuracy: 0.9833 - val_loss: 1.3217 - val_accuracy: 0.7632\n",
            "Epoch 28/50\n",
            "134/134 - 5s - loss: 0.0440 - accuracy: 0.9858 - val_loss: 1.4662 - val_accuracy: 0.7626\n",
            "Epoch 29/50\n",
            "134/134 - 5s - loss: 0.0465 - accuracy: 0.9854 - val_loss: 1.3812 - val_accuracy: 0.7680\n",
            "Epoch 30/50\n",
            "134/134 - 5s - loss: 0.0525 - accuracy: 0.9834 - val_loss: 1.2799 - val_accuracy: 0.7651\n",
            "Epoch 31/50\n",
            "134/134 - 5s - loss: 0.0441 - accuracy: 0.9855 - val_loss: 1.3267 - val_accuracy: 0.7745\n",
            "Epoch 32/50\n",
            "134/134 - 5s - loss: 0.0382 - accuracy: 0.9869 - val_loss: 1.3883 - val_accuracy: 0.7688\n",
            "Epoch 33/50\n",
            "134/134 - 5s - loss: 0.0395 - accuracy: 0.9870 - val_loss: 1.3406 - val_accuracy: 0.7711\n",
            "Epoch 34/50\n",
            "134/134 - 5s - loss: 0.0417 - accuracy: 0.9870 - val_loss: 1.3797 - val_accuracy: 0.7762\n",
            "Epoch 35/50\n",
            "134/134 - 5s - loss: 0.0381 - accuracy: 0.9870 - val_loss: 1.4699 - val_accuracy: 0.7640\n",
            "Epoch 36/50\n",
            "134/134 - 5s - loss: 0.0437 - accuracy: 0.9863 - val_loss: 1.3967 - val_accuracy: 0.7495\n",
            "Epoch 37/50\n",
            "134/134 - 5s - loss: 0.0442 - accuracy: 0.9851 - val_loss: 1.3564 - val_accuracy: 0.7702\n",
            "Epoch 38/50\n",
            "134/134 - 5s - loss: 0.0341 - accuracy: 0.9891 - val_loss: 1.4461 - val_accuracy: 0.7655\n",
            "Epoch 39/50\n",
            "134/134 - 5s - loss: 0.0489 - accuracy: 0.9841 - val_loss: 1.3126 - val_accuracy: 0.7710\n",
            "Epoch 40/50\n",
            "134/134 - 5s - loss: 0.0378 - accuracy: 0.9880 - val_loss: 1.3243 - val_accuracy: 0.7680\n",
            "Epoch 41/50\n",
            "134/134 - 5s - loss: 0.0300 - accuracy: 0.9902 - val_loss: 1.4457 - val_accuracy: 0.7728\n",
            "Epoch 42/50\n",
            "134/134 - 5s - loss: 0.0394 - accuracy: 0.9872 - val_loss: 1.5429 - val_accuracy: 0.7571\n",
            "Epoch 43/50\n",
            "134/134 - 5s - loss: 0.0413 - accuracy: 0.9865 - val_loss: 1.5581 - val_accuracy: 0.7575\n",
            "Epoch 44/50\n",
            "134/134 - 5s - loss: 0.0410 - accuracy: 0.9870 - val_loss: 1.5203 - val_accuracy: 0.7665\n",
            "Epoch 45/50\n",
            "134/134 - 5s - loss: 0.0352 - accuracy: 0.9888 - val_loss: 1.5324 - val_accuracy: 0.7682\n",
            "Epoch 46/50\n",
            "134/134 - 5s - loss: 0.0382 - accuracy: 0.9877 - val_loss: 1.4670 - val_accuracy: 0.7728\n",
            "Epoch 47/50\n",
            "134/134 - 5s - loss: 0.0382 - accuracy: 0.9879 - val_loss: 1.6152 - val_accuracy: 0.7642\n",
            "Epoch 48/50\n",
            "134/134 - 5s - loss: 0.0376 - accuracy: 0.9880 - val_loss: 1.5205 - val_accuracy: 0.7666\n",
            "Epoch 49/50\n",
            "134/134 - 5s - loss: 0.0362 - accuracy: 0.9877 - val_loss: 1.5003 - val_accuracy: 0.7660\n",
            "Epoch 50/50\n",
            "134/134 - 5s - loss: 0.0337 - accuracy: 0.9893 - val_loss: 1.4281 - val_accuracy: 0.7673\n"
          ],
          "name": "stdout"
        }
      ]
    },
    {
      "cell_type": "code",
      "metadata": {
        "id": "rzLTGAOzZ7zi"
      },
      "source": [
        "from matplotlib import pyplot as plt\n",
        "def show_train_history(train_history,train,validation):\n",
        "  plt.plot(train_history.history[train])\n",
        "  plt.plot(train_history.history[validation])\n",
        "  plt.title('Train History')\n",
        "  plt.ylabel('train')\n",
        "  plt.xlabel('Epoch')\n",
        "  plt.legend(['train','validation'],loc='upper left')\n",
        "  plt.show()"
      ],
      "execution_count": 16,
      "outputs": []
    },
    {
      "cell_type": "code",
      "metadata": {
        "colab": {
          "base_uri": "https://localhost:8080/",
          "height": 295
        },
        "id": "FliqaslyfUOd",
        "outputId": "c58aa99f-2a4c-4c5b-9aaa-f344e5db02c4"
      },
      "source": [
        "show_train_history(train_history,'accuracy','val_accuracy')"
      ],
      "execution_count": 17,
      "outputs": [
        {
          "output_type": "display_data",
          "data": {
            "image/png": "[encoded data removed]",
            "text/plain": [
              "<Figure size 432x288 with 1 Axes>"
            ]
          },
          "metadata": {
            "tags": [],
            "needs_background": "light"
          }
        }
      ]
    },
    {
      "cell_type": "code",
      "metadata": {
        "colab": {
          "base_uri": "https://localhost:8080/",
          "height": 295
        },
        "id": "CLUnjiW4fbvQ",
        "outputId": "22b656a5-a96c-4a07-cdac-f75cced4b949"
      },
      "source": [
        "show_train_history(train_history,'loss','val_loss')"
      ],
      "execution_count": 18,
      "outputs": [
        {
          "output_type": "display_data",
          "data": {
            "image/png": "[encoded data removed]",
            "text/plain": [
              "<Figure size 432x288 with 1 Axes>"
            ]
          },
          "metadata": {
            "tags": [],
            "needs_background": "light"
          }
        }
      ]
    },
    {
      "cell_type": "code",
      "metadata": {
        "id": "J5uBX8IWgmJ8"
      },
      "source": [
        "### estimate model accuracy"
      ],
      "execution_count": 19,
      "outputs": []
    },
    {
      "cell_type": "code",
      "metadata": {
        "id": "CNqM3qWAgmRX"
      },
      "source": [
        "scores=model.evaluate(x_img_test_normalize,y_label_test_OneHot,verbose=0)"
      ],
      "execution_count": 20,
      "outputs": []
    },
    {
      "cell_type": "code",
      "metadata": {
        "colab": {
          "base_uri": "https://localhost:8080/"
        },
        "id": "cLAn9V1ogrBf",
        "outputId": "3cafb22e-6719-45a7-946b-ba50ed3a9fc0"
      },
      "source": [
        "print(f'Test loss: {scores[0]} / Test accuracy: {scores[1]}')"
      ],
      "execution_count": 21,
      "outputs": [
        {
          "output_type": "stream",
          "text": [
            "Test loss: 1.4858211278915405 / Test accuracy: 0.7562999725341797\n"
          ],
          "name": "stdout"
        }
      ]
    },
    {
      "cell_type": "code",
      "metadata": {
        "colab": {
          "base_uri": "https://localhost:8080/"
        },
        "id": "UNRhGtVugvNM",
        "outputId": "9bcd85a0-e1c0-4806-ec12-57f4b59dfb56"
      },
      "source": [
        "prediction=model.predict_classes(x_img_test_normalize) ### prediction"
      ],
      "execution_count": 22,
      "outputs": [
        {
          "output_type": "stream",
          "text": [
            "/usr/local/lib/python3.7/dist-packages/tensorflow/python/keras/engine/sequential.py:450: UserWarning: `model.predict_classes()` is deprecated and will be removed after 2021-01-01. Please use instead:* `np.argmax(model.predict(x), axis=-1)`,   if your model does multi-class classification   (e.g. if it uses a `softmax` last-layer activation).* `(model.predict(x) > 0.5).astype(\"int32\")`,   if your model does binary classification   (e.g. if it uses a `sigmoid` last-layer activation).\n",
            "  warnings.warn('`model.predict_classes()` is deprecated and '\n"
          ],
          "name": "stderr"
        }
      ]
    },
    {
      "cell_type": "code",
      "metadata": {
        "colab": {
          "base_uri": "https://localhost:8080/"
        },
        "id": "e9dj4EcTkNPd",
        "outputId": "2ff06137-5329-4da6-a056-db200e5b5a54"
      },
      "source": [
        "prediction"
      ],
      "execution_count": 23,
      "outputs": [
        {
          "output_type": "execute_result",
          "data": {
            "text/plain": [
              "array([5, 8, 8, ..., 5, 1, 7])"
            ]
          },
          "metadata": {
            "tags": []
          },
          "execution_count": 23
        }
      ]
    },
    {
      "cell_type": "code",
      "metadata": {
        "id": "ii4zLAJNgz_w"
      },
      "source": [
        "def plot_images_labels_prediction(images,labels,prediction,idx,num=10):\n",
        "  fig=plt.gcf()\n",
        "  fig.set_size_inches(12,14)\n",
        "  if num>25:num=25\n",
        "  for i in range(0,num):\n",
        "    ax=plt.subplot(5,5,1+i)\n",
        "    ax.imshow(images[idx],cmap='binary')\n",
        "    title=str(i) +',' +label_dict[labels[i][0]]\n",
        "    if len(prediction)>0:\n",
        "      title+='=>'+label_dict[prediction[i]]\n",
        "    ax.set_title(title,fontsize=10)\n",
        "    ax.set_xticks([]);ax.set_yticks([])\n",
        "    idx+=1\n",
        "  plt.show()"
      ],
      "execution_count": 24,
      "outputs": []
    },
    {
      "cell_type": "code",
      "metadata": {
        "colab": {
          "base_uri": "https://localhost:8080/",
          "height": 321
        },
        "id": "Ss7dd8dJg2UX",
        "outputId": "8d6063f2-8f60-48f2-aa37-da41ad575d9a"
      },
      "source": [
        "plot_images_labels_prediction(x_img_test,y_label_test,prediction,0,10)"
      ],
      "execution_count": 25,
      "outputs": [
        {
          "output_type": "display_data",
          "data": {
            "image/png": "[encoded data removed]",
            "text/plain": [
              "<Figure size 864x1008 with 10 Axes>"
            ]
          },
          "metadata": {
            "tags": []
          }
        }
      ]
    },
    {
      "cell_type": "code",
      "metadata": {
        "id": "PpPOXOuZg6wp"
      },
      "source": [
        "# check for prediction rate\n",
        "predicted_Probability=model.predict(x_img_test_normalize)"
      ],
      "execution_count": 26,
      "outputs": []
    },
    {
      "cell_type": "code",
      "metadata": {
        "id": "ykuUEDYlg_vY"
      },
      "source": [
        "def show_predicted_probability(y,prediction,x_img,predicted_Probability,i):\n",
        "  print('label:',label_dict[y[i][0]],\n",
        "        'predict',label_dict[prediction[i]])\n",
        "  plt.figure(figsize=(2,2))\n",
        "  plt.imshow(np.reshape(x_img_test[i],(32,32,3)))\n",
        "  plt.show()\n",
        "  for j in range(10):\n",
        "    print(label_dict[j]+ ' probability:%1.9f'%(predicted_Probability[i][j]))\n"
      ],
      "execution_count": 27,
      "outputs": []
    },
    {
      "cell_type": "code",
      "metadata": {
        "colab": {
          "base_uri": "https://localhost:8080/",
          "height": 355
        },
        "id": "EDAw57mNhCGo",
        "outputId": "cbde98eb-ab5b-4cad-f64b-49dcf48a340d"
      },
      "source": [
        "show_predicted_probability(y_label_test,prediction,x_img_test,predicted_Probability,0)"
      ],
      "execution_count": 28,
      "outputs": [
        {
          "output_type": "stream",
          "text": [
            "label: cat predict dog\n"
          ],
          "name": "stdout"
        },
        {
          "output_type": "display_data",
          "data": {
            "image/png": "[encoded data removed]",
            "text/plain": [
              "<Figure size 144x144 with 1 Axes>"
            ]
          },
          "metadata": {
            "tags": [],
            "needs_background": "light"
          }
        },
        {
          "output_type": "stream",
          "text": [
            "airplane probability:0.000395376\n",
            "automobile probability:0.000000357\n",
            "bird probability:0.000041356\n",
            "cat probability:0.038355753\n",
            "deer probability:0.000002113\n",
            "dog probability:0.709618926\n",
            "frog probability:0.000015114\n",
            "horse probability:0.000134107\n",
            "ship probability:0.251418054\n",
            "truck probability:0.000018917\n"
          ],
          "name": "stdout"
        }
      ]
    },
    {
      "cell_type": "markdown",
      "metadata": {
        "id": "N5rt2fK5fntZ"
      },
      "source": [
        "#Confusion matrix"
      ]
    },
    {
      "cell_type": "code",
      "metadata": {
        "id": "TjlrqQgShBjE"
      },
      "source": [
        "import pandas as pd"
      ],
      "execution_count": 29,
      "outputs": []
    },
    {
      "cell_type": "code",
      "metadata": {
        "colab": {
          "base_uri": "https://localhost:8080/",
          "height": 370
        },
        "id": "vD-agaQbfqVp",
        "outputId": "cb82dd52-8c80-4c3b-bb21-356b3f08b32d"
      },
      "source": [
        "pd.crosstab(y_label_test.reshape(-1),prediction,rownames=['label'],colnames=['predict'])"
      ],
      "execution_count": 30,
      "outputs": [
        {
          "output_type": "execute_result",
          "data": {
            "text/html": [
              "<div>\n",
              "<style scoped>\n",
              "    .dataframe tbody tr th:only-of-type {\n",
              "        vertical-align: middle;\n",
              "    }\n",
              "\n",
              "    .dataframe tbody tr th {\n",
              "        vertical-align: top;\n",
              "    }\n",
              "\n",
              "    .dataframe thead th {\n",
              "        text-align: right;\n",
              "    }\n",
              "</style>\n",
              "<table border=\"1\" class=\"dataframe\">\n",
              "  <thead>\n",
              "    <tr style=\"text-align: right;\">\n",
              "      <th>predict</th>\n",
              "      <th>0</th>\n",
              "      <th>1</th>\n",
              "      <th>2</th>\n",
              "      <th>3</th>\n",
              "      <th>4</th>\n",
              "      <th>5</th>\n",
              "      <th>6</th>\n",
              "      <th>7</th>\n",
              "      <th>8</th>\n",
              "      <th>9</th>\n",
              "    </tr>\n",
              "    <tr>\n",
              "      <th>label</th>\n",
              "      <th></th>\n",
              "      <th></th>\n",
              "      <th></th>\n",
              "      <th></th>\n",
              "      <th></th>\n",
              "      <th></th>\n",
              "      <th></th>\n",
              "      <th></th>\n",
              "      <th></th>\n",
              "      <th></th>\n",
              "    </tr>\n",
              "  </thead>\n",
              "  <tbody>\n",
              "    <tr>\n",
              "      <th>0</th>\n",
              "      <td>851</td>\n",
              "      <td>16</td>\n",
              "      <td>40</td>\n",
              "      <td>5</td>\n",
              "      <td>10</td>\n",
              "      <td>0</td>\n",
              "      <td>9</td>\n",
              "      <td>6</td>\n",
              "      <td>42</td>\n",
              "      <td>21</td>\n",
              "    </tr>\n",
              "    <tr>\n",
              "      <th>1</th>\n",
              "      <td>16</td>\n",
              "      <td>871</td>\n",
              "      <td>5</td>\n",
              "      <td>3</td>\n",
              "      <td>2</td>\n",
              "      <td>4</td>\n",
              "      <td>2</td>\n",
              "      <td>2</td>\n",
              "      <td>23</td>\n",
              "      <td>72</td>\n",
              "    </tr>\n",
              "    <tr>\n",
              "      <th>2</th>\n",
              "      <td>77</td>\n",
              "      <td>4</td>\n",
              "      <td>707</td>\n",
              "      <td>40</td>\n",
              "      <td>55</td>\n",
              "      <td>33</td>\n",
              "      <td>49</td>\n",
              "      <td>13</td>\n",
              "      <td>13</td>\n",
              "      <td>9</td>\n",
              "    </tr>\n",
              "    <tr>\n",
              "      <th>3</th>\n",
              "      <td>35</td>\n",
              "      <td>9</td>\n",
              "      <td>87</td>\n",
              "      <td>503</td>\n",
              "      <td>46</td>\n",
              "      <td>155</td>\n",
              "      <td>82</td>\n",
              "      <td>36</td>\n",
              "      <td>26</td>\n",
              "      <td>21</td>\n",
              "    </tr>\n",
              "    <tr>\n",
              "      <th>4</th>\n",
              "      <td>33</td>\n",
              "      <td>2</td>\n",
              "      <td>87</td>\n",
              "      <td>48</td>\n",
              "      <td>673</td>\n",
              "      <td>47</td>\n",
              "      <td>41</td>\n",
              "      <td>59</td>\n",
              "      <td>8</td>\n",
              "      <td>2</td>\n",
              "    </tr>\n",
              "    <tr>\n",
              "      <th>5</th>\n",
              "      <td>15</td>\n",
              "      <td>3</td>\n",
              "      <td>60</td>\n",
              "      <td>136</td>\n",
              "      <td>31</td>\n",
              "      <td>648</td>\n",
              "      <td>31</td>\n",
              "      <td>47</td>\n",
              "      <td>16</td>\n",
              "      <td>13</td>\n",
              "    </tr>\n",
              "    <tr>\n",
              "      <th>6</th>\n",
              "      <td>12</td>\n",
              "      <td>4</td>\n",
              "      <td>43</td>\n",
              "      <td>36</td>\n",
              "      <td>23</td>\n",
              "      <td>26</td>\n",
              "      <td>827</td>\n",
              "      <td>8</td>\n",
              "      <td>12</td>\n",
              "      <td>9</td>\n",
              "    </tr>\n",
              "    <tr>\n",
              "      <th>7</th>\n",
              "      <td>39</td>\n",
              "      <td>3</td>\n",
              "      <td>43</td>\n",
              "      <td>33</td>\n",
              "      <td>36</td>\n",
              "      <td>44</td>\n",
              "      <td>3</td>\n",
              "      <td>777</td>\n",
              "      <td>5</td>\n",
              "      <td>17</td>\n",
              "    </tr>\n",
              "    <tr>\n",
              "      <th>8</th>\n",
              "      <td>58</td>\n",
              "      <td>18</td>\n",
              "      <td>11</td>\n",
              "      <td>4</td>\n",
              "      <td>4</td>\n",
              "      <td>10</td>\n",
              "      <td>3</td>\n",
              "      <td>2</td>\n",
              "      <td>865</td>\n",
              "      <td>25</td>\n",
              "    </tr>\n",
              "    <tr>\n",
              "      <th>9</th>\n",
              "      <td>41</td>\n",
              "      <td>65</td>\n",
              "      <td>8</td>\n",
              "      <td>10</td>\n",
              "      <td>2</td>\n",
              "      <td>4</td>\n",
              "      <td>8</td>\n",
              "      <td>5</td>\n",
              "      <td>16</td>\n",
              "      <td>841</td>\n",
              "    </tr>\n",
              "  </tbody>\n",
              "</table>\n",
              "</div>"
            ],
            "text/plain": [
              "predict    0    1    2    3    4    5    6    7    8    9\n",
              "label                                                    \n",
              "0        851   16   40    5   10    0    9    6   42   21\n",
              "1         16  871    5    3    2    4    2    2   23   72\n",
              "2         77    4  707   40   55   33   49   13   13    9\n",
              "3         35    9   87  503   46  155   82   36   26   21\n",
              "4         33    2   87   48  673   47   41   59    8    2\n",
              "5         15    3   60  136   31  648   31   47   16   13\n",
              "6         12    4   43   36   23   26  827    8   12    9\n",
              "7         39    3   43   33   36   44    3  777    5   17\n",
              "8         58   18   11    4    4   10    3    2  865   25\n",
              "9         41   65    8   10    2    4    8    5   16  841"
            ]
          },
          "metadata": {
            "tags": []
          },
          "execution_count": 30
        }
      ]
    },
    {
      "cell_type": "code",
      "metadata": {
        "id": "mvxedLAxgTfS"
      },
      "source": [
        ""
      ],
      "execution_count": null,
      "outputs": []
    }
  ]
}