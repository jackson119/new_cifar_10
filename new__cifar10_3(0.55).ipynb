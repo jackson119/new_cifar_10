{
  "nbformat": 4,
  "nbformat_minor": 0,
  "metadata": {
    "accelerator": "GPU",
    "colab": {
      "name": "new_ cifar10_3(0.55).ipynb",
      "provenance": [],
      "collapsed_sections": [
        "N5rt2fK5fntZ"
      ],
      "authorship_tag": "ABX9TyMmWQzMDbIZgLl6jc/9lTWP",
      "include_colab_link": true
    },
    "kernelspec": {
      "display_name": "Python 3",
      "name": "python3"
    },
    "language_info": {
      "name": "python"
    }
  },
  "cells": [
    {
      "cell_type": "markdown",
      "metadata": {
        "id": "view-in-github",
        "colab_type": "text"
      },
      "source": [
        "<a href=\"https://colab.research.google.com/github/jackson119/new_cifar_10/blob/main/new__cifar10_3(0.55).ipynb\" target=\"_parent\"><img src=\"https://colab.research.google.com/assets/colab-badge.svg\" alt=\"Open In Colab\"/></a>"
      ]
    },
    {
      "cell_type": "markdown",
      "metadata": {
        "id": "SGKXC7W7pnht"
      },
      "source": [
        "# Data Preprocessing"
      ]
    },
    {
      "cell_type": "code",
      "metadata": {
        "id": "91H4jfpypp4h"
      },
      "source": [
        "from tensorflow.keras.datasets import cifar10\n",
        "import numpy as np\n",
        "np.random.seed(10)"
      ],
      "execution_count": 1,
      "outputs": []
    },
    {
      "cell_type": "code",
      "metadata": {
        "id": "jrfbgEOdprAB",
        "colab": {
          "base_uri": "https://localhost:8080/"
        },
        "outputId": "6e66ebf5-6965-41a4-82ad-d0b891b5b293"
      },
      "source": [
        "(x_img_train,y_label_train),(x_img_test,y_label_test)=cifar10.load_data()"
      ],
      "execution_count": 2,
      "outputs": [
        {
          "output_type": "stream",
          "text": [
            "Downloading data from https://www.cs.toronto.edu/~kriz/cifar-10-python.tar.gz\n",
            "170500096/170498071 [==============================] - 3s 0us/step\n"
          ],
          "name": "stdout"
        }
      ]
    },
    {
      "cell_type": "code",
      "metadata": {
        "id": "Bv64ED30R18B",
        "colab": {
          "base_uri": "https://localhost:8080/"
        },
        "outputId": "9caf48af-2c73-4cd6-dd07-bf83e761ca71"
      },
      "source": [
        "print(\"train data:\",\"images:\",x_img_train.shape,\"labels:\",y_label_train.shape)\n",
        "print(\"test data:\",\"images:\",x_img_test.shape,\"labels:\",y_label_test.shape)"
      ],
      "execution_count": 3,
      "outputs": [
        {
          "output_type": "stream",
          "text": [
            "train data: images: (50000, 32, 32, 3) labels: (50000, 1)\n",
            "test data: images: (10000, 32, 32, 3) labels: (10000, 1)\n"
          ],
          "name": "stdout"
        }
      ]
    },
    {
      "cell_type": "markdown",
      "metadata": {
        "id": "10BLqTKNSYKW"
      },
      "source": [
        "# standardize and perform one hot encoding"
      ]
    },
    {
      "cell_type": "code",
      "metadata": {
        "id": "_bdYalY-Sfva"
      },
      "source": [
        "x_img_train_normalize=x_img_train.astype('float32')/255.0\n",
        "x_img_test_normalize=x_img_test.astype('float32')/255.0"
      ],
      "execution_count": 4,
      "outputs": []
    },
    {
      "cell_type": "code",
      "metadata": {
        "id": "-7OJEuxpSpXX"
      },
      "source": [
        "from tensorflow.keras import utils"
      ],
      "execution_count": 5,
      "outputs": []
    },
    {
      "cell_type": "code",
      "metadata": {
        "id": "bvesDQfhSsmH"
      },
      "source": [
        "y_label_train_OneHot=utils.to_categorical(y_label_train)\n",
        "y_label_test_OneHot=utils.to_categorical(y_label_test)"
      ],
      "execution_count": 6,
      "outputs": []
    },
    {
      "cell_type": "markdown",
      "metadata": {
        "id": "DSmFxX9xSwCN"
      },
      "source": [
        "# Images and label"
      ]
    },
    {
      "cell_type": "code",
      "metadata": {
        "id": "6AshrU3USxld"
      },
      "source": [
        "label_dict={0:\"airplane\",1:\"automobile\",2:\"bird\",3:\"cat\",4:\"deer\",5:\"dog\",6:\"frog\",7:\"horse\",8:\"ship\",9:\"truck\"}"
      ],
      "execution_count": 7,
      "outputs": []
    },
    {
      "cell_type": "code",
      "metadata": {
        "id": "KADDqJmsSzCc"
      },
      "source": [
        "# Construct model\n",
        "from keras.models import Sequential\n",
        "from keras.layers import Dense,Dropout,Activation,Flatten\n",
        "from keras.layers import Conv2D,MaxPooling2D,ZeroPadding2D"
      ],
      "execution_count": 8,
      "outputs": []
    },
    {
      "cell_type": "code",
      "metadata": {
        "id": "2tUCpCqHS5sb"
      },
      "source": [
        "model=Sequential()"
      ],
      "execution_count": 9,
      "outputs": []
    },
    {
      "cell_type": "code",
      "metadata": {
        "id": "IP4YwNOFS62i"
      },
      "source": [
        "model.add(Conv2D(filters=32,kernel_size=(3,3),input_shape=(32,32,3),activation='relu',padding='same'))\n",
        "model.add(Dropout(0.55))\n",
        "model.add(Conv2D(filters=32,kernel_size=(3,3),activation='relu',padding='same'))\n",
        "model.add(MaxPooling2D(pool_size=(2,2)))"
      ],
      "execution_count": 10,
      "outputs": []
    },
    {
      "cell_type": "code",
      "metadata": {
        "id": "VrEsDZ3OYZv6"
      },
      "source": [
        "model.add(Conv2D(filters=64,kernel_size=(3,3),activation='relu',padding='same'))\n",
        "model.add(Dropout(0.55))\n",
        "model.add(Conv2D(filters=64,kernel_size=(3,3),activation='relu',padding='same'))\n",
        "model.add(MaxPooling2D(pool_size=(2,2)))"
      ],
      "execution_count": 11,
      "outputs": []
    },
    {
      "cell_type": "code",
      "metadata": {
        "id": "Lfbpty5kYwiH"
      },
      "source": [
        "model.add(Conv2D(filters=128,kernel_size=(3,3),activation='relu',padding='same'))\n",
        "model.add(Dropout(0.55))\n",
        "model.add(Conv2D(filters=128,kernel_size=(3,3),activation='relu',padding='same'))\n",
        "model.add(MaxPooling2D(pool_size=(2,2)))"
      ],
      "execution_count": 12,
      "outputs": []
    },
    {
      "cell_type": "code",
      "metadata": {
        "id": "YGEmb5pbZYhj"
      },
      "source": [
        "### neural network\n",
        "model.add(Flatten())\n",
        "model.add(Dropout(0.55))\n",
        "### hidden layer 1\n",
        "model.add(Dense(2500,activation='relu'))\n",
        "model.add(Dropout(0.55))\n",
        "### hidden layer 2\n",
        "model.add(Dense(1500,activation='relu'))\n",
        "model.add(Dropout(0.55))\n",
        "### output layer\n",
        "model.add(Dense(10,activation='softmax'))"
      ],
      "execution_count": 13,
      "outputs": []
    },
    {
      "cell_type": "code",
      "metadata": {
        "id": "2kjnUEYuZtK5",
        "colab": {
          "base_uri": "https://localhost:8080/"
        },
        "outputId": "adf9245b-3fb9-43b4-c59b-f7ad2baa84d1"
      },
      "source": [
        "print(model.summary())"
      ],
      "execution_count": 14,
      "outputs": [
        {
          "output_type": "stream",
          "text": [
            "Model: \"sequential\"\n",
            "_________________________________________________________________\n",
            "Layer (type)                 Output Shape              Param #   \n",
            "=================================================================\n",
            "conv2d (Conv2D)              (None, 32, 32, 32)        896       \n",
            "_________________________________________________________________\n",
            "dropout (Dropout)            (None, 32, 32, 32)        0         \n",
            "_________________________________________________________________\n",
            "conv2d_1 (Conv2D)            (None, 32, 32, 32)        9248      \n",
            "_________________________________________________________________\n",
            "max_pooling2d (MaxPooling2D) (None, 16, 16, 32)        0         \n",
            "_________________________________________________________________\n",
            "conv2d_2 (Conv2D)            (None, 16, 16, 64)        18496     \n",
            "_________________________________________________________________\n",
            "dropout_1 (Dropout)          (None, 16, 16, 64)        0         \n",
            "_________________________________________________________________\n",
            "conv2d_3 (Conv2D)            (None, 16, 16, 64)        36928     \n",
            "_________________________________________________________________\n",
            "max_pooling2d_1 (MaxPooling2 (None, 8, 8, 64)          0         \n",
            "_________________________________________________________________\n",
            "conv2d_4 (Conv2D)            (None, 8, 8, 128)         73856     \n",
            "_________________________________________________________________\n",
            "dropout_2 (Dropout)          (None, 8, 8, 128)         0         \n",
            "_________________________________________________________________\n",
            "conv2d_5 (Conv2D)            (None, 8, 8, 128)         147584    \n",
            "_________________________________________________________________\n",
            "max_pooling2d_2 (MaxPooling2 (None, 4, 4, 128)         0         \n",
            "_________________________________________________________________\n",
            "flatten (Flatten)            (None, 2048)              0         \n",
            "_________________________________________________________________\n",
            "dropout_3 (Dropout)          (None, 2048)              0         \n",
            "_________________________________________________________________\n",
            "dense (Dense)                (None, 2500)              5122500   \n",
            "_________________________________________________________________\n",
            "dropout_4 (Dropout)          (None, 2500)              0         \n",
            "_________________________________________________________________\n",
            "dense_1 (Dense)              (None, 1500)              3751500   \n",
            "_________________________________________________________________\n",
            "dropout_5 (Dropout)          (None, 1500)              0         \n",
            "_________________________________________________________________\n",
            "dense_2 (Dense)              (None, 10)                15010     \n",
            "=================================================================\n",
            "Total params: 9,176,018\n",
            "Trainable params: 9,176,018\n",
            "Non-trainable params: 0\n",
            "_________________________________________________________________\n",
            "None\n"
          ],
          "name": "stdout"
        }
      ]
    },
    {
      "cell_type": "code",
      "metadata": {
        "colab": {
          "base_uri": "https://localhost:8080/"
        },
        "id": "j64CEumxZvDu",
        "outputId": "f8dec8ff-cc51-4c66-d0fb-4ba2e41a5775"
      },
      "source": [
        "model.compile(loss='categorical_crossentropy',optimizer='adam',metrics=['accuracy'])\n",
        "train_history=model.fit(x_img_train_normalize,y_label_train_OneHot,validation_split=0.2,epochs=50,batch_size=300,verbose=2)"
      ],
      "execution_count": 15,
      "outputs": [
        {
          "output_type": "stream",
          "text": [
            "Epoch 1/50\n",
            "134/134 - 39s - loss: 2.0687 - accuracy: 0.2221 - val_loss: 2.8161 - val_accuracy: 0.1144\n",
            "Epoch 2/50\n",
            "134/134 - 5s - loss: 1.7442 - accuracy: 0.3458 - val_loss: 2.6014 - val_accuracy: 0.1665\n",
            "Epoch 3/50\n",
            "134/134 - 5s - loss: 1.5488 - accuracy: 0.4283 - val_loss: 2.1676 - val_accuracy: 0.2770\n",
            "Epoch 4/50\n",
            "134/134 - 5s - loss: 1.4376 - accuracy: 0.4696 - val_loss: 2.2215 - val_accuracy: 0.2848\n",
            "Epoch 5/50\n",
            "134/134 - 5s - loss: 1.3681 - accuracy: 0.4992 - val_loss: 2.0657 - val_accuracy: 0.3328\n",
            "Epoch 6/50\n",
            "134/134 - 5s - loss: 1.3048 - accuracy: 0.5224 - val_loss: 2.4405 - val_accuracy: 0.2797\n",
            "Epoch 7/50\n",
            "134/134 - 5s - loss: 1.2587 - accuracy: 0.5440 - val_loss: 1.6043 - val_accuracy: 0.4558\n",
            "Epoch 8/50\n",
            "134/134 - 5s - loss: 1.2140 - accuracy: 0.5620 - val_loss: 1.5941 - val_accuracy: 0.4750\n",
            "Epoch 9/50\n",
            "134/134 - 5s - loss: 1.1671 - accuracy: 0.5774 - val_loss: 1.6899 - val_accuracy: 0.4468\n",
            "Epoch 10/50\n",
            "134/134 - 5s - loss: 1.1384 - accuracy: 0.5941 - val_loss: 1.7158 - val_accuracy: 0.4509\n",
            "Epoch 11/50\n",
            "134/134 - 5s - loss: 1.0946 - accuracy: 0.6066 - val_loss: 1.7561 - val_accuracy: 0.4427\n",
            "Epoch 12/50\n",
            "134/134 - 5s - loss: 1.0796 - accuracy: 0.6155 - val_loss: 1.3249 - val_accuracy: 0.5537\n",
            "Epoch 13/50\n",
            "134/134 - 5s - loss: 1.0594 - accuracy: 0.6223 - val_loss: 1.5779 - val_accuracy: 0.4870\n",
            "Epoch 14/50\n",
            "134/134 - 5s - loss: 1.0304 - accuracy: 0.6329 - val_loss: 1.7088 - val_accuracy: 0.4607\n",
            "Epoch 15/50\n",
            "134/134 - 5s - loss: 0.9996 - accuracy: 0.6431 - val_loss: 1.3030 - val_accuracy: 0.5671\n",
            "Epoch 16/50\n",
            "134/134 - 5s - loss: 0.9771 - accuracy: 0.6521 - val_loss: 1.2282 - val_accuracy: 0.5911\n",
            "Epoch 17/50\n",
            "134/134 - 5s - loss: 0.9579 - accuracy: 0.6595 - val_loss: 1.2081 - val_accuracy: 0.5912\n",
            "Epoch 18/50\n",
            "134/134 - 5s - loss: 0.9450 - accuracy: 0.6641 - val_loss: 1.2569 - val_accuracy: 0.5763\n",
            "Epoch 19/50\n",
            "134/134 - 5s - loss: 0.9193 - accuracy: 0.6717 - val_loss: 1.2159 - val_accuracy: 0.5894\n",
            "Epoch 20/50\n",
            "134/134 - 5s - loss: 0.9043 - accuracy: 0.6775 - val_loss: 1.2174 - val_accuracy: 0.5946\n",
            "Epoch 21/50\n",
            "134/134 - 5s - loss: 0.8978 - accuracy: 0.6811 - val_loss: 1.1911 - val_accuracy: 0.6010\n",
            "Epoch 22/50\n",
            "134/134 - 5s - loss: 0.8821 - accuracy: 0.6878 - val_loss: 1.0698 - val_accuracy: 0.6345\n",
            "Epoch 23/50\n",
            "134/134 - 5s - loss: 0.8595 - accuracy: 0.6938 - val_loss: 1.1192 - val_accuracy: 0.6182\n",
            "Epoch 24/50\n",
            "134/134 - 5s - loss: 0.8446 - accuracy: 0.6987 - val_loss: 0.9765 - val_accuracy: 0.6604\n",
            "Epoch 25/50\n",
            "134/134 - 5s - loss: 0.8373 - accuracy: 0.7039 - val_loss: 1.0250 - val_accuracy: 0.6481\n",
            "Epoch 26/50\n",
            "134/134 - 5s - loss: 0.8278 - accuracy: 0.7055 - val_loss: 1.2706 - val_accuracy: 0.5800\n",
            "Epoch 27/50\n",
            "134/134 - 5s - loss: 0.8234 - accuracy: 0.7086 - val_loss: 0.8462 - val_accuracy: 0.7012\n",
            "Epoch 28/50\n",
            "134/134 - 5s - loss: 0.8118 - accuracy: 0.7111 - val_loss: 1.0200 - val_accuracy: 0.6497\n",
            "Epoch 29/50\n",
            "134/134 - 5s - loss: 0.8028 - accuracy: 0.7187 - val_loss: 1.2106 - val_accuracy: 0.6061\n",
            "Epoch 30/50\n",
            "134/134 - 5s - loss: 0.7899 - accuracy: 0.7198 - val_loss: 0.8965 - val_accuracy: 0.6923\n",
            "Epoch 31/50\n",
            "134/134 - 5s - loss: 0.7772 - accuracy: 0.7238 - val_loss: 0.9782 - val_accuracy: 0.6665\n",
            "Epoch 32/50\n",
            "134/134 - 5s - loss: 0.7707 - accuracy: 0.7279 - val_loss: 0.9024 - val_accuracy: 0.6843\n",
            "Epoch 33/50\n",
            "134/134 - 5s - loss: 0.7674 - accuracy: 0.7278 - val_loss: 0.9309 - val_accuracy: 0.6827\n",
            "Epoch 34/50\n",
            "134/134 - 5s - loss: 0.7623 - accuracy: 0.7323 - val_loss: 1.1805 - val_accuracy: 0.6011\n",
            "Epoch 35/50\n",
            "134/134 - 5s - loss: 0.7562 - accuracy: 0.7336 - val_loss: 0.8387 - val_accuracy: 0.7097\n",
            "Epoch 36/50\n",
            "134/134 - 5s - loss: 0.7441 - accuracy: 0.7370 - val_loss: 0.8446 - val_accuracy: 0.7104\n",
            "Epoch 37/50\n",
            "134/134 - 5s - loss: 0.7429 - accuracy: 0.7375 - val_loss: 0.8693 - val_accuracy: 0.7042\n",
            "Epoch 38/50\n",
            "134/134 - 5s - loss: 0.7361 - accuracy: 0.7405 - val_loss: 0.8675 - val_accuracy: 0.7040\n",
            "Epoch 39/50\n",
            "134/134 - 5s - loss: 0.7299 - accuracy: 0.7435 - val_loss: 0.8133 - val_accuracy: 0.7200\n",
            "Epoch 40/50\n",
            "134/134 - 5s - loss: 0.7344 - accuracy: 0.7409 - val_loss: 0.7883 - val_accuracy: 0.7278\n",
            "Epoch 41/50\n",
            "134/134 - 5s - loss: 0.7285 - accuracy: 0.7419 - val_loss: 0.7802 - val_accuracy: 0.7335\n",
            "Epoch 42/50\n",
            "134/134 - 5s - loss: 0.7128 - accuracy: 0.7496 - val_loss: 0.8151 - val_accuracy: 0.7174\n",
            "Epoch 43/50\n",
            "134/134 - 5s - loss: 0.7145 - accuracy: 0.7481 - val_loss: 0.8047 - val_accuracy: 0.7289\n",
            "Epoch 44/50\n",
            "134/134 - 5s - loss: 0.6930 - accuracy: 0.7541 - val_loss: 0.8046 - val_accuracy: 0.7294\n",
            "Epoch 45/50\n",
            "134/134 - 5s - loss: 0.6984 - accuracy: 0.7542 - val_loss: 1.0442 - val_accuracy: 0.6432\n",
            "Epoch 46/50\n",
            "134/134 - 5s - loss: 0.6964 - accuracy: 0.7554 - val_loss: 0.8776 - val_accuracy: 0.7122\n",
            "Epoch 47/50\n",
            "134/134 - 5s - loss: 0.6887 - accuracy: 0.7585 - val_loss: 0.9428 - val_accuracy: 0.6897\n",
            "Epoch 48/50\n",
            "134/134 - 5s - loss: 0.6884 - accuracy: 0.7581 - val_loss: 0.8688 - val_accuracy: 0.7038\n",
            "Epoch 49/50\n",
            "134/134 - 5s - loss: 0.6870 - accuracy: 0.7559 - val_loss: 0.8215 - val_accuracy: 0.7257\n",
            "Epoch 50/50\n",
            "134/134 - 5s - loss: 0.6747 - accuracy: 0.7628 - val_loss: 0.8845 - val_accuracy: 0.6994\n"
          ],
          "name": "stdout"
        }
      ]
    },
    {
      "cell_type": "code",
      "metadata": {
        "id": "rzLTGAOzZ7zi"
      },
      "source": [
        "from matplotlib import pyplot as plt\n",
        "def show_train_history(train_history,train,validation):\n",
        "  plt.plot(train_history.history[train])\n",
        "  plt.plot(train_history.history[validation])\n",
        "  plt.title('Train History')\n",
        "  plt.ylabel('train')\n",
        "  plt.xlabel('Epoch')\n",
        "  plt.legend(['train','validation'],loc='upper left')\n",
        "  plt.show()"
      ],
      "execution_count": 31,
      "outputs": []
    },
    {
      "cell_type": "code",
      "metadata": {
        "colab": {
          "base_uri": "https://localhost:8080/",
          "height": 295
        },
        "id": "FliqaslyfUOd",
        "outputId": "57bfac3e-0158-4d35-e876-5f01f483e1bd"
      },
      "source": [
        "show_train_history(train_history,'accuracy','val_accuracy')"
      ],
      "execution_count": 32,
      "outputs": [
        {
          "output_type": "display_data",
          "data": {
            "image/png": "[encoded data removed]",
            "text/plain": [
              "<Figure size 432x288 with 1 Axes>"
            ]
          },
          "metadata": {
            "tags": [],
            "needs_background": "light"
          }
        }
      ]
    },
    {
      "cell_type": "code",
      "metadata": {
        "colab": {
          "base_uri": "https://localhost:8080/",
          "height": 295
        },
        "id": "CLUnjiW4fbvQ",
        "outputId": "9a9e9488-4d3e-4cf1-9a66-7149ff3eb325"
      },
      "source": [
        "show_train_history(train_history,'loss','val_loss')"
      ],
      "execution_count": 33,
      "outputs": [
        {
          "output_type": "display_data",
          "data": {
            "image/png": "[encoded data removed]",
            "text/plain": [
              "<Figure size 432x288 with 1 Axes>"
            ]
          },
          "metadata": {
            "tags": [],
            "needs_background": "light"
          }
        }
      ]
    },
    {
      "cell_type": "code",
      "metadata": {
        "id": "J5uBX8IWgmJ8"
      },
      "source": [
        "### estimate model accuracy"
      ],
      "execution_count": 34,
      "outputs": []
    },
    {
      "cell_type": "code",
      "metadata": {
        "id": "CNqM3qWAgmRX"
      },
      "source": [
        "scores=model.evaluate(x_img_test_normalize,y_label_test_OneHot,verbose=0)"
      ],
      "execution_count": 35,
      "outputs": []
    },
    {
      "cell_type": "code",
      "metadata": {
        "colab": {
          "base_uri": "https://localhost:8080/"
        },
        "id": "cLAn9V1ogrBf",
        "outputId": "461d224e-4192-45e9-ebce-e6f724f2724d"
      },
      "source": [
        "print(f'Test loss: {scores[0]} / Test accuracy: {scores[1]}')"
      ],
      "execution_count": 36,
      "outputs": [
        {
          "output_type": "stream",
          "text": [
            "Test loss: 0.8948776125907898 / Test accuracy: 0.691100001335144\n"
          ],
          "name": "stdout"
        }
      ]
    },
    {
      "cell_type": "code",
      "metadata": {
        "colab": {
          "base_uri": "https://localhost:8080/"
        },
        "id": "UNRhGtVugvNM",
        "outputId": "ca3abdc9-6ca4-41d6-c620-799bcdc25cad"
      },
      "source": [
        "prediction=model.predict_classes(x_img_test_normalize) ### prediction"
      ],
      "execution_count": 37,
      "outputs": [
        {
          "output_type": "stream",
          "text": [
            "/usr/local/lib/python3.7/dist-packages/tensorflow/python/keras/engine/sequential.py:450: UserWarning: `model.predict_classes()` is deprecated and will be removed after 2021-01-01. Please use instead:* `np.argmax(model.predict(x), axis=-1)`,   if your model does multi-class classification   (e.g. if it uses a `softmax` last-layer activation).* `(model.predict(x) > 0.5).astype(\"int32\")`,   if your model does binary classification   (e.g. if it uses a `sigmoid` last-layer activation).\n",
            "  warnings.warn('`model.predict_classes()` is deprecated and '\n"
          ],
          "name": "stderr"
        }
      ]
    },
    {
      "cell_type": "code",
      "metadata": {
        "colab": {
          "base_uri": "https://localhost:8080/"
        },
        "id": "e9dj4EcTkNPd",
        "outputId": "9063265f-833e-4ac4-ea4a-f243d346f7e6"
      },
      "source": [
        "prediction"
      ],
      "execution_count": 38,
      "outputs": [
        {
          "output_type": "execute_result",
          "data": {
            "text/plain": [
              "array([3, 8, 8, ..., 5, 4, 7])"
            ]
          },
          "metadata": {
            "tags": []
          },
          "execution_count": 38
        }
      ]
    },
    {
      "cell_type": "code",
      "metadata": {
        "id": "ii4zLAJNgz_w"
      },
      "source": [
        "def plot_images_labels_prediction(images,labels,prediction,idx,num=10):\n",
        "  fig=plt.gcf()\n",
        "  fig.set_size_inches(12,14)\n",
        "  if num>25:num=25\n",
        "  for i in range(0,num):\n",
        "    ax=plt.subplot(5,5,1+i)\n",
        "    ax.imshow(images[idx],cmap='binary')\n",
        "    title=str(i) +',' +label_dict[labels[i][0]]\n",
        "    if len(prediction)>0:\n",
        "      title+='=>'+label_dict[prediction[i]]\n",
        "    ax.set_title(title,fontsize=10)\n",
        "    ax.set_xticks([]);ax.set_yticks([])\n",
        "    idx+=1\n",
        "  plt.show()"
      ],
      "execution_count": 39,
      "outputs": []
    },
    {
      "cell_type": "code",
      "metadata": {
        "colab": {
          "base_uri": "https://localhost:8080/",
          "height": 321
        },
        "id": "Ss7dd8dJg2UX",
        "outputId": "59e3ed93-ee39-4958-ed5f-9a2c341fe20a"
      },
      "source": [
        "plot_images_labels_prediction(x_img_test,y_label_test,prediction,0,10)"
      ],
      "execution_count": 40,
      "outputs": [
        {
          "output_type": "display_data",
          "data": {
            "image/png": "[encoded data removed]",
            "text/plain": [
              "<Figure size 864x1008 with 10 Axes>"
            ]
          },
          "metadata": {
            "tags": []
          }
        }
      ]
    },
    {
      "cell_type": "code",
      "metadata": {
        "id": "PpPOXOuZg6wp"
      },
      "source": [
        "# check for prediction rate\n",
        "predicted_Probability=model.predict(x_img_test_normalize)"
      ],
      "execution_count": 41,
      "outputs": []
    },
    {
      "cell_type": "code",
      "metadata": {
        "id": "ykuUEDYlg_vY"
      },
      "source": [
        "def show_predicted_probability(y,prediction,x_img,predicted_Probability,i):\n",
        "  print('label:',label_dict[y[i][0]],\n",
        "        'predict',label_dict[prediction[i]])\n",
        "  plt.figure(figsize=(2,2))\n",
        "  plt.imshow(np.reshape(x_img_test[i],(32,32,3)))\n",
        "  plt.show()\n",
        "  for j in range(10):\n",
        "    print(label_dict[j]+ ' probability:%1.9f'%(predicted_Probability[i][j]))\n"
      ],
      "execution_count": 42,
      "outputs": []
    },
    {
      "cell_type": "code",
      "metadata": {
        "colab": {
          "base_uri": "https://localhost:8080/",
          "height": 355
        },
        "id": "EDAw57mNhCGo",
        "outputId": "b11ac4b3-9619-4729-afe7-84942fe03647"
      },
      "source": [
        "show_predicted_probability(y_label_test,prediction,x_img_test,predicted_Probability,0)"
      ],
      "execution_count": 43,
      "outputs": [
        {
          "output_type": "stream",
          "text": [
            "label: cat predict cat\n"
          ],
          "name": "stdout"
        },
        {
          "output_type": "display_data",
          "data": {
            "image/png": "[encoded data removed]",
            "text/plain": [
              "<Figure size 144x144 with 1 Axes>"
            ]
          },
          "metadata": {
            "tags": [],
            "needs_background": "light"
          }
        },
        {
          "output_type": "stream",
          "text": [
            "airplane probability:0.002284608\n",
            "automobile probability:0.006157325\n",
            "bird probability:0.036551602\n",
            "cat probability:0.590816617\n",
            "deer probability:0.036603630\n",
            "dog probability:0.146451920\n",
            "frog probability:0.150659859\n",
            "horse probability:0.011334265\n",
            "ship probability:0.008232181\n",
            "truck probability:0.010908001\n"
          ],
          "name": "stdout"
        }
      ]
    },
    {
      "cell_type": "markdown",
      "metadata": {
        "id": "N5rt2fK5fntZ"
      },
      "source": [
        "#Confusion matrix"
      ]
    },
    {
      "cell_type": "code",
      "metadata": {
        "id": "TjlrqQgShBjE"
      },
      "source": [
        "import pandas as pd"
      ],
      "execution_count": 44,
      "outputs": []
    },
    {
      "cell_type": "code",
      "metadata": {
        "colab": {
          "base_uri": "https://localhost:8080/",
          "height": 370
        },
        "id": "vD-agaQbfqVp",
        "outputId": "9089dd61-8ea3-47a9-a1c2-ea83bbee313f"
      },
      "source": [
        "pd.crosstab(y_label_test.reshape(-1),prediction,rownames=['label'],colnames=['predict'])"
      ],
      "execution_count": 45,
      "outputs": [
        {
          "output_type": "execute_result",
          "data": {
            "text/html": [
              "<div>\n",
              "<style scoped>\n",
              "    .dataframe tbody tr th:only-of-type {\n",
              "        vertical-align: middle;\n",
              "    }\n",
              "\n",
              "    .dataframe tbody tr th {\n",
              "        vertical-align: top;\n",
              "    }\n",
              "\n",
              "    .dataframe thead th {\n",
              "        text-align: right;\n",
              "    }\n",
              "</style>\n",
              "<table border=\"1\" class=\"dataframe\">\n",
              "  <thead>\n",
              "    <tr style=\"text-align: right;\">\n",
              "      <th>predict</th>\n",
              "      <th>0</th>\n",
              "      <th>1</th>\n",
              "      <th>2</th>\n",
              "      <th>3</th>\n",
              "      <th>4</th>\n",
              "      <th>5</th>\n",
              "      <th>6</th>\n",
              "      <th>7</th>\n",
              "      <th>8</th>\n",
              "      <th>9</th>\n",
              "    </tr>\n",
              "    <tr>\n",
              "      <th>label</th>\n",
              "      <th></th>\n",
              "      <th></th>\n",
              "      <th></th>\n",
              "      <th></th>\n",
              "      <th></th>\n",
              "      <th></th>\n",
              "      <th></th>\n",
              "      <th></th>\n",
              "      <th></th>\n",
              "      <th></th>\n",
              "    </tr>\n",
              "  </thead>\n",
              "  <tbody>\n",
              "    <tr>\n",
              "      <th>0</th>\n",
              "      <td>544</td>\n",
              "      <td>9</td>\n",
              "      <td>106</td>\n",
              "      <td>52</td>\n",
              "      <td>82</td>\n",
              "      <td>1</td>\n",
              "      <td>55</td>\n",
              "      <td>7</td>\n",
              "      <td>117</td>\n",
              "      <td>27</td>\n",
              "    </tr>\n",
              "    <tr>\n",
              "      <th>1</th>\n",
              "      <td>4</td>\n",
              "      <td>788</td>\n",
              "      <td>9</td>\n",
              "      <td>12</td>\n",
              "      <td>7</td>\n",
              "      <td>3</td>\n",
              "      <td>56</td>\n",
              "      <td>0</td>\n",
              "      <td>52</td>\n",
              "      <td>69</td>\n",
              "    </tr>\n",
              "    <tr>\n",
              "      <th>2</th>\n",
              "      <td>29</td>\n",
              "      <td>0</td>\n",
              "      <td>574</td>\n",
              "      <td>47</td>\n",
              "      <td>133</td>\n",
              "      <td>17</td>\n",
              "      <td>173</td>\n",
              "      <td>13</td>\n",
              "      <td>13</td>\n",
              "      <td>1</td>\n",
              "    </tr>\n",
              "    <tr>\n",
              "      <th>3</th>\n",
              "      <td>3</td>\n",
              "      <td>1</td>\n",
              "      <td>69</td>\n",
              "      <td>612</td>\n",
              "      <td>107</td>\n",
              "      <td>44</td>\n",
              "      <td>153</td>\n",
              "      <td>6</td>\n",
              "      <td>3</td>\n",
              "      <td>2</td>\n",
              "    </tr>\n",
              "    <tr>\n",
              "      <th>4</th>\n",
              "      <td>3</td>\n",
              "      <td>1</td>\n",
              "      <td>43</td>\n",
              "      <td>47</td>\n",
              "      <td>792</td>\n",
              "      <td>3</td>\n",
              "      <td>90</td>\n",
              "      <td>15</td>\n",
              "      <td>6</td>\n",
              "      <td>0</td>\n",
              "    </tr>\n",
              "    <tr>\n",
              "      <th>5</th>\n",
              "      <td>1</td>\n",
              "      <td>0</td>\n",
              "      <td>71</td>\n",
              "      <td>322</td>\n",
              "      <td>97</td>\n",
              "      <td>419</td>\n",
              "      <td>75</td>\n",
              "      <td>10</td>\n",
              "      <td>3</td>\n",
              "      <td>2</td>\n",
              "    </tr>\n",
              "    <tr>\n",
              "      <th>6</th>\n",
              "      <td>0</td>\n",
              "      <td>0</td>\n",
              "      <td>11</td>\n",
              "      <td>36</td>\n",
              "      <td>25</td>\n",
              "      <td>4</td>\n",
              "      <td>924</td>\n",
              "      <td>0</td>\n",
              "      <td>0</td>\n",
              "      <td>0</td>\n",
              "    </tr>\n",
              "    <tr>\n",
              "      <th>7</th>\n",
              "      <td>3</td>\n",
              "      <td>0</td>\n",
              "      <td>51</td>\n",
              "      <td>103</td>\n",
              "      <td>167</td>\n",
              "      <td>22</td>\n",
              "      <td>27</td>\n",
              "      <td>619</td>\n",
              "      <td>4</td>\n",
              "      <td>4</td>\n",
              "    </tr>\n",
              "    <tr>\n",
              "      <th>8</th>\n",
              "      <td>10</td>\n",
              "      <td>10</td>\n",
              "      <td>18</td>\n",
              "      <td>47</td>\n",
              "      <td>26</td>\n",
              "      <td>1</td>\n",
              "      <td>41</td>\n",
              "      <td>3</td>\n",
              "      <td>840</td>\n",
              "      <td>4</td>\n",
              "    </tr>\n",
              "    <tr>\n",
              "      <th>9</th>\n",
              "      <td>13</td>\n",
              "      <td>39</td>\n",
              "      <td>12</td>\n",
              "      <td>56</td>\n",
              "      <td>15</td>\n",
              "      <td>1</td>\n",
              "      <td>35</td>\n",
              "      <td>4</td>\n",
              "      <td>26</td>\n",
              "      <td>799</td>\n",
              "    </tr>\n",
              "  </tbody>\n",
              "</table>\n",
              "</div>"
            ],
            "text/plain": [
              "predict    0    1    2    3    4    5    6    7    8    9\n",
              "label                                                    \n",
              "0        544    9  106   52   82    1   55    7  117   27\n",
              "1          4  788    9   12    7    3   56    0   52   69\n",
              "2         29    0  574   47  133   17  173   13   13    1\n",
              "3          3    1   69  612  107   44  153    6    3    2\n",
              "4          3    1   43   47  792    3   90   15    6    0\n",
              "5          1    0   71  322   97  419   75   10    3    2\n",
              "6          0    0   11   36   25    4  924    0    0    0\n",
              "7          3    0   51  103  167   22   27  619    4    4\n",
              "8         10   10   18   47   26    1   41    3  840    4\n",
              "9         13   39   12   56   15    1   35    4   26  799"
            ]
          },
          "metadata": {
            "tags": []
          },
          "execution_count": 45
        }
      ]
    },
    {
      "cell_type": "code",
      "metadata": {
        "id": "mvxedLAxgTfS"
      },
      "source": [
        ""
      ],
      "execution_count": 30,
      "outputs": []
    },
    {
      "cell_type": "code",
      "metadata": {
        "id": "qddPJ9HX40o8"
      },
      "source": [
        ""
      ],
      "execution_count": null,
      "outputs": []
    }
  ]
}