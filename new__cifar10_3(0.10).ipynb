{
  "nbformat": 4,
  "nbformat_minor": 0,
  "metadata": {
    "accelerator": "GPU",
    "colab": {
      "name": " new_ cifar10_3(0.10).ipynb",
      "provenance": [],
      "collapsed_sections": [
        "N5rt2fK5fntZ"
      ],
      "authorship_tag": "ABX9TyO+huDdlkexMjNS+xBCbd1K",
      "include_colab_link": true
    },
    "kernelspec": {
      "display_name": "Python 3",
      "name": "python3"
    },
    "language_info": {
      "name": "python"
    }
  },
  "cells": [
    {
      "cell_type": "markdown",
      "metadata": {
        "id": "view-in-github",
        "colab_type": "text"
      },
      "source": [
        "<a href=\"https://colab.research.google.com/github/jackson119/new_cifar_10/blob/main/new__cifar10_3(0.10).ipynb\" target=\"_parent\"><img src=\"https://colab.research.google.com/assets/colab-badge.svg\" alt=\"Open In Colab\"/></a>"
      ]
    },
    {
      "cell_type": "markdown",
      "metadata": {
        "id": "SGKXC7W7pnht"
      },
      "source": [
        "# Data Preprocessing"
      ]
    },
    {
      "cell_type": "code",
      "metadata": {
        "id": "91H4jfpypp4h"
      },
      "source": [
        "from tensorflow.keras.datasets import cifar10\n",
        "import numpy as np\n",
        "np.random.seed(10)"
      ],
      "execution_count": 2,
      "outputs": []
    },
    {
      "cell_type": "code",
      "metadata": {
        "id": "jrfbgEOdprAB",
        "colab": {
          "base_uri": "https://localhost:8080/"
        },
        "outputId": "47108f5a-3c41-4ab0-862c-70406e166350"
      },
      "source": [
        "(x_img_train,y_label_train),(x_img_test,y_label_test)=cifar10.load_data()"
      ],
      "execution_count": 3,
      "outputs": [
        {
          "output_type": "stream",
          "text": [
            "Downloading data from https://www.cs.toronto.edu/~kriz/cifar-10-python.tar.gz\n",
            "170500096/170498071 [==============================] - 2s 0us/step\n"
          ],
          "name": "stdout"
        }
      ]
    },
    {
      "cell_type": "code",
      "metadata": {
        "colab": {
          "base_uri": "https://localhost:8080/"
        },
        "id": "Bv64ED30R18B",
        "outputId": "49202a96-a8bc-4e3d-efb5-5fde019cd404"
      },
      "source": [
        "print(\"train data:\",\"images:\",x_img_train.shape,\"labels:\",y_label_train.shape)\n",
        "print(\"test data:\",\"images:\",x_img_test.shape,\"labels:\",y_label_test.shape)"
      ],
      "execution_count": 4,
      "outputs": [
        {
          "output_type": "stream",
          "text": [
            "train data: images: (50000, 32, 32, 3) labels: (50000, 1)\n",
            "test data: images: (10000, 32, 32, 3) labels: (10000, 1)\n"
          ],
          "name": "stdout"
        }
      ]
    },
    {
      "cell_type": "markdown",
      "metadata": {
        "id": "10BLqTKNSYKW"
      },
      "source": [
        "# standardize and perform one hot encoding"
      ]
    },
    {
      "cell_type": "code",
      "metadata": {
        "id": "_bdYalY-Sfva"
      },
      "source": [
        "x_img_train_normalize=x_img_train.astype('float32')/255.0\n",
        "x_img_test_normalize=x_img_test.astype('float32')/255.0"
      ],
      "execution_count": 5,
      "outputs": []
    },
    {
      "cell_type": "code",
      "metadata": {
        "id": "-7OJEuxpSpXX"
      },
      "source": [
        "from tensorflow.keras import utils"
      ],
      "execution_count": 6,
      "outputs": []
    },
    {
      "cell_type": "code",
      "metadata": {
        "id": "bvesDQfhSsmH"
      },
      "source": [
        "y_label_train_OneHot=utils.to_categorical(y_label_train)\n",
        "y_label_test_OneHot=utils.to_categorical(y_label_test)"
      ],
      "execution_count": 7,
      "outputs": []
    },
    {
      "cell_type": "markdown",
      "metadata": {
        "id": "DSmFxX9xSwCN"
      },
      "source": [
        "# Images and label"
      ]
    },
    {
      "cell_type": "code",
      "metadata": {
        "id": "6AshrU3USxld"
      },
      "source": [
        "label_dict={0:\"airplane\",1:\"automobile\",2:\"bird\",3:\"cat\",4:\"deer\",5:\"dog\",6:\"frog\",7:\"horse\",8:\"ship\",9:\"truck\"}"
      ],
      "execution_count": 8,
      "outputs": []
    },
    {
      "cell_type": "code",
      "metadata": {
        "id": "KADDqJmsSzCc"
      },
      "source": [
        "# Construct model\n",
        "from keras.models import Sequential\n",
        "from keras.layers import Dense,Dropout,Activation,Flatten\n",
        "from keras.layers import Conv2D,MaxPooling2D,ZeroPadding2D"
      ],
      "execution_count": 9,
      "outputs": []
    },
    {
      "cell_type": "code",
      "metadata": {
        "id": "2tUCpCqHS5sb"
      },
      "source": [
        "model=Sequential()"
      ],
      "execution_count": 10,
      "outputs": []
    },
    {
      "cell_type": "code",
      "metadata": {
        "id": "IP4YwNOFS62i"
      },
      "source": [
        "model.add(Conv2D(filters=32,kernel_size=(3,3),input_shape=(32,32,3),activation='relu',padding='same'))\n",
        "model.add(Dropout(0.10))\n",
        "model.add(Conv2D(filters=32,kernel_size=(3,3),activation='relu',padding='same'))\n",
        "model.add(MaxPooling2D(pool_size=(2,2)))"
      ],
      "execution_count": 11,
      "outputs": []
    },
    {
      "cell_type": "code",
      "metadata": {
        "id": "VrEsDZ3OYZv6"
      },
      "source": [
        "model.add(Conv2D(filters=64,kernel_size=(3,3),activation='relu',padding='same'))\n",
        "model.add(Dropout(0.10))\n",
        "model.add(Conv2D(filters=64,kernel_size=(3,3),activation='relu',padding='same'))\n",
        "model.add(MaxPooling2D(pool_size=(2,2)))"
      ],
      "execution_count": 12,
      "outputs": []
    },
    {
      "cell_type": "code",
      "metadata": {
        "id": "Lfbpty5kYwiH"
      },
      "source": [
        "model.add(Conv2D(filters=128,kernel_size=(3,3),activation='relu',padding='same'))\n",
        "model.add(Dropout(0.10))\n",
        "model.add(Conv2D(filters=128,kernel_size=(3,3),activation='relu',padding='same'))\n",
        "model.add(MaxPooling2D(pool_size=(2,2)))"
      ],
      "execution_count": 13,
      "outputs": []
    },
    {
      "cell_type": "code",
      "metadata": {
        "id": "YGEmb5pbZYhj"
      },
      "source": [
        "### neural network\n",
        "model.add(Flatten())\n",
        "model.add(Dropout(0.10))\n",
        "### hidden layer 1\n",
        "model.add(Dense(2500,activation='relu'))\n",
        "model.add(Dropout(0.10))\n",
        "### hidden layer 2\n",
        "model.add(Dense(1500,activation='relu'))\n",
        "model.add(Dropout(0.10))\n",
        "### output layer\n",
        "model.add(Dense(10,activation='softmax'))"
      ],
      "execution_count": 14,
      "outputs": []
    },
    {
      "cell_type": "code",
      "metadata": {
        "colab": {
          "base_uri": "https://localhost:8080/"
        },
        "id": "2kjnUEYuZtK5",
        "outputId": "37ab6d81-1fd0-4cb8-a8fa-95816692b36f"
      },
      "source": [
        "print(model.summary())"
      ],
      "execution_count": 15,
      "outputs": [
        {
          "output_type": "stream",
          "text": [
            "Model: \"sequential\"\n",
            "_________________________________________________________________\n",
            "Layer (type)                 Output Shape              Param #   \n",
            "=================================================================\n",
            "conv2d (Conv2D)              (None, 32, 32, 32)        896       \n",
            "_________________________________________________________________\n",
            "dropout (Dropout)            (None, 32, 32, 32)        0         \n",
            "_________________________________________________________________\n",
            "conv2d_1 (Conv2D)            (None, 32, 32, 32)        9248      \n",
            "_________________________________________________________________\n",
            "max_pooling2d (MaxPooling2D) (None, 16, 16, 32)        0         \n",
            "_________________________________________________________________\n",
            "conv2d_2 (Conv2D)            (None, 16, 16, 64)        18496     \n",
            "_________________________________________________________________\n",
            "dropout_1 (Dropout)          (None, 16, 16, 64)        0         \n",
            "_________________________________________________________________\n",
            "conv2d_3 (Conv2D)            (None, 16, 16, 64)        36928     \n",
            "_________________________________________________________________\n",
            "max_pooling2d_1 (MaxPooling2 (None, 8, 8, 64)          0         \n",
            "_________________________________________________________________\n",
            "conv2d_4 (Conv2D)            (None, 8, 8, 128)         73856     \n",
            "_________________________________________________________________\n",
            "dropout_2 (Dropout)          (None, 8, 8, 128)         0         \n",
            "_________________________________________________________________\n",
            "conv2d_5 (Conv2D)            (None, 8, 8, 128)         147584    \n",
            "_________________________________________________________________\n",
            "max_pooling2d_2 (MaxPooling2 (None, 4, 4, 128)         0         \n",
            "_________________________________________________________________\n",
            "flatten (Flatten)            (None, 2048)              0         \n",
            "_________________________________________________________________\n",
            "dropout_3 (Dropout)          (None, 2048)              0         \n",
            "_________________________________________________________________\n",
            "dense (Dense)                (None, 2500)              5122500   \n",
            "_________________________________________________________________\n",
            "dropout_4 (Dropout)          (None, 2500)              0         \n",
            "_________________________________________________________________\n",
            "dense_1 (Dense)              (None, 1500)              3751500   \n",
            "_________________________________________________________________\n",
            "dropout_5 (Dropout)          (None, 1500)              0         \n",
            "_________________________________________________________________\n",
            "dense_2 (Dense)              (None, 10)                15010     \n",
            "=================================================================\n",
            "Total params: 9,176,018\n",
            "Trainable params: 9,176,018\n",
            "Non-trainable params: 0\n",
            "_________________________________________________________________\n",
            "None\n"
          ],
          "name": "stdout"
        }
      ]
    },
    {
      "cell_type": "code",
      "metadata": {
        "colab": {
          "base_uri": "https://localhost:8080/"
        },
        "id": "j64CEumxZvDu",
        "outputId": "44a38af7-f073-4251-859b-e75ed2ce9ac6"
      },
      "source": [
        "model.compile(loss='categorical_crossentropy',optimizer='adam',metrics=['accuracy'])\n",
        "train_history=model.fit(x_img_train_normalize,y_label_train_OneHot,validation_split=0.2,epochs=50,batch_size=300,verbose=2)"
      ],
      "execution_count": 16,
      "outputs": [
        {
          "output_type": "stream",
          "text": [
            "Epoch 1/50\n",
            "134/134 - 39s - loss: 1.8344 - accuracy: 0.3164 - val_loss: 1.5615 - val_accuracy: 0.4235\n",
            "Epoch 2/50\n",
            "134/134 - 4s - loss: 1.3934 - accuracy: 0.4884 - val_loss: 1.2366 - val_accuracy: 0.5493\n",
            "Epoch 3/50\n",
            "134/134 - 4s - loss: 1.1429 - accuracy: 0.5892 - val_loss: 1.0854 - val_accuracy: 0.6154\n",
            "Epoch 4/50\n",
            "134/134 - 4s - loss: 0.9732 - accuracy: 0.6530 - val_loss: 0.9417 - val_accuracy: 0.6660\n",
            "Epoch 5/50\n",
            "134/134 - 4s - loss: 0.8452 - accuracy: 0.6998 - val_loss: 0.8636 - val_accuracy: 0.6950\n",
            "Epoch 6/50\n",
            "134/134 - 4s - loss: 0.7430 - accuracy: 0.7381 - val_loss: 0.7997 - val_accuracy: 0.7210\n",
            "Epoch 7/50\n",
            "134/134 - 5s - loss: 0.6505 - accuracy: 0.7702 - val_loss: 0.8003 - val_accuracy: 0.7253\n",
            "Epoch 8/50\n",
            "134/134 - 5s - loss: 0.5674 - accuracy: 0.7996 - val_loss: 0.7465 - val_accuracy: 0.7475\n",
            "Epoch 9/50\n",
            "134/134 - 5s - loss: 0.4800 - accuracy: 0.8310 - val_loss: 0.7797 - val_accuracy: 0.7470\n",
            "Epoch 10/50\n",
            "134/134 - 5s - loss: 0.3866 - accuracy: 0.8624 - val_loss: 0.8139 - val_accuracy: 0.7534\n",
            "Epoch 11/50\n",
            "134/134 - 5s - loss: 0.3194 - accuracy: 0.8882 - val_loss: 0.8275 - val_accuracy: 0.7498\n",
            "Epoch 12/50\n",
            "134/134 - 5s - loss: 0.2512 - accuracy: 0.9111 - val_loss: 0.8895 - val_accuracy: 0.7640\n",
            "Epoch 13/50\n",
            "134/134 - 5s - loss: 0.2075 - accuracy: 0.9257 - val_loss: 0.9450 - val_accuracy: 0.7584\n",
            "Epoch 14/50\n",
            "134/134 - 5s - loss: 0.1819 - accuracy: 0.9366 - val_loss: 0.9987 - val_accuracy: 0.7594\n",
            "Epoch 15/50\n",
            "134/134 - 5s - loss: 0.1503 - accuracy: 0.9473 - val_loss: 1.0038 - val_accuracy: 0.7564\n",
            "Epoch 16/50\n",
            "134/134 - 5s - loss: 0.1272 - accuracy: 0.9552 - val_loss: 1.0240 - val_accuracy: 0.7586\n",
            "Epoch 17/50\n",
            "134/134 - 5s - loss: 0.1218 - accuracy: 0.9578 - val_loss: 1.0427 - val_accuracy: 0.7614\n",
            "Epoch 18/50\n",
            "134/134 - 5s - loss: 0.1153 - accuracy: 0.9612 - val_loss: 1.0932 - val_accuracy: 0.7592\n",
            "Epoch 19/50\n",
            "134/134 - 5s - loss: 0.0953 - accuracy: 0.9669 - val_loss: 1.1481 - val_accuracy: 0.7630\n",
            "Epoch 20/50\n",
            "134/134 - 5s - loss: 0.0866 - accuracy: 0.9708 - val_loss: 1.2008 - val_accuracy: 0.7617\n",
            "Epoch 21/50\n",
            "134/134 - 5s - loss: 0.0831 - accuracy: 0.9718 - val_loss: 1.2346 - val_accuracy: 0.7544\n",
            "Epoch 22/50\n",
            "134/134 - 5s - loss: 0.0816 - accuracy: 0.9728 - val_loss: 1.1997 - val_accuracy: 0.7617\n",
            "Epoch 23/50\n",
            "134/134 - 5s - loss: 0.0758 - accuracy: 0.9742 - val_loss: 1.2144 - val_accuracy: 0.7598\n",
            "Epoch 24/50\n",
            "134/134 - 5s - loss: 0.0779 - accuracy: 0.9736 - val_loss: 1.1305 - val_accuracy: 0.7662\n",
            "Epoch 25/50\n",
            "134/134 - 5s - loss: 0.0772 - accuracy: 0.9743 - val_loss: 1.1838 - val_accuracy: 0.7633\n",
            "Epoch 26/50\n",
            "134/134 - 5s - loss: 0.0712 - accuracy: 0.9771 - val_loss: 1.1670 - val_accuracy: 0.7683\n",
            "Epoch 27/50\n",
            "134/134 - 5s - loss: 0.0576 - accuracy: 0.9804 - val_loss: 1.3009 - val_accuracy: 0.7680\n",
            "Epoch 28/50\n",
            "134/134 - 5s - loss: 0.0645 - accuracy: 0.9784 - val_loss: 1.3239 - val_accuracy: 0.7552\n",
            "Epoch 29/50\n",
            "134/134 - 5s - loss: 0.0610 - accuracy: 0.9803 - val_loss: 1.3607 - val_accuracy: 0.7633\n",
            "Epoch 30/50\n",
            "134/134 - 5s - loss: 0.0611 - accuracy: 0.9793 - val_loss: 1.4312 - val_accuracy: 0.7497\n",
            "Epoch 31/50\n",
            "134/134 - 5s - loss: 0.0599 - accuracy: 0.9802 - val_loss: 1.3013 - val_accuracy: 0.7612\n",
            "Epoch 32/50\n",
            "134/134 - 5s - loss: 0.0613 - accuracy: 0.9795 - val_loss: 1.3493 - val_accuracy: 0.7624\n",
            "Epoch 33/50\n",
            "134/134 - 5s - loss: 0.0510 - accuracy: 0.9830 - val_loss: 1.4175 - val_accuracy: 0.7627\n",
            "Epoch 34/50\n",
            "134/134 - 5s - loss: 0.0585 - accuracy: 0.9803 - val_loss: 1.3959 - val_accuracy: 0.7575\n",
            "Epoch 35/50\n",
            "134/134 - 5s - loss: 0.0540 - accuracy: 0.9816 - val_loss: 1.2901 - val_accuracy: 0.7576\n",
            "Epoch 36/50\n",
            "134/134 - 5s - loss: 0.0475 - accuracy: 0.9838 - val_loss: 1.3965 - val_accuracy: 0.7705\n",
            "Epoch 37/50\n",
            "134/134 - 5s - loss: 0.0528 - accuracy: 0.9820 - val_loss: 1.3168 - val_accuracy: 0.7675\n",
            "Epoch 38/50\n",
            "134/134 - 5s - loss: 0.0481 - accuracy: 0.9832 - val_loss: 1.3991 - val_accuracy: 0.7543\n",
            "Epoch 39/50\n",
            "134/134 - 5s - loss: 0.0534 - accuracy: 0.9822 - val_loss: 1.2840 - val_accuracy: 0.7641\n",
            "Epoch 40/50\n",
            "134/134 - 5s - loss: 0.0555 - accuracy: 0.9819 - val_loss: 1.3087 - val_accuracy: 0.7544\n",
            "Epoch 41/50\n",
            "134/134 - 5s - loss: 0.0526 - accuracy: 0.9830 - val_loss: 1.3227 - val_accuracy: 0.7628\n",
            "Epoch 42/50\n",
            "134/134 - 5s - loss: 0.0497 - accuracy: 0.9835 - val_loss: 1.3642 - val_accuracy: 0.7607\n",
            "Epoch 43/50\n",
            "134/134 - 5s - loss: 0.0536 - accuracy: 0.9825 - val_loss: 1.3097 - val_accuracy: 0.7661\n",
            "Epoch 44/50\n",
            "134/134 - 5s - loss: 0.0434 - accuracy: 0.9861 - val_loss: 1.3775 - val_accuracy: 0.7656\n",
            "Epoch 45/50\n",
            "134/134 - 5s - loss: 0.0449 - accuracy: 0.9852 - val_loss: 1.4268 - val_accuracy: 0.7607\n",
            "Epoch 46/50\n",
            "134/134 - 5s - loss: 0.0486 - accuracy: 0.9844 - val_loss: 1.3951 - val_accuracy: 0.7618\n",
            "Epoch 47/50\n",
            "134/134 - 5s - loss: 0.0424 - accuracy: 0.9868 - val_loss: 1.5318 - val_accuracy: 0.7698\n",
            "Epoch 48/50\n",
            "134/134 - 5s - loss: 0.0453 - accuracy: 0.9850 - val_loss: 1.3610 - val_accuracy: 0.7706\n",
            "Epoch 49/50\n",
            "134/134 - 5s - loss: 0.0423 - accuracy: 0.9864 - val_loss: 1.4710 - val_accuracy: 0.7615\n",
            "Epoch 50/50\n",
            "134/134 - 5s - loss: 0.0431 - accuracy: 0.9854 - val_loss: 1.4771 - val_accuracy: 0.7613\n"
          ],
          "name": "stdout"
        }
      ]
    },
    {
      "cell_type": "code",
      "metadata": {
        "id": "rzLTGAOzZ7zi"
      },
      "source": [
        "from matplotlib import pyplot as plt\n",
        "def show_train_history(train_history,train,validation):\n",
        "  plt.plot(train_history.history[train])\n",
        "  plt.plot(train_history.history[validation])\n",
        "  plt.title('Train History')\n",
        "  plt.ylabel('train')\n",
        "  plt.xlabel('Epoch')\n",
        "  plt.legend(['train','validation'],loc='upper left')\n",
        "  plt.show()"
      ],
      "execution_count": 17,
      "outputs": []
    },
    {
      "cell_type": "code",
      "metadata": {
        "colab": {
          "base_uri": "https://localhost:8080/",
          "height": 295
        },
        "id": "FliqaslyfUOd",
        "outputId": "641d0e84-5266-4ca9-f698-3e22c67ef3b6"
      },
      "source": [
        "show_train_history(train_history,'accuracy','val_accuracy')"
      ],
      "execution_count": 18,
      "outputs": [
        {
          "output_type": "display_data",
          "data": {
            "image/png": "[encoded data removed]",
            "text/plain": [
              "<Figure size 432x288 with 1 Axes>"
            ]
          },
          "metadata": {
            "tags": [],
            "needs_background": "light"
          }
        }
      ]
    },
    {
      "cell_type": "code",
      "metadata": {
        "colab": {
          "base_uri": "https://localhost:8080/",
          "height": 295
        },
        "id": "CLUnjiW4fbvQ",
        "outputId": "9b04457d-7b5d-487f-8a14-f4bb795d9a6c"
      },
      "source": [
        "show_train_history(train_history,'loss','val_loss')"
      ],
      "execution_count": 19,
      "outputs": [
        {
          "output_type": "display_data",
          "data": {
            "image/png": "[encoded data removed]",
            "text/plain": [
              "<Figure size 432x288 with 1 Axes>"
            ]
          },
          "metadata": {
            "tags": [],
            "needs_background": "light"
          }
        }
      ]
    },
    {
      "cell_type": "code",
      "metadata": {
        "id": "J5uBX8IWgmJ8"
      },
      "source": [
        "### estimate model accuracy"
      ],
      "execution_count": 20,
      "outputs": []
    },
    {
      "cell_type": "code",
      "metadata": {
        "id": "CNqM3qWAgmRX"
      },
      "source": [
        "scores=model.evaluate(x_img_test_normalize,y_label_test_OneHot,verbose=0)"
      ],
      "execution_count": 21,
      "outputs": []
    },
    {
      "cell_type": "code",
      "metadata": {
        "colab": {
          "base_uri": "https://localhost:8080/"
        },
        "id": "cLAn9V1ogrBf",
        "outputId": "d59af9ed-bce2-408a-d696-eeabbc777e15"
      },
      "source": [
        "print(f'Test loss: {scores[0]} / Test accuracy: {scores[1]}')"
      ],
      "execution_count": 22,
      "outputs": [
        {
          "output_type": "stream",
          "text": [
            "Test loss: 1.5285937786102295 / Test accuracy: 0.7591999769210815\n"
          ],
          "name": "stdout"
        }
      ]
    },
    {
      "cell_type": "code",
      "metadata": {
        "colab": {
          "base_uri": "https://localhost:8080/"
        },
        "id": "UNRhGtVugvNM",
        "outputId": "a4a3dc68-2a7a-4b81-b320-0da53cd52d48"
      },
      "source": [
        "prediction=model.predict_classes(x_img_test_normalize) ### prediction"
      ],
      "execution_count": 23,
      "outputs": [
        {
          "output_type": "stream",
          "text": [
            "/usr/local/lib/python3.7/dist-packages/tensorflow/python/keras/engine/sequential.py:450: UserWarning: `model.predict_classes()` is deprecated and will be removed after 2021-01-01. Please use instead:* `np.argmax(model.predict(x), axis=-1)`,   if your model does multi-class classification   (e.g. if it uses a `softmax` last-layer activation).* `(model.predict(x) > 0.5).astype(\"int32\")`,   if your model does binary classification   (e.g. if it uses a `sigmoid` last-layer activation).\n",
            "  warnings.warn('`model.predict_classes()` is deprecated and '\n"
          ],
          "name": "stderr"
        }
      ]
    },
    {
      "cell_type": "code",
      "metadata": {
        "colab": {
          "base_uri": "https://localhost:8080/"
        },
        "id": "e9dj4EcTkNPd",
        "outputId": "6b073a97-1eca-4337-e2fe-805a43702fce"
      },
      "source": [
        "prediction"
      ],
      "execution_count": 24,
      "outputs": [
        {
          "output_type": "execute_result",
          "data": {
            "text/plain": [
              "array([5, 8, 8, ..., 5, 1, 7])"
            ]
          },
          "metadata": {
            "tags": []
          },
          "execution_count": 24
        }
      ]
    },
    {
      "cell_type": "code",
      "metadata": {
        "id": "ii4zLAJNgz_w"
      },
      "source": [
        "def plot_images_labels_prediction(images,labels,prediction,idx,num=10):\n",
        "  fig=plt.gcf()\n",
        "  fig.set_size_inches(12,14)\n",
        "  if num>25:num=25\n",
        "  for i in range(0,num):\n",
        "    ax=plt.subplot(5,5,1+i)\n",
        "    ax.imshow(images[idx],cmap='binary')\n",
        "    title=str(i) +',' +label_dict[labels[i][0]]\n",
        "    if len(prediction)>0:\n",
        "      title+='=>'+label_dict[prediction[i]]\n",
        "    ax.set_title(title,fontsize=10)\n",
        "    ax.set_xticks([]);ax.set_yticks([])\n",
        "    idx+=1\n",
        "  plt.show()"
      ],
      "execution_count": 25,
      "outputs": []
    },
    {
      "cell_type": "code",
      "metadata": {
        "colab": {
          "base_uri": "https://localhost:8080/",
          "height": 321
        },
        "id": "Ss7dd8dJg2UX",
        "outputId": "82b7b554-dfb4-4068-e120-735035b6f9d2"
      },
      "source": [
        "plot_images_labels_prediction(x_img_test,y_label_test,prediction,0,10)"
      ],
      "execution_count": 26,
      "outputs": [
        {
          "output_type": "display_data",
          "data": {
            "image/png": "[encoded data removed]",
            "text/plain": [
              "<Figure size 864x1008 with 10 Axes>"
            ]
          },
          "metadata": {
            "tags": []
          }
        }
      ]
    },
    {
      "cell_type": "code",
      "metadata": {
        "id": "PpPOXOuZg6wp"
      },
      "source": [
        "# check for prediction rate\n",
        "predicted_Probability=model.predict(x_img_test_normalize)"
      ],
      "execution_count": 27,
      "outputs": []
    },
    {
      "cell_type": "code",
      "metadata": {
        "id": "ykuUEDYlg_vY"
      },
      "source": [
        "def show_predicted_probability(y,prediction,x_img,predicted_Probability,i):\n",
        "  print('label:',label_dict[y[i][0]],\n",
        "        'predict',label_dict[prediction[i]])\n",
        "  plt.figure(figsize=(2,2))\n",
        "  plt.imshow(np.reshape(x_img_test[i],(32,32,3)))\n",
        "  plt.show()\n",
        "  for j in range(10):\n",
        "    print(label_dict[j]+ ' probability:%1.9f'%(predicted_Probability[i][j]))\n"
      ],
      "execution_count": 28,
      "outputs": []
    },
    {
      "cell_type": "code",
      "metadata": {
        "colab": {
          "base_uri": "https://localhost:8080/",
          "height": 355
        },
        "id": "EDAw57mNhCGo",
        "outputId": "ecd63842-0bb2-4631-fc67-15d4127f748f"
      },
      "source": [
        "show_predicted_probability(y_label_test,prediction,x_img_test,predicted_Probability,0)"
      ],
      "execution_count": 29,
      "outputs": [
        {
          "output_type": "stream",
          "text": [
            "label: cat predict dog\n"
          ],
          "name": "stdout"
        },
        {
          "output_type": "display_data",
          "data": {
            "image/png": "[encoded data removed]",
            "text/plain": [
              "<Figure size 144x144 with 1 Axes>"
            ]
          },
          "metadata": {
            "tags": [],
            "needs_background": "light"
          }
        },
        {
          "output_type": "stream",
          "text": [
            "airplane probability:0.000000006\n",
            "automobile probability:0.000000408\n",
            "bird probability:0.000000018\n",
            "cat probability:0.112826429\n",
            "deer probability:0.000000038\n",
            "dog probability:0.886717737\n",
            "frog probability:0.000441098\n",
            "horse probability:0.000002738\n",
            "ship probability:0.000009613\n",
            "truck probability:0.000001954\n"
          ],
          "name": "stdout"
        }
      ]
    },
    {
      "cell_type": "markdown",
      "metadata": {
        "id": "N5rt2fK5fntZ"
      },
      "source": [
        "#Confusion matrix"
      ]
    },
    {
      "cell_type": "code",
      "metadata": {
        "id": "TjlrqQgShBjE"
      },
      "source": [
        "import pandas as pd"
      ],
      "execution_count": 30,
      "outputs": []
    },
    {
      "cell_type": "code",
      "metadata": {
        "colab": {
          "base_uri": "https://localhost:8080/",
          "height": 370
        },
        "id": "vD-agaQbfqVp",
        "outputId": "bd4d6042-6677-4917-e932-8e2a5a2e43a5"
      },
      "source": [
        "pd.crosstab(y_label_test.reshape(-1),prediction,rownames=['label'],colnames=['predict'])"
      ],
      "execution_count": 31,
      "outputs": [
        {
          "output_type": "execute_result",
          "data": {
            "text/html": [
              "<div>\n",
              "<style scoped>\n",
              "    .dataframe tbody tr th:only-of-type {\n",
              "        vertical-align: middle;\n",
              "    }\n",
              "\n",
              "    .dataframe tbody tr th {\n",
              "        vertical-align: top;\n",
              "    }\n",
              "\n",
              "    .dataframe thead th {\n",
              "        text-align: right;\n",
              "    }\n",
              "</style>\n",
              "<table border=\"1\" class=\"dataframe\">\n",
              "  <thead>\n",
              "    <tr style=\"text-align: right;\">\n",
              "      <th>predict</th>\n",
              "      <th>0</th>\n",
              "      <th>1</th>\n",
              "      <th>2</th>\n",
              "      <th>3</th>\n",
              "      <th>4</th>\n",
              "      <th>5</th>\n",
              "      <th>6</th>\n",
              "      <th>7</th>\n",
              "      <th>8</th>\n",
              "      <th>9</th>\n",
              "    </tr>\n",
              "    <tr>\n",
              "      <th>label</th>\n",
              "      <th></th>\n",
              "      <th></th>\n",
              "      <th></th>\n",
              "      <th></th>\n",
              "      <th></th>\n",
              "      <th></th>\n",
              "      <th></th>\n",
              "      <th></th>\n",
              "      <th></th>\n",
              "      <th></th>\n",
              "    </tr>\n",
              "  </thead>\n",
              "  <tbody>\n",
              "    <tr>\n",
              "      <th>0</th>\n",
              "      <td>825</td>\n",
              "      <td>9</td>\n",
              "      <td>41</td>\n",
              "      <td>15</td>\n",
              "      <td>14</td>\n",
              "      <td>8</td>\n",
              "      <td>7</td>\n",
              "      <td>8</td>\n",
              "      <td>39</td>\n",
              "      <td>34</td>\n",
              "    </tr>\n",
              "    <tr>\n",
              "      <th>1</th>\n",
              "      <td>9</td>\n",
              "      <td>860</td>\n",
              "      <td>3</td>\n",
              "      <td>11</td>\n",
              "      <td>5</td>\n",
              "      <td>5</td>\n",
              "      <td>5</td>\n",
              "      <td>3</td>\n",
              "      <td>10</td>\n",
              "      <td>89</td>\n",
              "    </tr>\n",
              "    <tr>\n",
              "      <th>2</th>\n",
              "      <td>68</td>\n",
              "      <td>3</td>\n",
              "      <td>669</td>\n",
              "      <td>52</td>\n",
              "      <td>72</td>\n",
              "      <td>65</td>\n",
              "      <td>36</td>\n",
              "      <td>22</td>\n",
              "      <td>7</td>\n",
              "      <td>6</td>\n",
              "    </tr>\n",
              "    <tr>\n",
              "      <th>3</th>\n",
              "      <td>17</td>\n",
              "      <td>4</td>\n",
              "      <td>63</td>\n",
              "      <td>530</td>\n",
              "      <td>61</td>\n",
              "      <td>216</td>\n",
              "      <td>52</td>\n",
              "      <td>34</td>\n",
              "      <td>7</td>\n",
              "      <td>16</td>\n",
              "    </tr>\n",
              "    <tr>\n",
              "      <th>4</th>\n",
              "      <td>21</td>\n",
              "      <td>2</td>\n",
              "      <td>59</td>\n",
              "      <td>54</td>\n",
              "      <td>687</td>\n",
              "      <td>47</td>\n",
              "      <td>41</td>\n",
              "      <td>80</td>\n",
              "      <td>4</td>\n",
              "      <td>5</td>\n",
              "    </tr>\n",
              "    <tr>\n",
              "      <th>5</th>\n",
              "      <td>6</td>\n",
              "      <td>3</td>\n",
              "      <td>46</td>\n",
              "      <td>127</td>\n",
              "      <td>34</td>\n",
              "      <td>704</td>\n",
              "      <td>14</td>\n",
              "      <td>53</td>\n",
              "      <td>5</td>\n",
              "      <td>8</td>\n",
              "    </tr>\n",
              "    <tr>\n",
              "      <th>6</th>\n",
              "      <td>9</td>\n",
              "      <td>1</td>\n",
              "      <td>35</td>\n",
              "      <td>52</td>\n",
              "      <td>38</td>\n",
              "      <td>34</td>\n",
              "      <td>819</td>\n",
              "      <td>4</td>\n",
              "      <td>1</td>\n",
              "      <td>7</td>\n",
              "    </tr>\n",
              "    <tr>\n",
              "      <th>7</th>\n",
              "      <td>12</td>\n",
              "      <td>2</td>\n",
              "      <td>21</td>\n",
              "      <td>33</td>\n",
              "      <td>50</td>\n",
              "      <td>55</td>\n",
              "      <td>5</td>\n",
              "      <td>806</td>\n",
              "      <td>3</td>\n",
              "      <td>13</td>\n",
              "    </tr>\n",
              "    <tr>\n",
              "      <th>8</th>\n",
              "      <td>56</td>\n",
              "      <td>14</td>\n",
              "      <td>18</td>\n",
              "      <td>15</td>\n",
              "      <td>9</td>\n",
              "      <td>9</td>\n",
              "      <td>6</td>\n",
              "      <td>3</td>\n",
              "      <td>840</td>\n",
              "      <td>30</td>\n",
              "    </tr>\n",
              "    <tr>\n",
              "      <th>9</th>\n",
              "      <td>23</td>\n",
              "      <td>44</td>\n",
              "      <td>8</td>\n",
              "      <td>17</td>\n",
              "      <td>2</td>\n",
              "      <td>14</td>\n",
              "      <td>5</td>\n",
              "      <td>24</td>\n",
              "      <td>11</td>\n",
              "      <td>852</td>\n",
              "    </tr>\n",
              "  </tbody>\n",
              "</table>\n",
              "</div>"
            ],
            "text/plain": [
              "predict    0    1    2    3    4    5    6    7    8    9\n",
              "label                                                    \n",
              "0        825    9   41   15   14    8    7    8   39   34\n",
              "1          9  860    3   11    5    5    5    3   10   89\n",
              "2         68    3  669   52   72   65   36   22    7    6\n",
              "3         17    4   63  530   61  216   52   34    7   16\n",
              "4         21    2   59   54  687   47   41   80    4    5\n",
              "5          6    3   46  127   34  704   14   53    5    8\n",
              "6          9    1   35   52   38   34  819    4    1    7\n",
              "7         12    2   21   33   50   55    5  806    3   13\n",
              "8         56   14   18   15    9    9    6    3  840   30\n",
              "9         23   44    8   17    2   14    5   24   11  852"
            ]
          },
          "metadata": {
            "tags": []
          },
          "execution_count": 31
        }
      ]
    },
    {
      "cell_type": "code",
      "metadata": {
        "id": "mvxedLAxgTfS"
      },
      "source": [
        ""
      ],
      "execution_count": null,
      "outputs": []
    }
  ]
}