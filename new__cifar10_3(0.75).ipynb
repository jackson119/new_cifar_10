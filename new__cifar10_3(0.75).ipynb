{
  "nbformat": 4,
  "nbformat_minor": 0,
  "metadata": {
    "accelerator": "GPU",
    "colab": {
      "name": "new_ cifar10_3(0.75).ipynb",
      "provenance": [],
      "collapsed_sections": [
        "N5rt2fK5fntZ"
      ],
      "authorship_tag": "ABX9TyOAG4NhaxzH/QO+ZPrGifN2",
      "include_colab_link": true
    },
    "kernelspec": {
      "display_name": "Python 3",
      "name": "python3"
    },
    "language_info": {
      "name": "python"
    }
  },
  "cells": [
    {
      "cell_type": "markdown",
      "metadata": {
        "id": "view-in-github",
        "colab_type": "text"
      },
      "source": [
        "<a href=\"https://colab.research.google.com/github/jackson119/new_cifar_10/blob/main/new__cifar10_3(0.75).ipynb\" target=\"_parent\"><img src=\"https://colab.research.google.com/assets/colab-badge.svg\" alt=\"Open In Colab\"/></a>"
      ]
    },
    {
      "cell_type": "markdown",
      "metadata": {
        "id": "SGKXC7W7pnht"
      },
      "source": [
        "# Data Preprocessing"
      ]
    },
    {
      "cell_type": "code",
      "metadata": {
        "id": "91H4jfpypp4h"
      },
      "source": [
        "from tensorflow.keras.datasets import cifar10\n",
        "import numpy as np\n",
        "np.random.seed(10)"
      ],
      "execution_count": 1,
      "outputs": []
    },
    {
      "cell_type": "code",
      "metadata": {
        "id": "jrfbgEOdprAB",
        "colab": {
          "base_uri": "https://localhost:8080/"
        },
        "outputId": "6b109b5b-94ed-42ba-8160-846903ab2e50"
      },
      "source": [
        "(x_img_train,y_label_train),(x_img_test,y_label_test)=cifar10.load_data()"
      ],
      "execution_count": 2,
      "outputs": [
        {
          "output_type": "stream",
          "text": [
            "Downloading data from https://www.cs.toronto.edu/~kriz/cifar-10-python.tar.gz\n",
            "170500096/170498071 [==============================] - 2s 0us/step\n"
          ],
          "name": "stdout"
        }
      ]
    },
    {
      "cell_type": "code",
      "metadata": {
        "id": "Bv64ED30R18B",
        "colab": {
          "base_uri": "https://localhost:8080/"
        },
        "outputId": "ea209c80-9166-40ce-d4ae-eb9a0aeeef90"
      },
      "source": [
        "print(\"train data:\",\"images:\",x_img_train.shape,\"labels:\",y_label_train.shape)\n",
        "print(\"test data:\",\"images:\",x_img_test.shape,\"labels:\",y_label_test.shape)"
      ],
      "execution_count": 3,
      "outputs": [
        {
          "output_type": "stream",
          "text": [
            "train data: images: (50000, 32, 32, 3) labels: (50000, 1)\n",
            "test data: images: (10000, 32, 32, 3) labels: (10000, 1)\n"
          ],
          "name": "stdout"
        }
      ]
    },
    {
      "cell_type": "markdown",
      "metadata": {
        "id": "10BLqTKNSYKW"
      },
      "source": [
        "# standardize and perform one hot encoding"
      ]
    },
    {
      "cell_type": "code",
      "metadata": {
        "id": "_bdYalY-Sfva"
      },
      "source": [
        "x_img_train_normalize=x_img_train.astype('float32')/255.0\n",
        "x_img_test_normalize=x_img_test.astype('float32')/255.0"
      ],
      "execution_count": 4,
      "outputs": []
    },
    {
      "cell_type": "code",
      "metadata": {
        "id": "-7OJEuxpSpXX"
      },
      "source": [
        "from tensorflow.keras import utils"
      ],
      "execution_count": 5,
      "outputs": []
    },
    {
      "cell_type": "code",
      "metadata": {
        "id": "bvesDQfhSsmH"
      },
      "source": [
        "y_label_train_OneHot=utils.to_categorical(y_label_train)\n",
        "y_label_test_OneHot=utils.to_categorical(y_label_test)"
      ],
      "execution_count": 6,
      "outputs": []
    },
    {
      "cell_type": "markdown",
      "metadata": {
        "id": "DSmFxX9xSwCN"
      },
      "source": [
        "# Images and label"
      ]
    },
    {
      "cell_type": "code",
      "metadata": {
        "id": "6AshrU3USxld"
      },
      "source": [
        "label_dict={0:\"airplane\",1:\"automobile\",2:\"bird\",3:\"cat\",4:\"deer\",5:\"dog\",6:\"frog\",7:\"horse\",8:\"ship\",9:\"truck\"}"
      ],
      "execution_count": 7,
      "outputs": []
    },
    {
      "cell_type": "code",
      "metadata": {
        "id": "KADDqJmsSzCc"
      },
      "source": [
        "# Construct model\n",
        "from keras.models import Sequential\n",
        "from keras.layers import Dense,Dropout,Activation,Flatten\n",
        "from keras.layers import Conv2D,MaxPooling2D,ZeroPadding2D"
      ],
      "execution_count": 8,
      "outputs": []
    },
    {
      "cell_type": "code",
      "metadata": {
        "id": "2tUCpCqHS5sb"
      },
      "source": [
        "model=Sequential()"
      ],
      "execution_count": 9,
      "outputs": []
    },
    {
      "cell_type": "code",
      "metadata": {
        "id": "IP4YwNOFS62i"
      },
      "source": [
        "model.add(Conv2D(filters=32,kernel_size=(3,3),input_shape=(32,32,3),activation='relu',padding='same'))\n",
        "model.add(Dropout(0.75))\n",
        "model.add(Conv2D(filters=32,kernel_size=(3,3),activation='relu',padding='same'))\n",
        "model.add(MaxPooling2D(pool_size=(2,2)))"
      ],
      "execution_count": 10,
      "outputs": []
    },
    {
      "cell_type": "code",
      "metadata": {
        "id": "VrEsDZ3OYZv6"
      },
      "source": [
        "model.add(Conv2D(filters=64,kernel_size=(3,3),activation='relu',padding='same'))\n",
        "model.add(Dropout(0.75))\n",
        "model.add(Conv2D(filters=64,kernel_size=(3,3),activation='relu',padding='same'))\n",
        "model.add(MaxPooling2D(pool_size=(2,2)))"
      ],
      "execution_count": 11,
      "outputs": []
    },
    {
      "cell_type": "code",
      "metadata": {
        "id": "Lfbpty5kYwiH"
      },
      "source": [
        "model.add(Conv2D(filters=128,kernel_size=(3,3),activation='relu',padding='same'))\n",
        "model.add(Dropout(0.75))\n",
        "model.add(Conv2D(filters=128,kernel_size=(3,3),activation='relu',padding='same'))\n",
        "model.add(MaxPooling2D(pool_size=(2,2)))"
      ],
      "execution_count": 12,
      "outputs": []
    },
    {
      "cell_type": "code",
      "metadata": {
        "id": "YGEmb5pbZYhj"
      },
      "source": [
        "### neural network\n",
        "model.add(Flatten())\n",
        "model.add(Dropout(0.75))\n",
        "### hidden layer 1\n",
        "model.add(Dense(2500,activation='relu'))\n",
        "model.add(Dropout(0.75))\n",
        "### hidden layer 2\n",
        "model.add(Dense(1500,activation='relu'))\n",
        "model.add(Dropout(0.75))\n",
        "### output layer\n",
        "model.add(Dense(10,activation='softmax'))"
      ],
      "execution_count": 13,
      "outputs": []
    },
    {
      "cell_type": "code",
      "metadata": {
        "id": "2kjnUEYuZtK5",
        "colab": {
          "base_uri": "https://localhost:8080/"
        },
        "outputId": "8dcf8f50-521f-49b3-ed9c-e90b0106bd1f"
      },
      "source": [
        "print(model.summary())"
      ],
      "execution_count": 14,
      "outputs": [
        {
          "output_type": "stream",
          "text": [
            "Model: \"sequential\"\n",
            "_________________________________________________________________\n",
            "Layer (type)                 Output Shape              Param #   \n",
            "=================================================================\n",
            "conv2d (Conv2D)              (None, 32, 32, 32)        896       \n",
            "_________________________________________________________________\n",
            "dropout (Dropout)            (None, 32, 32, 32)        0         \n",
            "_________________________________________________________________\n",
            "conv2d_1 (Conv2D)            (None, 32, 32, 32)        9248      \n",
            "_________________________________________________________________\n",
            "max_pooling2d (MaxPooling2D) (None, 16, 16, 32)        0         \n",
            "_________________________________________________________________\n",
            "conv2d_2 (Conv2D)            (None, 16, 16, 64)        18496     \n",
            "_________________________________________________________________\n",
            "dropout_1 (Dropout)          (None, 16, 16, 64)        0         \n",
            "_________________________________________________________________\n",
            "conv2d_3 (Conv2D)            (None, 16, 16, 64)        36928     \n",
            "_________________________________________________________________\n",
            "max_pooling2d_1 (MaxPooling2 (None, 8, 8, 64)          0         \n",
            "_________________________________________________________________\n",
            "conv2d_4 (Conv2D)            (None, 8, 8, 128)         73856     \n",
            "_________________________________________________________________\n",
            "dropout_2 (Dropout)          (None, 8, 8, 128)         0         \n",
            "_________________________________________________________________\n",
            "conv2d_5 (Conv2D)            (None, 8, 8, 128)         147584    \n",
            "_________________________________________________________________\n",
            "max_pooling2d_2 (MaxPooling2 (None, 4, 4, 128)         0         \n",
            "_________________________________________________________________\n",
            "flatten (Flatten)            (None, 2048)              0         \n",
            "_________________________________________________________________\n",
            "dropout_3 (Dropout)          (None, 2048)              0         \n",
            "_________________________________________________________________\n",
            "dense (Dense)                (None, 2500)              5122500   \n",
            "_________________________________________________________________\n",
            "dropout_4 (Dropout)          (None, 2500)              0         \n",
            "_________________________________________________________________\n",
            "dense_1 (Dense)              (None, 1500)              3751500   \n",
            "_________________________________________________________________\n",
            "dropout_5 (Dropout)          (None, 1500)              0         \n",
            "_________________________________________________________________\n",
            "dense_2 (Dense)              (None, 10)                15010     \n",
            "=================================================================\n",
            "Total params: 9,176,018\n",
            "Trainable params: 9,176,018\n",
            "Non-trainable params: 0\n",
            "_________________________________________________________________\n",
            "None\n"
          ],
          "name": "stdout"
        }
      ]
    },
    {
      "cell_type": "code",
      "metadata": {
        "colab": {
          "base_uri": "https://localhost:8080/"
        },
        "id": "j64CEumxZvDu",
        "outputId": "bf7bac29-a92d-4f0b-d39e-7288e7a7b543"
      },
      "source": [
        "model.compile(loss='categorical_crossentropy',optimizer='adam',metrics=['accuracy'])\n",
        "train_history=model.fit(x_img_train_normalize,y_label_train_OneHot,validation_split=0.2,epochs=50,batch_size=300,verbose=2)"
      ],
      "execution_count": 15,
      "outputs": [
        {
          "output_type": "stream",
          "text": [
            "Epoch 1/50\n",
            "134/134 - 39s - loss: 2.3033 - accuracy: 0.1383 - val_loss: 2.4380 - val_accuracy: 0.0980\n",
            "Epoch 2/50\n",
            "134/134 - 5s - loss: 2.0384 - accuracy: 0.2289 - val_loss: 3.3020 - val_accuracy: 0.0980\n",
            "Epoch 3/50\n",
            "134/134 - 5s - loss: 1.9358 - accuracy: 0.2627 - val_loss: 3.7287 - val_accuracy: 0.0997\n",
            "Epoch 4/50\n",
            "134/134 - 5s - loss: 1.8574 - accuracy: 0.2901 - val_loss: 3.9348 - val_accuracy: 0.0997\n",
            "Epoch 5/50\n",
            "134/134 - 5s - loss: 1.7903 - accuracy: 0.3150 - val_loss: 4.2062 - val_accuracy: 0.0998\n",
            "Epoch 6/50\n",
            "134/134 - 5s - loss: 1.7355 - accuracy: 0.3377 - val_loss: 4.4859 - val_accuracy: 0.1079\n",
            "Epoch 7/50\n",
            "134/134 - 5s - loss: 1.6947 - accuracy: 0.3575 - val_loss: 4.3589 - val_accuracy: 0.1253\n",
            "Epoch 8/50\n",
            "134/134 - 5s - loss: 1.6558 - accuracy: 0.3774 - val_loss: 4.3850 - val_accuracy: 0.1258\n",
            "Epoch 9/50\n",
            "134/134 - 5s - loss: 1.6347 - accuracy: 0.3828 - val_loss: 4.5251 - val_accuracy: 0.1327\n",
            "Epoch 10/50\n",
            "134/134 - 5s - loss: 1.6162 - accuracy: 0.3948 - val_loss: 4.3633 - val_accuracy: 0.1012\n",
            "Epoch 11/50\n",
            "134/134 - 5s - loss: 1.5885 - accuracy: 0.4038 - val_loss: 4.5138 - val_accuracy: 0.1285\n",
            "Epoch 12/50\n",
            "134/134 - 5s - loss: 1.5723 - accuracy: 0.4122 - val_loss: 4.3912 - val_accuracy: 0.1258\n",
            "Epoch 13/50\n",
            "134/134 - 5s - loss: 1.5670 - accuracy: 0.4132 - val_loss: 4.4670 - val_accuracy: 0.1147\n",
            "Epoch 14/50\n",
            "134/134 - 5s - loss: 1.5506 - accuracy: 0.4225 - val_loss: 4.3200 - val_accuracy: 0.1215\n",
            "Epoch 15/50\n",
            "134/134 - 5s - loss: 1.5509 - accuracy: 0.4235 - val_loss: 4.4968 - val_accuracy: 0.1115\n",
            "Epoch 16/50\n",
            "134/134 - 5s - loss: 1.5227 - accuracy: 0.4333 - val_loss: 4.3671 - val_accuracy: 0.1230\n",
            "Epoch 17/50\n",
            "134/134 - 5s - loss: 1.5128 - accuracy: 0.4409 - val_loss: 4.4517 - val_accuracy: 0.1006\n",
            "Epoch 18/50\n",
            "134/134 - 5s - loss: 1.5118 - accuracy: 0.4371 - val_loss: 4.2044 - val_accuracy: 0.1144\n",
            "Epoch 19/50\n",
            "134/134 - 5s - loss: 1.5001 - accuracy: 0.4476 - val_loss: 4.1693 - val_accuracy: 0.1080\n",
            "Epoch 20/50\n",
            "134/134 - 5s - loss: 1.4967 - accuracy: 0.4459 - val_loss: 4.2795 - val_accuracy: 0.1333\n",
            "Epoch 21/50\n",
            "134/134 - 5s - loss: 1.4784 - accuracy: 0.4540 - val_loss: 4.2160 - val_accuracy: 0.1428\n",
            "Epoch 22/50\n",
            "134/134 - 5s - loss: 1.4762 - accuracy: 0.4573 - val_loss: 4.0551 - val_accuracy: 0.1264\n",
            "Epoch 23/50\n",
            "134/134 - 5s - loss: 1.4606 - accuracy: 0.4609 - val_loss: 4.2280 - val_accuracy: 0.1299\n",
            "Epoch 24/50\n",
            "134/134 - 5s - loss: 1.4526 - accuracy: 0.4636 - val_loss: 4.0842 - val_accuracy: 0.1376\n",
            "Epoch 25/50\n",
            "134/134 - 5s - loss: 1.4471 - accuracy: 0.4678 - val_loss: 4.1985 - val_accuracy: 0.1147\n",
            "Epoch 26/50\n",
            "134/134 - 5s - loss: 1.4390 - accuracy: 0.4698 - val_loss: 4.2890 - val_accuracy: 0.1063\n",
            "Epoch 27/50\n",
            "134/134 - 5s - loss: 1.4347 - accuracy: 0.4705 - val_loss: 4.1058 - val_accuracy: 0.1211\n",
            "Epoch 28/50\n",
            "134/134 - 5s - loss: 1.4338 - accuracy: 0.4786 - val_loss: 4.1292 - val_accuracy: 0.1199\n",
            "Epoch 29/50\n",
            "134/134 - 5s - loss: 1.4196 - accuracy: 0.4814 - val_loss: 3.9766 - val_accuracy: 0.1254\n",
            "Epoch 30/50\n",
            "134/134 - 5s - loss: 1.4168 - accuracy: 0.4809 - val_loss: 3.9348 - val_accuracy: 0.1146\n",
            "Epoch 31/50\n",
            "134/134 - 5s - loss: 1.4016 - accuracy: 0.4840 - val_loss: 4.1918 - val_accuracy: 0.1255\n",
            "Epoch 32/50\n",
            "134/134 - 5s - loss: 1.4014 - accuracy: 0.4853 - val_loss: 4.0676 - val_accuracy: 0.1352\n",
            "Epoch 33/50\n",
            "134/134 - 5s - loss: 1.3971 - accuracy: 0.4869 - val_loss: 4.1456 - val_accuracy: 0.1449\n",
            "Epoch 34/50\n",
            "134/134 - 5s - loss: 1.3910 - accuracy: 0.4908 - val_loss: 3.9189 - val_accuracy: 0.1370\n",
            "Epoch 35/50\n",
            "134/134 - 5s - loss: 1.3842 - accuracy: 0.4954 - val_loss: 4.0249 - val_accuracy: 0.1323\n",
            "Epoch 36/50\n",
            "134/134 - 5s - loss: 1.3852 - accuracy: 0.4960 - val_loss: 4.0891 - val_accuracy: 0.1274\n",
            "Epoch 37/50\n",
            "134/134 - 5s - loss: 1.3757 - accuracy: 0.4943 - val_loss: 3.9267 - val_accuracy: 0.1281\n",
            "Epoch 38/50\n",
            "134/134 - 5s - loss: 1.3809 - accuracy: 0.4955 - val_loss: 4.1221 - val_accuracy: 0.1382\n",
            "Epoch 39/50\n",
            "134/134 - 5s - loss: 1.3705 - accuracy: 0.4994 - val_loss: 3.9361 - val_accuracy: 0.1107\n",
            "Epoch 40/50\n",
            "134/134 - 5s - loss: 1.3675 - accuracy: 0.4992 - val_loss: 3.8711 - val_accuracy: 0.1540\n",
            "Epoch 41/50\n",
            "134/134 - 5s - loss: 1.3725 - accuracy: 0.4984 - val_loss: 3.9952 - val_accuracy: 0.1169\n",
            "Epoch 42/50\n",
            "134/134 - 5s - loss: 1.3538 - accuracy: 0.5075 - val_loss: 4.0589 - val_accuracy: 0.1177\n",
            "Epoch 43/50\n",
            "134/134 - 5s - loss: 1.3578 - accuracy: 0.5084 - val_loss: 4.0457 - val_accuracy: 0.1231\n",
            "Epoch 44/50\n",
            "134/134 - 5s - loss: 1.3561 - accuracy: 0.5060 - val_loss: 4.0424 - val_accuracy: 0.1490\n",
            "Epoch 45/50\n",
            "134/134 - 5s - loss: 1.3514 - accuracy: 0.5080 - val_loss: 3.8854 - val_accuracy: 0.1430\n",
            "Epoch 46/50\n",
            "134/134 - 5s - loss: 1.3462 - accuracy: 0.5146 - val_loss: 4.1371 - val_accuracy: 0.1426\n",
            "Epoch 47/50\n",
            "134/134 - 5s - loss: 1.3435 - accuracy: 0.5128 - val_loss: 4.0093 - val_accuracy: 0.1479\n",
            "Epoch 48/50\n",
            "134/134 - 5s - loss: 1.3488 - accuracy: 0.5133 - val_loss: 3.8670 - val_accuracy: 0.1408\n",
            "Epoch 49/50\n",
            "134/134 - 5s - loss: 1.3313 - accuracy: 0.5173 - val_loss: 3.9123 - val_accuracy: 0.1366\n",
            "Epoch 50/50\n",
            "134/134 - 5s - loss: 1.3418 - accuracy: 0.5140 - val_loss: 3.8508 - val_accuracy: 0.1392\n"
          ],
          "name": "stdout"
        }
      ]
    },
    {
      "cell_type": "code",
      "metadata": {
        "id": "rzLTGAOzZ7zi"
      },
      "source": [
        "from matplotlib import pyplot as plt\n",
        "def show_train_history(train_history,train,validation):\n",
        "  plt.plot(train_history.history[train])\n",
        "  plt.plot(train_history.history[validation])\n",
        "  plt.title('Train History')\n",
        "  plt.ylabel('train')\n",
        "  plt.xlabel('Epoch')\n",
        "  plt.legend(['train','validation'],loc='upper left')\n",
        "  plt.show()"
      ],
      "execution_count": 16,
      "outputs": []
    },
    {
      "cell_type": "code",
      "metadata": {
        "colab": {
          "base_uri": "https://localhost:8080/",
          "height": 295
        },
        "id": "FliqaslyfUOd",
        "outputId": "2e8a6fba-d44a-4a86-8a34-858a9dcc5eb8"
      },
      "source": [
        "show_train_history(train_history,'accuracy','val_accuracy')"
      ],
      "execution_count": 17,
      "outputs": [
        {
          "output_type": "display_data",
          "data": {
            "image/png": "[encoded data removed]",
            "text/plain": [
              "<Figure size 432x288 with 1 Axes>"
            ]
          },
          "metadata": {
            "tags": [],
            "needs_background": "light"
          }
        }
      ]
    },
    {
      "cell_type": "code",
      "metadata": {
        "colab": {
          "base_uri": "https://localhost:8080/",
          "height": 295
        },
        "id": "CLUnjiW4fbvQ",
        "outputId": "553ec2ee-777b-4f18-a673-330633a8d479"
      },
      "source": [
        "show_train_history(train_history,'loss','val_loss')"
      ],
      "execution_count": 18,
      "outputs": [
        {
          "output_type": "display_data",
          "data": {
            "image/png": "[encoded data removed]",
            "text/plain": [
              "<Figure size 432x288 with 1 Axes>"
            ]
          },
          "metadata": {
            "tags": [],
            "needs_background": "light"
          }
        }
      ]
    },
    {
      "cell_type": "code",
      "metadata": {
        "id": "J5uBX8IWgmJ8"
      },
      "source": [
        "### estimate model accuracy"
      ],
      "execution_count": 19,
      "outputs": []
    },
    {
      "cell_type": "code",
      "metadata": {
        "id": "CNqM3qWAgmRX"
      },
      "source": [
        "scores=model.evaluate(x_img_test_normalize,y_label_test_OneHot,verbose=0)"
      ],
      "execution_count": 20,
      "outputs": []
    },
    {
      "cell_type": "code",
      "metadata": {
        "colab": {
          "base_uri": "https://localhost:8080/"
        },
        "id": "cLAn9V1ogrBf",
        "outputId": "dde75ee2-ac1f-4a47-99b0-38aa5c9e0fcf"
      },
      "source": [
        "print(f'Test loss: {scores[0]} / Test accuracy: {scores[1]}')"
      ],
      "execution_count": 21,
      "outputs": [
        {
          "output_type": "stream",
          "text": [
            "Test loss: 3.834059715270996 / Test accuracy: 0.14180000126361847\n"
          ],
          "name": "stdout"
        }
      ]
    },
    {
      "cell_type": "code",
      "metadata": {
        "colab": {
          "base_uri": "https://localhost:8080/"
        },
        "id": "UNRhGtVugvNM",
        "outputId": "ab881e42-dfb9-41cb-d18b-33f78e2c8f87"
      },
      "source": [
        "prediction=model.predict_classes(x_img_test_normalize) ### prediction"
      ],
      "execution_count": 22,
      "outputs": [
        {
          "output_type": "stream",
          "text": [
            "/usr/local/lib/python3.7/dist-packages/tensorflow/python/keras/engine/sequential.py:450: UserWarning: `model.predict_classes()` is deprecated and will be removed after 2021-01-01. Please use instead:* `np.argmax(model.predict(x), axis=-1)`,   if your model does multi-class classification   (e.g. if it uses a `softmax` last-layer activation).* `(model.predict(x) > 0.5).astype(\"int32\")`,   if your model does binary classification   (e.g. if it uses a `sigmoid` last-layer activation).\n",
            "  warnings.warn('`model.predict_classes()` is deprecated and '\n"
          ],
          "name": "stderr"
        }
      ]
    },
    {
      "cell_type": "code",
      "metadata": {
        "colab": {
          "base_uri": "https://localhost:8080/"
        },
        "id": "e9dj4EcTkNPd",
        "outputId": "693c50be-8515-461d-9aa3-c539f7d689ee"
      },
      "source": [
        "prediction"
      ],
      "execution_count": 23,
      "outputs": [
        {
          "output_type": "execute_result",
          "data": {
            "text/plain": [
              "array([6, 6, 6, ..., 6, 4, 4])"
            ]
          },
          "metadata": {
            "tags": []
          },
          "execution_count": 23
        }
      ]
    },
    {
      "cell_type": "code",
      "metadata": {
        "id": "ii4zLAJNgz_w"
      },
      "source": [
        "def plot_images_labels_prediction(images,labels,prediction,idx,num=10):\n",
        "  fig=plt.gcf()\n",
        "  fig.set_size_inches(12,14)\n",
        "  if num>25:num=25\n",
        "  for i in range(0,num):\n",
        "    ax=plt.subplot(5,5,1+i)\n",
        "    ax.imshow(images[idx],cmap='binary')\n",
        "    title=str(i) +',' +label_dict[labels[i][0]]\n",
        "    if len(prediction)>0:\n",
        "      title+='=>'+label_dict[prediction[i]]\n",
        "    ax.set_title(title,fontsize=10)\n",
        "    ax.set_xticks([]);ax.set_yticks([])\n",
        "    idx+=1\n",
        "  plt.show()"
      ],
      "execution_count": 24,
      "outputs": []
    },
    {
      "cell_type": "code",
      "metadata": {
        "colab": {
          "base_uri": "https://localhost:8080/",
          "height": 321
        },
        "id": "Ss7dd8dJg2UX",
        "outputId": "6aaa5103-334a-4731-d5e8-55b81dfecf11"
      },
      "source": [
        "plot_images_labels_prediction(x_img_test,y_label_test,prediction,0,10)"
      ],
      "execution_count": 25,
      "outputs": [
        {
          "output_type": "display_data",
          "data": {
            "image/png": "[encoded data removed]",
            "text/plain": [
              "<Figure size 864x1008 with 10 Axes>"
            ]
          },
          "metadata": {
            "tags": []
          }
        }
      ]
    },
    {
      "cell_type": "code",
      "metadata": {
        "id": "PpPOXOuZg6wp"
      },
      "source": [
        "# check for prediction rate\n",
        "predicted_Probability=model.predict(x_img_test_normalize)"
      ],
      "execution_count": 26,
      "outputs": []
    },
    {
      "cell_type": "code",
      "metadata": {
        "id": "ykuUEDYlg_vY"
      },
      "source": [
        "def show_predicted_probability(y,prediction,x_img,predicted_Probability,i):\n",
        "  print('label:',label_dict[y[i][0]],\n",
        "        'predict',label_dict[prediction[i]])\n",
        "  plt.figure(figsize=(2,2))\n",
        "  plt.imshow(np.reshape(x_img_test[i],(32,32,3)))\n",
        "  plt.show()\n",
        "  for j in range(10):\n",
        "    print(label_dict[j]+ ' probability:%1.9f'%(predicted_Probability[i][j]))\n"
      ],
      "execution_count": 27,
      "outputs": []
    },
    {
      "cell_type": "code",
      "metadata": {
        "colab": {
          "base_uri": "https://localhost:8080/",
          "height": 355
        },
        "id": "EDAw57mNhCGo",
        "outputId": "ad224774-2a4c-41fc-b0f2-5ce553adef4b"
      },
      "source": [
        "show_predicted_probability(y_label_test,prediction,x_img_test,predicted_Probability,0)"
      ],
      "execution_count": 28,
      "outputs": [
        {
          "output_type": "stream",
          "text": [
            "label: cat predict frog\n"
          ],
          "name": "stdout"
        },
        {
          "output_type": "display_data",
          "data": {
            "image/png": "[encoded data removed]",
            "text/plain": [
              "<Figure size 144x144 with 1 Axes>"
            ]
          },
          "metadata": {
            "tags": [],
            "needs_background": "light"
          }
        },
        {
          "output_type": "stream",
          "text": [
            "airplane probability:0.004547925\n",
            "automobile probability:0.001342190\n",
            "bird probability:0.094920762\n",
            "cat probability:0.157456696\n",
            "deer probability:0.235212952\n",
            "dog probability:0.078660227\n",
            "frog probability:0.405060172\n",
            "horse probability:0.021024542\n",
            "ship probability:0.000630574\n",
            "truck probability:0.001143929\n"
          ],
          "name": "stdout"
        }
      ]
    },
    {
      "cell_type": "markdown",
      "metadata": {
        "id": "N5rt2fK5fntZ"
      },
      "source": [
        "#Confusion matrix"
      ]
    },
    {
      "cell_type": "code",
      "metadata": {
        "id": "TjlrqQgShBjE"
      },
      "source": [
        "import pandas as pd"
      ],
      "execution_count": 29,
      "outputs": []
    },
    {
      "cell_type": "code",
      "metadata": {
        "colab": {
          "base_uri": "https://localhost:8080/",
          "height": 370
        },
        "id": "vD-agaQbfqVp",
        "outputId": "068c957d-4976-4bac-c029-e11e5d437d5b"
      },
      "source": [
        "pd.crosstab(y_label_test.reshape(-1),prediction,rownames=['label'],colnames=['predict'])"
      ],
      "execution_count": 30,
      "outputs": [
        {
          "output_type": "execute_result",
          "data": {
            "text/html": [
              "<div>\n",
              "<style scoped>\n",
              "    .dataframe tbody tr th:only-of-type {\n",
              "        vertical-align: middle;\n",
              "    }\n",
              "\n",
              "    .dataframe tbody tr th {\n",
              "        vertical-align: top;\n",
              "    }\n",
              "\n",
              "    .dataframe thead th {\n",
              "        text-align: right;\n",
              "    }\n",
              "</style>\n",
              "<table border=\"1\" class=\"dataframe\">\n",
              "  <thead>\n",
              "    <tr style=\"text-align: right;\">\n",
              "      <th>predict</th>\n",
              "      <th>2</th>\n",
              "      <th>4</th>\n",
              "      <th>6</th>\n",
              "    </tr>\n",
              "    <tr>\n",
              "      <th>label</th>\n",
              "      <th></th>\n",
              "      <th></th>\n",
              "      <th></th>\n",
              "    </tr>\n",
              "  </thead>\n",
              "  <tbody>\n",
              "    <tr>\n",
              "      <th>0</th>\n",
              "      <td>0</td>\n",
              "      <td>355</td>\n",
              "      <td>645</td>\n",
              "    </tr>\n",
              "    <tr>\n",
              "      <th>1</th>\n",
              "      <td>0</td>\n",
              "      <td>27</td>\n",
              "      <td>973</td>\n",
              "    </tr>\n",
              "    <tr>\n",
              "      <th>2</th>\n",
              "      <td>0</td>\n",
              "      <td>422</td>\n",
              "      <td>578</td>\n",
              "    </tr>\n",
              "    <tr>\n",
              "      <th>3</th>\n",
              "      <td>0</td>\n",
              "      <td>124</td>\n",
              "      <td>876</td>\n",
              "    </tr>\n",
              "    <tr>\n",
              "      <th>4</th>\n",
              "      <td>0</td>\n",
              "      <td>517</td>\n",
              "      <td>483</td>\n",
              "    </tr>\n",
              "    <tr>\n",
              "      <th>5</th>\n",
              "      <td>0</td>\n",
              "      <td>185</td>\n",
              "      <td>815</td>\n",
              "    </tr>\n",
              "    <tr>\n",
              "      <th>6</th>\n",
              "      <td>0</td>\n",
              "      <td>99</td>\n",
              "      <td>901</td>\n",
              "    </tr>\n",
              "    <tr>\n",
              "      <th>7</th>\n",
              "      <td>0</td>\n",
              "      <td>427</td>\n",
              "      <td>573</td>\n",
              "    </tr>\n",
              "    <tr>\n",
              "      <th>8</th>\n",
              "      <td>6</td>\n",
              "      <td>165</td>\n",
              "      <td>829</td>\n",
              "    </tr>\n",
              "    <tr>\n",
              "      <th>9</th>\n",
              "      <td>0</td>\n",
              "      <td>40</td>\n",
              "      <td>960</td>\n",
              "    </tr>\n",
              "  </tbody>\n",
              "</table>\n",
              "</div>"
            ],
            "text/plain": [
              "predict  2    4    6\n",
              "label               \n",
              "0        0  355  645\n",
              "1        0   27  973\n",
              "2        0  422  578\n",
              "3        0  124  876\n",
              "4        0  517  483\n",
              "5        0  185  815\n",
              "6        0   99  901\n",
              "7        0  427  573\n",
              "8        6  165  829\n",
              "9        0   40  960"
            ]
          },
          "metadata": {
            "tags": []
          },
          "execution_count": 30
        }
      ]
    },
    {
      "cell_type": "code",
      "metadata": {
        "id": "mvxedLAxgTfS"
      },
      "source": [
        ""
      ],
      "execution_count": null,
      "outputs": []
    },
    {
      "cell_type": "code",
      "metadata": {
        "id": "qddPJ9HX40o8"
      },
      "source": [
        ""
      ],
      "execution_count": null,
      "outputs": []
    }
  ]
}