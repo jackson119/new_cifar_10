{
  "nbformat": 4,
  "nbformat_minor": 0,
  "metadata": {
    "accelerator": "GPU",
    "colab": {
      "name": "new_ cifar10_3(0.85).ipynb",
      "provenance": [],
      "collapsed_sections": [
        "N5rt2fK5fntZ"
      ],
      "authorship_tag": "ABX9TyNO+IAYalB+J8El/aAtmRrL",
      "include_colab_link": true
    },
    "kernelspec": {
      "display_name": "Python 3",
      "name": "python3"
    },
    "language_info": {
      "name": "python"
    }
  },
  "cells": [
    {
      "cell_type": "markdown",
      "metadata": {
        "id": "view-in-github",
        "colab_type": "text"
      },
      "source": [
        "<a href=\"https://colab.research.google.com/github/jackson119/new_cifar_10/blob/main/new__cifar10_3(0.85).ipynb\" target=\"_parent\"><img src=\"https://colab.research.google.com/assets/colab-badge.svg\" alt=\"Open In Colab\"/></a>"
      ]
    },
    {
      "cell_type": "markdown",
      "metadata": {
        "id": "SGKXC7W7pnht"
      },
      "source": [
        "# Data Preprocessing"
      ]
    },
    {
      "cell_type": "code",
      "metadata": {
        "id": "91H4jfpypp4h"
      },
      "source": [
        "from tensorflow.keras.datasets import cifar10\n",
        "import numpy as np\n",
        "np.random.seed(10)"
      ],
      "execution_count": 4,
      "outputs": []
    },
    {
      "cell_type": "code",
      "metadata": {
        "id": "jrfbgEOdprAB"
      },
      "source": [
        "(x_img_train,y_label_train),(x_img_test,y_label_test)=cifar10.load_data()"
      ],
      "execution_count": 5,
      "outputs": []
    },
    {
      "cell_type": "code",
      "metadata": {
        "id": "Bv64ED30R18B",
        "colab": {
          "base_uri": "https://localhost:8080/"
        },
        "outputId": "4b41f9d0-953b-45c6-c429-8dc4db09e641"
      },
      "source": [
        "print(\"train data:\",\"images:\",x_img_train.shape,\"labels:\",y_label_train.shape)\n",
        "print(\"test data:\",\"images:\",x_img_test.shape,\"labels:\",y_label_test.shape)"
      ],
      "execution_count": 6,
      "outputs": [
        {
          "output_type": "stream",
          "text": [
            "train data: images: (50000, 32, 32, 3) labels: (50000, 1)\n",
            "test data: images: (10000, 32, 32, 3) labels: (10000, 1)\n"
          ],
          "name": "stdout"
        }
      ]
    },
    {
      "cell_type": "markdown",
      "metadata": {
        "id": "10BLqTKNSYKW"
      },
      "source": [
        "# standardize and perform one hot encoding"
      ]
    },
    {
      "cell_type": "code",
      "metadata": {
        "id": "_bdYalY-Sfva"
      },
      "source": [
        "x_img_train_normalize=x_img_train.astype('float32')/255.0\n",
        "x_img_test_normalize=x_img_test.astype('float32')/255.0"
      ],
      "execution_count": 7,
      "outputs": []
    },
    {
      "cell_type": "code",
      "metadata": {
        "id": "-7OJEuxpSpXX"
      },
      "source": [
        "from tensorflow.keras import utils"
      ],
      "execution_count": 8,
      "outputs": []
    },
    {
      "cell_type": "code",
      "metadata": {
        "id": "bvesDQfhSsmH"
      },
      "source": [
        "y_label_train_OneHot=utils.to_categorical(y_label_train)\n",
        "y_label_test_OneHot=utils.to_categorical(y_label_test)"
      ],
      "execution_count": 9,
      "outputs": []
    },
    {
      "cell_type": "markdown",
      "metadata": {
        "id": "DSmFxX9xSwCN"
      },
      "source": [
        "# Images and label"
      ]
    },
    {
      "cell_type": "code",
      "metadata": {
        "id": "6AshrU3USxld"
      },
      "source": [
        "label_dict={0:\"airplane\",1:\"automobile\",2:\"bird\",3:\"cat\",4:\"deer\",5:\"dog\",6:\"frog\",7:\"horse\",8:\"ship\",9:\"truck\"}"
      ],
      "execution_count": 10,
      "outputs": []
    },
    {
      "cell_type": "code",
      "metadata": {
        "id": "KADDqJmsSzCc"
      },
      "source": [
        "# Construct model\n",
        "from keras.models import Sequential\n",
        "from keras.layers import Dense,Dropout,Activation,Flatten\n",
        "from keras.layers import Conv2D,MaxPooling2D,ZeroPadding2D"
      ],
      "execution_count": 11,
      "outputs": []
    },
    {
      "cell_type": "code",
      "metadata": {
        "id": "2tUCpCqHS5sb"
      },
      "source": [
        "model=Sequential()"
      ],
      "execution_count": 12,
      "outputs": []
    },
    {
      "cell_type": "code",
      "metadata": {
        "id": "IP4YwNOFS62i"
      },
      "source": [
        "model.add(Conv2D(filters=32,kernel_size=(3,3),input_shape=(32,32,3),activation='relu',padding='same'))\n",
        "model.add(Dropout(0.85))\n",
        "model.add(Conv2D(filters=32,kernel_size=(3,3),activation='relu',padding='same'))\n",
        "model.add(MaxPooling2D(pool_size=(2,2)))"
      ],
      "execution_count": 13,
      "outputs": []
    },
    {
      "cell_type": "code",
      "metadata": {
        "id": "VrEsDZ3OYZv6"
      },
      "source": [
        "model.add(Conv2D(filters=64,kernel_size=(3,3),activation='relu',padding='same'))\n",
        "model.add(Dropout(0.85))\n",
        "model.add(Conv2D(filters=64,kernel_size=(3,3),activation='relu',padding='same'))\n",
        "model.add(MaxPooling2D(pool_size=(2,2)))"
      ],
      "execution_count": 14,
      "outputs": []
    },
    {
      "cell_type": "code",
      "metadata": {
        "id": "Lfbpty5kYwiH"
      },
      "source": [
        "model.add(Conv2D(filters=128,kernel_size=(3,3),activation='relu',padding='same'))\n",
        "model.add(Dropout(0.85))\n",
        "model.add(Conv2D(filters=128,kernel_size=(3,3),activation='relu',padding='same'))\n",
        "model.add(MaxPooling2D(pool_size=(2,2)))"
      ],
      "execution_count": 15,
      "outputs": []
    },
    {
      "cell_type": "code",
      "metadata": {
        "id": "YGEmb5pbZYhj"
      },
      "source": [
        "### neural network\n",
        "model.add(Flatten())\n",
        "model.add(Dropout(0.85))\n",
        "### hidden layer 1\n",
        "model.add(Dense(2500,activation='relu'))\n",
        "model.add(Dropout(0.85))\n",
        "### hidden layer 2\n",
        "model.add(Dense(1500,activation='relu'))\n",
        "model.add(Dropout(0.85))\n",
        "### output layer\n",
        "model.add(Dense(10,activation='softmax'))"
      ],
      "execution_count": 16,
      "outputs": []
    },
    {
      "cell_type": "code",
      "metadata": {
        "id": "2kjnUEYuZtK5",
        "colab": {
          "base_uri": "https://localhost:8080/"
        },
        "outputId": "8075d787-95fc-4ef3-e617-50afb6939de9"
      },
      "source": [
        "print(model.summary())"
      ],
      "execution_count": 17,
      "outputs": [
        {
          "output_type": "stream",
          "text": [
            "Model: \"sequential\"\n",
            "_________________________________________________________________\n",
            "Layer (type)                 Output Shape              Param #   \n",
            "=================================================================\n",
            "conv2d (Conv2D)              (None, 32, 32, 32)        896       \n",
            "_________________________________________________________________\n",
            "dropout (Dropout)            (None, 32, 32, 32)        0         \n",
            "_________________________________________________________________\n",
            "conv2d_1 (Conv2D)            (None, 32, 32, 32)        9248      \n",
            "_________________________________________________________________\n",
            "max_pooling2d (MaxPooling2D) (None, 16, 16, 32)        0         \n",
            "_________________________________________________________________\n",
            "conv2d_2 (Conv2D)            (None, 16, 16, 64)        18496     \n",
            "_________________________________________________________________\n",
            "dropout_1 (Dropout)          (None, 16, 16, 64)        0         \n",
            "_________________________________________________________________\n",
            "conv2d_3 (Conv2D)            (None, 16, 16, 64)        36928     \n",
            "_________________________________________________________________\n",
            "max_pooling2d_1 (MaxPooling2 (None, 8, 8, 64)          0         \n",
            "_________________________________________________________________\n",
            "conv2d_4 (Conv2D)            (None, 8, 8, 128)         73856     \n",
            "_________________________________________________________________\n",
            "dropout_2 (Dropout)          (None, 8, 8, 128)         0         \n",
            "_________________________________________________________________\n",
            "conv2d_5 (Conv2D)            (None, 8, 8, 128)         147584    \n",
            "_________________________________________________________________\n",
            "max_pooling2d_2 (MaxPooling2 (None, 4, 4, 128)         0         \n",
            "_________________________________________________________________\n",
            "flatten (Flatten)            (None, 2048)              0         \n",
            "_________________________________________________________________\n",
            "dropout_3 (Dropout)          (None, 2048)              0         \n",
            "_________________________________________________________________\n",
            "dense (Dense)                (None, 2500)              5122500   \n",
            "_________________________________________________________________\n",
            "dropout_4 (Dropout)          (None, 2500)              0         \n",
            "_________________________________________________________________\n",
            "dense_1 (Dense)              (None, 1500)              3751500   \n",
            "_________________________________________________________________\n",
            "dropout_5 (Dropout)          (None, 1500)              0         \n",
            "_________________________________________________________________\n",
            "dense_2 (Dense)              (None, 10)                15010     \n",
            "=================================================================\n",
            "Total params: 9,176,018\n",
            "Trainable params: 9,176,018\n",
            "Non-trainable params: 0\n",
            "_________________________________________________________________\n",
            "None\n"
          ],
          "name": "stdout"
        }
      ]
    },
    {
      "cell_type": "code",
      "metadata": {
        "colab": {
          "base_uri": "https://localhost:8080/"
        },
        "id": "j64CEumxZvDu",
        "outputId": "307c5dc5-e1e3-4978-b3ec-d3e0e37880c7"
      },
      "source": [
        "model.compile(loss='categorical_crossentropy',optimizer='adam',metrics=['accuracy'])\n",
        "train_history=model.fit(x_img_train_normalize,y_label_train_OneHot,validation_split=0.2,epochs=50,batch_size=300,verbose=2)"
      ],
      "execution_count": 18,
      "outputs": [
        {
          "output_type": "stream",
          "text": [
            "Epoch 1/50\n",
            "134/134 - 39s - loss: 2.6602 - accuracy: 0.1007 - val_loss: 2.3028 - val_accuracy: 0.0980\n",
            "Epoch 2/50\n",
            "134/134 - 4s - loss: 2.3037 - accuracy: 0.0966 - val_loss: 2.3027 - val_accuracy: 0.0952\n",
            "Epoch 3/50\n",
            "134/134 - 4s - loss: 2.3035 - accuracy: 0.1006 - val_loss: 2.3026 - val_accuracy: 0.1025\n",
            "Epoch 4/50\n",
            "134/134 - 4s - loss: 2.3044 - accuracy: 0.0999 - val_loss: 2.3028 - val_accuracy: 0.0977\n",
            "Epoch 5/50\n",
            "134/134 - 4s - loss: 2.3036 - accuracy: 0.1001 - val_loss: 2.3026 - val_accuracy: 0.1025\n",
            "Epoch 6/50\n",
            "134/134 - 4s - loss: 2.3036 - accuracy: 0.1020 - val_loss: 2.3027 - val_accuracy: 0.0997\n",
            "Epoch 7/50\n",
            "134/134 - 5s - loss: 2.3038 - accuracy: 0.0987 - val_loss: 2.3028 - val_accuracy: 0.1003\n",
            "Epoch 8/50\n",
            "134/134 - 5s - loss: 2.3038 - accuracy: 0.1001 - val_loss: 2.3027 - val_accuracy: 0.0952\n",
            "Epoch 9/50\n",
            "134/134 - 5s - loss: 2.3034 - accuracy: 0.1008 - val_loss: 2.3030 - val_accuracy: 0.0997\n",
            "Epoch 10/50\n",
            "134/134 - 5s - loss: 2.3038 - accuracy: 0.1003 - val_loss: 2.3029 - val_accuracy: 0.0952\n",
            "Epoch 11/50\n",
            "134/134 - 5s - loss: 2.3033 - accuracy: 0.1013 - val_loss: 2.3026 - val_accuracy: 0.1003\n",
            "Epoch 12/50\n",
            "134/134 - 5s - loss: 2.3034 - accuracy: 0.0991 - val_loss: 2.3028 - val_accuracy: 0.0997\n",
            "Epoch 13/50\n",
            "134/134 - 5s - loss: 2.3032 - accuracy: 0.1017 - val_loss: 2.3027 - val_accuracy: 0.0980\n",
            "Epoch 14/50\n",
            "134/134 - 4s - loss: 2.3030 - accuracy: 0.1016 - val_loss: 2.3028 - val_accuracy: 0.0980\n",
            "Epoch 15/50\n",
            "134/134 - 4s - loss: 2.3030 - accuracy: 0.0979 - val_loss: 2.3028 - val_accuracy: 0.0952\n",
            "Epoch 16/50\n",
            "134/134 - 4s - loss: 2.3029 - accuracy: 0.0999 - val_loss: 2.3029 - val_accuracy: 0.0977\n",
            "Epoch 17/50\n",
            "134/134 - 4s - loss: 2.3031 - accuracy: 0.0982 - val_loss: 2.3027 - val_accuracy: 0.0997\n",
            "Epoch 18/50\n",
            "134/134 - 4s - loss: 2.3028 - accuracy: 0.1002 - val_loss: 2.3028 - val_accuracy: 0.0952\n",
            "Epoch 19/50\n",
            "134/134 - 4s - loss: 2.3029 - accuracy: 0.0990 - val_loss: 2.3027 - val_accuracy: 0.0952\n",
            "Epoch 20/50\n",
            "134/134 - 4s - loss: 2.3029 - accuracy: 0.0986 - val_loss: 2.3027 - val_accuracy: 0.0952\n",
            "Epoch 21/50\n",
            "134/134 - 4s - loss: 2.3028 - accuracy: 0.0981 - val_loss: 2.3027 - val_accuracy: 0.0980\n",
            "Epoch 22/50\n",
            "134/134 - 4s - loss: 2.3028 - accuracy: 0.0996 - val_loss: 2.3027 - val_accuracy: 0.0952\n",
            "Epoch 23/50\n",
            "134/134 - 4s - loss: 2.3027 - accuracy: 0.0997 - val_loss: 2.3027 - val_accuracy: 0.0952\n",
            "Epoch 24/50\n",
            "134/134 - 4s - loss: 2.3027 - accuracy: 0.0991 - val_loss: 2.3028 - val_accuracy: 0.0952\n",
            "Epoch 25/50\n",
            "134/134 - 4s - loss: 2.3027 - accuracy: 0.0998 - val_loss: 2.3027 - val_accuracy: 0.0952\n",
            "Epoch 26/50\n",
            "134/134 - 4s - loss: 2.3028 - accuracy: 0.0992 - val_loss: 2.3028 - val_accuracy: 0.0952\n",
            "Epoch 27/50\n",
            "134/134 - 4s - loss: 2.3027 - accuracy: 0.0988 - val_loss: 2.3028 - val_accuracy: 0.0952\n",
            "Epoch 28/50\n",
            "134/134 - 4s - loss: 2.3026 - accuracy: 0.1015 - val_loss: 2.3027 - val_accuracy: 0.0952\n",
            "Epoch 29/50\n",
            "134/134 - 4s - loss: 2.3027 - accuracy: 0.1001 - val_loss: 2.3027 - val_accuracy: 0.0952\n",
            "Epoch 30/50\n",
            "134/134 - 4s - loss: 2.3033 - accuracy: 0.1000 - val_loss: 2.3029 - val_accuracy: 0.1003\n",
            "Epoch 31/50\n",
            "134/134 - 4s - loss: 2.3049 - accuracy: 0.1003 - val_loss: 2.3027 - val_accuracy: 0.1003\n",
            "Epoch 32/50\n",
            "134/134 - 4s - loss: 2.3037 - accuracy: 0.1000 - val_loss: 2.3028 - val_accuracy: 0.0952\n",
            "Epoch 33/50\n",
            "134/134 - 4s - loss: 2.3031 - accuracy: 0.0980 - val_loss: 2.3028 - val_accuracy: 0.0997\n",
            "Epoch 34/50\n",
            "134/134 - 4s - loss: 2.3029 - accuracy: 0.1005 - val_loss: 2.3028 - val_accuracy: 0.0952\n",
            "Epoch 35/50\n",
            "134/134 - 4s - loss: 2.3028 - accuracy: 0.0999 - val_loss: 2.3028 - val_accuracy: 0.0952\n",
            "Epoch 36/50\n",
            "134/134 - 4s - loss: 2.3027 - accuracy: 0.1004 - val_loss: 2.3027 - val_accuracy: 0.0952\n",
            "Epoch 37/50\n",
            "134/134 - 4s - loss: 2.3028 - accuracy: 0.1010 - val_loss: 2.3028 - val_accuracy: 0.0980\n",
            "Epoch 38/50\n",
            "134/134 - 4s - loss: 2.3028 - accuracy: 0.0984 - val_loss: 2.3027 - val_accuracy: 0.0952\n",
            "Epoch 39/50\n",
            "134/134 - 4s - loss: 2.3028 - accuracy: 0.0966 - val_loss: 2.3028 - val_accuracy: 0.0952\n",
            "Epoch 40/50\n",
            "134/134 - 4s - loss: 2.3027 - accuracy: 0.0995 - val_loss: 2.3028 - val_accuracy: 0.0952\n",
            "Epoch 41/50\n",
            "134/134 - 4s - loss: 2.3027 - accuracy: 0.1003 - val_loss: 2.3027 - val_accuracy: 0.0952\n",
            "Epoch 42/50\n",
            "134/134 - 4s - loss: 2.3027 - accuracy: 0.0993 - val_loss: 2.3027 - val_accuracy: 0.0952\n",
            "Epoch 43/50\n",
            "134/134 - 4s - loss: 2.3027 - accuracy: 0.1020 - val_loss: 2.3027 - val_accuracy: 0.0952\n",
            "Epoch 44/50\n",
            "134/134 - 4s - loss: 2.3027 - accuracy: 0.0997 - val_loss: 2.3028 - val_accuracy: 0.0952\n",
            "Epoch 45/50\n",
            "134/134 - 4s - loss: 2.3027 - accuracy: 0.0989 - val_loss: 2.3027 - val_accuracy: 0.0952\n",
            "Epoch 46/50\n",
            "134/134 - 4s - loss: 2.3027 - accuracy: 0.1012 - val_loss: 2.3027 - val_accuracy: 0.0952\n",
            "Epoch 47/50\n",
            "134/134 - 4s - loss: 2.3027 - accuracy: 0.0997 - val_loss: 2.3027 - val_accuracy: 0.0952\n",
            "Epoch 48/50\n",
            "134/134 - 4s - loss: 2.3026 - accuracy: 0.1008 - val_loss: 2.3028 - val_accuracy: 0.0952\n",
            "Epoch 49/50\n",
            "134/134 - 4s - loss: 2.3027 - accuracy: 0.0976 - val_loss: 2.3027 - val_accuracy: 0.0952\n",
            "Epoch 50/50\n",
            "134/134 - 4s - loss: 2.3027 - accuracy: 0.1011 - val_loss: 2.3027 - val_accuracy: 0.0952\n"
          ],
          "name": "stdout"
        }
      ]
    },
    {
      "cell_type": "code",
      "metadata": {
        "id": "rzLTGAOzZ7zi"
      },
      "source": [
        "from matplotlib import pyplot as plt\n",
        "def show_train_history(train_history,train,validation):\n",
        "  plt.plot(train_history.history[train])\n",
        "  plt.plot(train_history.history[validation])\n",
        "  plt.title('Train History')\n",
        "  plt.ylabel('train')\n",
        "  plt.xlabel('Epoch')\n",
        "  plt.legend(['train','validation'],loc='upper left')\n",
        "  plt.show()"
      ],
      "execution_count": 19,
      "outputs": []
    },
    {
      "cell_type": "code",
      "metadata": {
        "colab": {
          "base_uri": "https://localhost:8080/",
          "height": 295
        },
        "id": "FliqaslyfUOd",
        "outputId": "15aa3bac-653e-4b16-debf-6d417ba82a41"
      },
      "source": [
        "show_train_history(train_history,'accuracy','val_accuracy')"
      ],
      "execution_count": 20,
      "outputs": [
        {
          "output_type": "display_data",
          "data": {
            "image/png": "[encoded data removed]",
            "text/plain": [
              "<Figure size 432x288 with 1 Axes>"
            ]
          },
          "metadata": {
            "tags": [],
            "needs_background": "light"
          }
        }
      ]
    },
    {
      "cell_type": "code",
      "metadata": {
        "colab": {
          "base_uri": "https://localhost:8080/",
          "height": 295
        },
        "id": "CLUnjiW4fbvQ",
        "outputId": "de4efffd-96a7-4f57-8679-25ed786d998a"
      },
      "source": [
        "show_train_history(train_history,'loss','val_loss')"
      ],
      "execution_count": 21,
      "outputs": [
        {
          "output_type": "display_data",
          "data": {
            "image/png": "[encoded data removed]",
            "text/plain": [
              "<Figure size 432x288 with 1 Axes>"
            ]
          },
          "metadata": {
            "tags": [],
            "needs_background": "light"
          }
        }
      ]
    },
    {
      "cell_type": "code",
      "metadata": {
        "id": "J5uBX8IWgmJ8"
      },
      "source": [
        "### estimate model accuracy"
      ],
      "execution_count": 22,
      "outputs": []
    },
    {
      "cell_type": "code",
      "metadata": {
        "id": "CNqM3qWAgmRX"
      },
      "source": [
        "scores=model.evaluate(x_img_test_normalize,y_label_test_OneHot,verbose=0)"
      ],
      "execution_count": 23,
      "outputs": []
    },
    {
      "cell_type": "code",
      "metadata": {
        "colab": {
          "base_uri": "https://localhost:8080/"
        },
        "id": "cLAn9V1ogrBf",
        "outputId": "b3be2101-f805-4b7d-9f61-e90e9543bc95"
      },
      "source": [
        "print(f'Test loss: {scores[0]} / Test accuracy: {scores[1]}')"
      ],
      "execution_count": 24,
      "outputs": [
        {
          "output_type": "stream",
          "text": [
            "Test loss: 2.302603244781494 / Test accuracy: 0.10000000149011612\n"
          ],
          "name": "stdout"
        }
      ]
    },
    {
      "cell_type": "code",
      "metadata": {
        "colab": {
          "base_uri": "https://localhost:8080/"
        },
        "id": "UNRhGtVugvNM",
        "outputId": "aa8dece3-2447-40b7-fd8b-a2fa3fd2e665"
      },
      "source": [
        "prediction=model.predict_classes(x_img_test_normalize) ### prediction"
      ],
      "execution_count": 25,
      "outputs": [
        {
          "output_type": "stream",
          "text": [
            "/usr/local/lib/python3.7/dist-packages/tensorflow/python/keras/engine/sequential.py:450: UserWarning: `model.predict_classes()` is deprecated and will be removed after 2021-01-01. Please use instead:* `np.argmax(model.predict(x), axis=-1)`,   if your model does multi-class classification   (e.g. if it uses a `softmax` last-layer activation).* `(model.predict(x) > 0.5).astype(\"int32\")`,   if your model does binary classification   (e.g. if it uses a `sigmoid` last-layer activation).\n",
            "  warnings.warn('`model.predict_classes()` is deprecated and '\n"
          ],
          "name": "stderr"
        }
      ]
    },
    {
      "cell_type": "code",
      "metadata": {
        "colab": {
          "base_uri": "https://localhost:8080/"
        },
        "id": "e9dj4EcTkNPd",
        "outputId": "5b8fd212-afa9-45ab-f110-ced82816104c"
      },
      "source": [
        "prediction"
      ],
      "execution_count": 26,
      "outputs": [
        {
          "output_type": "execute_result",
          "data": {
            "text/plain": [
              "array([2, 2, 2, ..., 2, 2, 2])"
            ]
          },
          "metadata": {
            "tags": []
          },
          "execution_count": 26
        }
      ]
    },
    {
      "cell_type": "code",
      "metadata": {
        "id": "ii4zLAJNgz_w"
      },
      "source": [
        "def plot_images_labels_prediction(images,labels,prediction,idx,num=10):\n",
        "  fig=plt.gcf()\n",
        "  fig.set_size_inches(12,14)\n",
        "  if num>25:num=25\n",
        "  for i in range(0,num):\n",
        "    ax=plt.subplot(5,5,1+i)\n",
        "    ax.imshow(images[idx],cmap='binary')\n",
        "    title=str(i) +',' +label_dict[labels[i][0]]\n",
        "    if len(prediction)>0:\n",
        "      title+='=>'+label_dict[prediction[i]]\n",
        "    ax.set_title(title,fontsize=10)\n",
        "    ax.set_xticks([]);ax.set_yticks([])\n",
        "    idx+=1\n",
        "  plt.show()"
      ],
      "execution_count": 27,
      "outputs": []
    },
    {
      "cell_type": "code",
      "metadata": {
        "colab": {
          "base_uri": "https://localhost:8080/",
          "height": 321
        },
        "id": "Ss7dd8dJg2UX",
        "outputId": "a36bae28-8d70-41c2-c365-247f84b5859f"
      },
      "source": [
        "plot_images_labels_prediction(x_img_test,y_label_test,prediction,0,10)"
      ],
      "execution_count": 28,
      "outputs": [
        {
          "output_type": "display_data",
          "data": {
            "image/png": "[encoded data removed]",
            "text/plain": [
              "<Figure size 864x1008 with 10 Axes>"
            ]
          },
          "metadata": {
            "tags": []
          }
        }
      ]
    },
    {
      "cell_type": "code",
      "metadata": {
        "id": "PpPOXOuZg6wp"
      },
      "source": [
        "# check for prediction rate\n",
        "predicted_Probability=model.predict(x_img_test_normalize)"
      ],
      "execution_count": 29,
      "outputs": []
    },
    {
      "cell_type": "code",
      "metadata": {
        "id": "ykuUEDYlg_vY"
      },
      "source": [
        "def show_predicted_probability(y,prediction,x_img,predicted_Probability,i):\n",
        "  print('label:',label_dict[y[i][0]],\n",
        "        'predict',label_dict[prediction[i]])\n",
        "  plt.figure(figsize=(2,2))\n",
        "  plt.imshow(np.reshape(x_img_test[i],(32,32,3)))\n",
        "  plt.show()\n",
        "  for j in range(10):\n",
        "    print(label_dict[j]+ ' probability:%1.9f'%(predicted_Probability[i][j]))\n"
      ],
      "execution_count": 30,
      "outputs": []
    },
    {
      "cell_type": "code",
      "metadata": {
        "colab": {
          "base_uri": "https://localhost:8080/",
          "height": 355
        },
        "id": "EDAw57mNhCGo",
        "outputId": "bdf72e5b-980c-4452-9709-a44df4f4873e"
      },
      "source": [
        "show_predicted_probability(y_label_test,prediction,x_img_test,predicted_Probability,0)"
      ],
      "execution_count": 31,
      "outputs": [
        {
          "output_type": "stream",
          "text": [
            "label: cat predict bird\n"
          ],
          "name": "stdout"
        },
        {
          "output_type": "display_data",
          "data": {
            "image/png": "[encoded data removed]",
            "text/plain": [
              "<Figure size 144x144 with 1 Axes>"
            ]
          },
          "metadata": {
            "tags": [],
            "needs_background": "light"
          }
        },
        {
          "output_type": "stream",
          "text": [
            "airplane probability:0.099349640\n",
            "automobile probability:0.099519007\n",
            "bird probability:0.101302959\n",
            "cat probability:0.099727944\n",
            "deer probability:0.099710383\n",
            "dog probability:0.099527963\n",
            "frog probability:0.100290649\n",
            "horse probability:0.100707211\n",
            "ship probability:0.100384809\n",
            "truck probability:0.099479452\n"
          ],
          "name": "stdout"
        }
      ]
    },
    {
      "cell_type": "markdown",
      "metadata": {
        "id": "N5rt2fK5fntZ"
      },
      "source": [
        "#Confusion matrix"
      ]
    },
    {
      "cell_type": "code",
      "metadata": {
        "id": "TjlrqQgShBjE"
      },
      "source": [
        "import pandas as pd"
      ],
      "execution_count": 32,
      "outputs": []
    },
    {
      "cell_type": "code",
      "metadata": {
        "colab": {
          "base_uri": "https://localhost:8080/",
          "height": 370
        },
        "id": "vD-agaQbfqVp",
        "outputId": "4882e780-a0d5-4dc4-b2ed-72f7c0cf568d"
      },
      "source": [
        "pd.crosstab(y_label_test.reshape(-1),prediction,rownames=['label'],colnames=['predict'])"
      ],
      "execution_count": 33,
      "outputs": [
        {
          "output_type": "execute_result",
          "data": {
            "text/html": [
              "<div>\n",
              "<style scoped>\n",
              "    .dataframe tbody tr th:only-of-type {\n",
              "        vertical-align: middle;\n",
              "    }\n",
              "\n",
              "    .dataframe tbody tr th {\n",
              "        vertical-align: top;\n",
              "    }\n",
              "\n",
              "    .dataframe thead th {\n",
              "        text-align: right;\n",
              "    }\n",
              "</style>\n",
              "<table border=\"1\" class=\"dataframe\">\n",
              "  <thead>\n",
              "    <tr style=\"text-align: right;\">\n",
              "      <th>predict</th>\n",
              "      <th>2</th>\n",
              "    </tr>\n",
              "    <tr>\n",
              "      <th>label</th>\n",
              "      <th></th>\n",
              "    </tr>\n",
              "  </thead>\n",
              "  <tbody>\n",
              "    <tr>\n",
              "      <th>0</th>\n",
              "      <td>1000</td>\n",
              "    </tr>\n",
              "    <tr>\n",
              "      <th>1</th>\n",
              "      <td>1000</td>\n",
              "    </tr>\n",
              "    <tr>\n",
              "      <th>2</th>\n",
              "      <td>1000</td>\n",
              "    </tr>\n",
              "    <tr>\n",
              "      <th>3</th>\n",
              "      <td>1000</td>\n",
              "    </tr>\n",
              "    <tr>\n",
              "      <th>4</th>\n",
              "      <td>1000</td>\n",
              "    </tr>\n",
              "    <tr>\n",
              "      <th>5</th>\n",
              "      <td>1000</td>\n",
              "    </tr>\n",
              "    <tr>\n",
              "      <th>6</th>\n",
              "      <td>1000</td>\n",
              "    </tr>\n",
              "    <tr>\n",
              "      <th>7</th>\n",
              "      <td>1000</td>\n",
              "    </tr>\n",
              "    <tr>\n",
              "      <th>8</th>\n",
              "      <td>1000</td>\n",
              "    </tr>\n",
              "    <tr>\n",
              "      <th>9</th>\n",
              "      <td>1000</td>\n",
              "    </tr>\n",
              "  </tbody>\n",
              "</table>\n",
              "</div>"
            ],
            "text/plain": [
              "predict     2\n",
              "label        \n",
              "0        1000\n",
              "1        1000\n",
              "2        1000\n",
              "3        1000\n",
              "4        1000\n",
              "5        1000\n",
              "6        1000\n",
              "7        1000\n",
              "8        1000\n",
              "9        1000"
            ]
          },
          "metadata": {
            "tags": []
          },
          "execution_count": 33
        }
      ]
    },
    {
      "cell_type": "code",
      "metadata": {
        "id": "mvxedLAxgTfS"
      },
      "source": [
        ""
      ],
      "execution_count": null,
      "outputs": []
    },
    {
      "cell_type": "code",
      "metadata": {
        "id": "qddPJ9HX40o8"
      },
      "source": [
        ""
      ],
      "execution_count": null,
      "outputs": []
    }
  ]
}