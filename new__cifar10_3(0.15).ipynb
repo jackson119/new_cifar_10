{
  "nbformat": 4,
  "nbformat_minor": 0,
  "metadata": {
    "accelerator": "GPU",
    "colab": {
      "name": "new_ cifar10_3(0.15).ipynb",
      "provenance": [],
      "collapsed_sections": [
        "N5rt2fK5fntZ"
      ],
      "authorship_tag": "ABX9TyMshIb9Q4935ap/R4bfTdnA",
      "include_colab_link": true
    },
    "kernelspec": {
      "display_name": "Python 3",
      "name": "python3"
    },
    "language_info": {
      "name": "python"
    }
  },
  "cells": [
    {
      "cell_type": "markdown",
      "metadata": {
        "id": "view-in-github",
        "colab_type": "text"
      },
      "source": [
        "<a href=\"https://colab.research.google.com/github/jackson119/new_cifar_10/blob/main/new__cifar10_3(0.15).ipynb\" target=\"_parent\"><img src=\"https://colab.research.google.com/assets/colab-badge.svg\" alt=\"Open In Colab\"/></a>"
      ]
    },
    {
      "cell_type": "markdown",
      "metadata": {
        "id": "SGKXC7W7pnht"
      },
      "source": [
        "# Data Preprocessing"
      ]
    },
    {
      "cell_type": "code",
      "metadata": {
        "id": "91H4jfpypp4h"
      },
      "source": [
        "from tensorflow.keras.datasets import cifar10\n",
        "import numpy as np\n",
        "np.random.seed(10)"
      ],
      "execution_count": 7,
      "outputs": []
    },
    {
      "cell_type": "code",
      "metadata": {
        "id": "jrfbgEOdprAB"
      },
      "source": [
        "(x_img_train,y_label_train),(x_img_test,y_label_test)=cifar10.load_data()"
      ],
      "execution_count": 8,
      "outputs": []
    },
    {
      "cell_type": "code",
      "metadata": {
        "colab": {
          "base_uri": "https://localhost:8080/"
        },
        "id": "Bv64ED30R18B",
        "outputId": "1e6af1a0-d2ce-43a5-d19b-e66f6b719c8d"
      },
      "source": [
        "print(\"train data:\",\"images:\",x_img_train.shape,\"labels:\",y_label_train.shape)\n",
        "print(\"test data:\",\"images:\",x_img_test.shape,\"labels:\",y_label_test.shape)"
      ],
      "execution_count": 9,
      "outputs": [
        {
          "output_type": "stream",
          "text": [
            "train data: images: (50000, 32, 32, 3) labels: (50000, 1)\n",
            "test data: images: (10000, 32, 32, 3) labels: (10000, 1)\n"
          ],
          "name": "stdout"
        }
      ]
    },
    {
      "cell_type": "markdown",
      "metadata": {
        "id": "10BLqTKNSYKW"
      },
      "source": [
        "# standardize and perform one hot encoding"
      ]
    },
    {
      "cell_type": "code",
      "metadata": {
        "id": "_bdYalY-Sfva"
      },
      "source": [
        "x_img_train_normalize=x_img_train.astype('float32')/255.0\n",
        "x_img_test_normalize=x_img_test.astype('float32')/255.0"
      ],
      "execution_count": 10,
      "outputs": []
    },
    {
      "cell_type": "code",
      "metadata": {
        "id": "-7OJEuxpSpXX"
      },
      "source": [
        "from tensorflow.keras import utils"
      ],
      "execution_count": 11,
      "outputs": []
    },
    {
      "cell_type": "code",
      "metadata": {
        "id": "bvesDQfhSsmH"
      },
      "source": [
        "y_label_train_OneHot=utils.to_categorical(y_label_train)\n",
        "y_label_test_OneHot=utils.to_categorical(y_label_test)"
      ],
      "execution_count": 12,
      "outputs": []
    },
    {
      "cell_type": "markdown",
      "metadata": {
        "id": "DSmFxX9xSwCN"
      },
      "source": [
        "# Images and label"
      ]
    },
    {
      "cell_type": "code",
      "metadata": {
        "id": "6AshrU3USxld"
      },
      "source": [
        "label_dict={0:\"airplane\",1:\"automobile\",2:\"bird\",3:\"cat\",4:\"deer\",5:\"dog\",6:\"frog\",7:\"horse\",8:\"ship\",9:\"truck\"}"
      ],
      "execution_count": 13,
      "outputs": []
    },
    {
      "cell_type": "code",
      "metadata": {
        "id": "KADDqJmsSzCc"
      },
      "source": [
        "# Construct model\n",
        "from keras.models import Sequential\n",
        "from keras.layers import Dense,Dropout,Activation,Flatten\n",
        "from keras.layers import Conv2D,MaxPooling2D,ZeroPadding2D"
      ],
      "execution_count": 14,
      "outputs": []
    },
    {
      "cell_type": "code",
      "metadata": {
        "id": "2tUCpCqHS5sb"
      },
      "source": [
        "model=Sequential()"
      ],
      "execution_count": 15,
      "outputs": []
    },
    {
      "cell_type": "code",
      "metadata": {
        "id": "IP4YwNOFS62i"
      },
      "source": [
        "model.add(Conv2D(filters=32,kernel_size=(3,3),input_shape=(32,32,3),activation='relu',padding='same'))\n",
        "model.add(Dropout(0.15))\n",
        "model.add(Conv2D(filters=32,kernel_size=(3,3),activation='relu',padding='same'))\n",
        "model.add(MaxPooling2D(pool_size=(2,2)))"
      ],
      "execution_count": 16,
      "outputs": []
    },
    {
      "cell_type": "code",
      "metadata": {
        "id": "VrEsDZ3OYZv6"
      },
      "source": [
        "model.add(Conv2D(filters=64,kernel_size=(3,3),activation='relu',padding='same'))\n",
        "model.add(Dropout(0.15))\n",
        "model.add(Conv2D(filters=64,kernel_size=(3,3),activation='relu',padding='same'))\n",
        "model.add(MaxPooling2D(pool_size=(2,2)))"
      ],
      "execution_count": 17,
      "outputs": []
    },
    {
      "cell_type": "code",
      "metadata": {
        "id": "Lfbpty5kYwiH"
      },
      "source": [
        "model.add(Conv2D(filters=128,kernel_size=(3,3),activation='relu',padding='same'))\n",
        "model.add(Dropout(0.15))\n",
        "model.add(Conv2D(filters=128,kernel_size=(3,3),activation='relu',padding='same'))\n",
        "model.add(MaxPooling2D(pool_size=(2,2)))"
      ],
      "execution_count": 18,
      "outputs": []
    },
    {
      "cell_type": "code",
      "metadata": {
        "id": "YGEmb5pbZYhj"
      },
      "source": [
        "### neural network\n",
        "model.add(Flatten())\n",
        "model.add(Dropout(0.15))\n",
        "### hidden layer 1\n",
        "model.add(Dense(2500,activation='relu'))\n",
        "model.add(Dropout(0.15))\n",
        "### hidden layer 2\n",
        "model.add(Dense(1500,activation='relu'))\n",
        "model.add(Dropout(0.15))\n",
        "### output layer\n",
        "model.add(Dense(10,activation='softmax'))"
      ],
      "execution_count": 19,
      "outputs": []
    },
    {
      "cell_type": "code",
      "metadata": {
        "colab": {
          "base_uri": "https://localhost:8080/"
        },
        "id": "2kjnUEYuZtK5",
        "outputId": "92a4a515-a14c-46fa-a883-57e519eb716f"
      },
      "source": [
        "print(model.summary())"
      ],
      "execution_count": 20,
      "outputs": [
        {
          "output_type": "stream",
          "text": [
            "Model: \"sequential\"\n",
            "_________________________________________________________________\n",
            "Layer (type)                 Output Shape              Param #   \n",
            "=================================================================\n",
            "conv2d (Conv2D)              (None, 32, 32, 32)        896       \n",
            "_________________________________________________________________\n",
            "dropout (Dropout)            (None, 32, 32, 32)        0         \n",
            "_________________________________________________________________\n",
            "conv2d_1 (Conv2D)            (None, 32, 32, 32)        9248      \n",
            "_________________________________________________________________\n",
            "max_pooling2d (MaxPooling2D) (None, 16, 16, 32)        0         \n",
            "_________________________________________________________________\n",
            "conv2d_2 (Conv2D)            (None, 16, 16, 64)        18496     \n",
            "_________________________________________________________________\n",
            "dropout_1 (Dropout)          (None, 16, 16, 64)        0         \n",
            "_________________________________________________________________\n",
            "conv2d_3 (Conv2D)            (None, 16, 16, 64)        36928     \n",
            "_________________________________________________________________\n",
            "max_pooling2d_1 (MaxPooling2 (None, 8, 8, 64)          0         \n",
            "_________________________________________________________________\n",
            "conv2d_4 (Conv2D)            (None, 8, 8, 128)         73856     \n",
            "_________________________________________________________________\n",
            "dropout_2 (Dropout)          (None, 8, 8, 128)         0         \n",
            "_________________________________________________________________\n",
            "conv2d_5 (Conv2D)            (None, 8, 8, 128)         147584    \n",
            "_________________________________________________________________\n",
            "max_pooling2d_2 (MaxPooling2 (None, 4, 4, 128)         0         \n",
            "_________________________________________________________________\n",
            "flatten (Flatten)            (None, 2048)              0         \n",
            "_________________________________________________________________\n",
            "dropout_3 (Dropout)          (None, 2048)              0         \n",
            "_________________________________________________________________\n",
            "dense (Dense)                (None, 2500)              5122500   \n",
            "_________________________________________________________________\n",
            "dropout_4 (Dropout)          (None, 2500)              0         \n",
            "_________________________________________________________________\n",
            "dense_1 (Dense)              (None, 1500)              3751500   \n",
            "_________________________________________________________________\n",
            "dropout_5 (Dropout)          (None, 1500)              0         \n",
            "_________________________________________________________________\n",
            "dense_2 (Dense)              (None, 10)                15010     \n",
            "=================================================================\n",
            "Total params: 9,176,018\n",
            "Trainable params: 9,176,018\n",
            "Non-trainable params: 0\n",
            "_________________________________________________________________\n",
            "None\n"
          ],
          "name": "stdout"
        }
      ]
    },
    {
      "cell_type": "code",
      "metadata": {
        "colab": {
          "base_uri": "https://localhost:8080/"
        },
        "id": "j64CEumxZvDu",
        "outputId": "bee3cc26-dc9f-4df0-c48a-e23523fb7ad7"
      },
      "source": [
        "model.compile(loss='categorical_crossentropy',optimizer='adam',metrics=['accuracy'])\n",
        "train_history=model.fit(x_img_train_normalize,y_label_train_OneHot,validation_split=0.2,epochs=50,batch_size=300,verbose=2)"
      ],
      "execution_count": 21,
      "outputs": [
        {
          "output_type": "stream",
          "text": [
            "Epoch 1/50\n",
            "134/134 - 39s - loss: 1.8549 - accuracy: 0.3021 - val_loss: 1.7361 - val_accuracy: 0.3763\n",
            "Epoch 2/50\n",
            "134/134 - 4s - loss: 1.3991 - accuracy: 0.4842 - val_loss: 1.2772 - val_accuracy: 0.5410\n",
            "Epoch 3/50\n",
            "134/134 - 5s - loss: 1.1670 - accuracy: 0.5771 - val_loss: 1.0699 - val_accuracy: 0.6202\n",
            "Epoch 4/50\n",
            "134/134 - 5s - loss: 0.9846 - accuracy: 0.6474 - val_loss: 0.9692 - val_accuracy: 0.6536\n",
            "Epoch 5/50\n",
            "134/134 - 5s - loss: 0.8488 - accuracy: 0.6995 - val_loss: 0.8186 - val_accuracy: 0.7127\n",
            "Epoch 6/50\n",
            "134/134 - 5s - loss: 0.7585 - accuracy: 0.7293 - val_loss: 0.8666 - val_accuracy: 0.6988\n",
            "Epoch 7/50\n",
            "134/134 - 5s - loss: 0.6773 - accuracy: 0.7603 - val_loss: 0.7616 - val_accuracy: 0.7378\n",
            "Epoch 8/50\n",
            "134/134 - 5s - loss: 0.5938 - accuracy: 0.7886 - val_loss: 0.7134 - val_accuracy: 0.7559\n",
            "Epoch 9/50\n",
            "134/134 - 5s - loss: 0.5176 - accuracy: 0.8159 - val_loss: 0.7098 - val_accuracy: 0.7568\n",
            "Epoch 10/50\n",
            "134/134 - 5s - loss: 0.4643 - accuracy: 0.8360 - val_loss: 0.7214 - val_accuracy: 0.7566\n",
            "Epoch 11/50\n",
            "134/134 - 5s - loss: 0.3883 - accuracy: 0.8642 - val_loss: 0.7437 - val_accuracy: 0.7684\n",
            "Epoch 12/50\n",
            "134/134 - 5s - loss: 0.3353 - accuracy: 0.8810 - val_loss: 0.7280 - val_accuracy: 0.7733\n",
            "Epoch 13/50\n",
            "134/134 - 5s - loss: 0.2803 - accuracy: 0.9000 - val_loss: 0.7663 - val_accuracy: 0.7716\n",
            "Epoch 14/50\n",
            "134/134 - 5s - loss: 0.2400 - accuracy: 0.9142 - val_loss: 0.8204 - val_accuracy: 0.7673\n",
            "Epoch 15/50\n",
            "134/134 - 5s - loss: 0.2119 - accuracy: 0.9236 - val_loss: 0.8534 - val_accuracy: 0.7694\n",
            "Epoch 16/50\n",
            "134/134 - 5s - loss: 0.1849 - accuracy: 0.9358 - val_loss: 0.8839 - val_accuracy: 0.7672\n",
            "Epoch 17/50\n",
            "134/134 - 5s - loss: 0.1616 - accuracy: 0.9419 - val_loss: 0.9479 - val_accuracy: 0.7708\n",
            "Epoch 18/50\n",
            "134/134 - 5s - loss: 0.1579 - accuracy: 0.9444 - val_loss: 0.8802 - val_accuracy: 0.7709\n",
            "Epoch 19/50\n",
            "134/134 - 5s - loss: 0.1423 - accuracy: 0.9509 - val_loss: 0.9263 - val_accuracy: 0.7750\n",
            "Epoch 20/50\n",
            "134/134 - 5s - loss: 0.1264 - accuracy: 0.9564 - val_loss: 0.9408 - val_accuracy: 0.7783\n",
            "Epoch 21/50\n",
            "134/134 - 5s - loss: 0.1262 - accuracy: 0.9572 - val_loss: 0.9501 - val_accuracy: 0.7763\n",
            "Epoch 22/50\n",
            "134/134 - 5s - loss: 0.1169 - accuracy: 0.9605 - val_loss: 0.9431 - val_accuracy: 0.7753\n",
            "Epoch 23/50\n",
            "134/134 - 5s - loss: 0.1044 - accuracy: 0.9643 - val_loss: 0.9467 - val_accuracy: 0.7784\n",
            "Epoch 24/50\n",
            "134/134 - 5s - loss: 0.0984 - accuracy: 0.9667 - val_loss: 1.0245 - val_accuracy: 0.7783\n",
            "Epoch 25/50\n",
            "134/134 - 5s - loss: 0.0983 - accuracy: 0.9671 - val_loss: 0.9513 - val_accuracy: 0.7788\n",
            "Epoch 26/50\n",
            "134/134 - 5s - loss: 0.0836 - accuracy: 0.9721 - val_loss: 1.0188 - val_accuracy: 0.7779\n",
            "Epoch 27/50\n",
            "134/134 - 5s - loss: 0.0911 - accuracy: 0.9693 - val_loss: 1.0563 - val_accuracy: 0.7731\n",
            "Epoch 28/50\n",
            "134/134 - 5s - loss: 0.0854 - accuracy: 0.9716 - val_loss: 1.0539 - val_accuracy: 0.7702\n",
            "Epoch 29/50\n",
            "134/134 - 5s - loss: 0.0786 - accuracy: 0.9740 - val_loss: 1.0755 - val_accuracy: 0.7790\n",
            "Epoch 30/50\n",
            "134/134 - 5s - loss: 0.0800 - accuracy: 0.9730 - val_loss: 1.0069 - val_accuracy: 0.7777\n",
            "Epoch 31/50\n",
            "134/134 - 5s - loss: 0.0818 - accuracy: 0.9725 - val_loss: 1.0749 - val_accuracy: 0.7753\n",
            "Epoch 32/50\n",
            "134/134 - 5s - loss: 0.0790 - accuracy: 0.9732 - val_loss: 1.0775 - val_accuracy: 0.7835\n",
            "Epoch 33/50\n",
            "134/134 - 5s - loss: 0.0703 - accuracy: 0.9772 - val_loss: 1.1629 - val_accuracy: 0.7741\n",
            "Epoch 34/50\n",
            "134/134 - 5s - loss: 0.0743 - accuracy: 0.9752 - val_loss: 1.0954 - val_accuracy: 0.7728\n",
            "Epoch 35/50\n",
            "134/134 - 5s - loss: 0.0694 - accuracy: 0.9769 - val_loss: 1.0903 - val_accuracy: 0.7702\n",
            "Epoch 36/50\n",
            "134/134 - 5s - loss: 0.0674 - accuracy: 0.9780 - val_loss: 1.0662 - val_accuracy: 0.7714\n",
            "Epoch 37/50\n",
            "134/134 - 5s - loss: 0.0718 - accuracy: 0.9760 - val_loss: 1.1971 - val_accuracy: 0.7654\n",
            "Epoch 38/50\n",
            "134/134 - 5s - loss: 0.0646 - accuracy: 0.9783 - val_loss: 1.1131 - val_accuracy: 0.7841\n",
            "Epoch 39/50\n",
            "134/134 - 5s - loss: 0.0630 - accuracy: 0.9793 - val_loss: 1.0900 - val_accuracy: 0.7831\n",
            "Epoch 40/50\n",
            "134/134 - 5s - loss: 0.0618 - accuracy: 0.9796 - val_loss: 1.1276 - val_accuracy: 0.7683\n",
            "Epoch 41/50\n",
            "134/134 - 5s - loss: 0.0667 - accuracy: 0.9776 - val_loss: 1.1464 - val_accuracy: 0.7726\n",
            "Epoch 42/50\n",
            "134/134 - 5s - loss: 0.0645 - accuracy: 0.9783 - val_loss: 1.0947 - val_accuracy: 0.7833\n",
            "Epoch 43/50\n",
            "134/134 - 5s - loss: 0.0571 - accuracy: 0.9809 - val_loss: 1.0939 - val_accuracy: 0.7850\n",
            "Epoch 44/50\n",
            "134/134 - 5s - loss: 0.0681 - accuracy: 0.9780 - val_loss: 1.1019 - val_accuracy: 0.7699\n",
            "Epoch 45/50\n",
            "134/134 - 5s - loss: 0.0531 - accuracy: 0.9818 - val_loss: 1.1676 - val_accuracy: 0.7878\n",
            "Epoch 46/50\n",
            "134/134 - 5s - loss: 0.0633 - accuracy: 0.9794 - val_loss: 1.1305 - val_accuracy: 0.7845\n",
            "Epoch 47/50\n",
            "134/134 - 5s - loss: 0.0606 - accuracy: 0.9797 - val_loss: 1.1144 - val_accuracy: 0.7894\n",
            "Epoch 48/50\n",
            "134/134 - 5s - loss: 0.0483 - accuracy: 0.9841 - val_loss: 1.0840 - val_accuracy: 0.7805\n",
            "Epoch 49/50\n",
            "134/134 - 5s - loss: 0.0559 - accuracy: 0.9817 - val_loss: 1.1741 - val_accuracy: 0.7755\n",
            "Epoch 50/50\n",
            "134/134 - 5s - loss: 0.0560 - accuracy: 0.9814 - val_loss: 1.1492 - val_accuracy: 0.7815\n"
          ],
          "name": "stdout"
        }
      ]
    },
    {
      "cell_type": "code",
      "metadata": {
        "id": "rzLTGAOzZ7zi"
      },
      "source": [
        "from matplotlib import pyplot as plt\n",
        "def show_train_history(train_history,train,validation):\n",
        "  plt.plot(train_history.history[train])\n",
        "  plt.plot(train_history.history[validation])\n",
        "  plt.title('Train History')\n",
        "  plt.ylabel('train')\n",
        "  plt.xlabel('Epoch')\n",
        "  plt.legend(['train','validation'],loc='upper left')\n",
        "  plt.show()"
      ],
      "execution_count": 22,
      "outputs": []
    },
    {
      "cell_type": "code",
      "metadata": {
        "colab": {
          "base_uri": "https://localhost:8080/",
          "height": 295
        },
        "id": "FliqaslyfUOd",
        "outputId": "67747c52-820e-44e9-f329-dffa8650fa4f"
      },
      "source": [
        "show_train_history(train_history,'accuracy','val_accuracy')"
      ],
      "execution_count": 23,
      "outputs": [
        {
          "output_type": "display_data",
          "data": {
            "image/png": "[encoded data removed]",
            "text/plain": [
              "<Figure size 432x288 with 1 Axes>"
            ]
          },
          "metadata": {
            "tags": [],
            "needs_background": "light"
          }
        }
      ]
    },
    {
      "cell_type": "code",
      "metadata": {
        "colab": {
          "base_uri": "https://localhost:8080/",
          "height": 295
        },
        "id": "CLUnjiW4fbvQ",
        "outputId": "88436faf-b7e0-426b-b4d8-3ce6fac04e02"
      },
      "source": [
        "show_train_history(train_history,'loss','val_loss')"
      ],
      "execution_count": 24,
      "outputs": [
        {
          "output_type": "display_data",
          "data": {
            "image/png": "[encoded data removed]",
            "text/plain": [
              "<Figure size 432x288 with 1 Axes>"
            ]
          },
          "metadata": {
            "tags": [],
            "needs_background": "light"
          }
        }
      ]
    },
    {
      "cell_type": "code",
      "metadata": {
        "id": "J5uBX8IWgmJ8"
      },
      "source": [
        "### estimate model accuracy"
      ],
      "execution_count": 25,
      "outputs": []
    },
    {
      "cell_type": "code",
      "metadata": {
        "id": "CNqM3qWAgmRX"
      },
      "source": [
        "scores=model.evaluate(x_img_test_normalize,y_label_test_OneHot,verbose=0)"
      ],
      "execution_count": 26,
      "outputs": []
    },
    {
      "cell_type": "code",
      "metadata": {
        "colab": {
          "base_uri": "https://localhost:8080/"
        },
        "id": "cLAn9V1ogrBf",
        "outputId": "2f906d47-d794-4b6f-e37c-83336b1427e5"
      },
      "source": [
        "print(f'Test loss: {scores[0]} / Test accuracy: {scores[1]}')"
      ],
      "execution_count": 27,
      "outputs": [
        {
          "output_type": "stream",
          "text": [
            "Test loss: 1.2573974132537842 / Test accuracy: 0.7699999809265137\n"
          ],
          "name": "stdout"
        }
      ]
    },
    {
      "cell_type": "code",
      "metadata": {
        "colab": {
          "base_uri": "https://localhost:8080/"
        },
        "id": "UNRhGtVugvNM",
        "outputId": "7e31ecaa-312b-419c-a6b0-584d1f844d2a"
      },
      "source": [
        "prediction=model.predict_classes(x_img_test_normalize) ### prediction"
      ],
      "execution_count": 28,
      "outputs": [
        {
          "output_type": "stream",
          "text": [
            "/usr/local/lib/python3.7/dist-packages/tensorflow/python/keras/engine/sequential.py:450: UserWarning: `model.predict_classes()` is deprecated and will be removed after 2021-01-01. Please use instead:* `np.argmax(model.predict(x), axis=-1)`,   if your model does multi-class classification   (e.g. if it uses a `softmax` last-layer activation).* `(model.predict(x) > 0.5).astype(\"int32\")`,   if your model does binary classification   (e.g. if it uses a `sigmoid` last-layer activation).\n",
            "  warnings.warn('`model.predict_classes()` is deprecated and '\n"
          ],
          "name": "stderr"
        }
      ]
    },
    {
      "cell_type": "code",
      "metadata": {
        "colab": {
          "base_uri": "https://localhost:8080/"
        },
        "id": "e9dj4EcTkNPd",
        "outputId": "bf0e691e-e515-4e22-ccde-953dc84d2317"
      },
      "source": [
        "prediction"
      ],
      "execution_count": 29,
      "outputs": [
        {
          "output_type": "execute_result",
          "data": {
            "text/plain": [
              "array([3, 8, 8, ..., 5, 1, 7])"
            ]
          },
          "metadata": {
            "tags": []
          },
          "execution_count": 29
        }
      ]
    },
    {
      "cell_type": "code",
      "metadata": {
        "id": "ii4zLAJNgz_w"
      },
      "source": [
        "def plot_images_labels_prediction(images,labels,prediction,idx,num=10):\n",
        "  fig=plt.gcf()\n",
        "  fig.set_size_inches(12,14)\n",
        "  if num>25:num=25\n",
        "  for i in range(0,num):\n",
        "    ax=plt.subplot(5,5,1+i)\n",
        "    ax.imshow(images[idx],cmap='binary')\n",
        "    title=str(i) +',' +label_dict[labels[i][0]]\n",
        "    if len(prediction)>0:\n",
        "      title+='=>'+label_dict[prediction[i]]\n",
        "    ax.set_title(title,fontsize=10)\n",
        "    ax.set_xticks([]);ax.set_yticks([])\n",
        "    idx+=1\n",
        "  plt.show()"
      ],
      "execution_count": 30,
      "outputs": []
    },
    {
      "cell_type": "code",
      "metadata": {
        "colab": {
          "base_uri": "https://localhost:8080/",
          "height": 321
        },
        "id": "Ss7dd8dJg2UX",
        "outputId": "7b9407d2-9bc5-4d65-b6db-e2b3a7705a51"
      },
      "source": [
        "plot_images_labels_prediction(x_img_test,y_label_test,prediction,0,10)"
      ],
      "execution_count": 31,
      "outputs": [
        {
          "output_type": "display_data",
          "data": {
            "image/png": "[encoded data removed]",
            "text/plain": [
              "<Figure size 864x1008 with 10 Axes>"
            ]
          },
          "metadata": {
            "tags": []
          }
        }
      ]
    },
    {
      "cell_type": "code",
      "metadata": {
        "id": "PpPOXOuZg6wp"
      },
      "source": [
        "# check for prediction rate\n",
        "predicted_Probability=model.predict(x_img_test_normalize)"
      ],
      "execution_count": 32,
      "outputs": []
    },
    {
      "cell_type": "code",
      "metadata": {
        "id": "ykuUEDYlg_vY"
      },
      "source": [
        "def show_predicted_probability(y,prediction,x_img,predicted_Probability,i):\n",
        "  print('label:',label_dict[y[i][0]],\n",
        "        'predict',label_dict[prediction[i]])\n",
        "  plt.figure(figsize=(2,2))\n",
        "  plt.imshow(np.reshape(x_img_test[i],(32,32,3)))\n",
        "  plt.show()\n",
        "  for j in range(10):\n",
        "    print(label_dict[j]+ ' probability:%1.9f'%(predicted_Probability[i][j]))\n"
      ],
      "execution_count": 33,
      "outputs": []
    },
    {
      "cell_type": "code",
      "metadata": {
        "colab": {
          "base_uri": "https://localhost:8080/",
          "height": 355
        },
        "id": "EDAw57mNhCGo",
        "outputId": "5183129a-f337-4b3d-ae3e-bfaeba0c0a32"
      },
      "source": [
        "show_predicted_probability(y_label_test,prediction,x_img_test,predicted_Probability,0)"
      ],
      "execution_count": 34,
      "outputs": [
        {
          "output_type": "stream",
          "text": [
            "label: cat predict cat\n"
          ],
          "name": "stdout"
        },
        {
          "output_type": "display_data",
          "data": {
            "image/png": "[encoded data removed]",
            "text/plain": [
              "<Figure size 144x144 with 1 Axes>"
            ]
          },
          "metadata": {
            "tags": [],
            "needs_background": "light"
          }
        },
        {
          "output_type": "stream",
          "text": [
            "airplane probability:0.000024878\n",
            "automobile probability:0.000000726\n",
            "bird probability:0.000007809\n",
            "cat probability:0.767914534\n",
            "deer probability:0.000000000\n",
            "dog probability:0.231985003\n",
            "frog probability:0.000000328\n",
            "horse probability:0.000000050\n",
            "ship probability:0.000066492\n",
            "truck probability:0.000000116\n"
          ],
          "name": "stdout"
        }
      ]
    },
    {
      "cell_type": "markdown",
      "metadata": {
        "id": "N5rt2fK5fntZ"
      },
      "source": [
        "#Confusion matrix"
      ]
    },
    {
      "cell_type": "code",
      "metadata": {
        "id": "TjlrqQgShBjE"
      },
      "source": [
        "import pandas as pd"
      ],
      "execution_count": 35,
      "outputs": []
    },
    {
      "cell_type": "code",
      "metadata": {
        "colab": {
          "base_uri": "https://localhost:8080/",
          "height": 370
        },
        "id": "vD-agaQbfqVp",
        "outputId": "0a9bbeed-4812-4a02-de56-7d9d3cca210b"
      },
      "source": [
        "pd.crosstab(y_label_test.reshape(-1),prediction,rownames=['label'],colnames=['predict'])"
      ],
      "execution_count": 36,
      "outputs": [
        {
          "output_type": "execute_result",
          "data": {
            "text/html": [
              "<div>\n",
              "<style scoped>\n",
              "    .dataframe tbody tr th:only-of-type {\n",
              "        vertical-align: middle;\n",
              "    }\n",
              "\n",
              "    .dataframe tbody tr th {\n",
              "        vertical-align: top;\n",
              "    }\n",
              "\n",
              "    .dataframe thead th {\n",
              "        text-align: right;\n",
              "    }\n",
              "</style>\n",
              "<table border=\"1\" class=\"dataframe\">\n",
              "  <thead>\n",
              "    <tr style=\"text-align: right;\">\n",
              "      <th>predict</th>\n",
              "      <th>0</th>\n",
              "      <th>1</th>\n",
              "      <th>2</th>\n",
              "      <th>3</th>\n",
              "      <th>4</th>\n",
              "      <th>5</th>\n",
              "      <th>6</th>\n",
              "      <th>7</th>\n",
              "      <th>8</th>\n",
              "      <th>9</th>\n",
              "    </tr>\n",
              "    <tr>\n",
              "      <th>label</th>\n",
              "      <th></th>\n",
              "      <th></th>\n",
              "      <th></th>\n",
              "      <th></th>\n",
              "      <th></th>\n",
              "      <th></th>\n",
              "      <th></th>\n",
              "      <th></th>\n",
              "      <th></th>\n",
              "      <th></th>\n",
              "    </tr>\n",
              "  </thead>\n",
              "  <tbody>\n",
              "    <tr>\n",
              "      <th>0</th>\n",
              "      <td>775</td>\n",
              "      <td>16</td>\n",
              "      <td>59</td>\n",
              "      <td>13</td>\n",
              "      <td>11</td>\n",
              "      <td>2</td>\n",
              "      <td>6</td>\n",
              "      <td>14</td>\n",
              "      <td>62</td>\n",
              "      <td>42</td>\n",
              "    </tr>\n",
              "    <tr>\n",
              "      <th>1</th>\n",
              "      <td>11</td>\n",
              "      <td>878</td>\n",
              "      <td>6</td>\n",
              "      <td>5</td>\n",
              "      <td>1</td>\n",
              "      <td>3</td>\n",
              "      <td>3</td>\n",
              "      <td>5</td>\n",
              "      <td>18</td>\n",
              "      <td>70</td>\n",
              "    </tr>\n",
              "    <tr>\n",
              "      <th>2</th>\n",
              "      <td>54</td>\n",
              "      <td>4</td>\n",
              "      <td>710</td>\n",
              "      <td>47</td>\n",
              "      <td>58</td>\n",
              "      <td>49</td>\n",
              "      <td>39</td>\n",
              "      <td>24</td>\n",
              "      <td>7</td>\n",
              "      <td>8</td>\n",
              "    </tr>\n",
              "    <tr>\n",
              "      <th>3</th>\n",
              "      <td>17</td>\n",
              "      <td>3</td>\n",
              "      <td>78</td>\n",
              "      <td>536</td>\n",
              "      <td>55</td>\n",
              "      <td>164</td>\n",
              "      <td>46</td>\n",
              "      <td>61</td>\n",
              "      <td>10</td>\n",
              "      <td>30</td>\n",
              "    </tr>\n",
              "    <tr>\n",
              "      <th>4</th>\n",
              "      <td>17</td>\n",
              "      <td>3</td>\n",
              "      <td>69</td>\n",
              "      <td>57</td>\n",
              "      <td>712</td>\n",
              "      <td>31</td>\n",
              "      <td>23</td>\n",
              "      <td>79</td>\n",
              "      <td>4</td>\n",
              "      <td>5</td>\n",
              "    </tr>\n",
              "    <tr>\n",
              "      <th>5</th>\n",
              "      <td>5</td>\n",
              "      <td>6</td>\n",
              "      <td>47</td>\n",
              "      <td>140</td>\n",
              "      <td>22</td>\n",
              "      <td>689</td>\n",
              "      <td>21</td>\n",
              "      <td>60</td>\n",
              "      <td>4</td>\n",
              "      <td>6</td>\n",
              "    </tr>\n",
              "    <tr>\n",
              "      <th>6</th>\n",
              "      <td>11</td>\n",
              "      <td>4</td>\n",
              "      <td>44</td>\n",
              "      <td>50</td>\n",
              "      <td>45</td>\n",
              "      <td>27</td>\n",
              "      <td>787</td>\n",
              "      <td>13</td>\n",
              "      <td>11</td>\n",
              "      <td>8</td>\n",
              "    </tr>\n",
              "    <tr>\n",
              "      <th>7</th>\n",
              "      <td>9</td>\n",
              "      <td>1</td>\n",
              "      <td>19</td>\n",
              "      <td>26</td>\n",
              "      <td>32</td>\n",
              "      <td>40</td>\n",
              "      <td>3</td>\n",
              "      <td>841</td>\n",
              "      <td>3</td>\n",
              "      <td>26</td>\n",
              "    </tr>\n",
              "    <tr>\n",
              "      <th>8</th>\n",
              "      <td>37</td>\n",
              "      <td>17</td>\n",
              "      <td>10</td>\n",
              "      <td>9</td>\n",
              "      <td>3</td>\n",
              "      <td>4</td>\n",
              "      <td>5</td>\n",
              "      <td>5</td>\n",
              "      <td>880</td>\n",
              "      <td>30</td>\n",
              "    </tr>\n",
              "    <tr>\n",
              "      <th>9</th>\n",
              "      <td>11</td>\n",
              "      <td>38</td>\n",
              "      <td>7</td>\n",
              "      <td>13</td>\n",
              "      <td>3</td>\n",
              "      <td>5</td>\n",
              "      <td>2</td>\n",
              "      <td>12</td>\n",
              "      <td>17</td>\n",
              "      <td>892</td>\n",
              "    </tr>\n",
              "  </tbody>\n",
              "</table>\n",
              "</div>"
            ],
            "text/plain": [
              "predict    0    1    2    3    4    5    6    7    8    9\n",
              "label                                                    \n",
              "0        775   16   59   13   11    2    6   14   62   42\n",
              "1         11  878    6    5    1    3    3    5   18   70\n",
              "2         54    4  710   47   58   49   39   24    7    8\n",
              "3         17    3   78  536   55  164   46   61   10   30\n",
              "4         17    3   69   57  712   31   23   79    4    5\n",
              "5          5    6   47  140   22  689   21   60    4    6\n",
              "6         11    4   44   50   45   27  787   13   11    8\n",
              "7          9    1   19   26   32   40    3  841    3   26\n",
              "8         37   17   10    9    3    4    5    5  880   30\n",
              "9         11   38    7   13    3    5    2   12   17  892"
            ]
          },
          "metadata": {
            "tags": []
          },
          "execution_count": 36
        }
      ]
    },
    {
      "cell_type": "code",
      "metadata": {
        "id": "mvxedLAxgTfS"
      },
      "source": [
        ""
      ],
      "execution_count": null,
      "outputs": []
    }
  ]
}