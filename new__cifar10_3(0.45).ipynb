{
  "nbformat": 4,
  "nbformat_minor": 0,
  "metadata": {
    "accelerator": "GPU",
    "colab": {
      "name": "new_ cifar10_3(0.45).ipynb",
      "provenance": [],
      "collapsed_sections": [
        "N5rt2fK5fntZ"
      ],
      "authorship_tag": "ABX9TyOPdmrSaDcV8q65MFzHrldb",
      "include_colab_link": true
    },
    "kernelspec": {
      "display_name": "Python 3",
      "name": "python3"
    },
    "language_info": {
      "name": "python"
    }
  },
  "cells": [
    {
      "cell_type": "markdown",
      "metadata": {
        "id": "view-in-github",
        "colab_type": "text"
      },
      "source": [
        "<a href=\"https://colab.research.google.com/github/jackson119/new_cifar_10/blob/main/new__cifar10_3(0.45).ipynb\" target=\"_parent\"><img src=\"https://colab.research.google.com/assets/colab-badge.svg\" alt=\"Open In Colab\"/></a>"
      ]
    },
    {
      "cell_type": "markdown",
      "metadata": {
        "id": "SGKXC7W7pnht"
      },
      "source": [
        "# Data Preprocessing"
      ]
    },
    {
      "cell_type": "code",
      "metadata": {
        "id": "91H4jfpypp4h"
      },
      "source": [
        "from tensorflow.keras.datasets import cifar10\n",
        "import numpy as np\n",
        "np.random.seed(10)"
      ],
      "execution_count": 8,
      "outputs": []
    },
    {
      "cell_type": "code",
      "metadata": {
        "id": "jrfbgEOdprAB",
        "colab": {
          "base_uri": "https://localhost:8080/"
        },
        "outputId": "06dcdf06-d436-4b73-8135-432530e51daf"
      },
      "source": [
        "(x_img_train,y_label_train),(x_img_test,y_label_test)=cifar10.load_data()"
      ],
      "execution_count": 9,
      "outputs": [
        {
          "output_type": "stream",
          "text": [
            "Downloading data from https://www.cs.toronto.edu/~kriz/cifar-10-python.tar.gz\n",
            "170500096/170498071 [==============================] - 2s 0us/step\n"
          ],
          "name": "stdout"
        }
      ]
    },
    {
      "cell_type": "code",
      "metadata": {
        "id": "Bv64ED30R18B",
        "colab": {
          "base_uri": "https://localhost:8080/"
        },
        "outputId": "04d87b85-f95d-4d60-800a-ce32a5038608"
      },
      "source": [
        "print(\"train data:\",\"images:\",x_img_train.shape,\"labels:\",y_label_train.shape)\n",
        "print(\"test data:\",\"images:\",x_img_test.shape,\"labels:\",y_label_test.shape)"
      ],
      "execution_count": 10,
      "outputs": [
        {
          "output_type": "stream",
          "text": [
            "train data: images: (50000, 32, 32, 3) labels: (50000, 1)\n",
            "test data: images: (10000, 32, 32, 3) labels: (10000, 1)\n"
          ],
          "name": "stdout"
        }
      ]
    },
    {
      "cell_type": "markdown",
      "metadata": {
        "id": "10BLqTKNSYKW"
      },
      "source": [
        "# standardize and perform one hot encoding"
      ]
    },
    {
      "cell_type": "code",
      "metadata": {
        "id": "_bdYalY-Sfva"
      },
      "source": [
        "x_img_train_normalize=x_img_train.astype('float32')/255.0\n",
        "x_img_test_normalize=x_img_test.astype('float32')/255.0"
      ],
      "execution_count": 11,
      "outputs": []
    },
    {
      "cell_type": "code",
      "metadata": {
        "id": "-7OJEuxpSpXX"
      },
      "source": [
        "from tensorflow.keras import utils"
      ],
      "execution_count": 12,
      "outputs": []
    },
    {
      "cell_type": "code",
      "metadata": {
        "id": "bvesDQfhSsmH"
      },
      "source": [
        "y_label_train_OneHot=utils.to_categorical(y_label_train)\n",
        "y_label_test_OneHot=utils.to_categorical(y_label_test)"
      ],
      "execution_count": 13,
      "outputs": []
    },
    {
      "cell_type": "markdown",
      "metadata": {
        "id": "DSmFxX9xSwCN"
      },
      "source": [
        "# Images and label"
      ]
    },
    {
      "cell_type": "code",
      "metadata": {
        "id": "6AshrU3USxld"
      },
      "source": [
        "label_dict={0:\"airplane\",1:\"automobile\",2:\"bird\",3:\"cat\",4:\"deer\",5:\"dog\",6:\"frog\",7:\"horse\",8:\"ship\",9:\"truck\"}"
      ],
      "execution_count": 14,
      "outputs": []
    },
    {
      "cell_type": "code",
      "metadata": {
        "id": "KADDqJmsSzCc"
      },
      "source": [
        "# Construct model\n",
        "from keras.models import Sequential\n",
        "from keras.layers import Dense,Dropout,Activation,Flatten\n",
        "from keras.layers import Conv2D,MaxPooling2D,ZeroPadding2D"
      ],
      "execution_count": 15,
      "outputs": []
    },
    {
      "cell_type": "code",
      "metadata": {
        "id": "2tUCpCqHS5sb"
      },
      "source": [
        "model=Sequential()"
      ],
      "execution_count": 16,
      "outputs": []
    },
    {
      "cell_type": "code",
      "metadata": {
        "id": "IP4YwNOFS62i"
      },
      "source": [
        "model.add(Conv2D(filters=32,kernel_size=(3,3),input_shape=(32,32,3),activation='relu',padding='same'))\n",
        "model.add(Dropout(0.45))\n",
        "model.add(Conv2D(filters=32,kernel_size=(3,3),activation='relu',padding='same'))\n",
        "model.add(MaxPooling2D(pool_size=(2,2)))"
      ],
      "execution_count": 17,
      "outputs": []
    },
    {
      "cell_type": "code",
      "metadata": {
        "id": "VrEsDZ3OYZv6"
      },
      "source": [
        "model.add(Conv2D(filters=64,kernel_size=(3,3),activation='relu',padding='same'))\n",
        "model.add(Dropout(0.45))\n",
        "model.add(Conv2D(filters=64,kernel_size=(3,3),activation='relu',padding='same'))\n",
        "model.add(MaxPooling2D(pool_size=(2,2)))"
      ],
      "execution_count": 18,
      "outputs": []
    },
    {
      "cell_type": "code",
      "metadata": {
        "id": "Lfbpty5kYwiH"
      },
      "source": [
        "model.add(Conv2D(filters=128,kernel_size=(3,3),activation='relu',padding='same'))\n",
        "model.add(Dropout(0.45))\n",
        "model.add(Conv2D(filters=128,kernel_size=(3,3),activation='relu',padding='same'))\n",
        "model.add(MaxPooling2D(pool_size=(2,2)))"
      ],
      "execution_count": 19,
      "outputs": []
    },
    {
      "cell_type": "code",
      "metadata": {
        "id": "YGEmb5pbZYhj"
      },
      "source": [
        "### neural network\n",
        "model.add(Flatten())\n",
        "model.add(Dropout(0.45))\n",
        "### hidden layer 1\n",
        "model.add(Dense(2500,activation='relu'))\n",
        "model.add(Dropout(0.45))\n",
        "### hidden layer 2\n",
        "model.add(Dense(1500,activation='relu'))\n",
        "model.add(Dropout(0.45))\n",
        "### output layer\n",
        "model.add(Dense(10,activation='softmax'))"
      ],
      "execution_count": 20,
      "outputs": []
    },
    {
      "cell_type": "code",
      "metadata": {
        "id": "2kjnUEYuZtK5",
        "colab": {
          "base_uri": "https://localhost:8080/"
        },
        "outputId": "bd9499b5-adc6-45c2-ed15-c9c1a51c267f"
      },
      "source": [
        "print(model.summary())"
      ],
      "execution_count": 21,
      "outputs": [
        {
          "output_type": "stream",
          "text": [
            "Model: \"sequential_1\"\n",
            "_________________________________________________________________\n",
            "Layer (type)                 Output Shape              Param #   \n",
            "=================================================================\n",
            "conv2d (Conv2D)              (None, 32, 32, 32)        896       \n",
            "_________________________________________________________________\n",
            "dropout (Dropout)            (None, 32, 32, 32)        0         \n",
            "_________________________________________________________________\n",
            "conv2d_1 (Conv2D)            (None, 32, 32, 32)        9248      \n",
            "_________________________________________________________________\n",
            "max_pooling2d (MaxPooling2D) (None, 16, 16, 32)        0         \n",
            "_________________________________________________________________\n",
            "conv2d_2 (Conv2D)            (None, 16, 16, 64)        18496     \n",
            "_________________________________________________________________\n",
            "dropout_1 (Dropout)          (None, 16, 16, 64)        0         \n",
            "_________________________________________________________________\n",
            "conv2d_3 (Conv2D)            (None, 16, 16, 64)        36928     \n",
            "_________________________________________________________________\n",
            "max_pooling2d_1 (MaxPooling2 (None, 8, 8, 64)          0         \n",
            "_________________________________________________________________\n",
            "conv2d_4 (Conv2D)            (None, 8, 8, 128)         73856     \n",
            "_________________________________________________________________\n",
            "dropout_2 (Dropout)          (None, 8, 8, 128)         0         \n",
            "_________________________________________________________________\n",
            "conv2d_5 (Conv2D)            (None, 8, 8, 128)         147584    \n",
            "_________________________________________________________________\n",
            "max_pooling2d_2 (MaxPooling2 (None, 4, 4, 128)         0         \n",
            "_________________________________________________________________\n",
            "flatten (Flatten)            (None, 2048)              0         \n",
            "_________________________________________________________________\n",
            "dropout_3 (Dropout)          (None, 2048)              0         \n",
            "_________________________________________________________________\n",
            "dense (Dense)                (None, 2500)              5122500   \n",
            "_________________________________________________________________\n",
            "dropout_4 (Dropout)          (None, 2500)              0         \n",
            "_________________________________________________________________\n",
            "dense_1 (Dense)              (None, 1500)              3751500   \n",
            "_________________________________________________________________\n",
            "dropout_5 (Dropout)          (None, 1500)              0         \n",
            "_________________________________________________________________\n",
            "dense_2 (Dense)              (None, 10)                15010     \n",
            "=================================================================\n",
            "Total params: 9,176,018\n",
            "Trainable params: 9,176,018\n",
            "Non-trainable params: 0\n",
            "_________________________________________________________________\n",
            "None\n"
          ],
          "name": "stdout"
        }
      ]
    },
    {
      "cell_type": "code",
      "metadata": {
        "colab": {
          "base_uri": "https://localhost:8080/"
        },
        "id": "j64CEumxZvDu",
        "outputId": "317d474e-2218-403b-be35-44f7b8e585af"
      },
      "source": [
        "model.compile(loss='categorical_crossentropy',optimizer='adam',metrics=['accuracy'])\n",
        "train_history=model.fit(x_img_train_normalize,y_label_train_OneHot,validation_split=0.2,epochs=50,batch_size=300,verbose=2)"
      ],
      "execution_count": 22,
      "outputs": [
        {
          "output_type": "stream",
          "text": [
            "Epoch 1/50\n",
            "134/134 - 38s - loss: 2.1360 - accuracy: 0.1896 - val_loss: 2.4261 - val_accuracy: 0.1613\n",
            "Epoch 2/50\n",
            "134/134 - 4s - loss: 1.6903 - accuracy: 0.3666 - val_loss: 2.0680 - val_accuracy: 0.2809\n",
            "Epoch 3/50\n",
            "134/134 - 4s - loss: 1.4626 - accuracy: 0.4619 - val_loss: 1.9697 - val_accuracy: 0.3468\n",
            "Epoch 4/50\n",
            "134/134 - 4s - loss: 1.3476 - accuracy: 0.5111 - val_loss: 1.8470 - val_accuracy: 0.3914\n",
            "Epoch 5/50\n",
            "134/134 - 4s - loss: 1.2545 - accuracy: 0.5459 - val_loss: 1.7371 - val_accuracy: 0.4315\n",
            "Epoch 6/50\n",
            "134/134 - 4s - loss: 1.1734 - accuracy: 0.5792 - val_loss: 1.4714 - val_accuracy: 0.5090\n",
            "Epoch 7/50\n",
            "134/134 - 4s - loss: 1.1029 - accuracy: 0.6040 - val_loss: 1.4162 - val_accuracy: 0.5281\n",
            "Epoch 8/50\n",
            "134/134 - 4s - loss: 1.0443 - accuracy: 0.6281 - val_loss: 1.4188 - val_accuracy: 0.5241\n",
            "Epoch 9/50\n",
            "134/134 - 4s - loss: 0.9994 - accuracy: 0.6459 - val_loss: 1.2723 - val_accuracy: 0.5730\n",
            "Epoch 10/50\n",
            "134/134 - 4s - loss: 0.9443 - accuracy: 0.6614 - val_loss: 1.3497 - val_accuracy: 0.5611\n",
            "Epoch 11/50\n",
            "134/134 - 4s - loss: 0.9177 - accuracy: 0.6742 - val_loss: 1.2313 - val_accuracy: 0.5970\n",
            "Epoch 12/50\n",
            "134/134 - 4s - loss: 0.8874 - accuracy: 0.6837 - val_loss: 1.2188 - val_accuracy: 0.5954\n",
            "Epoch 13/50\n",
            "134/134 - 4s - loss: 0.8444 - accuracy: 0.7023 - val_loss: 0.9297 - val_accuracy: 0.6779\n",
            "Epoch 14/50\n",
            "134/134 - 4s - loss: 0.8162 - accuracy: 0.7102 - val_loss: 0.9323 - val_accuracy: 0.6737\n",
            "Epoch 15/50\n",
            "134/134 - 4s - loss: 0.7940 - accuracy: 0.7193 - val_loss: 1.0293 - val_accuracy: 0.6578\n",
            "Epoch 16/50\n",
            "134/134 - 4s - loss: 0.7708 - accuracy: 0.7251 - val_loss: 1.0864 - val_accuracy: 0.6419\n",
            "Epoch 17/50\n",
            "134/134 - 4s - loss: 0.7420 - accuracy: 0.7377 - val_loss: 0.8940 - val_accuracy: 0.6971\n",
            "Epoch 18/50\n",
            "134/134 - 4s - loss: 0.7185 - accuracy: 0.7453 - val_loss: 0.9087 - val_accuracy: 0.6938\n",
            "Epoch 19/50\n",
            "134/134 - 4s - loss: 0.7016 - accuracy: 0.7512 - val_loss: 0.9026 - val_accuracy: 0.6927\n",
            "Epoch 20/50\n",
            "134/134 - 4s - loss: 0.6882 - accuracy: 0.7556 - val_loss: 0.8526 - val_accuracy: 0.7082\n",
            "Epoch 21/50\n",
            "134/134 - 4s - loss: 0.6721 - accuracy: 0.7606 - val_loss: 0.7475 - val_accuracy: 0.7388\n",
            "Epoch 22/50\n",
            "134/134 - 5s - loss: 0.6541 - accuracy: 0.7667 - val_loss: 0.9479 - val_accuracy: 0.6889\n",
            "Epoch 23/50\n",
            "134/134 - 5s - loss: 0.6473 - accuracy: 0.7694 - val_loss: 0.9945 - val_accuracy: 0.6753\n",
            "Epoch 24/50\n",
            "134/134 - 5s - loss: 0.6296 - accuracy: 0.7742 - val_loss: 0.9793 - val_accuracy: 0.6848\n",
            "Epoch 25/50\n",
            "134/134 - 5s - loss: 0.6159 - accuracy: 0.7796 - val_loss: 0.7890 - val_accuracy: 0.7284\n",
            "Epoch 26/50\n",
            "134/134 - 5s - loss: 0.6125 - accuracy: 0.7839 - val_loss: 0.8259 - val_accuracy: 0.7190\n",
            "Epoch 27/50\n",
            "134/134 - 5s - loss: 0.5986 - accuracy: 0.7878 - val_loss: 0.8105 - val_accuracy: 0.7256\n",
            "Epoch 28/50\n",
            "134/134 - 5s - loss: 0.5821 - accuracy: 0.7911 - val_loss: 0.7632 - val_accuracy: 0.7409\n",
            "Epoch 29/50\n",
            "134/134 - 5s - loss: 0.5794 - accuracy: 0.7944 - val_loss: 0.7750 - val_accuracy: 0.7403\n",
            "Epoch 30/50\n",
            "134/134 - 5s - loss: 0.5661 - accuracy: 0.7970 - val_loss: 0.7399 - val_accuracy: 0.7516\n",
            "Epoch 31/50\n",
            "134/134 - 5s - loss: 0.5543 - accuracy: 0.8041 - val_loss: 0.7666 - val_accuracy: 0.7438\n",
            "Epoch 32/50\n",
            "134/134 - 5s - loss: 0.5523 - accuracy: 0.8059 - val_loss: 0.7736 - val_accuracy: 0.7394\n",
            "Epoch 33/50\n",
            "134/134 - 5s - loss: 0.5356 - accuracy: 0.8084 - val_loss: 0.7507 - val_accuracy: 0.7437\n",
            "Epoch 34/50\n",
            "134/134 - 5s - loss: 0.5313 - accuracy: 0.8136 - val_loss: 0.7703 - val_accuracy: 0.7417\n",
            "Epoch 35/50\n",
            "134/134 - 5s - loss: 0.5131 - accuracy: 0.8153 - val_loss: 0.7712 - val_accuracy: 0.7423\n",
            "Epoch 36/50\n",
            "134/134 - 5s - loss: 0.5190 - accuracy: 0.8154 - val_loss: 0.6851 - val_accuracy: 0.7663\n",
            "Epoch 37/50\n",
            "134/134 - 5s - loss: 0.4950 - accuracy: 0.8242 - val_loss: 0.8141 - val_accuracy: 0.7362\n",
            "Epoch 38/50\n",
            "134/134 - 5s - loss: 0.4965 - accuracy: 0.8208 - val_loss: 0.7023 - val_accuracy: 0.7577\n",
            "Epoch 39/50\n",
            "134/134 - 5s - loss: 0.4920 - accuracy: 0.8238 - val_loss: 0.7366 - val_accuracy: 0.7514\n",
            "Epoch 40/50\n",
            "134/134 - 5s - loss: 0.4784 - accuracy: 0.8295 - val_loss: 0.7205 - val_accuracy: 0.7571\n",
            "Epoch 41/50\n",
            "134/134 - 5s - loss: 0.4893 - accuracy: 0.8239 - val_loss: 0.7017 - val_accuracy: 0.7622\n",
            "Epoch 42/50\n",
            "134/134 - 5s - loss: 0.4724 - accuracy: 0.8325 - val_loss: 0.7293 - val_accuracy: 0.7563\n",
            "Epoch 43/50\n",
            "134/134 - 5s - loss: 0.4748 - accuracy: 0.8311 - val_loss: 0.6952 - val_accuracy: 0.7644\n",
            "Epoch 44/50\n",
            "134/134 - 5s - loss: 0.4593 - accuracy: 0.8366 - val_loss: 0.6913 - val_accuracy: 0.7668\n",
            "Epoch 45/50\n",
            "134/134 - 5s - loss: 0.4590 - accuracy: 0.8367 - val_loss: 0.6931 - val_accuracy: 0.7698\n",
            "Epoch 46/50\n",
            "134/134 - 5s - loss: 0.4495 - accuracy: 0.8408 - val_loss: 0.7693 - val_accuracy: 0.7456\n",
            "Epoch 47/50\n",
            "134/134 - 5s - loss: 0.4554 - accuracy: 0.8378 - val_loss: 0.6892 - val_accuracy: 0.7683\n",
            "Epoch 48/50\n",
            "134/134 - 5s - loss: 0.4458 - accuracy: 0.8414 - val_loss: 0.7813 - val_accuracy: 0.7461\n",
            "Epoch 49/50\n",
            "134/134 - 5s - loss: 0.4315 - accuracy: 0.8474 - val_loss: 0.7068 - val_accuracy: 0.7635\n",
            "Epoch 50/50\n",
            "134/134 - 5s - loss: 0.4297 - accuracy: 0.8458 - val_loss: 0.7084 - val_accuracy: 0.7655\n"
          ],
          "name": "stdout"
        }
      ]
    },
    {
      "cell_type": "code",
      "metadata": {
        "id": "rzLTGAOzZ7zi"
      },
      "source": [
        "from matplotlib import pyplot as plt\n",
        "def show_train_history(train_history,train,validation):\n",
        "  plt.plot(train_history.history[train])\n",
        "  plt.plot(train_history.history[validation])\n",
        "  plt.title('Train History')\n",
        "  plt.ylabel('train')\n",
        "  plt.xlabel('Epoch')\n",
        "  plt.legend(['train','validation'],loc='upper left')\n",
        "  plt.show()"
      ],
      "execution_count": 23,
      "outputs": []
    },
    {
      "cell_type": "code",
      "metadata": {
        "colab": {
          "base_uri": "https://localhost:8080/",
          "height": 295
        },
        "id": "FliqaslyfUOd",
        "outputId": "5bbde79a-ac7a-4a3d-e6b8-22ca721e8b35"
      },
      "source": [
        "show_train_history(train_history,'accuracy','val_accuracy')"
      ],
      "execution_count": 24,
      "outputs": [
        {
          "output_type": "display_data",
          "data": {
            "image/png": "[encoded data removed]",
            "text/plain": [
              "<Figure size 432x288 with 1 Axes>"
            ]
          },
          "metadata": {
            "tags": [],
            "needs_background": "light"
          }
        }
      ]
    },
    {
      "cell_type": "code",
      "metadata": {
        "colab": {
          "base_uri": "https://localhost:8080/",
          "height": 295
        },
        "id": "CLUnjiW4fbvQ",
        "outputId": "1c9dbcda-c3bc-4403-ada6-f3532499c20c"
      },
      "source": [
        "show_train_history(train_history,'loss','val_loss')"
      ],
      "execution_count": 25,
      "outputs": [
        {
          "output_type": "display_data",
          "data": {
            "image/png": "[encoded data removed]",
            "text/plain": [
              "<Figure size 432x288 with 1 Axes>"
            ]
          },
          "metadata": {
            "tags": [],
            "needs_background": "light"
          }
        }
      ]
    },
    {
      "cell_type": "code",
      "metadata": {
        "id": "J5uBX8IWgmJ8"
      },
      "source": [
        "### estimate model accuracy"
      ],
      "execution_count": 26,
      "outputs": []
    },
    {
      "cell_type": "code",
      "metadata": {
        "id": "CNqM3qWAgmRX"
      },
      "source": [
        "scores=model.evaluate(x_img_test_normalize,y_label_test_OneHot,verbose=0)"
      ],
      "execution_count": 27,
      "outputs": []
    },
    {
      "cell_type": "code",
      "metadata": {
        "colab": {
          "base_uri": "https://localhost:8080/"
        },
        "id": "cLAn9V1ogrBf",
        "outputId": "6a31d09f-3758-4ab6-912e-d9b31785dfb9"
      },
      "source": [
        "print(f'Test loss: {scores[0]} / Test accuracy: {scores[1]}')"
      ],
      "execution_count": 28,
      "outputs": [
        {
          "output_type": "stream",
          "text": [
            "Test loss: 0.7076915502548218 / Test accuracy: 0.7648000121116638\n"
          ],
          "name": "stdout"
        }
      ]
    },
    {
      "cell_type": "code",
      "metadata": {
        "colab": {
          "base_uri": "https://localhost:8080/"
        },
        "id": "UNRhGtVugvNM",
        "outputId": "7b2e29b9-0edb-48d0-9564-b2c78a7a65d6"
      },
      "source": [
        "prediction=model.predict_classes(x_img_test_normalize) ### prediction"
      ],
      "execution_count": 29,
      "outputs": [
        {
          "output_type": "stream",
          "text": [
            "/usr/local/lib/python3.7/dist-packages/tensorflow/python/keras/engine/sequential.py:450: UserWarning: `model.predict_classes()` is deprecated and will be removed after 2021-01-01. Please use instead:* `np.argmax(model.predict(x), axis=-1)`,   if your model does multi-class classification   (e.g. if it uses a `softmax` last-layer activation).* `(model.predict(x) > 0.5).astype(\"int32\")`,   if your model does binary classification   (e.g. if it uses a `sigmoid` last-layer activation).\n",
            "  warnings.warn('`model.predict_classes()` is deprecated and '\n"
          ],
          "name": "stderr"
        }
      ]
    },
    {
      "cell_type": "code",
      "metadata": {
        "colab": {
          "base_uri": "https://localhost:8080/"
        },
        "id": "e9dj4EcTkNPd",
        "outputId": "b50d1527-9743-49ca-a08c-29e58491a1f8"
      },
      "source": [
        "prediction"
      ],
      "execution_count": 30,
      "outputs": [
        {
          "output_type": "execute_result",
          "data": {
            "text/plain": [
              "array([3, 8, 8, ..., 5, 1, 7])"
            ]
          },
          "metadata": {
            "tags": []
          },
          "execution_count": 30
        }
      ]
    },
    {
      "cell_type": "code",
      "metadata": {
        "id": "ii4zLAJNgz_w"
      },
      "source": [
        "def plot_images_labels_prediction(images,labels,prediction,idx,num=10):\n",
        "  fig=plt.gcf()\n",
        "  fig.set_size_inches(12,14)\n",
        "  if num>25:num=25\n",
        "  for i in range(0,num):\n",
        "    ax=plt.subplot(5,5,1+i)\n",
        "    ax.imshow(images[idx],cmap='binary')\n",
        "    title=str(i) +',' +label_dict[labels[i][0]]\n",
        "    if len(prediction)>0:\n",
        "      title+='=>'+label_dict[prediction[i]]\n",
        "    ax.set_title(title,fontsize=10)\n",
        "    ax.set_xticks([]);ax.set_yticks([])\n",
        "    idx+=1\n",
        "  plt.show()"
      ],
      "execution_count": 31,
      "outputs": []
    },
    {
      "cell_type": "code",
      "metadata": {
        "colab": {
          "base_uri": "https://localhost:8080/",
          "height": 321
        },
        "id": "Ss7dd8dJg2UX",
        "outputId": "90205839-6f28-4c59-af40-6f8ef5e6e215"
      },
      "source": [
        "plot_images_labels_prediction(x_img_test,y_label_test,prediction,0,10)"
      ],
      "execution_count": 32,
      "outputs": [
        {
          "output_type": "display_data",
          "data": {
            "image/png": "[encoded data removed]",
            "text/plain": [
              "<Figure size 864x1008 with 10 Axes>"
            ]
          },
          "metadata": {
            "tags": []
          }
        }
      ]
    },
    {
      "cell_type": "code",
      "metadata": {
        "id": "PpPOXOuZg6wp"
      },
      "source": [
        "# check for prediction rate\n",
        "predicted_Probability=model.predict(x_img_test_normalize)"
      ],
      "execution_count": 33,
      "outputs": []
    },
    {
      "cell_type": "code",
      "metadata": {
        "id": "ykuUEDYlg_vY"
      },
      "source": [
        "def show_predicted_probability(y,prediction,x_img,predicted_Probability,i):\n",
        "  print('label:',label_dict[y[i][0]],\n",
        "        'predict',label_dict[prediction[i]])\n",
        "  plt.figure(figsize=(2,2))\n",
        "  plt.imshow(np.reshape(x_img_test[i],(32,32,3)))\n",
        "  plt.show()\n",
        "  for j in range(10):\n",
        "    print(label_dict[j]+ ' probability:%1.9f'%(predicted_Probability[i][j]))\n"
      ],
      "execution_count": 34,
      "outputs": []
    },
    {
      "cell_type": "code",
      "metadata": {
        "colab": {
          "base_uri": "https://localhost:8080/",
          "height": 355
        },
        "id": "EDAw57mNhCGo",
        "outputId": "fa76ea69-b302-41f9-cfc3-98a1554cda0a"
      },
      "source": [
        "show_predicted_probability(y_label_test,prediction,x_img_test,predicted_Probability,0)"
      ],
      "execution_count": 35,
      "outputs": [
        {
          "output_type": "stream",
          "text": [
            "label: cat predict cat\n"
          ],
          "name": "stdout"
        },
        {
          "output_type": "display_data",
          "data": {
            "image/png": "[encoded data removed]",
            "text/plain": [
              "<Figure size 144x144 with 1 Axes>"
            ]
          },
          "metadata": {
            "tags": [],
            "needs_background": "light"
          }
        },
        {
          "output_type": "stream",
          "text": [
            "airplane probability:0.000069610\n",
            "automobile probability:0.000091094\n",
            "bird probability:0.002377484\n",
            "cat probability:0.653345227\n",
            "deer probability:0.004193285\n",
            "dog probability:0.285854876\n",
            "frog probability:0.052607838\n",
            "horse probability:0.000809900\n",
            "ship probability:0.000102458\n",
            "truck probability:0.000548223\n"
          ],
          "name": "stdout"
        }
      ]
    },
    {
      "cell_type": "markdown",
      "metadata": {
        "id": "N5rt2fK5fntZ"
      },
      "source": [
        "#Confusion matrix"
      ]
    },
    {
      "cell_type": "code",
      "metadata": {
        "id": "TjlrqQgShBjE"
      },
      "source": [
        "import pandas as pd"
      ],
      "execution_count": 36,
      "outputs": []
    },
    {
      "cell_type": "code",
      "metadata": {
        "colab": {
          "base_uri": "https://localhost:8080/",
          "height": 370
        },
        "id": "vD-agaQbfqVp",
        "outputId": "acc8c45c-13b5-4795-893e-f4d4e5caf6ba"
      },
      "source": [
        "pd.crosstab(y_label_test.reshape(-1),prediction,rownames=['label'],colnames=['predict'])"
      ],
      "execution_count": 37,
      "outputs": [
        {
          "output_type": "execute_result",
          "data": {
            "text/html": [
              "<div>\n",
              "<style scoped>\n",
              "    .dataframe tbody tr th:only-of-type {\n",
              "        vertical-align: middle;\n",
              "    }\n",
              "\n",
              "    .dataframe tbody tr th {\n",
              "        vertical-align: top;\n",
              "    }\n",
              "\n",
              "    .dataframe thead th {\n",
              "        text-align: right;\n",
              "    }\n",
              "</style>\n",
              "<table border=\"1\" class=\"dataframe\">\n",
              "  <thead>\n",
              "    <tr style=\"text-align: right;\">\n",
              "      <th>predict</th>\n",
              "      <th>0</th>\n",
              "      <th>1</th>\n",
              "      <th>2</th>\n",
              "      <th>3</th>\n",
              "      <th>4</th>\n",
              "      <th>5</th>\n",
              "      <th>6</th>\n",
              "      <th>7</th>\n",
              "      <th>8</th>\n",
              "      <th>9</th>\n",
              "    </tr>\n",
              "    <tr>\n",
              "      <th>label</th>\n",
              "      <th></th>\n",
              "      <th></th>\n",
              "      <th></th>\n",
              "      <th></th>\n",
              "      <th></th>\n",
              "      <th></th>\n",
              "      <th></th>\n",
              "      <th></th>\n",
              "      <th></th>\n",
              "      <th></th>\n",
              "    </tr>\n",
              "  </thead>\n",
              "  <tbody>\n",
              "    <tr>\n",
              "      <th>0</th>\n",
              "      <td>718</td>\n",
              "      <td>2</td>\n",
              "      <td>80</td>\n",
              "      <td>39</td>\n",
              "      <td>37</td>\n",
              "      <td>4</td>\n",
              "      <td>25</td>\n",
              "      <td>10</td>\n",
              "      <td>68</td>\n",
              "      <td>17</td>\n",
              "    </tr>\n",
              "    <tr>\n",
              "      <th>1</th>\n",
              "      <td>9</td>\n",
              "      <td>828</td>\n",
              "      <td>9</td>\n",
              "      <td>14</td>\n",
              "      <td>8</td>\n",
              "      <td>4</td>\n",
              "      <td>33</td>\n",
              "      <td>2</td>\n",
              "      <td>40</td>\n",
              "      <td>53</td>\n",
              "    </tr>\n",
              "    <tr>\n",
              "      <th>2</th>\n",
              "      <td>33</td>\n",
              "      <td>0</td>\n",
              "      <td>726</td>\n",
              "      <td>42</td>\n",
              "      <td>93</td>\n",
              "      <td>22</td>\n",
              "      <td>68</td>\n",
              "      <td>10</td>\n",
              "      <td>6</td>\n",
              "      <td>0</td>\n",
              "    </tr>\n",
              "    <tr>\n",
              "      <th>3</th>\n",
              "      <td>2</td>\n",
              "      <td>0</td>\n",
              "      <td>81</td>\n",
              "      <td>629</td>\n",
              "      <td>92</td>\n",
              "      <td>78</td>\n",
              "      <td>97</td>\n",
              "      <td>21</td>\n",
              "      <td>0</td>\n",
              "      <td>0</td>\n",
              "    </tr>\n",
              "    <tr>\n",
              "      <th>4</th>\n",
              "      <td>0</td>\n",
              "      <td>0</td>\n",
              "      <td>50</td>\n",
              "      <td>41</td>\n",
              "      <td>841</td>\n",
              "      <td>6</td>\n",
              "      <td>37</td>\n",
              "      <td>24</td>\n",
              "      <td>1</td>\n",
              "      <td>0</td>\n",
              "    </tr>\n",
              "    <tr>\n",
              "      <th>5</th>\n",
              "      <td>1</td>\n",
              "      <td>0</td>\n",
              "      <td>67</td>\n",
              "      <td>230</td>\n",
              "      <td>80</td>\n",
              "      <td>569</td>\n",
              "      <td>33</td>\n",
              "      <td>19</td>\n",
              "      <td>0</td>\n",
              "      <td>1</td>\n",
              "    </tr>\n",
              "    <tr>\n",
              "      <th>6</th>\n",
              "      <td>1</td>\n",
              "      <td>0</td>\n",
              "      <td>35</td>\n",
              "      <td>33</td>\n",
              "      <td>32</td>\n",
              "      <td>5</td>\n",
              "      <td>893</td>\n",
              "      <td>0</td>\n",
              "      <td>1</td>\n",
              "      <td>0</td>\n",
              "    </tr>\n",
              "    <tr>\n",
              "      <th>7</th>\n",
              "      <td>2</td>\n",
              "      <td>0</td>\n",
              "      <td>34</td>\n",
              "      <td>49</td>\n",
              "      <td>116</td>\n",
              "      <td>32</td>\n",
              "      <td>9</td>\n",
              "      <td>758</td>\n",
              "      <td>0</td>\n",
              "      <td>0</td>\n",
              "    </tr>\n",
              "    <tr>\n",
              "      <th>8</th>\n",
              "      <td>22</td>\n",
              "      <td>3</td>\n",
              "      <td>29</td>\n",
              "      <td>31</td>\n",
              "      <td>13</td>\n",
              "      <td>3</td>\n",
              "      <td>29</td>\n",
              "      <td>2</td>\n",
              "      <td>859</td>\n",
              "      <td>9</td>\n",
              "    </tr>\n",
              "    <tr>\n",
              "      <th>9</th>\n",
              "      <td>12</td>\n",
              "      <td>33</td>\n",
              "      <td>17</td>\n",
              "      <td>32</td>\n",
              "      <td>11</td>\n",
              "      <td>9</td>\n",
              "      <td>28</td>\n",
              "      <td>14</td>\n",
              "      <td>17</td>\n",
              "      <td>827</td>\n",
              "    </tr>\n",
              "  </tbody>\n",
              "</table>\n",
              "</div>"
            ],
            "text/plain": [
              "predict    0    1    2    3    4    5    6    7    8    9\n",
              "label                                                    \n",
              "0        718    2   80   39   37    4   25   10   68   17\n",
              "1          9  828    9   14    8    4   33    2   40   53\n",
              "2         33    0  726   42   93   22   68   10    6    0\n",
              "3          2    0   81  629   92   78   97   21    0    0\n",
              "4          0    0   50   41  841    6   37   24    1    0\n",
              "5          1    0   67  230   80  569   33   19    0    1\n",
              "6          1    0   35   33   32    5  893    0    1    0\n",
              "7          2    0   34   49  116   32    9  758    0    0\n",
              "8         22    3   29   31   13    3   29    2  859    9\n",
              "9         12   33   17   32   11    9   28   14   17  827"
            ]
          },
          "metadata": {
            "tags": []
          },
          "execution_count": 37
        }
      ]
    },
    {
      "cell_type": "code",
      "metadata": {
        "id": "mvxedLAxgTfS"
      },
      "source": [
        ""
      ],
      "execution_count": null,
      "outputs": []
    },
    {
      "cell_type": "code",
      "metadata": {
        "id": "qddPJ9HX40o8"
      },
      "source": [
        ""
      ],
      "execution_count": null,
      "outputs": []
    }
  ]
}