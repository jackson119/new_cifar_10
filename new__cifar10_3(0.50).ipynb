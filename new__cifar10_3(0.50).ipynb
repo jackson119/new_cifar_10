{
  "nbformat": 4,
  "nbformat_minor": 0,
  "metadata": {
    "accelerator": "GPU",
    "colab": {
      "name": "new_ cifar10_3(0.50).ipynb",
      "provenance": [],
      "collapsed_sections": [
        "N5rt2fK5fntZ"
      ],
      "authorship_tag": "ABX9TyP/E8cg731t7Vb7sinkMuwf",
      "include_colab_link": true
    },
    "kernelspec": {
      "display_name": "Python 3",
      "name": "python3"
    },
    "language_info": {
      "name": "python"
    }
  },
  "cells": [
    {
      "cell_type": "markdown",
      "metadata": {
        "id": "view-in-github",
        "colab_type": "text"
      },
      "source": [
        "<a href=\"https://colab.research.google.com/github/jackson119/new_cifar_10/blob/main/new__cifar10_3(0.50).ipynb\" target=\"_parent\"><img src=\"https://colab.research.google.com/assets/colab-badge.svg\" alt=\"Open In Colab\"/></a>"
      ]
    },
    {
      "cell_type": "markdown",
      "metadata": {
        "id": "SGKXC7W7pnht"
      },
      "source": [
        "# Data Preprocessing"
      ]
    },
    {
      "cell_type": "code",
      "metadata": {
        "id": "91H4jfpypp4h"
      },
      "source": [
        "from tensorflow.keras.datasets import cifar10\n",
        "import numpy as np\n",
        "np.random.seed(10)"
      ],
      "execution_count": 1,
      "outputs": []
    },
    {
      "cell_type": "code",
      "metadata": {
        "id": "jrfbgEOdprAB",
        "colab": {
          "base_uri": "https://localhost:8080/"
        },
        "outputId": "ec002927-8870-4126-8eac-dccefc5cdea7"
      },
      "source": [
        "(x_img_train,y_label_train),(x_img_test,y_label_test)=cifar10.load_data()"
      ],
      "execution_count": 2,
      "outputs": [
        {
          "output_type": "stream",
          "text": [
            "Downloading data from https://www.cs.toronto.edu/~kriz/cifar-10-python.tar.gz\n",
            "170500096/170498071 [==============================] - 2s 0us/step\n"
          ],
          "name": "stdout"
        }
      ]
    },
    {
      "cell_type": "code",
      "metadata": {
        "id": "Bv64ED30R18B",
        "colab": {
          "base_uri": "https://localhost:8080/"
        },
        "outputId": "336f8e36-ff03-498b-c66d-1dc9466f8d6d"
      },
      "source": [
        "print(\"train data:\",\"images:\",x_img_train.shape,\"labels:\",y_label_train.shape)\n",
        "print(\"test data:\",\"images:\",x_img_test.shape,\"labels:\",y_label_test.shape)"
      ],
      "execution_count": 3,
      "outputs": [
        {
          "output_type": "stream",
          "text": [
            "train data: images: (50000, 32, 32, 3) labels: (50000, 1)\n",
            "test data: images: (10000, 32, 32, 3) labels: (10000, 1)\n"
          ],
          "name": "stdout"
        }
      ]
    },
    {
      "cell_type": "markdown",
      "metadata": {
        "id": "10BLqTKNSYKW"
      },
      "source": [
        "# standardize and perform one hot encoding"
      ]
    },
    {
      "cell_type": "code",
      "metadata": {
        "id": "_bdYalY-Sfva"
      },
      "source": [
        "x_img_train_normalize=x_img_train.astype('float32')/255.0\n",
        "x_img_test_normalize=x_img_test.astype('float32')/255.0"
      ],
      "execution_count": 4,
      "outputs": []
    },
    {
      "cell_type": "code",
      "metadata": {
        "id": "-7OJEuxpSpXX"
      },
      "source": [
        "from tensorflow.keras import utils"
      ],
      "execution_count": 5,
      "outputs": []
    },
    {
      "cell_type": "code",
      "metadata": {
        "id": "bvesDQfhSsmH"
      },
      "source": [
        "y_label_train_OneHot=utils.to_categorical(y_label_train)\n",
        "y_label_test_OneHot=utils.to_categorical(y_label_test)"
      ],
      "execution_count": 6,
      "outputs": []
    },
    {
      "cell_type": "markdown",
      "metadata": {
        "id": "DSmFxX9xSwCN"
      },
      "source": [
        "# Images and label"
      ]
    },
    {
      "cell_type": "code",
      "metadata": {
        "id": "6AshrU3USxld"
      },
      "source": [
        "label_dict={0:\"airplane\",1:\"automobile\",2:\"bird\",3:\"cat\",4:\"deer\",5:\"dog\",6:\"frog\",7:\"horse\",8:\"ship\",9:\"truck\"}"
      ],
      "execution_count": 7,
      "outputs": []
    },
    {
      "cell_type": "code",
      "metadata": {
        "id": "KADDqJmsSzCc"
      },
      "source": [
        "# Construct model\n",
        "from keras.models import Sequential\n",
        "from keras.layers import Dense,Dropout,Activation,Flatten\n",
        "from keras.layers import Conv2D,MaxPooling2D,ZeroPadding2D"
      ],
      "execution_count": 8,
      "outputs": []
    },
    {
      "cell_type": "code",
      "metadata": {
        "id": "2tUCpCqHS5sb"
      },
      "source": [
        "model=Sequential()"
      ],
      "execution_count": 9,
      "outputs": []
    },
    {
      "cell_type": "code",
      "metadata": {
        "id": "IP4YwNOFS62i"
      },
      "source": [
        "model.add(Conv2D(filters=32,kernel_size=(3,3),input_shape=(32,32,3),activation='relu',padding='same'))\n",
        "model.add(Dropout(0.50))\n",
        "model.add(Conv2D(filters=32,kernel_size=(3,3),activation='relu',padding='same'))\n",
        "model.add(MaxPooling2D(pool_size=(2,2)))"
      ],
      "execution_count": 10,
      "outputs": []
    },
    {
      "cell_type": "code",
      "metadata": {
        "id": "VrEsDZ3OYZv6"
      },
      "source": [
        "model.add(Conv2D(filters=64,kernel_size=(3,3),activation='relu',padding='same'))\n",
        "model.add(Dropout(0.50))\n",
        "model.add(Conv2D(filters=64,kernel_size=(3,3),activation='relu',padding='same'))\n",
        "model.add(MaxPooling2D(pool_size=(2,2)))"
      ],
      "execution_count": 11,
      "outputs": []
    },
    {
      "cell_type": "code",
      "metadata": {
        "id": "Lfbpty5kYwiH"
      },
      "source": [
        "model.add(Conv2D(filters=128,kernel_size=(3,3),activation='relu',padding='same'))\n",
        "model.add(Dropout(0.50))\n",
        "model.add(Conv2D(filters=128,kernel_size=(3,3),activation='relu',padding='same'))\n",
        "model.add(MaxPooling2D(pool_size=(2,2)))"
      ],
      "execution_count": 12,
      "outputs": []
    },
    {
      "cell_type": "code",
      "metadata": {
        "id": "YGEmb5pbZYhj"
      },
      "source": [
        "### neural network\n",
        "model.add(Flatten())\n",
        "model.add(Dropout(0.50))\n",
        "### hidden layer 1\n",
        "model.add(Dense(2500,activation='relu'))\n",
        "model.add(Dropout(0.50))\n",
        "### hidden layer 2\n",
        "model.add(Dense(1500,activation='relu'))\n",
        "model.add(Dropout(0.50))\n",
        "### output layer\n",
        "model.add(Dense(10,activation='softmax'))"
      ],
      "execution_count": 13,
      "outputs": []
    },
    {
      "cell_type": "code",
      "metadata": {
        "id": "2kjnUEYuZtK5",
        "colab": {
          "base_uri": "https://localhost:8080/"
        },
        "outputId": "8f48d981-15f5-4ece-a45d-f5043c4455b4"
      },
      "source": [
        "print(model.summary())"
      ],
      "execution_count": 14,
      "outputs": [
        {
          "output_type": "stream",
          "text": [
            "Model: \"sequential\"\n",
            "_________________________________________________________________\n",
            "Layer (type)                 Output Shape              Param #   \n",
            "=================================================================\n",
            "conv2d (Conv2D)              (None, 32, 32, 32)        896       \n",
            "_________________________________________________________________\n",
            "dropout (Dropout)            (None, 32, 32, 32)        0         \n",
            "_________________________________________________________________\n",
            "conv2d_1 (Conv2D)            (None, 32, 32, 32)        9248      \n",
            "_________________________________________________________________\n",
            "max_pooling2d (MaxPooling2D) (None, 16, 16, 32)        0         \n",
            "_________________________________________________________________\n",
            "conv2d_2 (Conv2D)            (None, 16, 16, 64)        18496     \n",
            "_________________________________________________________________\n",
            "dropout_1 (Dropout)          (None, 16, 16, 64)        0         \n",
            "_________________________________________________________________\n",
            "conv2d_3 (Conv2D)            (None, 16, 16, 64)        36928     \n",
            "_________________________________________________________________\n",
            "max_pooling2d_1 (MaxPooling2 (None, 8, 8, 64)          0         \n",
            "_________________________________________________________________\n",
            "conv2d_4 (Conv2D)            (None, 8, 8, 128)         73856     \n",
            "_________________________________________________________________\n",
            "dropout_2 (Dropout)          (None, 8, 8, 128)         0         \n",
            "_________________________________________________________________\n",
            "conv2d_5 (Conv2D)            (None, 8, 8, 128)         147584    \n",
            "_________________________________________________________________\n",
            "max_pooling2d_2 (MaxPooling2 (None, 4, 4, 128)         0         \n",
            "_________________________________________________________________\n",
            "flatten (Flatten)            (None, 2048)              0         \n",
            "_________________________________________________________________\n",
            "dropout_3 (Dropout)          (None, 2048)              0         \n",
            "_________________________________________________________________\n",
            "dense (Dense)                (None, 2500)              5122500   \n",
            "_________________________________________________________________\n",
            "dropout_4 (Dropout)          (None, 2500)              0         \n",
            "_________________________________________________________________\n",
            "dense_1 (Dense)              (None, 1500)              3751500   \n",
            "_________________________________________________________________\n",
            "dropout_5 (Dropout)          (None, 1500)              0         \n",
            "_________________________________________________________________\n",
            "dense_2 (Dense)              (None, 10)                15010     \n",
            "=================================================================\n",
            "Total params: 9,176,018\n",
            "Trainable params: 9,176,018\n",
            "Non-trainable params: 0\n",
            "_________________________________________________________________\n",
            "None\n"
          ],
          "name": "stdout"
        }
      ]
    },
    {
      "cell_type": "code",
      "metadata": {
        "colab": {
          "base_uri": "https://localhost:8080/"
        },
        "id": "j64CEumxZvDu",
        "outputId": "0391114c-9e1c-461b-cd52-1364d7b4045e"
      },
      "source": [
        "model.compile(loss='categorical_crossentropy',optimizer='adam',metrics=['accuracy'])\n",
        "train_history=model.fit(x_img_train_normalize,y_label_train_OneHot,validation_split=0.2,epochs=50,batch_size=300,verbose=2)"
      ],
      "execution_count": 15,
      "outputs": [
        {
          "output_type": "stream",
          "text": [
            "Epoch 1/50\n",
            "134/134 - 39s - loss: 2.0184 - accuracy: 0.2418 - val_loss: 2.4987 - val_accuracy: 0.1511\n",
            "Epoch 2/50\n",
            "134/134 - 4s - loss: 1.6792 - accuracy: 0.3765 - val_loss: 1.9402 - val_accuracy: 0.3078\n",
            "Epoch 3/50\n",
            "134/134 - 4s - loss: 1.4942 - accuracy: 0.4469 - val_loss: 2.2131 - val_accuracy: 0.2832\n",
            "Epoch 4/50\n",
            "134/134 - 4s - loss: 1.3996 - accuracy: 0.4855 - val_loss: 1.5714 - val_accuracy: 0.4408\n",
            "Epoch 5/50\n",
            "134/134 - 4s - loss: 1.3215 - accuracy: 0.5210 - val_loss: 1.8710 - val_accuracy: 0.3796\n",
            "Epoch 6/50\n",
            "134/134 - 4s - loss: 1.2652 - accuracy: 0.5428 - val_loss: 1.5749 - val_accuracy: 0.4379\n",
            "Epoch 7/50\n",
            "134/134 - 4s - loss: 1.1927 - accuracy: 0.5697 - val_loss: 1.4735 - val_accuracy: 0.4893\n",
            "Epoch 8/50\n",
            "134/134 - 4s - loss: 1.1574 - accuracy: 0.5853 - val_loss: 1.3334 - val_accuracy: 0.5273\n",
            "Epoch 9/50\n",
            "134/134 - 4s - loss: 1.1169 - accuracy: 0.6015 - val_loss: 1.2628 - val_accuracy: 0.5579\n",
            "Epoch 10/50\n",
            "134/134 - 4s - loss: 1.0657 - accuracy: 0.6166 - val_loss: 1.3177 - val_accuracy: 0.5464\n",
            "Epoch 11/50\n",
            "134/134 - 5s - loss: 1.0245 - accuracy: 0.6335 - val_loss: 1.2490 - val_accuracy: 0.5785\n",
            "Epoch 12/50\n",
            "134/134 - 5s - loss: 0.9879 - accuracy: 0.6471 - val_loss: 1.2780 - val_accuracy: 0.5696\n",
            "Epoch 13/50\n",
            "134/134 - 5s - loss: 0.9601 - accuracy: 0.6574 - val_loss: 1.0718 - val_accuracy: 0.6242\n",
            "Epoch 14/50\n",
            "134/134 - 5s - loss: 0.9385 - accuracy: 0.6657 - val_loss: 1.0577 - val_accuracy: 0.6269\n",
            "Epoch 15/50\n",
            "134/134 - 5s - loss: 0.9127 - accuracy: 0.6745 - val_loss: 1.0051 - val_accuracy: 0.6464\n",
            "Epoch 16/50\n",
            "134/134 - 5s - loss: 0.8946 - accuracy: 0.6805 - val_loss: 0.9450 - val_accuracy: 0.6629\n",
            "Epoch 17/50\n",
            "134/134 - 5s - loss: 0.8701 - accuracy: 0.6895 - val_loss: 0.9480 - val_accuracy: 0.6689\n",
            "Epoch 18/50\n",
            "134/134 - 5s - loss: 0.8397 - accuracy: 0.7024 - val_loss: 1.0083 - val_accuracy: 0.6448\n",
            "Epoch 19/50\n",
            "134/134 - 5s - loss: 0.8308 - accuracy: 0.7082 - val_loss: 1.0153 - val_accuracy: 0.6578\n",
            "Epoch 20/50\n",
            "134/134 - 5s - loss: 0.8111 - accuracy: 0.7129 - val_loss: 0.8627 - val_accuracy: 0.7019\n",
            "Epoch 21/50\n",
            "134/134 - 5s - loss: 0.7976 - accuracy: 0.7174 - val_loss: 0.9225 - val_accuracy: 0.6889\n",
            "Epoch 22/50\n",
            "134/134 - 5s - loss: 0.7769 - accuracy: 0.7243 - val_loss: 0.9289 - val_accuracy: 0.6857\n",
            "Epoch 23/50\n",
            "134/134 - 5s - loss: 0.7616 - accuracy: 0.7306 - val_loss: 0.9278 - val_accuracy: 0.6780\n",
            "Epoch 24/50\n",
            "134/134 - 5s - loss: 0.7598 - accuracy: 0.7292 - val_loss: 0.8044 - val_accuracy: 0.7208\n",
            "Epoch 25/50\n",
            "134/134 - 5s - loss: 0.7478 - accuracy: 0.7348 - val_loss: 0.8365 - val_accuracy: 0.7144\n",
            "Epoch 26/50\n",
            "134/134 - 5s - loss: 0.7293 - accuracy: 0.7395 - val_loss: 0.8625 - val_accuracy: 0.7076\n",
            "Epoch 27/50\n",
            "134/134 - 5s - loss: 0.7134 - accuracy: 0.7481 - val_loss: 0.7700 - val_accuracy: 0.7373\n",
            "Epoch 28/50\n",
            "134/134 - 5s - loss: 0.7041 - accuracy: 0.7513 - val_loss: 0.8013 - val_accuracy: 0.7239\n",
            "Epoch 29/50\n",
            "134/134 - 5s - loss: 0.6959 - accuracy: 0.7537 - val_loss: 0.7517 - val_accuracy: 0.7457\n",
            "Epoch 30/50\n",
            "134/134 - 5s - loss: 0.6853 - accuracy: 0.7570 - val_loss: 0.7625 - val_accuracy: 0.7377\n",
            "Epoch 31/50\n",
            "134/134 - 5s - loss: 0.6788 - accuracy: 0.7602 - val_loss: 0.7769 - val_accuracy: 0.7288\n",
            "Epoch 32/50\n",
            "134/134 - 5s - loss: 0.6625 - accuracy: 0.7641 - val_loss: 0.7526 - val_accuracy: 0.7435\n",
            "Epoch 33/50\n",
            "134/134 - 5s - loss: 0.6583 - accuracy: 0.7682 - val_loss: 0.7901 - val_accuracy: 0.7300\n",
            "Epoch 34/50\n",
            "134/134 - 5s - loss: 0.6570 - accuracy: 0.7685 - val_loss: 0.7306 - val_accuracy: 0.7502\n",
            "Epoch 35/50\n",
            "134/134 - 5s - loss: 0.6477 - accuracy: 0.7713 - val_loss: 0.6979 - val_accuracy: 0.7585\n",
            "Epoch 36/50\n",
            "134/134 - 5s - loss: 0.6427 - accuracy: 0.7716 - val_loss: 0.7562 - val_accuracy: 0.7443\n",
            "Epoch 37/50\n",
            "134/134 - 5s - loss: 0.6314 - accuracy: 0.7763 - val_loss: 0.7332 - val_accuracy: 0.7505\n",
            "Epoch 38/50\n",
            "134/134 - 5s - loss: 0.6243 - accuracy: 0.7798 - val_loss: 0.6841 - val_accuracy: 0.7671\n",
            "Epoch 39/50\n",
            "134/134 - 5s - loss: 0.6189 - accuracy: 0.7783 - val_loss: 0.7111 - val_accuracy: 0.7573\n",
            "Epoch 40/50\n",
            "134/134 - 5s - loss: 0.6194 - accuracy: 0.7839 - val_loss: 0.7217 - val_accuracy: 0.7563\n",
            "Epoch 41/50\n",
            "134/134 - 5s - loss: 0.6014 - accuracy: 0.7851 - val_loss: 0.6597 - val_accuracy: 0.7730\n",
            "Epoch 42/50\n",
            "134/134 - 5s - loss: 0.6057 - accuracy: 0.7851 - val_loss: 0.7025 - val_accuracy: 0.7566\n",
            "Epoch 43/50\n",
            "134/134 - 5s - loss: 0.5922 - accuracy: 0.7898 - val_loss: 0.6762 - val_accuracy: 0.7657\n",
            "Epoch 44/50\n",
            "134/134 - 5s - loss: 0.5916 - accuracy: 0.7890 - val_loss: 0.7094 - val_accuracy: 0.7587\n",
            "Epoch 45/50\n",
            "134/134 - 5s - loss: 0.5877 - accuracy: 0.7923 - val_loss: 0.6854 - val_accuracy: 0.7638\n",
            "Epoch 46/50\n",
            "134/134 - 5s - loss: 0.5853 - accuracy: 0.7918 - val_loss: 0.8081 - val_accuracy: 0.7286\n",
            "Epoch 47/50\n",
            "134/134 - 5s - loss: 0.5826 - accuracy: 0.7922 - val_loss: 0.7352 - val_accuracy: 0.7403\n",
            "Epoch 48/50\n",
            "134/134 - 5s - loss: 0.5811 - accuracy: 0.7946 - val_loss: 0.7176 - val_accuracy: 0.7609\n",
            "Epoch 49/50\n",
            "134/134 - 5s - loss: 0.5745 - accuracy: 0.7964 - val_loss: 0.6958 - val_accuracy: 0.7610\n",
            "Epoch 50/50\n",
            "134/134 - 5s - loss: 0.5675 - accuracy: 0.7988 - val_loss: 0.6977 - val_accuracy: 0.7621\n"
          ],
          "name": "stdout"
        }
      ]
    },
    {
      "cell_type": "code",
      "metadata": {
        "id": "rzLTGAOzZ7zi"
      },
      "source": [
        "from matplotlib import pyplot as plt\n",
        "def show_train_history(train_history,train,validation):\n",
        "  plt.plot(train_history.history[train])\n",
        "  plt.plot(train_history.history[validation])\n",
        "  plt.title('Train History')\n",
        "  plt.ylabel('train')\n",
        "  plt.xlabel('Epoch')\n",
        "  plt.legend(['train','validation'],loc='upper left')\n",
        "  plt.show()"
      ],
      "execution_count": 16,
      "outputs": []
    },
    {
      "cell_type": "code",
      "metadata": {
        "colab": {
          "base_uri": "https://localhost:8080/",
          "height": 295
        },
        "id": "FliqaslyfUOd",
        "outputId": "c144070e-d60f-4bd2-c67d-d457b7f459f8"
      },
      "source": [
        "show_train_history(train_history,'accuracy','val_accuracy')"
      ],
      "execution_count": 17,
      "outputs": [
        {
          "output_type": "display_data",
          "data": {
            "image/png": "[encoded data removed]",
            "text/plain": [
              "<Figure size 432x288 with 1 Axes>"
            ]
          },
          "metadata": {
            "tags": [],
            "needs_background": "light"
          }
        }
      ]
    },
    {
      "cell_type": "code",
      "metadata": {
        "colab": {
          "base_uri": "https://localhost:8080/",
          "height": 295
        },
        "id": "CLUnjiW4fbvQ",
        "outputId": "0134b731-cde4-438d-e2c7-e095469c7a04"
      },
      "source": [
        "show_train_history(train_history,'loss','val_loss')"
      ],
      "execution_count": 18,
      "outputs": [
        {
          "output_type": "display_data",
          "data": {
            "image/png": "[encoded data removed]",
            "text/plain": [
              "<Figure size 432x288 with 1 Axes>"
            ]
          },
          "metadata": {
            "tags": [],
            "needs_background": "light"
          }
        }
      ]
    },
    {
      "cell_type": "code",
      "metadata": {
        "id": "J5uBX8IWgmJ8"
      },
      "source": [
        "### estimate model accuracy"
      ],
      "execution_count": 19,
      "outputs": []
    },
    {
      "cell_type": "code",
      "metadata": {
        "id": "CNqM3qWAgmRX"
      },
      "source": [
        "scores=model.evaluate(x_img_test_normalize,y_label_test_OneHot,verbose=0)"
      ],
      "execution_count": 20,
      "outputs": []
    },
    {
      "cell_type": "code",
      "metadata": {
        "colab": {
          "base_uri": "https://localhost:8080/"
        },
        "id": "cLAn9V1ogrBf",
        "outputId": "c2310d25-2ac0-489d-a6f0-2173a72e4451"
      },
      "source": [
        "print(f'Test loss: {scores[0]} / Test accuracy: {scores[1]}')"
      ],
      "execution_count": 21,
      "outputs": [
        {
          "output_type": "stream",
          "text": [
            "Test loss: 0.7076170444488525 / Test accuracy: 0.7617999911308289\n"
          ],
          "name": "stdout"
        }
      ]
    },
    {
      "cell_type": "code",
      "metadata": {
        "colab": {
          "base_uri": "https://localhost:8080/"
        },
        "id": "UNRhGtVugvNM",
        "outputId": "508293a6-7277-44f1-f155-c50978ca8c7b"
      },
      "source": [
        "prediction=model.predict_classes(x_img_test_normalize) ### prediction"
      ],
      "execution_count": 22,
      "outputs": [
        {
          "output_type": "stream",
          "text": [
            "/usr/local/lib/python3.7/dist-packages/tensorflow/python/keras/engine/sequential.py:450: UserWarning: `model.predict_classes()` is deprecated and will be removed after 2021-01-01. Please use instead:* `np.argmax(model.predict(x), axis=-1)`,   if your model does multi-class classification   (e.g. if it uses a `softmax` last-layer activation).* `(model.predict(x) > 0.5).astype(\"int32\")`,   if your model does binary classification   (e.g. if it uses a `sigmoid` last-layer activation).\n",
            "  warnings.warn('`model.predict_classes()` is deprecated and '\n"
          ],
          "name": "stderr"
        }
      ]
    },
    {
      "cell_type": "code",
      "metadata": {
        "colab": {
          "base_uri": "https://localhost:8080/"
        },
        "id": "e9dj4EcTkNPd",
        "outputId": "051fa93b-2911-44b0-c753-7c11cf09068e"
      },
      "source": [
        "prediction"
      ],
      "execution_count": 23,
      "outputs": [
        {
          "output_type": "execute_result",
          "data": {
            "text/plain": [
              "array([5, 8, 8, ..., 5, 1, 7])"
            ]
          },
          "metadata": {
            "tags": []
          },
          "execution_count": 23
        }
      ]
    },
    {
      "cell_type": "code",
      "metadata": {
        "id": "ii4zLAJNgz_w"
      },
      "source": [
        "def plot_images_labels_prediction(images,labels,prediction,idx,num=10):\n",
        "  fig=plt.gcf()\n",
        "  fig.set_size_inches(12,14)\n",
        "  if num>25:num=25\n",
        "  for i in range(0,num):\n",
        "    ax=plt.subplot(5,5,1+i)\n",
        "    ax.imshow(images[idx],cmap='binary')\n",
        "    title=str(i) +',' +label_dict[labels[i][0]]\n",
        "    if len(prediction)>0:\n",
        "      title+='=>'+label_dict[prediction[i]]\n",
        "    ax.set_title(title,fontsize=10)\n",
        "    ax.set_xticks([]);ax.set_yticks([])\n",
        "    idx+=1\n",
        "  plt.show()"
      ],
      "execution_count": 24,
      "outputs": []
    },
    {
      "cell_type": "code",
      "metadata": {
        "colab": {
          "base_uri": "https://localhost:8080/",
          "height": 321
        },
        "id": "Ss7dd8dJg2UX",
        "outputId": "06c89b71-5eb8-4376-e28e-7d0741848f0b"
      },
      "source": [
        "plot_images_labels_prediction(x_img_test,y_label_test,prediction,0,10)"
      ],
      "execution_count": 25,
      "outputs": [
        {
          "output_type": "display_data",
          "data": {
            "image/png": "[encoded data removed]",
            "text/plain": [
              "<Figure size 864x1008 with 10 Axes>"
            ]
          },
          "metadata": {
            "tags": []
          }
        }
      ]
    },
    {
      "cell_type": "code",
      "metadata": {
        "id": "PpPOXOuZg6wp"
      },
      "source": [
        "# check for prediction rate\n",
        "predicted_Probability=model.predict(x_img_test_normalize)"
      ],
      "execution_count": 26,
      "outputs": []
    },
    {
      "cell_type": "code",
      "metadata": {
        "id": "ykuUEDYlg_vY"
      },
      "source": [
        "def show_predicted_probability(y,prediction,x_img,predicted_Probability,i):\n",
        "  print('label:',label_dict[y[i][0]],\n",
        "        'predict',label_dict[prediction[i]])\n",
        "  plt.figure(figsize=(2,2))\n",
        "  plt.imshow(np.reshape(x_img_test[i],(32,32,3)))\n",
        "  plt.show()\n",
        "  for j in range(10):\n",
        "    print(label_dict[j]+ ' probability:%1.9f'%(predicted_Probability[i][j]))\n"
      ],
      "execution_count": 27,
      "outputs": []
    },
    {
      "cell_type": "code",
      "metadata": {
        "colab": {
          "base_uri": "https://localhost:8080/",
          "height": 355
        },
        "id": "EDAw57mNhCGo",
        "outputId": "2edcb369-7f25-4dab-9bf8-cd600c6b6cb9"
      },
      "source": [
        "show_predicted_probability(y_label_test,prediction,x_img_test,predicted_Probability,0)"
      ],
      "execution_count": 28,
      "outputs": [
        {
          "output_type": "stream",
          "text": [
            "label: cat predict dog\n"
          ],
          "name": "stdout"
        },
        {
          "output_type": "display_data",
          "data": {
            "image/png": "[encoded data removed]",
            "text/plain": [
              "<Figure size 144x144 with 1 Axes>"
            ]
          },
          "metadata": {
            "tags": [],
            "needs_background": "light"
          }
        },
        {
          "output_type": "stream",
          "text": [
            "airplane probability:0.000212609\n",
            "automobile probability:0.000525202\n",
            "bird probability:0.000658614\n",
            "cat probability:0.460368901\n",
            "deer probability:0.000460160\n",
            "dog probability:0.521943033\n",
            "frog probability:0.014846456\n",
            "horse probability:0.000195213\n",
            "ship probability:0.000065330\n",
            "truck probability:0.000724522\n"
          ],
          "name": "stdout"
        }
      ]
    },
    {
      "cell_type": "markdown",
      "metadata": {
        "id": "N5rt2fK5fntZ"
      },
      "source": [
        "#Confusion matrix"
      ]
    },
    {
      "cell_type": "code",
      "metadata": {
        "id": "TjlrqQgShBjE"
      },
      "source": [
        "import pandas as pd"
      ],
      "execution_count": 32,
      "outputs": []
    },
    {
      "cell_type": "code",
      "metadata": {
        "colab": {
          "base_uri": "https://localhost:8080/",
          "height": 370
        },
        "id": "vD-agaQbfqVp",
        "outputId": "cbd54118-5d77-48a1-a045-cb1754583503"
      },
      "source": [
        "pd.crosstab(y_label_test.reshape(-1),prediction,rownames=['label'],colnames=['predict'])"
      ],
      "execution_count": 31,
      "outputs": [
        {
          "output_type": "execute_result",
          "data": {
            "text/html": [
              "<div>\n",
              "<style scoped>\n",
              "    .dataframe tbody tr th:only-of-type {\n",
              "        vertical-align: middle;\n",
              "    }\n",
              "\n",
              "    .dataframe tbody tr th {\n",
              "        vertical-align: top;\n",
              "    }\n",
              "\n",
              "    .dataframe thead th {\n",
              "        text-align: right;\n",
              "    }\n",
              "</style>\n",
              "<table border=\"1\" class=\"dataframe\">\n",
              "  <thead>\n",
              "    <tr style=\"text-align: right;\">\n",
              "      <th>predict</th>\n",
              "      <th>0</th>\n",
              "      <th>1</th>\n",
              "      <th>2</th>\n",
              "      <th>3</th>\n",
              "      <th>4</th>\n",
              "      <th>5</th>\n",
              "      <th>6</th>\n",
              "      <th>7</th>\n",
              "      <th>8</th>\n",
              "      <th>9</th>\n",
              "    </tr>\n",
              "    <tr>\n",
              "      <th>label</th>\n",
              "      <th></th>\n",
              "      <th></th>\n",
              "      <th></th>\n",
              "      <th></th>\n",
              "      <th></th>\n",
              "      <th></th>\n",
              "      <th></th>\n",
              "      <th></th>\n",
              "      <th></th>\n",
              "      <th></th>\n",
              "    </tr>\n",
              "  </thead>\n",
              "  <tbody>\n",
              "    <tr>\n",
              "      <th>0</th>\n",
              "      <td>746</td>\n",
              "      <td>6</td>\n",
              "      <td>46</td>\n",
              "      <td>62</td>\n",
              "      <td>30</td>\n",
              "      <td>1</td>\n",
              "      <td>7</td>\n",
              "      <td>5</td>\n",
              "      <td>80</td>\n",
              "      <td>17</td>\n",
              "    </tr>\n",
              "    <tr>\n",
              "      <th>1</th>\n",
              "      <td>8</td>\n",
              "      <td>868</td>\n",
              "      <td>6</td>\n",
              "      <td>32</td>\n",
              "      <td>3</td>\n",
              "      <td>6</td>\n",
              "      <td>9</td>\n",
              "      <td>1</td>\n",
              "      <td>27</td>\n",
              "      <td>40</td>\n",
              "    </tr>\n",
              "    <tr>\n",
              "      <th>2</th>\n",
              "      <td>44</td>\n",
              "      <td>1</td>\n",
              "      <td>664</td>\n",
              "      <td>110</td>\n",
              "      <td>92</td>\n",
              "      <td>27</td>\n",
              "      <td>45</td>\n",
              "      <td>6</td>\n",
              "      <td>10</td>\n",
              "      <td>1</td>\n",
              "    </tr>\n",
              "    <tr>\n",
              "      <th>3</th>\n",
              "      <td>4</td>\n",
              "      <td>0</td>\n",
              "      <td>37</td>\n",
              "      <td>810</td>\n",
              "      <td>45</td>\n",
              "      <td>48</td>\n",
              "      <td>36</td>\n",
              "      <td>13</td>\n",
              "      <td>5</td>\n",
              "      <td>2</td>\n",
              "    </tr>\n",
              "    <tr>\n",
              "      <th>4</th>\n",
              "      <td>3</td>\n",
              "      <td>1</td>\n",
              "      <td>33</td>\n",
              "      <td>99</td>\n",
              "      <td>801</td>\n",
              "      <td>12</td>\n",
              "      <td>35</td>\n",
              "      <td>11</td>\n",
              "      <td>5</td>\n",
              "      <td>0</td>\n",
              "    </tr>\n",
              "    <tr>\n",
              "      <th>5</th>\n",
              "      <td>4</td>\n",
              "      <td>0</td>\n",
              "      <td>31</td>\n",
              "      <td>366</td>\n",
              "      <td>41</td>\n",
              "      <td>538</td>\n",
              "      <td>10</td>\n",
              "      <td>7</td>\n",
              "      <td>2</td>\n",
              "      <td>1</td>\n",
              "    </tr>\n",
              "    <tr>\n",
              "      <th>6</th>\n",
              "      <td>3</td>\n",
              "      <td>2</td>\n",
              "      <td>22</td>\n",
              "      <td>124</td>\n",
              "      <td>42</td>\n",
              "      <td>15</td>\n",
              "      <td>790</td>\n",
              "      <td>0</td>\n",
              "      <td>2</td>\n",
              "      <td>0</td>\n",
              "    </tr>\n",
              "    <tr>\n",
              "      <th>7</th>\n",
              "      <td>5</td>\n",
              "      <td>1</td>\n",
              "      <td>30</td>\n",
              "      <td>109</td>\n",
              "      <td>116</td>\n",
              "      <td>27</td>\n",
              "      <td>3</td>\n",
              "      <td>706</td>\n",
              "      <td>2</td>\n",
              "      <td>1</td>\n",
              "    </tr>\n",
              "    <tr>\n",
              "      <th>8</th>\n",
              "      <td>29</td>\n",
              "      <td>13</td>\n",
              "      <td>17</td>\n",
              "      <td>49</td>\n",
              "      <td>6</td>\n",
              "      <td>2</td>\n",
              "      <td>5</td>\n",
              "      <td>0</td>\n",
              "      <td>875</td>\n",
              "      <td>4</td>\n",
              "    </tr>\n",
              "    <tr>\n",
              "      <th>9</th>\n",
              "      <td>19</td>\n",
              "      <td>43</td>\n",
              "      <td>5</td>\n",
              "      <td>63</td>\n",
              "      <td>8</td>\n",
              "      <td>5</td>\n",
              "      <td>8</td>\n",
              "      <td>5</td>\n",
              "      <td>24</td>\n",
              "      <td>820</td>\n",
              "    </tr>\n",
              "  </tbody>\n",
              "</table>\n",
              "</div>"
            ],
            "text/plain": [
              "predict    0    1    2    3    4    5    6    7    8    9\n",
              "label                                                    \n",
              "0        746    6   46   62   30    1    7    5   80   17\n",
              "1          8  868    6   32    3    6    9    1   27   40\n",
              "2         44    1  664  110   92   27   45    6   10    1\n",
              "3          4    0   37  810   45   48   36   13    5    2\n",
              "4          3    1   33   99  801   12   35   11    5    0\n",
              "5          4    0   31  366   41  538   10    7    2    1\n",
              "6          3    2   22  124   42   15  790    0    2    0\n",
              "7          5    1   30  109  116   27    3  706    2    1\n",
              "8         29   13   17   49    6    2    5    0  875    4\n",
              "9         19   43    5   63    8    5    8    5   24  820"
            ]
          },
          "metadata": {
            "tags": []
          },
          "execution_count": 31
        }
      ]
    },
    {
      "cell_type": "code",
      "metadata": {
        "id": "mvxedLAxgTfS"
      },
      "source": [
        ""
      ],
      "execution_count": 30,
      "outputs": []
    },
    {
      "cell_type": "code",
      "metadata": {
        "id": "qddPJ9HX40o8"
      },
      "source": [
        ""
      ],
      "execution_count": 30,
      "outputs": []
    }
  ]
}