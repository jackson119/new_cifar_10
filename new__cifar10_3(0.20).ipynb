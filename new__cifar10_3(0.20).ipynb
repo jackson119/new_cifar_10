{
  "nbformat": 4,
  "nbformat_minor": 0,
  "metadata": {
    "accelerator": "GPU",
    "colab": {
      "name": " new_ cifar10_3(0.20).ipynb",
      "provenance": [],
      "collapsed_sections": [
        "N5rt2fK5fntZ"
      ],
      "authorship_tag": "ABX9TyNnNPMdlWpkuLq0zxV8CbXD",
      "include_colab_link": true
    },
    "kernelspec": {
      "display_name": "Python 3",
      "name": "python3"
    },
    "language_info": {
      "name": "python"
    }
  },
  "cells": [
    {
      "cell_type": "markdown",
      "metadata": {
        "id": "view-in-github",
        "colab_type": "text"
      },
      "source": [
        "<a href=\"https://colab.research.google.com/github/jackson119/new_cifar_10/blob/main/new__cifar10_3(0.20).ipynb\" target=\"_parent\"><img src=\"https://colab.research.google.com/assets/colab-badge.svg\" alt=\"Open In Colab\"/></a>"
      ]
    },
    {
      "cell_type": "markdown",
      "metadata": {
        "id": "SGKXC7W7pnht"
      },
      "source": [
        "# Data Preprocessing"
      ]
    },
    {
      "cell_type": "code",
      "metadata": {
        "id": "91H4jfpypp4h"
      },
      "source": [
        "from tensorflow.keras.datasets import cifar10\n",
        "import numpy as np\n",
        "np.random.seed(10)"
      ],
      "execution_count": 14,
      "outputs": []
    },
    {
      "cell_type": "code",
      "metadata": {
        "id": "jrfbgEOdprAB"
      },
      "source": [
        "(x_img_train,y_label_train),(x_img_test,y_label_test)=cifar10.load_data()"
      ],
      "execution_count": 15,
      "outputs": []
    },
    {
      "cell_type": "code",
      "metadata": {
        "colab": {
          "base_uri": "https://localhost:8080/"
        },
        "id": "Bv64ED30R18B",
        "outputId": "9dbd33b5-299c-418c-d63c-97c3e03e9efa"
      },
      "source": [
        "print(\"train data:\",\"images:\",x_img_train.shape,\"labels:\",y_label_train.shape)\n",
        "print(\"test data:\",\"images:\",x_img_test.shape,\"labels:\",y_label_test.shape)"
      ],
      "execution_count": 16,
      "outputs": [
        {
          "output_type": "stream",
          "text": [
            "train data: images: (50000, 32, 32, 3) labels: (50000, 1)\n",
            "test data: images: (10000, 32, 32, 3) labels: (10000, 1)\n"
          ],
          "name": "stdout"
        }
      ]
    },
    {
      "cell_type": "markdown",
      "metadata": {
        "id": "10BLqTKNSYKW"
      },
      "source": [
        "# standardize and perform one hot encoding"
      ]
    },
    {
      "cell_type": "code",
      "metadata": {
        "id": "_bdYalY-Sfva"
      },
      "source": [
        "x_img_train_normalize=x_img_train.astype('float32')/255.0\n",
        "x_img_test_normalize=x_img_test.astype('float32')/255.0"
      ],
      "execution_count": 17,
      "outputs": []
    },
    {
      "cell_type": "code",
      "metadata": {
        "id": "-7OJEuxpSpXX"
      },
      "source": [
        "from tensorflow.keras import utils"
      ],
      "execution_count": 18,
      "outputs": []
    },
    {
      "cell_type": "code",
      "metadata": {
        "id": "bvesDQfhSsmH"
      },
      "source": [
        "y_label_train_OneHot=utils.to_categorical(y_label_train)\n",
        "y_label_test_OneHot=utils.to_categorical(y_label_test)"
      ],
      "execution_count": 19,
      "outputs": []
    },
    {
      "cell_type": "markdown",
      "metadata": {
        "id": "DSmFxX9xSwCN"
      },
      "source": [
        "# Images and label"
      ]
    },
    {
      "cell_type": "code",
      "metadata": {
        "id": "6AshrU3USxld"
      },
      "source": [
        "label_dict={0:\"airplane\",1:\"automobile\",2:\"bird\",3:\"cat\",4:\"deer\",5:\"dog\",6:\"frog\",7:\"horse\",8:\"ship\",9:\"truck\"}"
      ],
      "execution_count": 20,
      "outputs": []
    },
    {
      "cell_type": "code",
      "metadata": {
        "id": "KADDqJmsSzCc"
      },
      "source": [
        "# Construct model\n",
        "from keras.models import Sequential\n",
        "from keras.layers import Dense,Dropout,Activation,Flatten\n",
        "from keras.layers import Conv2D,MaxPooling2D,ZeroPadding2D"
      ],
      "execution_count": 21,
      "outputs": []
    },
    {
      "cell_type": "code",
      "metadata": {
        "id": "2tUCpCqHS5sb"
      },
      "source": [
        "model=Sequential()"
      ],
      "execution_count": 22,
      "outputs": []
    },
    {
      "cell_type": "code",
      "metadata": {
        "id": "IP4YwNOFS62i"
      },
      "source": [
        "model.add(Conv2D(filters=32,kernel_size=(3,3),input_shape=(32,32,3),activation='relu',padding='same'))\n",
        "model.add(Dropout(0.20))\n",
        "model.add(Conv2D(filters=32,kernel_size=(3,3),activation='relu',padding='same'))\n",
        "model.add(MaxPooling2D(pool_size=(2,2)))"
      ],
      "execution_count": 23,
      "outputs": []
    },
    {
      "cell_type": "code",
      "metadata": {
        "id": "VrEsDZ3OYZv6"
      },
      "source": [
        "model.add(Conv2D(filters=64,kernel_size=(3,3),activation='relu',padding='same'))\n",
        "model.add(Dropout(0.20))\n",
        "model.add(Conv2D(filters=64,kernel_size=(3,3),activation='relu',padding='same'))\n",
        "model.add(MaxPooling2D(pool_size=(2,2)))"
      ],
      "execution_count": 24,
      "outputs": []
    },
    {
      "cell_type": "code",
      "metadata": {
        "id": "Lfbpty5kYwiH"
      },
      "source": [
        "model.add(Conv2D(filters=128,kernel_size=(3,3),activation='relu',padding='same'))\n",
        "model.add(Dropout(0.20))\n",
        "model.add(Conv2D(filters=128,kernel_size=(3,3),activation='relu',padding='same'))\n",
        "model.add(MaxPooling2D(pool_size=(2,2)))"
      ],
      "execution_count": 25,
      "outputs": []
    },
    {
      "cell_type": "code",
      "metadata": {
        "id": "YGEmb5pbZYhj"
      },
      "source": [
        "### neural network\n",
        "model.add(Flatten())\n",
        "model.add(Dropout(0.20))\n",
        "### hidden layer 1\n",
        "model.add(Dense(2500,activation='relu'))\n",
        "model.add(Dropout(0.20))\n",
        "### hidden layer 2\n",
        "model.add(Dense(1500,activation='relu'))\n",
        "model.add(Dropout(0.20))\n",
        "### output layer\n",
        "model.add(Dense(10,activation='softmax'))"
      ],
      "execution_count": 26,
      "outputs": []
    },
    {
      "cell_type": "code",
      "metadata": {
        "colab": {
          "base_uri": "https://localhost:8080/"
        },
        "id": "2kjnUEYuZtK5",
        "outputId": "5a128d68-d096-4870-cffe-1d078090e1db"
      },
      "source": [
        "print(model.summary())"
      ],
      "execution_count": 27,
      "outputs": [
        {
          "output_type": "stream",
          "text": [
            "Model: \"sequential_1\"\n",
            "_________________________________________________________________\n",
            "Layer (type)                 Output Shape              Param #   \n",
            "=================================================================\n",
            "conv2d_6 (Conv2D)            (None, 32, 32, 32)        896       \n",
            "_________________________________________________________________\n",
            "dropout_6 (Dropout)          (None, 32, 32, 32)        0         \n",
            "_________________________________________________________________\n",
            "conv2d_7 (Conv2D)            (None, 32, 32, 32)        9248      \n",
            "_________________________________________________________________\n",
            "max_pooling2d_3 (MaxPooling2 (None, 16, 16, 32)        0         \n",
            "_________________________________________________________________\n",
            "conv2d_8 (Conv2D)            (None, 16, 16, 64)        18496     \n",
            "_________________________________________________________________\n",
            "dropout_7 (Dropout)          (None, 16, 16, 64)        0         \n",
            "_________________________________________________________________\n",
            "conv2d_9 (Conv2D)            (None, 16, 16, 64)        36928     \n",
            "_________________________________________________________________\n",
            "max_pooling2d_4 (MaxPooling2 (None, 8, 8, 64)          0         \n",
            "_________________________________________________________________\n",
            "conv2d_10 (Conv2D)           (None, 8, 8, 128)         73856     \n",
            "_________________________________________________________________\n",
            "dropout_8 (Dropout)          (None, 8, 8, 128)         0         \n",
            "_________________________________________________________________\n",
            "conv2d_11 (Conv2D)           (None, 8, 8, 128)         147584    \n",
            "_________________________________________________________________\n",
            "max_pooling2d_5 (MaxPooling2 (None, 4, 4, 128)         0         \n",
            "_________________________________________________________________\n",
            "flatten_1 (Flatten)          (None, 2048)              0         \n",
            "_________________________________________________________________\n",
            "dropout_9 (Dropout)          (None, 2048)              0         \n",
            "_________________________________________________________________\n",
            "dense_3 (Dense)              (None, 2500)              5122500   \n",
            "_________________________________________________________________\n",
            "dropout_10 (Dropout)         (None, 2500)              0         \n",
            "_________________________________________________________________\n",
            "dense_4 (Dense)              (None, 1500)              3751500   \n",
            "_________________________________________________________________\n",
            "dropout_11 (Dropout)         (None, 1500)              0         \n",
            "_________________________________________________________________\n",
            "dense_5 (Dense)              (None, 10)                15010     \n",
            "=================================================================\n",
            "Total params: 9,176,018\n",
            "Trainable params: 9,176,018\n",
            "Non-trainable params: 0\n",
            "_________________________________________________________________\n",
            "None\n"
          ],
          "name": "stdout"
        }
      ]
    },
    {
      "cell_type": "code",
      "metadata": {
        "colab": {
          "base_uri": "https://localhost:8080/"
        },
        "id": "j64CEumxZvDu",
        "outputId": "8cc2226a-cbfe-42c0-8185-ca83e72dd8fc"
      },
      "source": [
        "model.compile(loss='categorical_crossentropy',optimizer='adam',metrics=['accuracy'])\n",
        "train_history=model.fit(x_img_train_normalize,y_label_train_OneHot,validation_split=0.2,epochs=50,batch_size=300,verbose=2)"
      ],
      "execution_count": 28,
      "outputs": [
        {
          "output_type": "stream",
          "text": [
            "Epoch 1/50\n",
            "134/134 - 38s - loss: 1.9141 - accuracy: 0.2839 - val_loss: 1.7052 - val_accuracy: 0.3645\n",
            "Epoch 2/50\n",
            "134/134 - 4s - loss: 1.4668 - accuracy: 0.4612 - val_loss: 1.3951 - val_accuracy: 0.4738\n",
            "Epoch 3/50\n",
            "134/134 - 4s - loss: 1.2510 - accuracy: 0.5471 - val_loss: 1.1840 - val_accuracy: 0.5722\n",
            "Epoch 4/50\n",
            "134/134 - 4s - loss: 1.0922 - accuracy: 0.6082 - val_loss: 1.0316 - val_accuracy: 0.6310\n",
            "Epoch 5/50\n",
            "134/134 - 4s - loss: 0.9557 - accuracy: 0.6575 - val_loss: 0.9057 - val_accuracy: 0.6876\n",
            "Epoch 6/50\n",
            "134/134 - 4s - loss: 0.8528 - accuracy: 0.6999 - val_loss: 0.8990 - val_accuracy: 0.6846\n",
            "Epoch 7/50\n",
            "134/134 - 4s - loss: 0.7762 - accuracy: 0.7249 - val_loss: 0.8358 - val_accuracy: 0.7078\n",
            "Epoch 8/50\n",
            "134/134 - 4s - loss: 0.7064 - accuracy: 0.7514 - val_loss: 0.7606 - val_accuracy: 0.7383\n",
            "Epoch 9/50\n",
            "134/134 - 4s - loss: 0.6135 - accuracy: 0.7821 - val_loss: 0.7533 - val_accuracy: 0.7443\n",
            "Epoch 10/50\n",
            "134/134 - 4s - loss: 0.5618 - accuracy: 0.8015 - val_loss: 0.7714 - val_accuracy: 0.7382\n",
            "Epoch 11/50\n",
            "134/134 - 4s - loss: 0.5076 - accuracy: 0.8205 - val_loss: 0.7057 - val_accuracy: 0.7612\n",
            "Epoch 12/50\n",
            "134/134 - 4s - loss: 0.4403 - accuracy: 0.8446 - val_loss: 0.7326 - val_accuracy: 0.7617\n",
            "Epoch 13/50\n",
            "134/134 - 4s - loss: 0.3904 - accuracy: 0.8615 - val_loss: 0.7621 - val_accuracy: 0.7530\n",
            "Epoch 14/50\n",
            "134/134 - 4s - loss: 0.3456 - accuracy: 0.8763 - val_loss: 0.7577 - val_accuracy: 0.7693\n",
            "Epoch 15/50\n",
            "134/134 - 4s - loss: 0.3100 - accuracy: 0.8892 - val_loss: 0.7832 - val_accuracy: 0.7653\n",
            "Epoch 16/50\n",
            "134/134 - 4s - loss: 0.2817 - accuracy: 0.9003 - val_loss: 0.7931 - val_accuracy: 0.7674\n",
            "Epoch 17/50\n",
            "134/134 - 4s - loss: 0.2446 - accuracy: 0.9128 - val_loss: 0.8202 - val_accuracy: 0.7706\n",
            "Epoch 18/50\n",
            "134/134 - 4s - loss: 0.2310 - accuracy: 0.9186 - val_loss: 0.8306 - val_accuracy: 0.7711\n",
            "Epoch 19/50\n",
            "134/134 - 4s - loss: 0.2104 - accuracy: 0.9250 - val_loss: 0.8291 - val_accuracy: 0.7759\n",
            "Epoch 20/50\n",
            "134/134 - 4s - loss: 0.1952 - accuracy: 0.9309 - val_loss: 0.8498 - val_accuracy: 0.7802\n",
            "Epoch 21/50\n",
            "134/134 - 4s - loss: 0.1733 - accuracy: 0.9409 - val_loss: 0.8938 - val_accuracy: 0.7711\n",
            "Epoch 22/50\n",
            "134/134 - 4s - loss: 0.1687 - accuracy: 0.9398 - val_loss: 0.8783 - val_accuracy: 0.7713\n",
            "Epoch 23/50\n",
            "134/134 - 4s - loss: 0.1522 - accuracy: 0.9474 - val_loss: 0.9013 - val_accuracy: 0.7751\n",
            "Epoch 24/50\n",
            "134/134 - 4s - loss: 0.1562 - accuracy: 0.9473 - val_loss: 0.9562 - val_accuracy: 0.7658\n",
            "Epoch 25/50\n",
            "134/134 - 4s - loss: 0.1397 - accuracy: 0.9519 - val_loss: 0.9078 - val_accuracy: 0.7791\n",
            "Epoch 26/50\n",
            "134/134 - 4s - loss: 0.1308 - accuracy: 0.9558 - val_loss: 0.9130 - val_accuracy: 0.7807\n",
            "Epoch 27/50\n",
            "134/134 - 4s - loss: 0.1211 - accuracy: 0.9578 - val_loss: 0.9856 - val_accuracy: 0.7726\n",
            "Epoch 28/50\n",
            "134/134 - 4s - loss: 0.1187 - accuracy: 0.9595 - val_loss: 0.9934 - val_accuracy: 0.7731\n",
            "Epoch 29/50\n",
            "134/134 - 4s - loss: 0.1204 - accuracy: 0.9580 - val_loss: 1.0052 - val_accuracy: 0.7738\n",
            "Epoch 30/50\n",
            "134/134 - 5s - loss: 0.1087 - accuracy: 0.9635 - val_loss: 0.9591 - val_accuracy: 0.7751\n",
            "Epoch 31/50\n",
            "134/134 - 4s - loss: 0.1111 - accuracy: 0.9622 - val_loss: 0.9752 - val_accuracy: 0.7831\n",
            "Epoch 32/50\n",
            "134/134 - 5s - loss: 0.1091 - accuracy: 0.9624 - val_loss: 0.9941 - val_accuracy: 0.7721\n",
            "Epoch 33/50\n",
            "134/134 - 5s - loss: 0.1002 - accuracy: 0.9654 - val_loss: 0.9815 - val_accuracy: 0.7818\n",
            "Epoch 34/50\n",
            "134/134 - 5s - loss: 0.0996 - accuracy: 0.9664 - val_loss: 1.0660 - val_accuracy: 0.7757\n",
            "Epoch 35/50\n",
            "134/134 - 5s - loss: 0.0981 - accuracy: 0.9661 - val_loss: 0.9968 - val_accuracy: 0.7802\n",
            "Epoch 36/50\n",
            "134/134 - 5s - loss: 0.0928 - accuracy: 0.9694 - val_loss: 1.0496 - val_accuracy: 0.7805\n",
            "Epoch 37/50\n",
            "134/134 - 5s - loss: 0.0989 - accuracy: 0.9666 - val_loss: 0.9908 - val_accuracy: 0.7789\n",
            "Epoch 38/50\n",
            "134/134 - 5s - loss: 0.0829 - accuracy: 0.9714 - val_loss: 1.0310 - val_accuracy: 0.7796\n",
            "Epoch 39/50\n",
            "134/134 - 5s - loss: 0.0957 - accuracy: 0.9673 - val_loss: 1.0595 - val_accuracy: 0.7759\n",
            "Epoch 40/50\n",
            "134/134 - 5s - loss: 0.0907 - accuracy: 0.9684 - val_loss: 1.0167 - val_accuracy: 0.7801\n",
            "Epoch 41/50\n",
            "134/134 - 5s - loss: 0.0866 - accuracy: 0.9724 - val_loss: 1.0660 - val_accuracy: 0.7700\n",
            "Epoch 42/50\n",
            "134/134 - 5s - loss: 0.0882 - accuracy: 0.9704 - val_loss: 1.0186 - val_accuracy: 0.7818\n",
            "Epoch 43/50\n",
            "134/134 - 5s - loss: 0.0828 - accuracy: 0.9714 - val_loss: 1.0080 - val_accuracy: 0.7834\n",
            "Epoch 44/50\n",
            "134/134 - 5s - loss: 0.0839 - accuracy: 0.9721 - val_loss: 0.9654 - val_accuracy: 0.7767\n",
            "Epoch 45/50\n",
            "134/134 - 5s - loss: 0.0792 - accuracy: 0.9732 - val_loss: 1.0353 - val_accuracy: 0.7820\n",
            "Epoch 46/50\n",
            "134/134 - 5s - loss: 0.0753 - accuracy: 0.9745 - val_loss: 1.0549 - val_accuracy: 0.7807\n",
            "Epoch 47/50\n",
            "134/134 - 5s - loss: 0.0730 - accuracy: 0.9751 - val_loss: 1.0581 - val_accuracy: 0.7768\n",
            "Epoch 48/50\n",
            "134/134 - 5s - loss: 0.0818 - accuracy: 0.9721 - val_loss: 1.0251 - val_accuracy: 0.7850\n",
            "Epoch 49/50\n",
            "134/134 - 5s - loss: 0.0741 - accuracy: 0.9752 - val_loss: 1.0508 - val_accuracy: 0.7863\n",
            "Epoch 50/50\n",
            "134/134 - 5s - loss: 0.0743 - accuracy: 0.9756 - val_loss: 1.0423 - val_accuracy: 0.7815\n"
          ],
          "name": "stdout"
        }
      ]
    },
    {
      "cell_type": "code",
      "metadata": {
        "id": "rzLTGAOzZ7zi"
      },
      "source": [
        "from matplotlib import pyplot as plt\n",
        "def show_train_history(train_history,train,validation):\n",
        "  plt.plot(train_history.history[train])\n",
        "  plt.plot(train_history.history[validation])\n",
        "  plt.title('Train History')\n",
        "  plt.ylabel('train')\n",
        "  plt.xlabel('Epoch')\n",
        "  plt.legend(['train','validation'],loc='upper left')\n",
        "  plt.show()"
      ],
      "execution_count": 29,
      "outputs": []
    },
    {
      "cell_type": "code",
      "metadata": {
        "colab": {
          "base_uri": "https://localhost:8080/",
          "height": 295
        },
        "id": "FliqaslyfUOd",
        "outputId": "b1e041b2-53e1-4be6-fc9b-7d15ed920bb1"
      },
      "source": [
        "show_train_history(train_history,'accuracy','val_accuracy')"
      ],
      "execution_count": 30,
      "outputs": [
        {
          "output_type": "display_data",
          "data": {
            "image/png": "[encoded data removed]",
            "text/plain": [
              "<Figure size 432x288 with 1 Axes>"
            ]
          },
          "metadata": {
            "tags": [],
            "needs_background": "light"
          }
        }
      ]
    },
    {
      "cell_type": "code",
      "metadata": {
        "colab": {
          "base_uri": "https://localhost:8080/",
          "height": 295
        },
        "id": "CLUnjiW4fbvQ",
        "outputId": "a24b2934-645a-41fb-efbb-546d3fe47fa7"
      },
      "source": [
        "show_train_history(train_history,'loss','val_loss')"
      ],
      "execution_count": 31,
      "outputs": [
        {
          "output_type": "display_data",
          "data": {
            "image/png": "[encoded data removed]",
            "text/plain": [
              "<Figure size 432x288 with 1 Axes>"
            ]
          },
          "metadata": {
            "tags": [],
            "needs_background": "light"
          }
        }
      ]
    },
    {
      "cell_type": "code",
      "metadata": {
        "id": "J5uBX8IWgmJ8"
      },
      "source": [
        "### estimate model accuracy"
      ],
      "execution_count": 32,
      "outputs": []
    },
    {
      "cell_type": "code",
      "metadata": {
        "id": "CNqM3qWAgmRX"
      },
      "source": [
        "scores=model.evaluate(x_img_test_normalize,y_label_test_OneHot,verbose=0)"
      ],
      "execution_count": 33,
      "outputs": []
    },
    {
      "cell_type": "code",
      "metadata": {
        "colab": {
          "base_uri": "https://localhost:8080/"
        },
        "id": "cLAn9V1ogrBf",
        "outputId": "7436fdaf-4872-4594-a597-93e24dcfcb0b"
      },
      "source": [
        "print(f'Test loss: {scores[0]} / Test accuracy: {scores[1]}')"
      ],
      "execution_count": 34,
      "outputs": [
        {
          "output_type": "stream",
          "text": [
            "Test loss: 1.0724018812179565 / Test accuracy: 0.7712000012397766\n"
          ],
          "name": "stdout"
        }
      ]
    },
    {
      "cell_type": "code",
      "metadata": {
        "colab": {
          "base_uri": "https://localhost:8080/"
        },
        "id": "UNRhGtVugvNM",
        "outputId": "bdb3cbd4-81f9-4ff8-c986-8b851d1337f2"
      },
      "source": [
        "prediction=model.predict_classes(x_img_test_normalize) ### prediction"
      ],
      "execution_count": 35,
      "outputs": [
        {
          "output_type": "stream",
          "text": [
            "/usr/local/lib/python3.7/dist-packages/tensorflow/python/keras/engine/sequential.py:450: UserWarning: `model.predict_classes()` is deprecated and will be removed after 2021-01-01. Please use instead:* `np.argmax(model.predict(x), axis=-1)`,   if your model does multi-class classification   (e.g. if it uses a `softmax` last-layer activation).* `(model.predict(x) > 0.5).astype(\"int32\")`,   if your model does binary classification   (e.g. if it uses a `sigmoid` last-layer activation).\n",
            "  warnings.warn('`model.predict_classes()` is deprecated and '\n"
          ],
          "name": "stderr"
        }
      ]
    },
    {
      "cell_type": "code",
      "metadata": {
        "colab": {
          "base_uri": "https://localhost:8080/"
        },
        "id": "e9dj4EcTkNPd",
        "outputId": "b9f96e81-a2d9-4a01-ee08-44e8ceb57397"
      },
      "source": [
        "prediction"
      ],
      "execution_count": 36,
      "outputs": [
        {
          "output_type": "execute_result",
          "data": {
            "text/plain": [
              "array([3, 8, 8, ..., 5, 1, 7])"
            ]
          },
          "metadata": {
            "tags": []
          },
          "execution_count": 36
        }
      ]
    },
    {
      "cell_type": "code",
      "metadata": {
        "id": "ii4zLAJNgz_w"
      },
      "source": [
        "def plot_images_labels_prediction(images,labels,prediction,idx,num=10):\n",
        "  fig=plt.gcf()\n",
        "  fig.set_size_inches(12,14)\n",
        "  if num>25:num=25\n",
        "  for i in range(0,num):\n",
        "    ax=plt.subplot(5,5,1+i)\n",
        "    ax.imshow(images[idx],cmap='binary')\n",
        "    title=str(i) +',' +label_dict[labels[i][0]]\n",
        "    if len(prediction)>0:\n",
        "      title+='=>'+label_dict[prediction[i]]\n",
        "    ax.set_title(title,fontsize=10)\n",
        "    ax.set_xticks([]);ax.set_yticks([])\n",
        "    idx+=1\n",
        "  plt.show()"
      ],
      "execution_count": 37,
      "outputs": []
    },
    {
      "cell_type": "code",
      "metadata": {
        "colab": {
          "base_uri": "https://localhost:8080/",
          "height": 321
        },
        "id": "Ss7dd8dJg2UX",
        "outputId": "f09592a0-f49f-4d77-fc01-9aed39c978e4"
      },
      "source": [
        "plot_images_labels_prediction(x_img_test,y_label_test,prediction,0,10)"
      ],
      "execution_count": 38,
      "outputs": [
        {
          "output_type": "display_data",
          "data": {
            "image/png": "[encoded data removed]",
            "text/plain": [
              "<Figure size 864x1008 with 10 Axes>"
            ]
          },
          "metadata": {
            "tags": []
          }
        }
      ]
    },
    {
      "cell_type": "code",
      "metadata": {
        "id": "PpPOXOuZg6wp"
      },
      "source": [
        "# check for prediction rate\n",
        "predicted_Probability=model.predict(x_img_test_normalize)"
      ],
      "execution_count": 39,
      "outputs": []
    },
    {
      "cell_type": "code",
      "metadata": {
        "id": "ykuUEDYlg_vY"
      },
      "source": [
        "def show_predicted_probability(y,prediction,x_img,predicted_Probability,i):\n",
        "  print('label:',label_dict[y[i][0]],\n",
        "        'predict',label_dict[prediction[i]])\n",
        "  plt.figure(figsize=(2,2))\n",
        "  plt.imshow(np.reshape(x_img_test[i],(32,32,3)))\n",
        "  plt.show()\n",
        "  for j in range(10):\n",
        "    print(label_dict[j]+ ' probability:%1.9f'%(predicted_Probability[i][j]))\n"
      ],
      "execution_count": 40,
      "outputs": []
    },
    {
      "cell_type": "code",
      "metadata": {
        "colab": {
          "base_uri": "https://localhost:8080/",
          "height": 355
        },
        "id": "EDAw57mNhCGo",
        "outputId": "0de10d82-8bac-49cc-ba5b-8e9e4083ebfb"
      },
      "source": [
        "show_predicted_probability(y_label_test,prediction,x_img_test,predicted_Probability,0)"
      ],
      "execution_count": 41,
      "outputs": [
        {
          "output_type": "stream",
          "text": [
            "label: cat predict cat\n"
          ],
          "name": "stdout"
        },
        {
          "output_type": "display_data",
          "data": {
            "image/png": "[encoded data removed]",
            "text/plain": [
              "<Figure size 144x144 with 1 Axes>"
            ]
          },
          "metadata": {
            "tags": [],
            "needs_background": "light"
          }
        },
        {
          "output_type": "stream",
          "text": [
            "airplane probability:0.000000025\n",
            "automobile probability:0.000000009\n",
            "bird probability:0.000000074\n",
            "cat probability:0.995465338\n",
            "deer probability:0.000000110\n",
            "dog probability:0.004473981\n",
            "frog probability:0.000060447\n",
            "horse probability:0.000000042\n",
            "ship probability:0.000000001\n",
            "truck probability:0.000000016\n"
          ],
          "name": "stdout"
        }
      ]
    },
    {
      "cell_type": "markdown",
      "metadata": {
        "id": "N5rt2fK5fntZ"
      },
      "source": [
        "#Confusion matrix"
      ]
    },
    {
      "cell_type": "code",
      "metadata": {
        "id": "TjlrqQgShBjE"
      },
      "source": [
        "import pandas as pd"
      ],
      "execution_count": 42,
      "outputs": []
    },
    {
      "cell_type": "code",
      "metadata": {
        "colab": {
          "base_uri": "https://localhost:8080/",
          "height": 370
        },
        "id": "vD-agaQbfqVp",
        "outputId": "403b114d-ff05-48e9-9f40-7de025130a40"
      },
      "source": [
        "pd.crosstab(y_label_test.reshape(-1),prediction,rownames=['label'],colnames=['predict'])"
      ],
      "execution_count": 43,
      "outputs": [
        {
          "output_type": "execute_result",
          "data": {
            "text/html": [
              "<div>\n",
              "<style scoped>\n",
              "    .dataframe tbody tr th:only-of-type {\n",
              "        vertical-align: middle;\n",
              "    }\n",
              "\n",
              "    .dataframe tbody tr th {\n",
              "        vertical-align: top;\n",
              "    }\n",
              "\n",
              "    .dataframe thead th {\n",
              "        text-align: right;\n",
              "    }\n",
              "</style>\n",
              "<table border=\"1\" class=\"dataframe\">\n",
              "  <thead>\n",
              "    <tr style=\"text-align: right;\">\n",
              "      <th>predict</th>\n",
              "      <th>0</th>\n",
              "      <th>1</th>\n",
              "      <th>2</th>\n",
              "      <th>3</th>\n",
              "      <th>4</th>\n",
              "      <th>5</th>\n",
              "      <th>6</th>\n",
              "      <th>7</th>\n",
              "      <th>8</th>\n",
              "      <th>9</th>\n",
              "    </tr>\n",
              "    <tr>\n",
              "      <th>label</th>\n",
              "      <th></th>\n",
              "      <th></th>\n",
              "      <th></th>\n",
              "      <th></th>\n",
              "      <th></th>\n",
              "      <th></th>\n",
              "      <th></th>\n",
              "      <th></th>\n",
              "      <th></th>\n",
              "      <th></th>\n",
              "    </tr>\n",
              "  </thead>\n",
              "  <tbody>\n",
              "    <tr>\n",
              "      <th>0</th>\n",
              "      <td>761</td>\n",
              "      <td>9</td>\n",
              "      <td>82</td>\n",
              "      <td>21</td>\n",
              "      <td>17</td>\n",
              "      <td>6</td>\n",
              "      <td>9</td>\n",
              "      <td>9</td>\n",
              "      <td>57</td>\n",
              "      <td>29</td>\n",
              "    </tr>\n",
              "    <tr>\n",
              "      <th>1</th>\n",
              "      <td>15</td>\n",
              "      <td>873</td>\n",
              "      <td>5</td>\n",
              "      <td>14</td>\n",
              "      <td>5</td>\n",
              "      <td>3</td>\n",
              "      <td>9</td>\n",
              "      <td>2</td>\n",
              "      <td>19</td>\n",
              "      <td>55</td>\n",
              "    </tr>\n",
              "    <tr>\n",
              "      <th>2</th>\n",
              "      <td>30</td>\n",
              "      <td>1</td>\n",
              "      <td>729</td>\n",
              "      <td>59</td>\n",
              "      <td>61</td>\n",
              "      <td>46</td>\n",
              "      <td>44</td>\n",
              "      <td>19</td>\n",
              "      <td>7</td>\n",
              "      <td>4</td>\n",
              "    </tr>\n",
              "    <tr>\n",
              "      <th>3</th>\n",
              "      <td>14</td>\n",
              "      <td>3</td>\n",
              "      <td>87</td>\n",
              "      <td>590</td>\n",
              "      <td>52</td>\n",
              "      <td>129</td>\n",
              "      <td>72</td>\n",
              "      <td>38</td>\n",
              "      <td>7</td>\n",
              "      <td>8</td>\n",
              "    </tr>\n",
              "    <tr>\n",
              "      <th>4</th>\n",
              "      <td>9</td>\n",
              "      <td>3</td>\n",
              "      <td>75</td>\n",
              "      <td>58</td>\n",
              "      <td>738</td>\n",
              "      <td>16</td>\n",
              "      <td>38</td>\n",
              "      <td>56</td>\n",
              "      <td>4</td>\n",
              "      <td>3</td>\n",
              "    </tr>\n",
              "    <tr>\n",
              "      <th>5</th>\n",
              "      <td>8</td>\n",
              "      <td>0</td>\n",
              "      <td>50</td>\n",
              "      <td>168</td>\n",
              "      <td>43</td>\n",
              "      <td>643</td>\n",
              "      <td>32</td>\n",
              "      <td>43</td>\n",
              "      <td>4</td>\n",
              "      <td>9</td>\n",
              "    </tr>\n",
              "    <tr>\n",
              "      <th>6</th>\n",
              "      <td>3</td>\n",
              "      <td>3</td>\n",
              "      <td>38</td>\n",
              "      <td>48</td>\n",
              "      <td>25</td>\n",
              "      <td>14</td>\n",
              "      <td>855</td>\n",
              "      <td>6</td>\n",
              "      <td>6</td>\n",
              "      <td>2</td>\n",
              "    </tr>\n",
              "    <tr>\n",
              "      <th>7</th>\n",
              "      <td>12</td>\n",
              "      <td>1</td>\n",
              "      <td>24</td>\n",
              "      <td>51</td>\n",
              "      <td>48</td>\n",
              "      <td>35</td>\n",
              "      <td>7</td>\n",
              "      <td>815</td>\n",
              "      <td>1</td>\n",
              "      <td>6</td>\n",
              "    </tr>\n",
              "    <tr>\n",
              "      <th>8</th>\n",
              "      <td>31</td>\n",
              "      <td>16</td>\n",
              "      <td>23</td>\n",
              "      <td>20</td>\n",
              "      <td>5</td>\n",
              "      <td>9</td>\n",
              "      <td>5</td>\n",
              "      <td>3</td>\n",
              "      <td>860</td>\n",
              "      <td>28</td>\n",
              "    </tr>\n",
              "    <tr>\n",
              "      <th>9</th>\n",
              "      <td>24</td>\n",
              "      <td>57</td>\n",
              "      <td>6</td>\n",
              "      <td>20</td>\n",
              "      <td>5</td>\n",
              "      <td>8</td>\n",
              "      <td>5</td>\n",
              "      <td>10</td>\n",
              "      <td>17</td>\n",
              "      <td>848</td>\n",
              "    </tr>\n",
              "  </tbody>\n",
              "</table>\n",
              "</div>"
            ],
            "text/plain": [
              "predict    0    1    2    3    4    5    6    7    8    9\n",
              "label                                                    \n",
              "0        761    9   82   21   17    6    9    9   57   29\n",
              "1         15  873    5   14    5    3    9    2   19   55\n",
              "2         30    1  729   59   61   46   44   19    7    4\n",
              "3         14    3   87  590   52  129   72   38    7    8\n",
              "4          9    3   75   58  738   16   38   56    4    3\n",
              "5          8    0   50  168   43  643   32   43    4    9\n",
              "6          3    3   38   48   25   14  855    6    6    2\n",
              "7         12    1   24   51   48   35    7  815    1    6\n",
              "8         31   16   23   20    5    9    5    3  860   28\n",
              "9         24   57    6   20    5    8    5   10   17  848"
            ]
          },
          "metadata": {
            "tags": []
          },
          "execution_count": 43
        }
      ]
    },
    {
      "cell_type": "code",
      "metadata": {
        "id": "mvxedLAxgTfS"
      },
      "source": [
        ""
      ],
      "execution_count": null,
      "outputs": []
    }
  ]
}