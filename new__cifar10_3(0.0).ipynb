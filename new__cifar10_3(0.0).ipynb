{
  "nbformat": 4,
  "nbformat_minor": 0,
  "metadata": {
    "accelerator": "GPU",
    "colab": {
      "name": "new_ cifar10_3(0.0).ipynb",
      "provenance": [],
      "authorship_tag": "ABX9TyN7MPBiazs14LDzFy07hOus",
      "include_colab_link": true
    },
    "kernelspec": {
      "display_name": "Python 3",
      "name": "python3"
    },
    "language_info": {
      "name": "python"
    }
  },
  "cells": [
    {
      "cell_type": "markdown",
      "metadata": {
        "id": "view-in-github",
        "colab_type": "text"
      },
      "source": [
        "<a href=\"https://colab.research.google.com/github/jackson119/new_cifar_10/blob/main/new__cifar10_3(0.0).ipynb\" target=\"_parent\"><img src=\"https://colab.research.google.com/assets/colab-badge.svg\" alt=\"Open In Colab\"/></a>"
      ]
    },
    {
      "cell_type": "markdown",
      "metadata": {
        "id": "SGKXC7W7pnht"
      },
      "source": [
        "# Data Preprocessing"
      ]
    },
    {
      "cell_type": "code",
      "metadata": {
        "id": "91H4jfpypp4h"
      },
      "source": [
        "from tensorflow.keras.datasets import cifar10\n",
        "import numpy as np\n",
        "np.random.seed(10)"
      ],
      "execution_count": 22,
      "outputs": []
    },
    {
      "cell_type": "code",
      "metadata": {
        "id": "jrfbgEOdprAB"
      },
      "source": [
        "(x_img_train,y_label_train),(x_img_test,y_label_test)=cifar10.load_data()"
      ],
      "execution_count": 23,
      "outputs": []
    },
    {
      "cell_type": "code",
      "metadata": {
        "colab": {
          "base_uri": "https://localhost:8080/"
        },
        "id": "Bv64ED30R18B",
        "outputId": "95eca0c7-9eec-40ce-dd2c-2a89496b04bd"
      },
      "source": [
        "print(\"train data:\",\"images:\",x_img_train.shape,\"labels:\",y_label_train.shape)\n",
        "print(\"test data:\",\"images:\",x_img_test.shape,\"labels:\",y_label_test.shape)"
      ],
      "execution_count": 24,
      "outputs": [
        {
          "output_type": "stream",
          "text": [
            "train data: images: (50000, 32, 32, 3) labels: (50000, 1)\n",
            "test data: images: (10000, 32, 32, 3) labels: (10000, 1)\n"
          ],
          "name": "stdout"
        }
      ]
    },
    {
      "cell_type": "markdown",
      "metadata": {
        "id": "10BLqTKNSYKW"
      },
      "source": [
        "# standardize and perform one hot encoding"
      ]
    },
    {
      "cell_type": "code",
      "metadata": {
        "id": "_bdYalY-Sfva"
      },
      "source": [
        "x_img_train_normalize=x_img_train.astype('float32')/255.0\n",
        "x_img_test_normalize=x_img_test.astype('float32')/255.0"
      ],
      "execution_count": 25,
      "outputs": []
    },
    {
      "cell_type": "code",
      "metadata": {
        "id": "-7OJEuxpSpXX"
      },
      "source": [
        "from tensorflow.keras import utils"
      ],
      "execution_count": 26,
      "outputs": []
    },
    {
      "cell_type": "code",
      "metadata": {
        "id": "bvesDQfhSsmH"
      },
      "source": [
        "y_label_train_OneHot=utils.to_categorical(y_label_train)\n",
        "y_label_test_OneHot=utils.to_categorical(y_label_test)"
      ],
      "execution_count": 27,
      "outputs": []
    },
    {
      "cell_type": "markdown",
      "metadata": {
        "id": "DSmFxX9xSwCN"
      },
      "source": [
        "# Images and label"
      ]
    },
    {
      "cell_type": "code",
      "metadata": {
        "id": "6AshrU3USxld"
      },
      "source": [
        "label_dict={0:\"airplane\",1:\"automobile\",2:\"bird\",3:\"cat\",4:\"deer\",5:\"dog\",6:\"frog\",7:\"horse\",8:\"ship\",9:\"truck\"}"
      ],
      "execution_count": 28,
      "outputs": []
    },
    {
      "cell_type": "code",
      "metadata": {
        "id": "KADDqJmsSzCc"
      },
      "source": [
        "# Construct model\n",
        "from keras.models import Sequential\n",
        "from keras.layers import Dense,Dropout,Activation,Flatten\n",
        "from keras.layers import Conv2D,MaxPooling2D,ZeroPadding2D"
      ],
      "execution_count": 29,
      "outputs": []
    },
    {
      "cell_type": "code",
      "metadata": {
        "id": "2tUCpCqHS5sb"
      },
      "source": [
        "model=Sequential()"
      ],
      "execution_count": 30,
      "outputs": []
    },
    {
      "cell_type": "code",
      "metadata": {
        "id": "IP4YwNOFS62i"
      },
      "source": [
        "model.add(Conv2D(filters=32,kernel_size=(3,3),input_shape=(32,32,3),activation='relu',padding='same'))\n",
        "model.add(Dropout(0.0))\n",
        "model.add(Conv2D(filters=32,kernel_size=(3,3),activation='relu',padding='same'))\n",
        "model.add(MaxPooling2D(pool_size=(2,2)))"
      ],
      "execution_count": 31,
      "outputs": []
    },
    {
      "cell_type": "code",
      "metadata": {
        "id": "VrEsDZ3OYZv6"
      },
      "source": [
        "model.add(Conv2D(filters=64,kernel_size=(3,3),activation='relu',padding='same'))\n",
        "model.add(Dropout(0.0))\n",
        "model.add(Conv2D(filters=64,kernel_size=(3,3),activation='relu',padding='same'))\n",
        "model.add(MaxPooling2D(pool_size=(2,2)))"
      ],
      "execution_count": 32,
      "outputs": []
    },
    {
      "cell_type": "code",
      "metadata": {
        "id": "Lfbpty5kYwiH"
      },
      "source": [
        "model.add(Conv2D(filters=128,kernel_size=(3,3),activation='relu',padding='same'))\n",
        "model.add(Dropout(0.0))\n",
        "model.add(Conv2D(filters=128,kernel_size=(3,3),activation='relu',padding='same'))\n",
        "model.add(MaxPooling2D(pool_size=(2,2)))"
      ],
      "execution_count": 33,
      "outputs": []
    },
    {
      "cell_type": "code",
      "metadata": {
        "id": "YGEmb5pbZYhj"
      },
      "source": [
        "### neural network\n",
        "model.add(Flatten())\n",
        "model.add(Dropout(0.0))\n",
        "### hidden layer 1\n",
        "model.add(Dense(2500,activation='relu'))\n",
        "model.add(Dropout(0.0))\n",
        "### hidden layer 2\n",
        "model.add(Dense(1500,activation='relu'))\n",
        "model.add(Dropout(0.0))\n",
        "### output layer\n",
        "model.add(Dense(10,activation='softmax'))"
      ],
      "execution_count": 34,
      "outputs": []
    },
    {
      "cell_type": "code",
      "metadata": {
        "colab": {
          "base_uri": "https://localhost:8080/"
        },
        "id": "2kjnUEYuZtK5",
        "outputId": "7d5311a8-3873-43d5-af09-8d4830cc0c63"
      },
      "source": [
        "print(model.summary())"
      ],
      "execution_count": 35,
      "outputs": [
        {
          "output_type": "stream",
          "text": [
            "Model: \"sequential_2\"\n",
            "_________________________________________________________________\n",
            "Layer (type)                 Output Shape              Param #   \n",
            "=================================================================\n",
            "conv2d_6 (Conv2D)            (None, 32, 32, 32)        896       \n",
            "_________________________________________________________________\n",
            "dropout_3 (Dropout)          (None, 32, 32, 32)        0         \n",
            "_________________________________________________________________\n",
            "conv2d_7 (Conv2D)            (None, 32, 32, 32)        9248      \n",
            "_________________________________________________________________\n",
            "max_pooling2d_3 (MaxPooling2 (None, 16, 16, 32)        0         \n",
            "_________________________________________________________________\n",
            "conv2d_8 (Conv2D)            (None, 16, 16, 64)        18496     \n",
            "_________________________________________________________________\n",
            "dropout_4 (Dropout)          (None, 16, 16, 64)        0         \n",
            "_________________________________________________________________\n",
            "conv2d_9 (Conv2D)            (None, 16, 16, 64)        36928     \n",
            "_________________________________________________________________\n",
            "max_pooling2d_4 (MaxPooling2 (None, 8, 8, 64)          0         \n",
            "_________________________________________________________________\n",
            "conv2d_10 (Conv2D)           (None, 8, 8, 128)         73856     \n",
            "_________________________________________________________________\n",
            "dropout_5 (Dropout)          (None, 8, 8, 128)         0         \n",
            "_________________________________________________________________\n",
            "conv2d_11 (Conv2D)           (None, 8, 8, 128)         147584    \n",
            "_________________________________________________________________\n",
            "max_pooling2d_5 (MaxPooling2 (None, 4, 4, 128)         0         \n",
            "_________________________________________________________________\n",
            "flatten (Flatten)            (None, 2048)              0         \n",
            "_________________________________________________________________\n",
            "dropout_6 (Dropout)          (None, 2048)              0         \n",
            "_________________________________________________________________\n",
            "dense (Dense)                (None, 2500)              5122500   \n",
            "_________________________________________________________________\n",
            "dropout_7 (Dropout)          (None, 2500)              0         \n",
            "_________________________________________________________________\n",
            "dense_1 (Dense)              (None, 1500)              3751500   \n",
            "_________________________________________________________________\n",
            "dropout_8 (Dropout)          (None, 1500)              0         \n",
            "_________________________________________________________________\n",
            "dense_2 (Dense)              (None, 10)                15010     \n",
            "=================================================================\n",
            "Total params: 9,176,018\n",
            "Trainable params: 9,176,018\n",
            "Non-trainable params: 0\n",
            "_________________________________________________________________\n",
            "None\n"
          ],
          "name": "stdout"
        }
      ]
    },
    {
      "cell_type": "code",
      "metadata": {
        "colab": {
          "base_uri": "https://localhost:8080/"
        },
        "id": "j64CEumxZvDu",
        "outputId": "d0df6a66-7c2c-43af-8ae8-1c0d22ab0e70"
      },
      "source": [
        "model.compile(loss='categorical_crossentropy',optimizer='adam',metrics=['accuracy'])\n",
        "train_history=model.fit(x_img_train_normalize,y_label_train_OneHot,validation_split=0.2,epochs=50,batch_size=300,verbose=2)"
      ],
      "execution_count": 36,
      "outputs": [
        {
          "output_type": "stream",
          "text": [
            "Epoch 1/50\n",
            "134/134 - 34s - loss: 1.7456 - accuracy: 0.3538 - val_loss: 1.4112 - val_accuracy: 0.4857\n",
            "Epoch 2/50\n",
            "134/134 - 3s - loss: 1.2987 - accuracy: 0.5246 - val_loss: 1.1985 - val_accuracy: 0.5595\n",
            "Epoch 3/50\n",
            "134/134 - 3s - loss: 1.0539 - accuracy: 0.6227 - val_loss: 1.0276 - val_accuracy: 0.6259\n",
            "Epoch 4/50\n",
            "134/134 - 3s - loss: 0.8530 - accuracy: 0.6954 - val_loss: 0.8804 - val_accuracy: 0.6947\n",
            "Epoch 5/50\n",
            "134/134 - 3s - loss: 0.6955 - accuracy: 0.7540 - val_loss: 0.7915 - val_accuracy: 0.7258\n",
            "Epoch 6/50\n",
            "134/134 - 3s - loss: 0.5547 - accuracy: 0.8055 - val_loss: 0.7702 - val_accuracy: 0.7378\n",
            "Epoch 7/50\n",
            "134/134 - 3s - loss: 0.4267 - accuracy: 0.8511 - val_loss: 0.8090 - val_accuracy: 0.7510\n",
            "Epoch 8/50\n",
            "134/134 - 3s - loss: 0.3075 - accuracy: 0.8913 - val_loss: 0.8488 - val_accuracy: 0.7553\n",
            "Epoch 9/50\n",
            "134/134 - 3s - loss: 0.2093 - accuracy: 0.9255 - val_loss: 0.9596 - val_accuracy: 0.7499\n",
            "Epoch 10/50\n",
            "134/134 - 3s - loss: 0.1497 - accuracy: 0.9476 - val_loss: 1.0495 - val_accuracy: 0.7482\n",
            "Epoch 11/50\n",
            "134/134 - 3s - loss: 0.1101 - accuracy: 0.9617 - val_loss: 1.0790 - val_accuracy: 0.7486\n",
            "Epoch 12/50\n",
            "134/134 - 3s - loss: 0.0909 - accuracy: 0.9696 - val_loss: 1.3089 - val_accuracy: 0.7364\n",
            "Epoch 13/50\n",
            "134/134 - 3s - loss: 0.0791 - accuracy: 0.9719 - val_loss: 1.3447 - val_accuracy: 0.7578\n",
            "Epoch 14/50\n",
            "134/134 - 3s - loss: 0.0607 - accuracy: 0.9795 - val_loss: 1.3442 - val_accuracy: 0.7419\n",
            "Epoch 15/50\n",
            "134/134 - 3s - loss: 0.0734 - accuracy: 0.9754 - val_loss: 1.4552 - val_accuracy: 0.7475\n",
            "Epoch 16/50\n",
            "134/134 - 3s - loss: 0.0452 - accuracy: 0.9862 - val_loss: 1.6878 - val_accuracy: 0.7512\n",
            "Epoch 17/50\n",
            "134/134 - 3s - loss: 0.0453 - accuracy: 0.9840 - val_loss: 1.5196 - val_accuracy: 0.7515\n",
            "Epoch 18/50\n",
            "134/134 - 3s - loss: 0.0538 - accuracy: 0.9820 - val_loss: 1.4227 - val_accuracy: 0.7490\n",
            "Epoch 19/50\n",
            "134/134 - 3s - loss: 0.0512 - accuracy: 0.9830 - val_loss: 1.5624 - val_accuracy: 0.7454\n",
            "Epoch 20/50\n",
            "134/134 - 3s - loss: 0.0532 - accuracy: 0.9819 - val_loss: 1.4147 - val_accuracy: 0.7534\n",
            "Epoch 21/50\n",
            "134/134 - 3s - loss: 0.0276 - accuracy: 0.9915 - val_loss: 1.5548 - val_accuracy: 0.7585\n",
            "Epoch 22/50\n",
            "134/134 - 3s - loss: 0.0456 - accuracy: 0.9850 - val_loss: 1.5796 - val_accuracy: 0.7524\n",
            "Epoch 23/50\n",
            "134/134 - 3s - loss: 0.0407 - accuracy: 0.9870 - val_loss: 1.6048 - val_accuracy: 0.7504\n",
            "Epoch 24/50\n",
            "134/134 - 3s - loss: 0.0396 - accuracy: 0.9870 - val_loss: 1.5626 - val_accuracy: 0.7511\n",
            "Epoch 25/50\n",
            "134/134 - 3s - loss: 0.0342 - accuracy: 0.9889 - val_loss: 1.5207 - val_accuracy: 0.7578\n",
            "Epoch 26/50\n",
            "134/134 - 3s - loss: 0.0372 - accuracy: 0.9876 - val_loss: 1.6583 - val_accuracy: 0.7517\n",
            "Epoch 27/50\n",
            "134/134 - 3s - loss: 0.0362 - accuracy: 0.9871 - val_loss: 1.6725 - val_accuracy: 0.7510\n",
            "Epoch 28/50\n",
            "134/134 - 3s - loss: 0.0384 - accuracy: 0.9877 - val_loss: 1.5263 - val_accuracy: 0.7512\n",
            "Epoch 29/50\n",
            "134/134 - 3s - loss: 0.0357 - accuracy: 0.9878 - val_loss: 1.5243 - val_accuracy: 0.7506\n",
            "Epoch 30/50\n",
            "134/134 - 3s - loss: 0.0298 - accuracy: 0.9902 - val_loss: 1.8521 - val_accuracy: 0.7471\n",
            "Epoch 31/50\n",
            "134/134 - 3s - loss: 0.0403 - accuracy: 0.9873 - val_loss: 1.5740 - val_accuracy: 0.7505\n",
            "Epoch 32/50\n",
            "134/134 - 3s - loss: 0.0336 - accuracy: 0.9894 - val_loss: 1.8101 - val_accuracy: 0.7422\n",
            "Epoch 33/50\n",
            "134/134 - 3s - loss: 0.0360 - accuracy: 0.9881 - val_loss: 1.7497 - val_accuracy: 0.7368\n",
            "Epoch 34/50\n",
            "134/134 - 3s - loss: 0.0325 - accuracy: 0.9890 - val_loss: 1.7045 - val_accuracy: 0.7524\n",
            "Epoch 35/50\n",
            "134/134 - 3s - loss: 0.0273 - accuracy: 0.9915 - val_loss: 1.7355 - val_accuracy: 0.7561\n",
            "Epoch 36/50\n",
            "134/134 - 3s - loss: 0.0272 - accuracy: 0.9911 - val_loss: 1.9126 - val_accuracy: 0.7355\n",
            "Epoch 37/50\n",
            "134/134 - 3s - loss: 0.0386 - accuracy: 0.9869 - val_loss: 1.7006 - val_accuracy: 0.7520\n",
            "Epoch 38/50\n",
            "134/134 - 3s - loss: 0.0343 - accuracy: 0.9885 - val_loss: 1.7525 - val_accuracy: 0.7558\n",
            "Epoch 39/50\n",
            "134/134 - 3s - loss: 0.0247 - accuracy: 0.9919 - val_loss: 1.7622 - val_accuracy: 0.7568\n",
            "Epoch 40/50\n",
            "134/134 - 3s - loss: 0.0246 - accuracy: 0.9923 - val_loss: 1.7898 - val_accuracy: 0.7500\n",
            "Epoch 41/50\n",
            "134/134 - 3s - loss: 0.0295 - accuracy: 0.9899 - val_loss: 1.7744 - val_accuracy: 0.7518\n",
            "Epoch 42/50\n",
            "134/134 - 3s - loss: 0.0314 - accuracy: 0.9900 - val_loss: 1.8407 - val_accuracy: 0.7497\n",
            "Epoch 43/50\n",
            "134/134 - 3s - loss: 0.0379 - accuracy: 0.9876 - val_loss: 1.6116 - val_accuracy: 0.7494\n",
            "Epoch 44/50\n",
            "134/134 - 3s - loss: 0.0220 - accuracy: 0.9931 - val_loss: 1.7457 - val_accuracy: 0.7580\n",
            "Epoch 45/50\n",
            "134/134 - 3s - loss: 0.0255 - accuracy: 0.9923 - val_loss: 1.7608 - val_accuracy: 0.7497\n",
            "Epoch 46/50\n",
            "134/134 - 3s - loss: 0.0300 - accuracy: 0.9906 - val_loss: 1.8383 - val_accuracy: 0.7364\n",
            "Epoch 47/50\n",
            "134/134 - 3s - loss: 0.0252 - accuracy: 0.9921 - val_loss: 1.7612 - val_accuracy: 0.7556\n",
            "Epoch 48/50\n",
            "134/134 - 3s - loss: 0.0203 - accuracy: 0.9932 - val_loss: 1.9497 - val_accuracy: 0.7425\n",
            "Epoch 49/50\n",
            "134/134 - 3s - loss: 0.0355 - accuracy: 0.9890 - val_loss: 1.6738 - val_accuracy: 0.7458\n",
            "Epoch 50/50\n",
            "134/134 - 3s - loss: 0.0175 - accuracy: 0.9943 - val_loss: 1.9033 - val_accuracy: 0.7523\n"
          ],
          "name": "stdout"
        }
      ]
    },
    {
      "cell_type": "code",
      "metadata": {
        "id": "rzLTGAOzZ7zi"
      },
      "source": [
        "from matplotlib import pyplot as plt\n",
        "def show_train_history(train_history,train,validation):\n",
        "  plt.plot(train_history.history[train])\n",
        "  plt.plot(train_history.history[validation])\n",
        "  plt.title('Train History')\n",
        "  plt.ylabel('train')\n",
        "  plt.xlabel('Epoch')\n",
        "  plt.legend(['train','validation'],loc='upper left')\n",
        "  plt.show()"
      ],
      "execution_count": 37,
      "outputs": []
    },
    {
      "cell_type": "code",
      "metadata": {
        "colab": {
          "base_uri": "https://localhost:8080/",
          "height": 295
        },
        "id": "FliqaslyfUOd",
        "outputId": "824a3007-f3f7-4f9a-c0c5-aeddbe1fa117"
      },
      "source": [
        "show_train_history(train_history,'accuracy','val_accuracy')"
      ],
      "execution_count": 38,
      "outputs": [
        {
          "output_type": "display_data",
          "data": {
            "image/png": "[encoded data removed]",
            "text/plain": [
              "<Figure size 432x288 with 1 Axes>"
            ]
          },
          "metadata": {
            "tags": [],
            "needs_background": "light"
          }
        }
      ]
    },
    {
      "cell_type": "code",
      "metadata": {
        "colab": {
          "base_uri": "https://localhost:8080/",
          "height": 295
        },
        "id": "CLUnjiW4fbvQ",
        "outputId": "0b0d166e-a3a5-4f5f-d0ff-610bc48d00f0"
      },
      "source": [
        "show_train_history(train_history,'loss','val_loss')"
      ],
      "execution_count": 39,
      "outputs": [
        {
          "output_type": "display_data",
          "data": {
            "image/png": "[encoded data removed]",
            "text/plain": [
              "<Figure size 432x288 with 1 Axes>"
            ]
          },
          "metadata": {
            "tags": [],
            "needs_background": "light"
          }
        }
      ]
    },
    {
      "cell_type": "code",
      "metadata": {
        "id": "J5uBX8IWgmJ8"
      },
      "source": [
        "### estimate model accuracy"
      ],
      "execution_count": 40,
      "outputs": []
    },
    {
      "cell_type": "code",
      "metadata": {
        "id": "CNqM3qWAgmRX"
      },
      "source": [
        "scores=model.evaluate(x_img_test_normalize,y_label_test_OneHot,verbose=0)"
      ],
      "execution_count": 41,
      "outputs": []
    },
    {
      "cell_type": "code",
      "metadata": {
        "colab": {
          "base_uri": "https://localhost:8080/"
        },
        "id": "cLAn9V1ogrBf",
        "outputId": "02353c97-fe0f-467d-c552-26b38f77bfe5"
      },
      "source": [
        "print(f'Test loss: {scores[0]} / Test accuracy: {scores[1]}')"
      ],
      "execution_count": 43,
      "outputs": [
        {
          "output_type": "stream",
          "text": [
            "Test loss: 1.904371738433838 / Test accuracy: 0.7556999921798706\n"
          ],
          "name": "stdout"
        }
      ]
    },
    {
      "cell_type": "code",
      "metadata": {
        "colab": {
          "base_uri": "https://localhost:8080/"
        },
        "id": "UNRhGtVugvNM",
        "outputId": "a24eeea1-1026-4e0a-b187-cf1a22ff96ca"
      },
      "source": [
        "prediction=model.predict_classes(x_img_test_normalize) ### prediction"
      ],
      "execution_count": 44,
      "outputs": [
        {
          "output_type": "stream",
          "text": [
            "/usr/local/lib/python3.7/dist-packages/tensorflow/python/keras/engine/sequential.py:450: UserWarning: `model.predict_classes()` is deprecated and will be removed after 2021-01-01. Please use instead:* `np.argmax(model.predict(x), axis=-1)`,   if your model does multi-class classification   (e.g. if it uses a `softmax` last-layer activation).* `(model.predict(x) > 0.5).astype(\"int32\")`,   if your model does binary classification   (e.g. if it uses a `sigmoid` last-layer activation).\n",
            "  warnings.warn('`model.predict_classes()` is deprecated and '\n"
          ],
          "name": "stderr"
        }
      ]
    },
    {
      "cell_type": "code",
      "metadata": {
        "colab": {
          "base_uri": "https://localhost:8080/"
        },
        "id": "e9dj4EcTkNPd",
        "outputId": "f2425f86-7d19-4111-aa4d-f1a5d4242851"
      },
      "source": [
        "prediction"
      ],
      "execution_count": 45,
      "outputs": [
        {
          "output_type": "execute_result",
          "data": {
            "text/plain": [
              "array([3, 8, 8, ..., 5, 1, 7])"
            ]
          },
          "metadata": {
            "tags": []
          },
          "execution_count": 45
        }
      ]
    },
    {
      "cell_type": "code",
      "metadata": {
        "id": "ii4zLAJNgz_w"
      },
      "source": [
        "def plot_images_labels_prediction(images,labels,prediction,idx,num=10):\n",
        "  fig=plt.gcf()\n",
        "  fig.set_size_inches(12,14)\n",
        "  if num>25:num=25\n",
        "  for i in range(0,num):\n",
        "    ax=plt.subplot(5,5,1+i)\n",
        "    ax.imshow(images[idx],cmap='binary')\n",
        "    title=str(i) +',' +label_dict[labels[i][0]]\n",
        "    if len(prediction)>0:\n",
        "      title+='=>'+label_dict[prediction[i]]\n",
        "    ax.set_title(title,fontsize=10)\n",
        "    ax.set_xticks([]);ax.set_yticks([])\n",
        "    idx+=1\n",
        "  plt.show()"
      ],
      "execution_count": 46,
      "outputs": []
    },
    {
      "cell_type": "code",
      "metadata": {
        "colab": {
          "base_uri": "https://localhost:8080/",
          "height": 321
        },
        "id": "Ss7dd8dJg2UX",
        "outputId": "28a62910-1917-4319-da50-d5ad53331a72"
      },
      "source": [
        "plot_images_labels_prediction(x_img_test,y_label_test,prediction,0,10)"
      ],
      "execution_count": 47,
      "outputs": [
        {
          "output_type": "display_data",
          "data": {
            "image/png": "[encoded data removed]",
            "text/plain": [
              "<Figure size 864x1008 with 10 Axes>"
            ]
          },
          "metadata": {
            "tags": []
          }
        }
      ]
    },
    {
      "cell_type": "code",
      "metadata": {
        "id": "PpPOXOuZg6wp"
      },
      "source": [
        "# check for prediction rate\n",
        "predicted_Probability=model.predict(x_img_test_normalize)"
      ],
      "execution_count": 48,
      "outputs": []
    },
    {
      "cell_type": "code",
      "metadata": {
        "id": "ykuUEDYlg_vY"
      },
      "source": [
        "def show_predicted_probability(y,prediction,x_img,predicted_Probability,i):\n",
        "  print('label:',label_dict[y[i][0]],\n",
        "        'predict',label_dict[prediction[i]])\n",
        "  plt.figure(figsize=(2,2))\n",
        "  plt.imshow(np.reshape(x_img_test[i],(32,32,3)))\n",
        "  plt.show()\n",
        "  for j in range(10):\n",
        "    print(label_dict[j]+ ' probability:%1.9f'%(predicted_Probability[i][j]))\n"
      ],
      "execution_count": 49,
      "outputs": []
    },
    {
      "cell_type": "code",
      "metadata": {
        "colab": {
          "base_uri": "https://localhost:8080/",
          "height": 355
        },
        "id": "EDAw57mNhCGo",
        "outputId": "142c6822-790e-4110-f818-1caad6b3b358"
      },
      "source": [
        "show_predicted_probability(y_label_test,prediction,x_img_test,predicted_Probability,0)"
      ],
      "execution_count": 50,
      "outputs": [
        {
          "output_type": "stream",
          "text": [
            "label: cat predict cat\n"
          ],
          "name": "stdout"
        },
        {
          "output_type": "display_data",
          "data": {
            "image/png": "[encoded data removed]",
            "text/plain": [
              "<Figure size 144x144 with 1 Axes>"
            ]
          },
          "metadata": {
            "tags": [],
            "needs_background": "light"
          }
        },
        {
          "output_type": "stream",
          "text": [
            "airplane probability:0.000000000\n",
            "automobile probability:0.000000000\n",
            "bird probability:0.000000000\n",
            "cat probability:0.999199927\n",
            "deer probability:0.000000000\n",
            "dog probability:0.000800066\n",
            "frog probability:0.000000003\n",
            "horse probability:0.000000000\n",
            "ship probability:0.000000050\n",
            "truck probability:0.000000000\n"
          ],
          "name": "stdout"
        }
      ]
    },
    {
      "cell_type": "markdown",
      "metadata": {
        "id": "N5rt2fK5fntZ"
      },
      "source": [
        "#Confusion matrix"
      ]
    },
    {
      "cell_type": "code",
      "metadata": {
        "id": "TjlrqQgShBjE"
      },
      "source": [
        "import pandas as pd"
      ],
      "execution_count": 51,
      "outputs": []
    },
    {
      "cell_type": "code",
      "metadata": {
        "colab": {
          "base_uri": "https://localhost:8080/",
          "height": 370
        },
        "id": "vD-agaQbfqVp",
        "outputId": "6537c540-f21a-4a6a-d1cb-6b9726a676f0"
      },
      "source": [
        "pd.crosstab(y_label_test.reshape(-1),prediction,rownames=['label'],colnames=['predict'])"
      ],
      "execution_count": 52,
      "outputs": [
        {
          "output_type": "execute_result",
          "data": {
            "text/html": [
              "<div>\n",
              "<style scoped>\n",
              "    .dataframe tbody tr th:only-of-type {\n",
              "        vertical-align: middle;\n",
              "    }\n",
              "\n",
              "    .dataframe tbody tr th {\n",
              "        vertical-align: top;\n",
              "    }\n",
              "\n",
              "    .dataframe thead th {\n",
              "        text-align: right;\n",
              "    }\n",
              "</style>\n",
              "<table border=\"1\" class=\"dataframe\">\n",
              "  <thead>\n",
              "    <tr style=\"text-align: right;\">\n",
              "      <th>predict</th>\n",
              "      <th>0</th>\n",
              "      <th>1</th>\n",
              "      <th>2</th>\n",
              "      <th>3</th>\n",
              "      <th>4</th>\n",
              "      <th>5</th>\n",
              "      <th>6</th>\n",
              "      <th>7</th>\n",
              "      <th>8</th>\n",
              "      <th>9</th>\n",
              "    </tr>\n",
              "    <tr>\n",
              "      <th>label</th>\n",
              "      <th></th>\n",
              "      <th></th>\n",
              "      <th></th>\n",
              "      <th></th>\n",
              "      <th></th>\n",
              "      <th></th>\n",
              "      <th></th>\n",
              "      <th></th>\n",
              "      <th></th>\n",
              "      <th></th>\n",
              "    </tr>\n",
              "  </thead>\n",
              "  <tbody>\n",
              "    <tr>\n",
              "      <th>0</th>\n",
              "      <td>819</td>\n",
              "      <td>23</td>\n",
              "      <td>36</td>\n",
              "      <td>16</td>\n",
              "      <td>9</td>\n",
              "      <td>6</td>\n",
              "      <td>13</td>\n",
              "      <td>8</td>\n",
              "      <td>33</td>\n",
              "      <td>37</td>\n",
              "    </tr>\n",
              "    <tr>\n",
              "      <th>1</th>\n",
              "      <td>11</td>\n",
              "      <td>898</td>\n",
              "      <td>3</td>\n",
              "      <td>3</td>\n",
              "      <td>2</td>\n",
              "      <td>4</td>\n",
              "      <td>7</td>\n",
              "      <td>0</td>\n",
              "      <td>14</td>\n",
              "      <td>58</td>\n",
              "    </tr>\n",
              "    <tr>\n",
              "      <th>2</th>\n",
              "      <td>63</td>\n",
              "      <td>7</td>\n",
              "      <td>642</td>\n",
              "      <td>55</td>\n",
              "      <td>70</td>\n",
              "      <td>53</td>\n",
              "      <td>58</td>\n",
              "      <td>36</td>\n",
              "      <td>10</td>\n",
              "      <td>6</td>\n",
              "    </tr>\n",
              "    <tr>\n",
              "      <th>3</th>\n",
              "      <td>25</td>\n",
              "      <td>9</td>\n",
              "      <td>46</td>\n",
              "      <td>493</td>\n",
              "      <td>52</td>\n",
              "      <td>191</td>\n",
              "      <td>78</td>\n",
              "      <td>51</td>\n",
              "      <td>27</td>\n",
              "      <td>28</td>\n",
              "    </tr>\n",
              "    <tr>\n",
              "      <th>4</th>\n",
              "      <td>25</td>\n",
              "      <td>2</td>\n",
              "      <td>53</td>\n",
              "      <td>60</td>\n",
              "      <td>703</td>\n",
              "      <td>25</td>\n",
              "      <td>49</td>\n",
              "      <td>70</td>\n",
              "      <td>7</td>\n",
              "      <td>6</td>\n",
              "    </tr>\n",
              "    <tr>\n",
              "      <th>5</th>\n",
              "      <td>15</td>\n",
              "      <td>6</td>\n",
              "      <td>33</td>\n",
              "      <td>147</td>\n",
              "      <td>40</td>\n",
              "      <td>641</td>\n",
              "      <td>25</td>\n",
              "      <td>68</td>\n",
              "      <td>10</td>\n",
              "      <td>15</td>\n",
              "    </tr>\n",
              "    <tr>\n",
              "      <th>6</th>\n",
              "      <td>9</td>\n",
              "      <td>3</td>\n",
              "      <td>25</td>\n",
              "      <td>35</td>\n",
              "      <td>30</td>\n",
              "      <td>25</td>\n",
              "      <td>844</td>\n",
              "      <td>7</td>\n",
              "      <td>12</td>\n",
              "      <td>10</td>\n",
              "    </tr>\n",
              "    <tr>\n",
              "      <th>7</th>\n",
              "      <td>17</td>\n",
              "      <td>7</td>\n",
              "      <td>17</td>\n",
              "      <td>23</td>\n",
              "      <td>37</td>\n",
              "      <td>39</td>\n",
              "      <td>7</td>\n",
              "      <td>843</td>\n",
              "      <td>1</td>\n",
              "      <td>9</td>\n",
              "    </tr>\n",
              "    <tr>\n",
              "      <th>8</th>\n",
              "      <td>68</td>\n",
              "      <td>30</td>\n",
              "      <td>7</td>\n",
              "      <td>6</td>\n",
              "      <td>3</td>\n",
              "      <td>4</td>\n",
              "      <td>9</td>\n",
              "      <td>5</td>\n",
              "      <td>840</td>\n",
              "      <td>28</td>\n",
              "    </tr>\n",
              "    <tr>\n",
              "      <th>9</th>\n",
              "      <td>22</td>\n",
              "      <td>74</td>\n",
              "      <td>5</td>\n",
              "      <td>15</td>\n",
              "      <td>4</td>\n",
              "      <td>4</td>\n",
              "      <td>6</td>\n",
              "      <td>11</td>\n",
              "      <td>25</td>\n",
              "      <td>834</td>\n",
              "    </tr>\n",
              "  </tbody>\n",
              "</table>\n",
              "</div>"
            ],
            "text/plain": [
              "predict    0    1    2    3    4    5    6    7    8    9\n",
              "label                                                    \n",
              "0        819   23   36   16    9    6   13    8   33   37\n",
              "1         11  898    3    3    2    4    7    0   14   58\n",
              "2         63    7  642   55   70   53   58   36   10    6\n",
              "3         25    9   46  493   52  191   78   51   27   28\n",
              "4         25    2   53   60  703   25   49   70    7    6\n",
              "5         15    6   33  147   40  641   25   68   10   15\n",
              "6          9    3   25   35   30   25  844    7   12   10\n",
              "7         17    7   17   23   37   39    7  843    1    9\n",
              "8         68   30    7    6    3    4    9    5  840   28\n",
              "9         22   74    5   15    4    4    6   11   25  834"
            ]
          },
          "metadata": {
            "tags": []
          },
          "execution_count": 52
        }
      ]
    },
    {
      "cell_type": "code",
      "metadata": {
        "id": "mvxedLAxgTfS"
      },
      "source": [
        ""
      ],
      "execution_count": null,
      "outputs": []
    }
  ]
}