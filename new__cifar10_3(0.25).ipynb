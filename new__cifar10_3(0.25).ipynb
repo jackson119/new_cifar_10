{
  "nbformat": 4,
  "nbformat_minor": 0,
  "metadata": {
    "accelerator": "GPU",
    "colab": {
      "name": " new_ cifar10_3(0.25).ipynb",
      "provenance": [],
      "collapsed_sections": [
        "N5rt2fK5fntZ"
      ],
      "authorship_tag": "ABX9TyOw5z0PtHeTLftorHZMmt0D",
      "include_colab_link": true
    },
    "kernelspec": {
      "display_name": "Python 3",
      "name": "python3"
    },
    "language_info": {
      "name": "python"
    }
  },
  "cells": [
    {
      "cell_type": "markdown",
      "metadata": {
        "id": "view-in-github",
        "colab_type": "text"
      },
      "source": [
        "<a href=\"https://colab.research.google.com/github/jackson119/new_cifar_10/blob/main/new__cifar10_3(0.25).ipynb\" target=\"_parent\"><img src=\"https://colab.research.google.com/assets/colab-badge.svg\" alt=\"Open In Colab\"/></a>"
      ]
    },
    {
      "cell_type": "markdown",
      "metadata": {
        "id": "SGKXC7W7pnht"
      },
      "source": [
        "# Data Preprocessing"
      ]
    },
    {
      "cell_type": "code",
      "metadata": {
        "id": "91H4jfpypp4h"
      },
      "source": [
        "from tensorflow.keras.datasets import cifar10\n",
        "import numpy as np\n",
        "np.random.seed(10)"
      ],
      "execution_count": 7,
      "outputs": []
    },
    {
      "cell_type": "code",
      "metadata": {
        "id": "jrfbgEOdprAB"
      },
      "source": [
        "(x_img_train,y_label_train),(x_img_test,y_label_test)=cifar10.load_data()"
      ],
      "execution_count": 8,
      "outputs": []
    },
    {
      "cell_type": "code",
      "metadata": {
        "colab": {
          "base_uri": "https://localhost:8080/"
        },
        "id": "Bv64ED30R18B",
        "outputId": "d7cec178-62fb-416a-d9b7-bc67b5760d43"
      },
      "source": [
        "print(\"train data:\",\"images:\",x_img_train.shape,\"labels:\",y_label_train.shape)\n",
        "print(\"test data:\",\"images:\",x_img_test.shape,\"labels:\",y_label_test.shape)"
      ],
      "execution_count": 9,
      "outputs": [
        {
          "output_type": "stream",
          "text": [
            "train data: images: (50000, 32, 32, 3) labels: (50000, 1)\n",
            "test data: images: (10000, 32, 32, 3) labels: (10000, 1)\n"
          ],
          "name": "stdout"
        }
      ]
    },
    {
      "cell_type": "markdown",
      "metadata": {
        "id": "10BLqTKNSYKW"
      },
      "source": [
        "# standardize and perform one hot encoding"
      ]
    },
    {
      "cell_type": "code",
      "metadata": {
        "id": "_bdYalY-Sfva"
      },
      "source": [
        "x_img_train_normalize=x_img_train.astype('float32')/255.0\n",
        "x_img_test_normalize=x_img_test.astype('float32')/255.0"
      ],
      "execution_count": 10,
      "outputs": []
    },
    {
      "cell_type": "code",
      "metadata": {
        "id": "-7OJEuxpSpXX"
      },
      "source": [
        "from tensorflow.keras import utils"
      ],
      "execution_count": 11,
      "outputs": []
    },
    {
      "cell_type": "code",
      "metadata": {
        "id": "bvesDQfhSsmH"
      },
      "source": [
        "y_label_train_OneHot=utils.to_categorical(y_label_train)\n",
        "y_label_test_OneHot=utils.to_categorical(y_label_test)"
      ],
      "execution_count": 12,
      "outputs": []
    },
    {
      "cell_type": "markdown",
      "metadata": {
        "id": "DSmFxX9xSwCN"
      },
      "source": [
        "# Images and label"
      ]
    },
    {
      "cell_type": "code",
      "metadata": {
        "id": "6AshrU3USxld"
      },
      "source": [
        "label_dict={0:\"airplane\",1:\"automobile\",2:\"bird\",3:\"cat\",4:\"deer\",5:\"dog\",6:\"frog\",7:\"horse\",8:\"ship\",9:\"truck\"}"
      ],
      "execution_count": 13,
      "outputs": []
    },
    {
      "cell_type": "code",
      "metadata": {
        "id": "KADDqJmsSzCc"
      },
      "source": [
        "# Construct model\n",
        "from keras.models import Sequential\n",
        "from keras.layers import Dense,Dropout,Activation,Flatten\n",
        "from keras.layers import Conv2D,MaxPooling2D,ZeroPadding2D"
      ],
      "execution_count": 14,
      "outputs": []
    },
    {
      "cell_type": "code",
      "metadata": {
        "id": "2tUCpCqHS5sb"
      },
      "source": [
        "model=Sequential()"
      ],
      "execution_count": 15,
      "outputs": []
    },
    {
      "cell_type": "code",
      "metadata": {
        "id": "IP4YwNOFS62i"
      },
      "source": [
        "model.add(Conv2D(filters=32,kernel_size=(3,3),input_shape=(32,32,3),activation='relu',padding='same'))\n",
        "model.add(Dropout(0.25))\n",
        "model.add(Conv2D(filters=32,kernel_size=(3,3),activation='relu',padding='same'))\n",
        "model.add(MaxPooling2D(pool_size=(2,2)))"
      ],
      "execution_count": 16,
      "outputs": []
    },
    {
      "cell_type": "code",
      "metadata": {
        "id": "VrEsDZ3OYZv6"
      },
      "source": [
        "model.add(Conv2D(filters=64,kernel_size=(3,3),activation='relu',padding='same'))\n",
        "model.add(Dropout(0.25))\n",
        "model.add(Conv2D(filters=64,kernel_size=(3,3),activation='relu',padding='same'))\n",
        "model.add(MaxPooling2D(pool_size=(2,2)))"
      ],
      "execution_count": 17,
      "outputs": []
    },
    {
      "cell_type": "code",
      "metadata": {
        "id": "Lfbpty5kYwiH"
      },
      "source": [
        "model.add(Conv2D(filters=128,kernel_size=(3,3),activation='relu',padding='same'))\n",
        "model.add(Dropout(0.25))\n",
        "model.add(Conv2D(filters=128,kernel_size=(3,3),activation='relu',padding='same'))\n",
        "model.add(MaxPooling2D(pool_size=(2,2)))"
      ],
      "execution_count": 18,
      "outputs": []
    },
    {
      "cell_type": "code",
      "metadata": {
        "id": "YGEmb5pbZYhj"
      },
      "source": [
        "### neural network\n",
        "model.add(Flatten())\n",
        "model.add(Dropout(0.25))\n",
        "### hidden layer 1\n",
        "model.add(Dense(2500,activation='relu'))\n",
        "model.add(Dropout(0.25))\n",
        "### hidden layer 2\n",
        "model.add(Dense(1500,activation='relu'))\n",
        "model.add(Dropout(0.25))\n",
        "### output layer\n",
        "model.add(Dense(10,activation='softmax'))"
      ],
      "execution_count": 19,
      "outputs": []
    },
    {
      "cell_type": "code",
      "metadata": {
        "colab": {
          "base_uri": "https://localhost:8080/"
        },
        "id": "2kjnUEYuZtK5",
        "outputId": "08f23b99-129f-45b2-ccc4-3de6d6465f3a"
      },
      "source": [
        "print(model.summary())"
      ],
      "execution_count": 20,
      "outputs": [
        {
          "output_type": "stream",
          "text": [
            "Model: \"sequential\"\n",
            "_________________________________________________________________\n",
            "Layer (type)                 Output Shape              Param #   \n",
            "=================================================================\n",
            "conv2d (Conv2D)              (None, 32, 32, 32)        896       \n",
            "_________________________________________________________________\n",
            "dropout (Dropout)            (None, 32, 32, 32)        0         \n",
            "_________________________________________________________________\n",
            "conv2d_1 (Conv2D)            (None, 32, 32, 32)        9248      \n",
            "_________________________________________________________________\n",
            "max_pooling2d (MaxPooling2D) (None, 16, 16, 32)        0         \n",
            "_________________________________________________________________\n",
            "conv2d_2 (Conv2D)            (None, 16, 16, 64)        18496     \n",
            "_________________________________________________________________\n",
            "dropout_1 (Dropout)          (None, 16, 16, 64)        0         \n",
            "_________________________________________________________________\n",
            "conv2d_3 (Conv2D)            (None, 16, 16, 64)        36928     \n",
            "_________________________________________________________________\n",
            "max_pooling2d_1 (MaxPooling2 (None, 8, 8, 64)          0         \n",
            "_________________________________________________________________\n",
            "conv2d_4 (Conv2D)            (None, 8, 8, 128)         73856     \n",
            "_________________________________________________________________\n",
            "dropout_2 (Dropout)          (None, 8, 8, 128)         0         \n",
            "_________________________________________________________________\n",
            "conv2d_5 (Conv2D)            (None, 8, 8, 128)         147584    \n",
            "_________________________________________________________________\n",
            "max_pooling2d_2 (MaxPooling2 (None, 4, 4, 128)         0         \n",
            "_________________________________________________________________\n",
            "flatten (Flatten)            (None, 2048)              0         \n",
            "_________________________________________________________________\n",
            "dropout_3 (Dropout)          (None, 2048)              0         \n",
            "_________________________________________________________________\n",
            "dense (Dense)                (None, 2500)              5122500   \n",
            "_________________________________________________________________\n",
            "dropout_4 (Dropout)          (None, 2500)              0         \n",
            "_________________________________________________________________\n",
            "dense_1 (Dense)              (None, 1500)              3751500   \n",
            "_________________________________________________________________\n",
            "dropout_5 (Dropout)          (None, 1500)              0         \n",
            "_________________________________________________________________\n",
            "dense_2 (Dense)              (None, 10)                15010     \n",
            "=================================================================\n",
            "Total params: 9,176,018\n",
            "Trainable params: 9,176,018\n",
            "Non-trainable params: 0\n",
            "_________________________________________________________________\n",
            "None\n"
          ],
          "name": "stdout"
        }
      ]
    },
    {
      "cell_type": "code",
      "metadata": {
        "colab": {
          "base_uri": "https://localhost:8080/"
        },
        "id": "j64CEumxZvDu",
        "outputId": "1abe27a0-53fb-4709-c92f-4f85a95a9fcf"
      },
      "source": [
        "model.compile(loss='categorical_crossentropy',optimizer='adam',metrics=['accuracy'])\n",
        "train_history=model.fit(x_img_train_normalize,y_label_train_OneHot,validation_split=0.2,epochs=50,batch_size=300,verbose=2)"
      ],
      "execution_count": 21,
      "outputs": [
        {
          "output_type": "stream",
          "text": [
            "Epoch 1/50\n",
            "134/134 - 41s - loss: 1.9045 - accuracy: 0.2840 - val_loss: 1.7101 - val_accuracy: 0.3831\n",
            "Epoch 2/50\n",
            "134/134 - 9s - loss: 1.4679 - accuracy: 0.4559 - val_loss: 1.3320 - val_accuracy: 0.5324\n",
            "Epoch 3/50\n",
            "134/134 - 10s - loss: 1.2402 - accuracy: 0.5492 - val_loss: 1.2864 - val_accuracy: 0.5358\n",
            "Epoch 4/50\n",
            "134/134 - 10s - loss: 1.0902 - accuracy: 0.6083 - val_loss: 1.0256 - val_accuracy: 0.6404\n",
            "Epoch 5/50\n",
            "134/134 - 10s - loss: 0.9769 - accuracy: 0.6498 - val_loss: 0.9170 - val_accuracy: 0.6739\n",
            "Epoch 6/50\n",
            "134/134 - 10s - loss: 0.8769 - accuracy: 0.6876 - val_loss: 0.8522 - val_accuracy: 0.6973\n",
            "Epoch 7/50\n",
            "134/134 - 10s - loss: 0.8283 - accuracy: 0.7060 - val_loss: 0.8359 - val_accuracy: 0.7154\n",
            "Epoch 8/50\n",
            "134/134 - 10s - loss: 0.7469 - accuracy: 0.7347 - val_loss: 0.7619 - val_accuracy: 0.7344\n",
            "Epoch 9/50\n",
            "134/134 - 10s - loss: 0.6922 - accuracy: 0.7558 - val_loss: 0.7417 - val_accuracy: 0.7423\n",
            "Epoch 10/50\n",
            "134/134 - 10s - loss: 0.6307 - accuracy: 0.7739 - val_loss: 0.7241 - val_accuracy: 0.7475\n",
            "Epoch 11/50\n",
            "134/134 - 10s - loss: 0.5916 - accuracy: 0.7896 - val_loss: 0.7065 - val_accuracy: 0.7575\n",
            "Epoch 12/50\n",
            "134/134 - 10s - loss: 0.5480 - accuracy: 0.8059 - val_loss: 0.6647 - val_accuracy: 0.7704\n",
            "Epoch 13/50\n",
            "134/134 - 10s - loss: 0.5094 - accuracy: 0.8165 - val_loss: 0.6678 - val_accuracy: 0.7736\n",
            "Epoch 14/50\n",
            "134/134 - 10s - loss: 0.4605 - accuracy: 0.8339 - val_loss: 0.6643 - val_accuracy: 0.7812\n",
            "Epoch 15/50\n",
            "134/134 - 10s - loss: 0.4188 - accuracy: 0.8509 - val_loss: 0.6879 - val_accuracy: 0.7789\n",
            "Epoch 16/50\n",
            "134/134 - 10s - loss: 0.3978 - accuracy: 0.8569 - val_loss: 0.6665 - val_accuracy: 0.7843\n",
            "Epoch 17/50\n",
            "134/134 - 10s - loss: 0.3599 - accuracy: 0.8728 - val_loss: 0.6924 - val_accuracy: 0.7853\n",
            "Epoch 18/50\n",
            "134/134 - 10s - loss: 0.3317 - accuracy: 0.8823 - val_loss: 0.6905 - val_accuracy: 0.7842\n",
            "Epoch 19/50\n",
            "134/134 - 10s - loss: 0.3138 - accuracy: 0.8878 - val_loss: 0.7139 - val_accuracy: 0.7765\n",
            "Epoch 20/50\n",
            "134/134 - 10s - loss: 0.2887 - accuracy: 0.8967 - val_loss: 0.7115 - val_accuracy: 0.7867\n",
            "Epoch 21/50\n",
            "134/134 - 10s - loss: 0.2744 - accuracy: 0.9017 - val_loss: 0.7316 - val_accuracy: 0.7817\n",
            "Epoch 22/50\n",
            "134/134 - 10s - loss: 0.2492 - accuracy: 0.9118 - val_loss: 0.7666 - val_accuracy: 0.7866\n",
            "Epoch 23/50\n",
            "134/134 - 10s - loss: 0.2432 - accuracy: 0.9127 - val_loss: 0.7339 - val_accuracy: 0.7851\n",
            "Epoch 24/50\n",
            "134/134 - 10s - loss: 0.2225 - accuracy: 0.9213 - val_loss: 0.7768 - val_accuracy: 0.7825\n",
            "Epoch 25/50\n",
            "134/134 - 10s - loss: 0.2230 - accuracy: 0.9208 - val_loss: 0.7998 - val_accuracy: 0.7740\n",
            "Epoch 26/50\n",
            "134/134 - 10s - loss: 0.2065 - accuracy: 0.9281 - val_loss: 0.7982 - val_accuracy: 0.7839\n",
            "Epoch 27/50\n",
            "134/134 - 10s - loss: 0.1970 - accuracy: 0.9318 - val_loss: 0.7895 - val_accuracy: 0.7859\n",
            "Epoch 28/50\n",
            "134/134 - 10s - loss: 0.1778 - accuracy: 0.9366 - val_loss: 0.8439 - val_accuracy: 0.7852\n",
            "Epoch 29/50\n",
            "134/134 - 10s - loss: 0.1778 - accuracy: 0.9360 - val_loss: 0.8317 - val_accuracy: 0.7847\n",
            "Epoch 30/50\n",
            "134/134 - 10s - loss: 0.1628 - accuracy: 0.9415 - val_loss: 0.8186 - val_accuracy: 0.7895\n",
            "Epoch 31/50\n",
            "134/134 - 10s - loss: 0.1728 - accuracy: 0.9397 - val_loss: 0.8120 - val_accuracy: 0.7901\n",
            "Epoch 32/50\n",
            "134/134 - 10s - loss: 0.1615 - accuracy: 0.9438 - val_loss: 0.8233 - val_accuracy: 0.7881\n",
            "Epoch 33/50\n",
            "134/134 - 10s - loss: 0.1533 - accuracy: 0.9473 - val_loss: 0.8438 - val_accuracy: 0.7878\n",
            "Epoch 34/50\n",
            "134/134 - 10s - loss: 0.1505 - accuracy: 0.9482 - val_loss: 0.8502 - val_accuracy: 0.7903\n",
            "Epoch 35/50\n",
            "134/134 - 10s - loss: 0.1515 - accuracy: 0.9472 - val_loss: 0.8502 - val_accuracy: 0.7868\n",
            "Epoch 36/50\n",
            "134/134 - 10s - loss: 0.1353 - accuracy: 0.9534 - val_loss: 0.9050 - val_accuracy: 0.7925\n",
            "Epoch 37/50\n",
            "134/134 - 10s - loss: 0.1362 - accuracy: 0.9544 - val_loss: 0.8574 - val_accuracy: 0.7864\n",
            "Epoch 38/50\n",
            "134/134 - 10s - loss: 0.1316 - accuracy: 0.9549 - val_loss: 0.8857 - val_accuracy: 0.7868\n",
            "Epoch 39/50\n",
            "134/134 - 10s - loss: 0.1311 - accuracy: 0.9544 - val_loss: 0.8656 - val_accuracy: 0.7850\n",
            "Epoch 40/50\n",
            "134/134 - 10s - loss: 0.1322 - accuracy: 0.9543 - val_loss: 0.8790 - val_accuracy: 0.7923\n",
            "Epoch 41/50\n",
            "134/134 - 10s - loss: 0.1228 - accuracy: 0.9591 - val_loss: 0.8690 - val_accuracy: 0.7857\n",
            "Epoch 42/50\n",
            "134/134 - 10s - loss: 0.1176 - accuracy: 0.9592 - val_loss: 0.8550 - val_accuracy: 0.7921\n",
            "Epoch 43/50\n",
            "134/134 - 10s - loss: 0.1183 - accuracy: 0.9597 - val_loss: 0.8574 - val_accuracy: 0.7927\n",
            "Epoch 44/50\n",
            "134/134 - 10s - loss: 0.1156 - accuracy: 0.9601 - val_loss: 0.9487 - val_accuracy: 0.7868\n",
            "Epoch 45/50\n",
            "134/134 - 10s - loss: 0.1142 - accuracy: 0.9609 - val_loss: 0.8817 - val_accuracy: 0.7875\n",
            "Epoch 46/50\n",
            "134/134 - 10s - loss: 0.1119 - accuracy: 0.9614 - val_loss: 0.8894 - val_accuracy: 0.7940\n",
            "Epoch 47/50\n",
            "134/134 - 10s - loss: 0.1145 - accuracy: 0.9610 - val_loss: 0.9089 - val_accuracy: 0.7922\n",
            "Epoch 48/50\n",
            "134/134 - 10s - loss: 0.1168 - accuracy: 0.9597 - val_loss: 0.9578 - val_accuracy: 0.7843\n",
            "Epoch 49/50\n",
            "134/134 - 10s - loss: 0.1104 - accuracy: 0.9617 - val_loss: 0.9355 - val_accuracy: 0.7955\n",
            "Epoch 50/50\n",
            "134/134 - 10s - loss: 0.1134 - accuracy: 0.9618 - val_loss: 0.8656 - val_accuracy: 0.7938\n"
          ],
          "name": "stdout"
        }
      ]
    },
    {
      "cell_type": "code",
      "metadata": {
        "id": "rzLTGAOzZ7zi"
      },
      "source": [
        "from matplotlib import pyplot as plt\n",
        "def show_train_history(train_history,train,validation):\n",
        "  plt.plot(train_history.history[train])\n",
        "  plt.plot(train_history.history[validation])\n",
        "  plt.title('Train History')\n",
        "  plt.ylabel('train')\n",
        "  plt.xlabel('Epoch')\n",
        "  plt.legend(['train','validation'],loc='upper left')\n",
        "  plt.show()"
      ],
      "execution_count": 22,
      "outputs": []
    },
    {
      "cell_type": "code",
      "metadata": {
        "colab": {
          "base_uri": "https://localhost:8080/",
          "height": 295
        },
        "id": "FliqaslyfUOd",
        "outputId": "30305f91-7eae-4a75-da7e-4883adfe3b4b"
      },
      "source": [
        "show_train_history(train_history,'accuracy','val_accuracy')"
      ],
      "execution_count": 23,
      "outputs": [
        {
          "output_type": "display_data",
          "data": {
            "image/png": "[encoded data removed]",
            "text/plain": [
              "<Figure size 432x288 with 1 Axes>"
            ]
          },
          "metadata": {
            "tags": [],
            "needs_background": "light"
          }
        }
      ]
    },
    {
      "cell_type": "code",
      "metadata": {
        "colab": {
          "base_uri": "https://localhost:8080/",
          "height": 295
        },
        "id": "CLUnjiW4fbvQ",
        "outputId": "0f945337-944c-4027-e438-ffd15667cda1"
      },
      "source": [
        "show_train_history(train_history,'loss','val_loss')"
      ],
      "execution_count": 24,
      "outputs": [
        {
          "output_type": "display_data",
          "data": {
            "image/png": "[encoded data removed]",
            "text/plain": [
              "<Figure size 432x288 with 1 Axes>"
            ]
          },
          "metadata": {
            "tags": [],
            "needs_background": "light"
          }
        }
      ]
    },
    {
      "cell_type": "code",
      "metadata": {
        "id": "J5uBX8IWgmJ8"
      },
      "source": [
        "### estimate model accuracy"
      ],
      "execution_count": 25,
      "outputs": []
    },
    {
      "cell_type": "code",
      "metadata": {
        "id": "CNqM3qWAgmRX"
      },
      "source": [
        "scores=model.evaluate(x_img_test_normalize,y_label_test_OneHot,verbose=0)"
      ],
      "execution_count": 26,
      "outputs": []
    },
    {
      "cell_type": "code",
      "metadata": {
        "colab": {
          "base_uri": "https://localhost:8080/"
        },
        "id": "cLAn9V1ogrBf",
        "outputId": "8cd4d3bb-0287-4e44-b9bd-ae0354c1ca76"
      },
      "source": [
        "print(f'Test loss: {scores[0]} / Test accuracy: {scores[1]}')"
      ],
      "execution_count": 27,
      "outputs": [
        {
          "output_type": "stream",
          "text": [
            "Test loss: 0.9055691361427307 / Test accuracy: 0.7878000140190125\n"
          ],
          "name": "stdout"
        }
      ]
    },
    {
      "cell_type": "code",
      "metadata": {
        "colab": {
          "base_uri": "https://localhost:8080/"
        },
        "id": "UNRhGtVugvNM",
        "outputId": "7abedcf1-1e0e-4935-cca9-82ad1a96df36"
      },
      "source": [
        "prediction=model.predict_classes(x_img_test_normalize) ### prediction"
      ],
      "execution_count": 28,
      "outputs": [
        {
          "output_type": "stream",
          "text": [
            "/usr/local/lib/python3.7/dist-packages/tensorflow/python/keras/engine/sequential.py:450: UserWarning: `model.predict_classes()` is deprecated and will be removed after 2021-01-01. Please use instead:* `np.argmax(model.predict(x), axis=-1)`,   if your model does multi-class classification   (e.g. if it uses a `softmax` last-layer activation).* `(model.predict(x) > 0.5).astype(\"int32\")`,   if your model does binary classification   (e.g. if it uses a `sigmoid` last-layer activation).\n",
            "  warnings.warn('`model.predict_classes()` is deprecated and '\n"
          ],
          "name": "stderr"
        }
      ]
    },
    {
      "cell_type": "code",
      "metadata": {
        "colab": {
          "base_uri": "https://localhost:8080/"
        },
        "id": "e9dj4EcTkNPd",
        "outputId": "b9920920-6a8e-4154-eb93-e18713033432"
      },
      "source": [
        "prediction"
      ],
      "execution_count": 29,
      "outputs": [
        {
          "output_type": "execute_result",
          "data": {
            "text/plain": [
              "array([5, 8, 8, ..., 5, 1, 7])"
            ]
          },
          "metadata": {
            "tags": []
          },
          "execution_count": 29
        }
      ]
    },
    {
      "cell_type": "code",
      "metadata": {
        "id": "ii4zLAJNgz_w"
      },
      "source": [
        "def plot_images_labels_prediction(images,labels,prediction,idx,num=10):\n",
        "  fig=plt.gcf()\n",
        "  fig.set_size_inches(12,14)\n",
        "  if num>25:num=25\n",
        "  for i in range(0,num):\n",
        "    ax=plt.subplot(5,5,1+i)\n",
        "    ax.imshow(images[idx],cmap='binary')\n",
        "    title=str(i) +',' +label_dict[labels[i][0]]\n",
        "    if len(prediction)>0:\n",
        "      title+='=>'+label_dict[prediction[i]]\n",
        "    ax.set_title(title,fontsize=10)\n",
        "    ax.set_xticks([]);ax.set_yticks([])\n",
        "    idx+=1\n",
        "  plt.show()"
      ],
      "execution_count": 30,
      "outputs": []
    },
    {
      "cell_type": "code",
      "metadata": {
        "colab": {
          "base_uri": "https://localhost:8080/",
          "height": 321
        },
        "id": "Ss7dd8dJg2UX",
        "outputId": "4f3f8ce4-1c37-4c17-ec66-4357878c8e4d"
      },
      "source": [
        "plot_images_labels_prediction(x_img_test,y_label_test,prediction,0,10)"
      ],
      "execution_count": 31,
      "outputs": [
        {
          "output_type": "display_data",
          "data": {
            "image/png": "[encoded data removed]",
            "text/plain": [
              "<Figure size 864x1008 with 10 Axes>"
            ]
          },
          "metadata": {
            "tags": []
          }
        }
      ]
    },
    {
      "cell_type": "code",
      "metadata": {
        "id": "PpPOXOuZg6wp"
      },
      "source": [
        "# check for prediction rate\n",
        "predicted_Probability=model.predict(x_img_test_normalize)"
      ],
      "execution_count": 32,
      "outputs": []
    },
    {
      "cell_type": "code",
      "metadata": {
        "id": "ykuUEDYlg_vY"
      },
      "source": [
        "def show_predicted_probability(y,prediction,x_img,predicted_Probability,i):\n",
        "  print('label:',label_dict[y[i][0]],\n",
        "        'predict',label_dict[prediction[i]])\n",
        "  plt.figure(figsize=(2,2))\n",
        "  plt.imshow(np.reshape(x_img_test[i],(32,32,3)))\n",
        "  plt.show()\n",
        "  for j in range(10):\n",
        "    print(label_dict[j]+ ' probability:%1.9f'%(predicted_Probability[i][j]))\n"
      ],
      "execution_count": 33,
      "outputs": []
    },
    {
      "cell_type": "code",
      "metadata": {
        "colab": {
          "base_uri": "https://localhost:8080/",
          "height": 355
        },
        "id": "EDAw57mNhCGo",
        "outputId": "e34d69e0-7f85-4b23-858a-5c582402522a"
      },
      "source": [
        "show_predicted_probability(y_label_test,prediction,x_img_test,predicted_Probability,0)"
      ],
      "execution_count": 34,
      "outputs": [
        {
          "output_type": "stream",
          "text": [
            "label: cat predict dog\n"
          ],
          "name": "stdout"
        },
        {
          "output_type": "display_data",
          "data": {
            "image/png": "[encoded data removed]",
            "text/plain": [
              "<Figure size 144x144 with 1 Axes>"
            ]
          },
          "metadata": {
            "tags": [],
            "needs_background": "light"
          }
        },
        {
          "output_type": "stream",
          "text": [
            "airplane probability:0.000007025\n",
            "automobile probability:0.000001643\n",
            "bird probability:0.000000750\n",
            "cat probability:0.227326602\n",
            "deer probability:0.000000069\n",
            "dog probability:0.772606850\n",
            "frog probability:0.000036107\n",
            "horse probability:0.000005019\n",
            "ship probability:0.000015800\n",
            "truck probability:0.000000080\n"
          ],
          "name": "stdout"
        }
      ]
    },
    {
      "cell_type": "markdown",
      "metadata": {
        "id": "N5rt2fK5fntZ"
      },
      "source": [
        "#Confusion matrix"
      ]
    },
    {
      "cell_type": "code",
      "metadata": {
        "id": "TjlrqQgShBjE"
      },
      "source": [
        "import pandas as pd"
      ],
      "execution_count": 35,
      "outputs": []
    },
    {
      "cell_type": "code",
      "metadata": {
        "colab": {
          "base_uri": "https://localhost:8080/",
          "height": 370
        },
        "id": "vD-agaQbfqVp",
        "outputId": "17772841-3a09-47f5-b677-a77158f7fa45"
      },
      "source": [
        "pd.crosstab(y_label_test.reshape(-1),prediction,rownames=['label'],colnames=['predict'])"
      ],
      "execution_count": 36,
      "outputs": [
        {
          "output_type": "execute_result",
          "data": {
            "text/html": [
              "<div>\n",
              "<style scoped>\n",
              "    .dataframe tbody tr th:only-of-type {\n",
              "        vertical-align: middle;\n",
              "    }\n",
              "\n",
              "    .dataframe tbody tr th {\n",
              "        vertical-align: top;\n",
              "    }\n",
              "\n",
              "    .dataframe thead th {\n",
              "        text-align: right;\n",
              "    }\n",
              "</style>\n",
              "<table border=\"1\" class=\"dataframe\">\n",
              "  <thead>\n",
              "    <tr style=\"text-align: right;\">\n",
              "      <th>predict</th>\n",
              "      <th>0</th>\n",
              "      <th>1</th>\n",
              "      <th>2</th>\n",
              "      <th>3</th>\n",
              "      <th>4</th>\n",
              "      <th>5</th>\n",
              "      <th>6</th>\n",
              "      <th>7</th>\n",
              "      <th>8</th>\n",
              "      <th>9</th>\n",
              "    </tr>\n",
              "    <tr>\n",
              "      <th>label</th>\n",
              "      <th></th>\n",
              "      <th></th>\n",
              "      <th></th>\n",
              "      <th></th>\n",
              "      <th></th>\n",
              "      <th></th>\n",
              "      <th></th>\n",
              "      <th></th>\n",
              "      <th></th>\n",
              "      <th></th>\n",
              "    </tr>\n",
              "  </thead>\n",
              "  <tbody>\n",
              "    <tr>\n",
              "      <th>0</th>\n",
              "      <td>770</td>\n",
              "      <td>15</td>\n",
              "      <td>47</td>\n",
              "      <td>14</td>\n",
              "      <td>18</td>\n",
              "      <td>8</td>\n",
              "      <td>10</td>\n",
              "      <td>17</td>\n",
              "      <td>82</td>\n",
              "      <td>19</td>\n",
              "    </tr>\n",
              "    <tr>\n",
              "      <th>1</th>\n",
              "      <td>4</td>\n",
              "      <td>915</td>\n",
              "      <td>5</td>\n",
              "      <td>3</td>\n",
              "      <td>5</td>\n",
              "      <td>4</td>\n",
              "      <td>3</td>\n",
              "      <td>0</td>\n",
              "      <td>22</td>\n",
              "      <td>39</td>\n",
              "    </tr>\n",
              "    <tr>\n",
              "      <th>2</th>\n",
              "      <td>48</td>\n",
              "      <td>7</td>\n",
              "      <td>678</td>\n",
              "      <td>42</td>\n",
              "      <td>77</td>\n",
              "      <td>59</td>\n",
              "      <td>54</td>\n",
              "      <td>20</td>\n",
              "      <td>13</td>\n",
              "      <td>2</td>\n",
              "    </tr>\n",
              "    <tr>\n",
              "      <th>3</th>\n",
              "      <td>10</td>\n",
              "      <td>5</td>\n",
              "      <td>46</td>\n",
              "      <td>611</td>\n",
              "      <td>60</td>\n",
              "      <td>158</td>\n",
              "      <td>57</td>\n",
              "      <td>28</td>\n",
              "      <td>12</td>\n",
              "      <td>13</td>\n",
              "    </tr>\n",
              "    <tr>\n",
              "      <th>4</th>\n",
              "      <td>6</td>\n",
              "      <td>4</td>\n",
              "      <td>40</td>\n",
              "      <td>54</td>\n",
              "      <td>784</td>\n",
              "      <td>39</td>\n",
              "      <td>19</td>\n",
              "      <td>46</td>\n",
              "      <td>7</td>\n",
              "      <td>1</td>\n",
              "    </tr>\n",
              "    <tr>\n",
              "      <th>5</th>\n",
              "      <td>6</td>\n",
              "      <td>5</td>\n",
              "      <td>27</td>\n",
              "      <td>152</td>\n",
              "      <td>44</td>\n",
              "      <td>722</td>\n",
              "      <td>9</td>\n",
              "      <td>28</td>\n",
              "      <td>5</td>\n",
              "      <td>2</td>\n",
              "    </tr>\n",
              "    <tr>\n",
              "      <th>6</th>\n",
              "      <td>5</td>\n",
              "      <td>3</td>\n",
              "      <td>24</td>\n",
              "      <td>50</td>\n",
              "      <td>37</td>\n",
              "      <td>23</td>\n",
              "      <td>846</td>\n",
              "      <td>2</td>\n",
              "      <td>7</td>\n",
              "      <td>3</td>\n",
              "    </tr>\n",
              "    <tr>\n",
              "      <th>7</th>\n",
              "      <td>7</td>\n",
              "      <td>2</td>\n",
              "      <td>22</td>\n",
              "      <td>33</td>\n",
              "      <td>56</td>\n",
              "      <td>57</td>\n",
              "      <td>2</td>\n",
              "      <td>814</td>\n",
              "      <td>3</td>\n",
              "      <td>4</td>\n",
              "    </tr>\n",
              "    <tr>\n",
              "      <th>8</th>\n",
              "      <td>22</td>\n",
              "      <td>21</td>\n",
              "      <td>12</td>\n",
              "      <td>11</td>\n",
              "      <td>8</td>\n",
              "      <td>3</td>\n",
              "      <td>3</td>\n",
              "      <td>2</td>\n",
              "      <td>909</td>\n",
              "      <td>9</td>\n",
              "    </tr>\n",
              "    <tr>\n",
              "      <th>9</th>\n",
              "      <td>22</td>\n",
              "      <td>67</td>\n",
              "      <td>3</td>\n",
              "      <td>17</td>\n",
              "      <td>6</td>\n",
              "      <td>12</td>\n",
              "      <td>6</td>\n",
              "      <td>12</td>\n",
              "      <td>26</td>\n",
              "      <td>829</td>\n",
              "    </tr>\n",
              "  </tbody>\n",
              "</table>\n",
              "</div>"
            ],
            "text/plain": [
              "predict    0    1    2    3    4    5    6    7    8    9\n",
              "label                                                    \n",
              "0        770   15   47   14   18    8   10   17   82   19\n",
              "1          4  915    5    3    5    4    3    0   22   39\n",
              "2         48    7  678   42   77   59   54   20   13    2\n",
              "3         10    5   46  611   60  158   57   28   12   13\n",
              "4          6    4   40   54  784   39   19   46    7    1\n",
              "5          6    5   27  152   44  722    9   28    5    2\n",
              "6          5    3   24   50   37   23  846    2    7    3\n",
              "7          7    2   22   33   56   57    2  814    3    4\n",
              "8         22   21   12   11    8    3    3    2  909    9\n",
              "9         22   67    3   17    6   12    6   12   26  829"
            ]
          },
          "metadata": {
            "tags": []
          },
          "execution_count": 36
        }
      ]
    },
    {
      "cell_type": "code",
      "metadata": {
        "id": "mvxedLAxgTfS"
      },
      "source": [
        ""
      ],
      "execution_count": null,
      "outputs": []
    }
  ]
}