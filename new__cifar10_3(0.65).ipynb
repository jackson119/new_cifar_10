{
  "nbformat": 4,
  "nbformat_minor": 0,
  "metadata": {
    "accelerator": "GPU",
    "colab": {
      "name": " new_ cifar10_3(0.65).ipynb",
      "provenance": [],
      "collapsed_sections": [
        "N5rt2fK5fntZ"
      ],
      "authorship_tag": "ABX9TyPWxPjHbGdvESl2Fwzkucqd",
      "include_colab_link": true
    },
    "kernelspec": {
      "display_name": "Python 3",
      "name": "python3"
    },
    "language_info": {
      "name": "python"
    }
  },
  "cells": [
    {
      "cell_type": "markdown",
      "metadata": {
        "id": "view-in-github",
        "colab_type": "text"
      },
      "source": [
        "<a href=\"https://colab.research.google.com/github/jackson119/new_cifar_10/blob/main/new__cifar10_3(0.65).ipynb\" target=\"_parent\"><img src=\"https://colab.research.google.com/assets/colab-badge.svg\" alt=\"Open In Colab\"/></a>"
      ]
    },
    {
      "cell_type": "markdown",
      "metadata": {
        "id": "SGKXC7W7pnht"
      },
      "source": [
        "# Data Preprocessing"
      ]
    },
    {
      "cell_type": "code",
      "metadata": {
        "id": "91H4jfpypp4h"
      },
      "source": [
        "from tensorflow.keras.datasets import cifar10\n",
        "import numpy as np\n",
        "np.random.seed(10)"
      ],
      "execution_count": null,
      "outputs": []
    },
    {
      "cell_type": "code",
      "metadata": {
        "id": "jrfbgEOdprAB",
        "colab": {
          "base_uri": "https://localhost:8080/"
        },
        "outputId": "87e339a0-3599-4a70-9510-77b1f61fcbd4"
      },
      "source": [
        "(x_img_train,y_label_train),(x_img_test,y_label_test)=cifar10.load_data()"
      ],
      "execution_count": null,
      "outputs": [
        {
          "output_type": "stream",
          "text": [
            "Downloading data from https://www.cs.toronto.edu/~kriz/cifar-10-python.tar.gz\n",
            "170500096/170498071 [==============================] - 6s 0us/step\n"
          ],
          "name": "stdout"
        }
      ]
    },
    {
      "cell_type": "code",
      "metadata": {
        "id": "Bv64ED30R18B",
        "colab": {
          "base_uri": "https://localhost:8080/"
        },
        "outputId": "85311c49-dd7a-4fc1-d594-e7deebda197a"
      },
      "source": [
        "print(\"train data:\",\"images:\",x_img_train.shape,\"labels:\",y_label_train.shape)\n",
        "print(\"test data:\",\"images:\",x_img_test.shape,\"labels:\",y_label_test.shape)"
      ],
      "execution_count": null,
      "outputs": [
        {
          "output_type": "stream",
          "text": [
            "train data: images: (50000, 32, 32, 3) labels: (50000, 1)\n",
            "test data: images: (10000, 32, 32, 3) labels: (10000, 1)\n"
          ],
          "name": "stdout"
        }
      ]
    },
    {
      "cell_type": "markdown",
      "metadata": {
        "id": "10BLqTKNSYKW"
      },
      "source": [
        "# standardize and perform one hot encoding"
      ]
    },
    {
      "cell_type": "code",
      "metadata": {
        "id": "_bdYalY-Sfva"
      },
      "source": [
        "x_img_train_normalize=x_img_train.astype('float32')/255.0\n",
        "x_img_test_normalize=x_img_test.astype('float32')/255.0"
      ],
      "execution_count": null,
      "outputs": []
    },
    {
      "cell_type": "code",
      "metadata": {
        "id": "-7OJEuxpSpXX"
      },
      "source": [
        "from tensorflow.keras import utils"
      ],
      "execution_count": null,
      "outputs": []
    },
    {
      "cell_type": "code",
      "metadata": {
        "id": "bvesDQfhSsmH"
      },
      "source": [
        "y_label_train_OneHot=utils.to_categorical(y_label_train)\n",
        "y_label_test_OneHot=utils.to_categorical(y_label_test)"
      ],
      "execution_count": null,
      "outputs": []
    },
    {
      "cell_type": "markdown",
      "metadata": {
        "id": "DSmFxX9xSwCN"
      },
      "source": [
        "# Images and label"
      ]
    },
    {
      "cell_type": "code",
      "metadata": {
        "id": "6AshrU3USxld"
      },
      "source": [
        "label_dict={0:\"airplane\",1:\"automobile\",2:\"bird\",3:\"cat\",4:\"deer\",5:\"dog\",6:\"frog\",7:\"horse\",8:\"ship\",9:\"truck\"}"
      ],
      "execution_count": null,
      "outputs": []
    },
    {
      "cell_type": "code",
      "metadata": {
        "id": "KADDqJmsSzCc"
      },
      "source": [
        "# Construct model\n",
        "from keras.models import Sequential\n",
        "from keras.layers import Dense,Dropout,Activation,Flatten\n",
        "from keras.layers import Conv2D,MaxPooling2D,ZeroPadding2D"
      ],
      "execution_count": null,
      "outputs": []
    },
    {
      "cell_type": "code",
      "metadata": {
        "id": "2tUCpCqHS5sb"
      },
      "source": [
        "model=Sequential()"
      ],
      "execution_count": null,
      "outputs": []
    },
    {
      "cell_type": "code",
      "metadata": {
        "id": "IP4YwNOFS62i"
      },
      "source": [
        "model.add(Conv2D(filters=32,kernel_size=(3,3),input_shape=(32,32,3),activation='relu',padding='same'))\n",
        "model.add(Dropout(0.65))\n",
        "model.add(Conv2D(filters=32,kernel_size=(3,3),activation='relu',padding='same'))\n",
        "model.add(MaxPooling2D(pool_size=(2,2)))"
      ],
      "execution_count": null,
      "outputs": []
    },
    {
      "cell_type": "code",
      "metadata": {
        "id": "VrEsDZ3OYZv6"
      },
      "source": [
        "model.add(Conv2D(filters=64,kernel_size=(3,3),activation='relu',padding='same'))\n",
        "model.add(Dropout(0.65))\n",
        "model.add(Conv2D(filters=64,kernel_size=(3,3),activation='relu',padding='same'))\n",
        "model.add(MaxPooling2D(pool_size=(2,2)))"
      ],
      "execution_count": null,
      "outputs": []
    },
    {
      "cell_type": "code",
      "metadata": {
        "id": "Lfbpty5kYwiH"
      },
      "source": [
        "model.add(Conv2D(filters=128,kernel_size=(3,3),activation='relu',padding='same'))\n",
        "model.add(Dropout(0.65))\n",
        "model.add(Conv2D(filters=128,kernel_size=(3,3),activation='relu',padding='same'))\n",
        "model.add(MaxPooling2D(pool_size=(2,2)))"
      ],
      "execution_count": null,
      "outputs": []
    },
    {
      "cell_type": "code",
      "metadata": {
        "id": "YGEmb5pbZYhj"
      },
      "source": [
        "### neural network\n",
        "model.add(Flatten())\n",
        "model.add(Dropout(0.65))\n",
        "### hidden layer 1\n",
        "model.add(Dense(2500,activation='relu'))\n",
        "model.add(Dropout(0.65))\n",
        "### hidden layer 2\n",
        "model.add(Dense(1500,activation='relu'))\n",
        "model.add(Dropout(0.65))\n",
        "### output layer\n",
        "model.add(Dense(10,activation='softmax'))"
      ],
      "execution_count": null,
      "outputs": []
    },
    {
      "cell_type": "code",
      "metadata": {
        "id": "2kjnUEYuZtK5",
        "colab": {
          "base_uri": "https://localhost:8080/"
        },
        "outputId": "20286de3-2030-4a47-ca5b-47bf2bf3d3fe"
      },
      "source": [
        "print(model.summary())"
      ],
      "execution_count": null,
      "outputs": [
        {
          "output_type": "stream",
          "text": [
            "Model: \"sequential\"\n",
            "_________________________________________________________________\n",
            "Layer (type)                 Output Shape              Param #   \n",
            "=================================================================\n",
            "conv2d (Conv2D)              (None, 32, 32, 32)        896       \n",
            "_________________________________________________________________\n",
            "dropout (Dropout)            (None, 32, 32, 32)        0         \n",
            "_________________________________________________________________\n",
            "conv2d_1 (Conv2D)            (None, 32, 32, 32)        9248      \n",
            "_________________________________________________________________\n",
            "max_pooling2d (MaxPooling2D) (None, 16, 16, 32)        0         \n",
            "_________________________________________________________________\n",
            "conv2d_2 (Conv2D)            (None, 16, 16, 64)        18496     \n",
            "_________________________________________________________________\n",
            "dropout_1 (Dropout)          (None, 16, 16, 64)        0         \n",
            "_________________________________________________________________\n",
            "conv2d_3 (Conv2D)            (None, 16, 16, 64)        36928     \n",
            "_________________________________________________________________\n",
            "max_pooling2d_1 (MaxPooling2 (None, 8, 8, 64)          0         \n",
            "_________________________________________________________________\n",
            "conv2d_4 (Conv2D)            (None, 8, 8, 128)         73856     \n",
            "_________________________________________________________________\n",
            "dropout_2 (Dropout)          (None, 8, 8, 128)         0         \n",
            "_________________________________________________________________\n",
            "conv2d_5 (Conv2D)            (None, 8, 8, 128)         147584    \n",
            "_________________________________________________________________\n",
            "max_pooling2d_2 (MaxPooling2 (None, 4, 4, 128)         0         \n",
            "_________________________________________________________________\n",
            "flatten (Flatten)            (None, 2048)              0         \n",
            "_________________________________________________________________\n",
            "dropout_3 (Dropout)          (None, 2048)              0         \n",
            "_________________________________________________________________\n",
            "dense (Dense)                (None, 2500)              5122500   \n",
            "_________________________________________________________________\n",
            "dropout_4 (Dropout)          (None, 2500)              0         \n",
            "_________________________________________________________________\n",
            "dense_1 (Dense)              (None, 1500)              3751500   \n",
            "_________________________________________________________________\n",
            "dropout_5 (Dropout)          (None, 1500)              0         \n",
            "_________________________________________________________________\n",
            "dense_2 (Dense)              (None, 10)                15010     \n",
            "=================================================================\n",
            "Total params: 9,176,018\n",
            "Trainable params: 9,176,018\n",
            "Non-trainable params: 0\n",
            "_________________________________________________________________\n",
            "None\n"
          ],
          "name": "stdout"
        }
      ]
    },
    {
      "cell_type": "code",
      "metadata": {
        "colab": {
          "base_uri": "https://localhost:8080/"
        },
        "id": "j64CEumxZvDu",
        "outputId": "736bc79f-1e08-490d-d368-87efa05ab8ee"
      },
      "source": [
        "model.compile(loss='categorical_crossentropy',optimizer='adam',metrics=['accuracy'])\n",
        "train_history=model.fit(x_img_train_normalize,y_label_train_OneHot,validation_split=0.2,epochs=50,batch_size=300,verbose=2)"
      ],
      "execution_count": null,
      "outputs": [
        {
          "output_type": "stream",
          "text": [
            "Epoch 1/50\n",
            "134/134 - 48s - loss: 2.1301 - accuracy: 0.1988 - val_loss: 3.1410 - val_accuracy: 0.0980\n",
            "Epoch 2/50\n",
            "134/134 - 16s - loss: 1.8649 - accuracy: 0.2925 - val_loss: 3.6199 - val_accuracy: 0.0998\n",
            "Epoch 3/50\n",
            "134/134 - 17s - loss: 1.7195 - accuracy: 0.3509 - val_loss: 3.7202 - val_accuracy: 0.1360\n",
            "Epoch 4/50\n",
            "134/134 - 18s - loss: 1.6183 - accuracy: 0.3938 - val_loss: 3.6774 - val_accuracy: 0.1359\n",
            "Epoch 5/50\n",
            "134/134 - 18s - loss: 1.5313 - accuracy: 0.4289 - val_loss: 3.5703 - val_accuracy: 0.1493\n",
            "Epoch 6/50\n",
            "134/134 - 18s - loss: 1.4861 - accuracy: 0.4485 - val_loss: 3.6541 - val_accuracy: 0.1576\n",
            "Epoch 7/50\n",
            "134/134 - 18s - loss: 1.4393 - accuracy: 0.4680 - val_loss: 3.3145 - val_accuracy: 0.1704\n",
            "Epoch 8/50\n",
            "134/134 - 18s - loss: 1.4039 - accuracy: 0.4858 - val_loss: 3.2232 - val_accuracy: 0.1769\n",
            "Epoch 9/50\n",
            "134/134 - 18s - loss: 1.3568 - accuracy: 0.5034 - val_loss: 2.7322 - val_accuracy: 0.2132\n",
            "Epoch 10/50\n",
            "134/134 - 18s - loss: 1.3408 - accuracy: 0.5091 - val_loss: 2.8476 - val_accuracy: 0.1995\n",
            "Epoch 11/50\n",
            "134/134 - 19s - loss: 1.2943 - accuracy: 0.5326 - val_loss: 3.0329 - val_accuracy: 0.1975\n",
            "Epoch 12/50\n",
            "134/134 - 18s - loss: 1.2684 - accuracy: 0.5387 - val_loss: 2.8899 - val_accuracy: 0.2107\n",
            "Epoch 13/50\n",
            "134/134 - 18s - loss: 1.2510 - accuracy: 0.5482 - val_loss: 3.1482 - val_accuracy: 0.2031\n",
            "Epoch 14/50\n",
            "134/134 - 18s - loss: 1.2272 - accuracy: 0.5565 - val_loss: 3.0521 - val_accuracy: 0.1955\n",
            "Epoch 15/50\n",
            "134/134 - 18s - loss: 1.2066 - accuracy: 0.5656 - val_loss: 2.8020 - val_accuracy: 0.2378\n",
            "Epoch 16/50\n",
            "134/134 - 18s - loss: 1.1864 - accuracy: 0.5723 - val_loss: 2.6468 - val_accuracy: 0.2443\n",
            "Epoch 17/50\n",
            "134/134 - 18s - loss: 1.1775 - accuracy: 0.5783 - val_loss: 2.1182 - val_accuracy: 0.3420\n",
            "Epoch 18/50\n",
            "134/134 - 18s - loss: 1.1623 - accuracy: 0.5845 - val_loss: 2.5599 - val_accuracy: 0.2570\n",
            "Epoch 19/50\n",
            "134/134 - 18s - loss: 1.1418 - accuracy: 0.5921 - val_loss: 2.5485 - val_accuracy: 0.2725\n",
            "Epoch 20/50\n",
            "134/134 - 18s - loss: 1.1426 - accuracy: 0.5923 - val_loss: 2.4955 - val_accuracy: 0.2651\n",
            "Epoch 21/50\n",
            "134/134 - 18s - loss: 1.1103 - accuracy: 0.6036 - val_loss: 2.6384 - val_accuracy: 0.2852\n",
            "Epoch 22/50\n",
            "134/134 - 18s - loss: 1.1067 - accuracy: 0.6042 - val_loss: 2.6890 - val_accuracy: 0.2741\n",
            "Epoch 23/50\n",
            "134/134 - 19s - loss: 1.0979 - accuracy: 0.6093 - val_loss: 2.5568 - val_accuracy: 0.2779\n",
            "Epoch 24/50\n",
            "134/134 - 18s - loss: 1.0821 - accuracy: 0.6148 - val_loss: 2.3851 - val_accuracy: 0.3083\n",
            "Epoch 25/50\n",
            "134/134 - 18s - loss: 1.0699 - accuracy: 0.6207 - val_loss: 2.3645 - val_accuracy: 0.2998\n",
            "Epoch 26/50\n",
            "134/134 - 18s - loss: 1.0580 - accuracy: 0.6230 - val_loss: 2.5938 - val_accuracy: 0.2771\n",
            "Epoch 27/50\n",
            "134/134 - 19s - loss: 1.0560 - accuracy: 0.6238 - val_loss: 2.4991 - val_accuracy: 0.2849\n",
            "Epoch 28/50\n",
            "134/134 - 18s - loss: 1.0405 - accuracy: 0.6291 - val_loss: 2.3679 - val_accuracy: 0.3129\n",
            "Epoch 29/50\n",
            "134/134 - 18s - loss: 1.0393 - accuracy: 0.6289 - val_loss: 2.2700 - val_accuracy: 0.3040\n",
            "Epoch 30/50\n",
            "134/134 - 18s - loss: 1.0360 - accuracy: 0.6327 - val_loss: 2.2351 - val_accuracy: 0.3276\n",
            "Epoch 31/50\n",
            "134/134 - 18s - loss: 1.0219 - accuracy: 0.6372 - val_loss: 2.3990 - val_accuracy: 0.3021\n",
            "Epoch 32/50\n",
            "134/134 - 18s - loss: 1.0144 - accuracy: 0.6403 - val_loss: 2.2528 - val_accuracy: 0.3381\n",
            "Epoch 33/50\n",
            "134/134 - 18s - loss: 1.0035 - accuracy: 0.6453 - val_loss: 2.1237 - val_accuracy: 0.3707\n",
            "Epoch 34/50\n",
            "134/134 - 18s - loss: 1.0024 - accuracy: 0.6457 - val_loss: 2.0318 - val_accuracy: 0.3726\n",
            "Epoch 35/50\n",
            "134/134 - 18s - loss: 0.9944 - accuracy: 0.6443 - val_loss: 2.5066 - val_accuracy: 0.2874\n",
            "Epoch 36/50\n",
            "134/134 - 18s - loss: 0.9782 - accuracy: 0.6525 - val_loss: 2.5849 - val_accuracy: 0.2867\n",
            "Epoch 37/50\n",
            "134/134 - 18s - loss: 0.9870 - accuracy: 0.6521 - val_loss: 2.1373 - val_accuracy: 0.3386\n",
            "Epoch 38/50\n",
            "134/134 - 18s - loss: 0.9773 - accuracy: 0.6573 - val_loss: 2.1436 - val_accuracy: 0.3416\n",
            "Epoch 39/50\n",
            "134/134 - 19s - loss: 0.9721 - accuracy: 0.6561 - val_loss: 1.8866 - val_accuracy: 0.3958\n",
            "Epoch 40/50\n",
            "134/134 - 18s - loss: 0.9678 - accuracy: 0.6598 - val_loss: 2.6924 - val_accuracy: 0.2856\n",
            "Epoch 41/50\n",
            "134/134 - 18s - loss: 0.9695 - accuracy: 0.6605 - val_loss: 2.2098 - val_accuracy: 0.3364\n",
            "Epoch 42/50\n",
            "134/134 - 18s - loss: 0.9683 - accuracy: 0.6575 - val_loss: 2.0277 - val_accuracy: 0.3627\n",
            "Epoch 43/50\n",
            "134/134 - 18s - loss: 0.9548 - accuracy: 0.6637 - val_loss: 1.9634 - val_accuracy: 0.3901\n",
            "Epoch 44/50\n",
            "134/134 - 18s - loss: 0.9532 - accuracy: 0.6643 - val_loss: 2.3553 - val_accuracy: 0.3091\n",
            "Epoch 45/50\n",
            "134/134 - 18s - loss: 0.9474 - accuracy: 0.6684 - val_loss: 2.3675 - val_accuracy: 0.3212\n",
            "Epoch 46/50\n",
            "134/134 - 18s - loss: 0.9437 - accuracy: 0.6648 - val_loss: 2.2085 - val_accuracy: 0.3319\n",
            "Epoch 47/50\n",
            "134/134 - 18s - loss: 0.9469 - accuracy: 0.6683 - val_loss: 2.3991 - val_accuracy: 0.3115\n",
            "Epoch 48/50\n",
            "134/134 - 18s - loss: 0.9453 - accuracy: 0.6668 - val_loss: 1.8960 - val_accuracy: 0.3958\n",
            "Epoch 49/50\n",
            "134/134 - 18s - loss: 0.9338 - accuracy: 0.6708 - val_loss: 1.8010 - val_accuracy: 0.4124\n",
            "Epoch 50/50\n",
            "134/134 - 18s - loss: 0.9366 - accuracy: 0.6705 - val_loss: 1.9351 - val_accuracy: 0.3881\n"
          ],
          "name": "stdout"
        }
      ]
    },
    {
      "cell_type": "code",
      "metadata": {
        "id": "rzLTGAOzZ7zi"
      },
      "source": [
        "from matplotlib import pyplot as plt\n",
        "def show_train_history(train_history,train,validation):\n",
        "  plt.plot(train_history.history[train])\n",
        "  plt.plot(train_history.history[validation])\n",
        "  plt.title('Train History')\n",
        "  plt.ylabel('train')\n",
        "  plt.xlabel('Epoch')\n",
        "  plt.legend(['train','validation'],loc='upper left')\n",
        "  plt.show()"
      ],
      "execution_count": 16,
      "outputs": []
    },
    {
      "cell_type": "code",
      "metadata": {
        "colab": {
          "base_uri": "https://localhost:8080/",
          "height": 295
        },
        "id": "FliqaslyfUOd",
        "outputId": "b8ccf387-0841-4047-dcb1-a509c76d0a0a"
      },
      "source": [
        "show_train_history(train_history,'accuracy','val_accuracy')"
      ],
      "execution_count": 17,
      "outputs": [
        {
          "output_type": "display_data",
          "data": {
            "image/png": "[encoded data removed]",
            "text/plain": [
              "<Figure size 432x288 with 1 Axes>"
            ]
          },
          "metadata": {
            "tags": [],
            "needs_background": "light"
          }
        }
      ]
    },
    {
      "cell_type": "code",
      "metadata": {
        "colab": {
          "base_uri": "https://localhost:8080/",
          "height": 295
        },
        "id": "CLUnjiW4fbvQ",
        "outputId": "34d5a813-eb80-4821-d0f6-eb2c735b4d22"
      },
      "source": [
        "show_train_history(train_history,'loss','val_loss')"
      ],
      "execution_count": 18,
      "outputs": [
        {
          "output_type": "display_data",
          "data": {
            "image/png": "[encoded data removed]",
            "text/plain": [
              "<Figure size 432x288 with 1 Axes>"
            ]
          },
          "metadata": {
            "tags": [],
            "needs_background": "light"
          }
        }
      ]
    },
    {
      "cell_type": "code",
      "metadata": {
        "id": "J5uBX8IWgmJ8"
      },
      "source": [
        "### estimate model accuracy"
      ],
      "execution_count": 19,
      "outputs": []
    },
    {
      "cell_type": "code",
      "metadata": {
        "id": "CNqM3qWAgmRX"
      },
      "source": [
        "scores=model.evaluate(x_img_test_normalize,y_label_test_OneHot,verbose=0)"
      ],
      "execution_count": 20,
      "outputs": []
    },
    {
      "cell_type": "code",
      "metadata": {
        "colab": {
          "base_uri": "https://localhost:8080/"
        },
        "id": "cLAn9V1ogrBf",
        "outputId": "4764ef2a-e89f-4165-9d3b-26cbb529ff04"
      },
      "source": [
        "print(f'Test loss: {scores[0]} / Test accuracy: {scores[1]}')"
      ],
      "execution_count": 21,
      "outputs": [
        {
          "output_type": "stream",
          "text": [
            "Test loss: 1.9183812141418457 / Test accuracy: 0.3919999897480011\n"
          ],
          "name": "stdout"
        }
      ]
    },
    {
      "cell_type": "code",
      "metadata": {
        "colab": {
          "base_uri": "https://localhost:8080/"
        },
        "id": "UNRhGtVugvNM",
        "outputId": "c588290b-c12a-4b41-edd3-c41b928bef5d"
      },
      "source": [
        "prediction=model.predict_classes(x_img_test_normalize) ### prediction"
      ],
      "execution_count": 22,
      "outputs": [
        {
          "output_type": "stream",
          "text": [
            "/usr/local/lib/python3.7/dist-packages/tensorflow/python/keras/engine/sequential.py:450: UserWarning: `model.predict_classes()` is deprecated and will be removed after 2021-01-01. Please use instead:* `np.argmax(model.predict(x), axis=-1)`,   if your model does multi-class classification   (e.g. if it uses a `softmax` last-layer activation).* `(model.predict(x) > 0.5).astype(\"int32\")`,   if your model does binary classification   (e.g. if it uses a `sigmoid` last-layer activation).\n",
            "  warnings.warn('`model.predict_classes()` is deprecated and '\n"
          ],
          "name": "stderr"
        }
      ]
    },
    {
      "cell_type": "code",
      "metadata": {
        "colab": {
          "base_uri": "https://localhost:8080/"
        },
        "id": "e9dj4EcTkNPd",
        "outputId": "7422d1b2-19db-4c02-af4c-f3d77efb063a"
      },
      "source": [
        "prediction"
      ],
      "execution_count": 23,
      "outputs": [
        {
          "output_type": "execute_result",
          "data": {
            "text/plain": [
              "array([3, 8, 4, ..., 3, 4, 4])"
            ]
          },
          "metadata": {
            "tags": []
          },
          "execution_count": 23
        }
      ]
    },
    {
      "cell_type": "code",
      "metadata": {
        "id": "ii4zLAJNgz_w"
      },
      "source": [
        "def plot_images_labels_prediction(images,labels,prediction,idx,num=10):\n",
        "  fig=plt.gcf()\n",
        "  fig.set_size_inches(12,14)\n",
        "  if num>25:num=25\n",
        "  for i in range(0,num):\n",
        "    ax=plt.subplot(5,5,1+i)\n",
        "    ax.imshow(images[idx],cmap='binary')\n",
        "    title=str(i) +',' +label_dict[labels[i][0]]\n",
        "    if len(prediction)>0:\n",
        "      title+='=>'+label_dict[prediction[i]]\n",
        "    ax.set_title(title,fontsize=10)\n",
        "    ax.set_xticks([]);ax.set_yticks([])\n",
        "    idx+=1\n",
        "  plt.show()"
      ],
      "execution_count": 24,
      "outputs": []
    },
    {
      "cell_type": "code",
      "metadata": {
        "colab": {
          "base_uri": "https://localhost:8080/",
          "height": 321
        },
        "id": "Ss7dd8dJg2UX",
        "outputId": "2bff6355-a56d-463a-f456-201973b08f13"
      },
      "source": [
        "plot_images_labels_prediction(x_img_test,y_label_test,prediction,0,10)"
      ],
      "execution_count": 25,
      "outputs": [
        {
          "output_type": "display_data",
          "data": {
            "image/png": "[encoded data removed]",
            "text/plain": [
              "<Figure size 864x1008 with 10 Axes>"
            ]
          },
          "metadata": {
            "tags": []
          }
        }
      ]
    },
    {
      "cell_type": "code",
      "metadata": {
        "id": "PpPOXOuZg6wp"
      },
      "source": [
        "# check for prediction rate\n",
        "predicted_Probability=model.predict(x_img_test_normalize)"
      ],
      "execution_count": 26,
      "outputs": []
    },
    {
      "cell_type": "code",
      "metadata": {
        "id": "ykuUEDYlg_vY"
      },
      "source": [
        "def show_predicted_probability(y,prediction,x_img,predicted_Probability,i):\n",
        "  print('label:',label_dict[y[i][0]],\n",
        "        'predict',label_dict[prediction[i]])\n",
        "  plt.figure(figsize=(2,2))\n",
        "  plt.imshow(np.reshape(x_img_test[i],(32,32,3)))\n",
        "  plt.show()\n",
        "  for j in range(10):\n",
        "    print(label_dict[j]+ ' probability:%1.9f'%(predicted_Probability[i][j]))\n"
      ],
      "execution_count": 27,
      "outputs": []
    },
    {
      "cell_type": "code",
      "metadata": {
        "colab": {
          "base_uri": "https://localhost:8080/",
          "height": 355
        },
        "id": "EDAw57mNhCGo",
        "outputId": "7435c0cb-ad26-4201-da62-1dcb2d59e612"
      },
      "source": [
        "show_predicted_probability(y_label_test,prediction,x_img_test,predicted_Probability,0)"
      ],
      "execution_count": 28,
      "outputs": [
        {
          "output_type": "stream",
          "text": [
            "label: cat predict cat\n"
          ],
          "name": "stdout"
        },
        {
          "output_type": "display_data",
          "data": {
            "image/png": "[encoded data removed]",
            "text/plain": [
              "<Figure size 144x144 with 1 Axes>"
            ]
          },
          "metadata": {
            "tags": [],
            "needs_background": "light"
          }
        },
        {
          "output_type": "stream",
          "text": [
            "airplane probability:0.001386649\n",
            "automobile probability:0.000438179\n",
            "bird probability:0.033724621\n",
            "cat probability:0.554203510\n",
            "deer probability:0.084348895\n",
            "dog probability:0.171437427\n",
            "frog probability:0.145446137\n",
            "horse probability:0.006462559\n",
            "ship probability:0.000866206\n",
            "truck probability:0.001685873\n"
          ],
          "name": "stdout"
        }
      ]
    },
    {
      "cell_type": "markdown",
      "metadata": {
        "id": "N5rt2fK5fntZ"
      },
      "source": [
        "#Confusion matrix"
      ]
    },
    {
      "cell_type": "code",
      "metadata": {
        "id": "TjlrqQgShBjE"
      },
      "source": [
        "import pandas as pd"
      ],
      "execution_count": 29,
      "outputs": []
    },
    {
      "cell_type": "code",
      "metadata": {
        "colab": {
          "base_uri": "https://localhost:8080/",
          "height": 370
        },
        "id": "vD-agaQbfqVp",
        "outputId": "5970209a-06eb-4ef3-93ac-c9d5a23a868f"
      },
      "source": [
        "pd.crosstab(y_label_test.reshape(-1),prediction,rownames=['label'],colnames=['predict'])"
      ],
      "execution_count": 30,
      "outputs": [
        {
          "output_type": "execute_result",
          "data": {
            "text/html": [
              "<div>\n",
              "<style scoped>\n",
              "    .dataframe tbody tr th:only-of-type {\n",
              "        vertical-align: middle;\n",
              "    }\n",
              "\n",
              "    .dataframe tbody tr th {\n",
              "        vertical-align: top;\n",
              "    }\n",
              "\n",
              "    .dataframe thead th {\n",
              "        text-align: right;\n",
              "    }\n",
              "</style>\n",
              "<table border=\"1\" class=\"dataframe\">\n",
              "  <thead>\n",
              "    <tr style=\"text-align: right;\">\n",
              "      <th>predict</th>\n",
              "      <th>0</th>\n",
              "      <th>1</th>\n",
              "      <th>2</th>\n",
              "      <th>3</th>\n",
              "      <th>4</th>\n",
              "      <th>5</th>\n",
              "      <th>6</th>\n",
              "      <th>7</th>\n",
              "      <th>8</th>\n",
              "      <th>9</th>\n",
              "    </tr>\n",
              "    <tr>\n",
              "      <th>label</th>\n",
              "      <th></th>\n",
              "      <th></th>\n",
              "      <th></th>\n",
              "      <th></th>\n",
              "      <th></th>\n",
              "      <th></th>\n",
              "      <th></th>\n",
              "      <th></th>\n",
              "      <th></th>\n",
              "      <th></th>\n",
              "    </tr>\n",
              "  </thead>\n",
              "  <tbody>\n",
              "    <tr>\n",
              "      <th>0</th>\n",
              "      <td>250</td>\n",
              "      <td>1</td>\n",
              "      <td>57</td>\n",
              "      <td>62</td>\n",
              "      <td>462</td>\n",
              "      <td>0</td>\n",
              "      <td>75</td>\n",
              "      <td>0</td>\n",
              "      <td>90</td>\n",
              "      <td>3</td>\n",
              "    </tr>\n",
              "    <tr>\n",
              "      <th>1</th>\n",
              "      <td>4</td>\n",
              "      <td>435</td>\n",
              "      <td>1</td>\n",
              "      <td>42</td>\n",
              "      <td>198</td>\n",
              "      <td>3</td>\n",
              "      <td>226</td>\n",
              "      <td>0</td>\n",
              "      <td>41</td>\n",
              "      <td>50</td>\n",
              "    </tr>\n",
              "    <tr>\n",
              "      <th>2</th>\n",
              "      <td>13</td>\n",
              "      <td>0</td>\n",
              "      <td>154</td>\n",
              "      <td>112</td>\n",
              "      <td>614</td>\n",
              "      <td>3</td>\n",
              "      <td>101</td>\n",
              "      <td>0</td>\n",
              "      <td>3</td>\n",
              "      <td>0</td>\n",
              "    </tr>\n",
              "    <tr>\n",
              "      <th>3</th>\n",
              "      <td>1</td>\n",
              "      <td>0</td>\n",
              "      <td>5</td>\n",
              "      <td>432</td>\n",
              "      <td>475</td>\n",
              "      <td>5</td>\n",
              "      <td>81</td>\n",
              "      <td>0</td>\n",
              "      <td>1</td>\n",
              "      <td>0</td>\n",
              "    </tr>\n",
              "    <tr>\n",
              "      <th>4</th>\n",
              "      <td>0</td>\n",
              "      <td>0</td>\n",
              "      <td>1</td>\n",
              "      <td>8</td>\n",
              "      <td>967</td>\n",
              "      <td>0</td>\n",
              "      <td>24</td>\n",
              "      <td>0</td>\n",
              "      <td>0</td>\n",
              "      <td>0</td>\n",
              "    </tr>\n",
              "    <tr>\n",
              "      <th>5</th>\n",
              "      <td>0</td>\n",
              "      <td>0</td>\n",
              "      <td>9</td>\n",
              "      <td>407</td>\n",
              "      <td>433</td>\n",
              "      <td>103</td>\n",
              "      <td>48</td>\n",
              "      <td>0</td>\n",
              "      <td>0</td>\n",
              "      <td>0</td>\n",
              "    </tr>\n",
              "    <tr>\n",
              "      <th>6</th>\n",
              "      <td>0</td>\n",
              "      <td>0</td>\n",
              "      <td>1</td>\n",
              "      <td>47</td>\n",
              "      <td>371</td>\n",
              "      <td>1</td>\n",
              "      <td>580</td>\n",
              "      <td>0</td>\n",
              "      <td>0</td>\n",
              "      <td>0</td>\n",
              "    </tr>\n",
              "    <tr>\n",
              "      <th>7</th>\n",
              "      <td>0</td>\n",
              "      <td>0</td>\n",
              "      <td>14</td>\n",
              "      <td>81</td>\n",
              "      <td>816</td>\n",
              "      <td>3</td>\n",
              "      <td>28</td>\n",
              "      <td>58</td>\n",
              "      <td>0</td>\n",
              "      <td>0</td>\n",
              "    </tr>\n",
              "    <tr>\n",
              "      <th>8</th>\n",
              "      <td>4</td>\n",
              "      <td>1</td>\n",
              "      <td>8</td>\n",
              "      <td>78</td>\n",
              "      <td>255</td>\n",
              "      <td>0</td>\n",
              "      <td>71</td>\n",
              "      <td>0</td>\n",
              "      <td>581</td>\n",
              "      <td>2</td>\n",
              "    </tr>\n",
              "    <tr>\n",
              "      <th>9</th>\n",
              "      <td>6</td>\n",
              "      <td>9</td>\n",
              "      <td>4</td>\n",
              "      <td>91</td>\n",
              "      <td>350</td>\n",
              "      <td>0</td>\n",
              "      <td>139</td>\n",
              "      <td>0</td>\n",
              "      <td>41</td>\n",
              "      <td>360</td>\n",
              "    </tr>\n",
              "  </tbody>\n",
              "</table>\n",
              "</div>"
            ],
            "text/plain": [
              "predict    0    1    2    3    4    5    6   7    8    9\n",
              "label                                                   \n",
              "0        250    1   57   62  462    0   75   0   90    3\n",
              "1          4  435    1   42  198    3  226   0   41   50\n",
              "2         13    0  154  112  614    3  101   0    3    0\n",
              "3          1    0    5  432  475    5   81   0    1    0\n",
              "4          0    0    1    8  967    0   24   0    0    0\n",
              "5          0    0    9  407  433  103   48   0    0    0\n",
              "6          0    0    1   47  371    1  580   0    0    0\n",
              "7          0    0   14   81  816    3   28  58    0    0\n",
              "8          4    1    8   78  255    0   71   0  581    2\n",
              "9          6    9    4   91  350    0  139   0   41  360"
            ]
          },
          "metadata": {
            "tags": []
          },
          "execution_count": 30
        }
      ]
    },
    {
      "cell_type": "code",
      "metadata": {
        "id": "mvxedLAxgTfS"
      },
      "source": [
        ""
      ],
      "execution_count": null,
      "outputs": []
    },
    {
      "cell_type": "code",
      "metadata": {
        "id": "qddPJ9HX40o8"
      },
      "source": [
        ""
      ],
      "execution_count": null,
      "outputs": []
    }
  ]
}